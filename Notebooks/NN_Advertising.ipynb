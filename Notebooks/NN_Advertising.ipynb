{
  "nbformat": 4,
  "nbformat_minor": 0,
  "metadata": {
    "colab": {
      "name": "NN_Advertising.ipynb",
      "provenance": [],
      "collapsed_sections": []
    },
    "kernelspec": {
      "name": "python3",
      "display_name": "Python 3"
    },
    "accelerator": "GPU"
  },
  "cells": [
    {
      "cell_type": "markdown",
      "metadata": {
        "id": "jZM3XREkvOba"
      },
      "source": [
        "\n",
        "\n",
        "---\n",
        "\n",
        "---\n",
        "## Previsão de vendas por meio de anúncios de publicidade\n",
        "\n",
        "Este notebook implementa uma rede neural para estimar (prever) o aumento ou diminuição nas vendas com base nas modalidades de anúncios (propagandas), e compara o seu resultado com a Regressão Linear do Sklearn.\n",
        "\n",
        "Trata-se de um problema de regressão.\n",
        "\n",
        "---\n",
        "\n",
        "---\n",
        "\n",
        "\n",
        "\n"
      ]
    },
    {
      "cell_type": "markdown",
      "metadata": {
        "id": "IPxitpXn5GFN"
      },
      "source": [
        "## Conjunto de dados\n",
        "\n",
        "Fonte:\n",
        "- https://statlearning.com/Advertising.csv\n",
        "- https://statlearning.com/data.html\n",
        "\n",
        "O conjunto de dados exibe as vendas, em milhares de unidades, em função dos orçamentos de TV, rádio e jornais, em milhares de dólares, para 200 mercados diferentes. \n",
        "\n",
        "- Número de Instâncias: 200\n",
        "\n",
        "- Número de Atributos: 3 atributos numéricos e o target\n",
        "\n",
        "- Informações dos Atributos:\n",
        "  - TV\n",
        "  - Rádio\n",
        "  - Jornais (newspaper)\n",
        "  Obs: orçamentos em milhares de dólares\n",
        "  \n",
        "- Informação da variável de destino: sales (vendas) em milhares de unidades. "
      ]
    },
    {
      "cell_type": "markdown",
      "metadata": {
        "id": "4G6UZT6QC_us"
      },
      "source": [
        "## Leitura e preparação dos dados\n",
        "\n",
        "Leitura do arquivo 'Advertising.csv' utilizando os pandas."
      ]
    },
    {
      "cell_type": "code",
      "metadata": {
        "colab": {
          "base_uri": "https://localhost:8080/",
          "height": 551
        },
        "id": "jGSqUwVE7QvS",
        "outputId": "9cd3c89f-2f45-40b8-ad93-6673bcdf60de"
      },
      "source": [
        "import pandas as pd\n",
        "\n",
        "# Clone do repositório de dados do GitHub\n",
        "!git clone https://github.com/malegopc/DSBD\n",
        "# Leitura dos dados do arquivo .csv como dataframe \n",
        "advertis = pd.read_csv(\"/content/DSBD/Datasets/Advertising/Advertising.csv\")\n",
        "# Mostra as 5 primeiras e 5 últimas linhas\n",
        "advertis"
      ],
      "execution_count": 1,
      "outputs": [
        {
          "output_type": "stream",
          "name": "stdout",
          "text": [
            "Cloning into 'DSBD'...\n",
            "remote: Enumerating objects: 541, done.\u001b[K\n",
            "remote: Counting objects: 100% (84/84), done.\u001b[K\n",
            "remote: Compressing objects: 100% (54/54), done.\u001b[K\n",
            "remote: Total 541 (delta 36), reused 71 (delta 28), pack-reused 457\u001b[K\n",
            "Receiving objects: 100% (541/541), 9.75 MiB | 9.53 MiB/s, done.\n",
            "Resolving deltas: 100% (244/244), done.\n"
          ]
        },
        {
          "output_type": "execute_result",
          "data": {
            "text/plain": [
              "     Unnamed: 0     TV  radio  newspaper  sales\n",
              "0             1  230.1   37.8       69.2   22.1\n",
              "1             2   44.5   39.3       45.1   10.4\n",
              "2             3   17.2   45.9       69.3    9.3\n",
              "3             4  151.5   41.3       58.5   18.5\n",
              "4             5  180.8   10.8       58.4   12.9\n",
              "..          ...    ...    ...        ...    ...\n",
              "195         196   38.2    3.7       13.8    7.6\n",
              "196         197   94.2    4.9        8.1    9.7\n",
              "197         198  177.0    9.3        6.4   12.8\n",
              "198         199  283.6   42.0       66.2   25.5\n",
              "199         200  232.1    8.6        8.7   13.4\n",
              "\n",
              "[200 rows x 5 columns]"
            ],
            "text/html": [
              "\n",
              "  <div id=\"df-8738c846-e3fe-436d-939a-81e0471d5f00\">\n",
              "    <div class=\"colab-df-container\">\n",
              "      <div>\n",
              "<style scoped>\n",
              "    .dataframe tbody tr th:only-of-type {\n",
              "        vertical-align: middle;\n",
              "    }\n",
              "\n",
              "    .dataframe tbody tr th {\n",
              "        vertical-align: top;\n",
              "    }\n",
              "\n",
              "    .dataframe thead th {\n",
              "        text-align: right;\n",
              "    }\n",
              "</style>\n",
              "<table border=\"1\" class=\"dataframe\">\n",
              "  <thead>\n",
              "    <tr style=\"text-align: right;\">\n",
              "      <th></th>\n",
              "      <th>Unnamed: 0</th>\n",
              "      <th>TV</th>\n",
              "      <th>radio</th>\n",
              "      <th>newspaper</th>\n",
              "      <th>sales</th>\n",
              "    </tr>\n",
              "  </thead>\n",
              "  <tbody>\n",
              "    <tr>\n",
              "      <th>0</th>\n",
              "      <td>1</td>\n",
              "      <td>230.1</td>\n",
              "      <td>37.8</td>\n",
              "      <td>69.2</td>\n",
              "      <td>22.1</td>\n",
              "    </tr>\n",
              "    <tr>\n",
              "      <th>1</th>\n",
              "      <td>2</td>\n",
              "      <td>44.5</td>\n",
              "      <td>39.3</td>\n",
              "      <td>45.1</td>\n",
              "      <td>10.4</td>\n",
              "    </tr>\n",
              "    <tr>\n",
              "      <th>2</th>\n",
              "      <td>3</td>\n",
              "      <td>17.2</td>\n",
              "      <td>45.9</td>\n",
              "      <td>69.3</td>\n",
              "      <td>9.3</td>\n",
              "    </tr>\n",
              "    <tr>\n",
              "      <th>3</th>\n",
              "      <td>4</td>\n",
              "      <td>151.5</td>\n",
              "      <td>41.3</td>\n",
              "      <td>58.5</td>\n",
              "      <td>18.5</td>\n",
              "    </tr>\n",
              "    <tr>\n",
              "      <th>4</th>\n",
              "      <td>5</td>\n",
              "      <td>180.8</td>\n",
              "      <td>10.8</td>\n",
              "      <td>58.4</td>\n",
              "      <td>12.9</td>\n",
              "    </tr>\n",
              "    <tr>\n",
              "      <th>...</th>\n",
              "      <td>...</td>\n",
              "      <td>...</td>\n",
              "      <td>...</td>\n",
              "      <td>...</td>\n",
              "      <td>...</td>\n",
              "    </tr>\n",
              "    <tr>\n",
              "      <th>195</th>\n",
              "      <td>196</td>\n",
              "      <td>38.2</td>\n",
              "      <td>3.7</td>\n",
              "      <td>13.8</td>\n",
              "      <td>7.6</td>\n",
              "    </tr>\n",
              "    <tr>\n",
              "      <th>196</th>\n",
              "      <td>197</td>\n",
              "      <td>94.2</td>\n",
              "      <td>4.9</td>\n",
              "      <td>8.1</td>\n",
              "      <td>9.7</td>\n",
              "    </tr>\n",
              "    <tr>\n",
              "      <th>197</th>\n",
              "      <td>198</td>\n",
              "      <td>177.0</td>\n",
              "      <td>9.3</td>\n",
              "      <td>6.4</td>\n",
              "      <td>12.8</td>\n",
              "    </tr>\n",
              "    <tr>\n",
              "      <th>198</th>\n",
              "      <td>199</td>\n",
              "      <td>283.6</td>\n",
              "      <td>42.0</td>\n",
              "      <td>66.2</td>\n",
              "      <td>25.5</td>\n",
              "    </tr>\n",
              "    <tr>\n",
              "      <th>199</th>\n",
              "      <td>200</td>\n",
              "      <td>232.1</td>\n",
              "      <td>8.6</td>\n",
              "      <td>8.7</td>\n",
              "      <td>13.4</td>\n",
              "    </tr>\n",
              "  </tbody>\n",
              "</table>\n",
              "<p>200 rows × 5 columns</p>\n",
              "</div>\n",
              "      <button class=\"colab-df-convert\" onclick=\"convertToInteractive('df-8738c846-e3fe-436d-939a-81e0471d5f00')\"\n",
              "              title=\"Convert this dataframe to an interactive table.\"\n",
              "              style=\"display:none;\">\n",
              "        \n",
              "  <svg xmlns=\"http://www.w3.org/2000/svg\" height=\"24px\"viewBox=\"0 0 24 24\"\n",
              "       width=\"24px\">\n",
              "    <path d=\"M0 0h24v24H0V0z\" fill=\"none\"/>\n",
              "    <path d=\"M18.56 5.44l.94 2.06.94-2.06 2.06-.94-2.06-.94-.94-2.06-.94 2.06-2.06.94zm-11 1L8.5 8.5l.94-2.06 2.06-.94-2.06-.94L8.5 2.5l-.94 2.06-2.06.94zm10 10l.94 2.06.94-2.06 2.06-.94-2.06-.94-.94-2.06-.94 2.06-2.06.94z\"/><path d=\"M17.41 7.96l-1.37-1.37c-.4-.4-.92-.59-1.43-.59-.52 0-1.04.2-1.43.59L10.3 9.45l-7.72 7.72c-.78.78-.78 2.05 0 2.83L4 21.41c.39.39.9.59 1.41.59.51 0 1.02-.2 1.41-.59l7.78-7.78 2.81-2.81c.8-.78.8-2.07 0-2.86zM5.41 20L4 18.59l7.72-7.72 1.47 1.35L5.41 20z\"/>\n",
              "  </svg>\n",
              "      </button>\n",
              "      \n",
              "  <style>\n",
              "    .colab-df-container {\n",
              "      display:flex;\n",
              "      flex-wrap:wrap;\n",
              "      gap: 12px;\n",
              "    }\n",
              "\n",
              "    .colab-df-convert {\n",
              "      background-color: #E8F0FE;\n",
              "      border: none;\n",
              "      border-radius: 50%;\n",
              "      cursor: pointer;\n",
              "      display: none;\n",
              "      fill: #1967D2;\n",
              "      height: 32px;\n",
              "      padding: 0 0 0 0;\n",
              "      width: 32px;\n",
              "    }\n",
              "\n",
              "    .colab-df-convert:hover {\n",
              "      background-color: #E2EBFA;\n",
              "      box-shadow: 0px 1px 2px rgba(60, 64, 67, 0.3), 0px 1px 3px 1px rgba(60, 64, 67, 0.15);\n",
              "      fill: #174EA6;\n",
              "    }\n",
              "\n",
              "    [theme=dark] .colab-df-convert {\n",
              "      background-color: #3B4455;\n",
              "      fill: #D2E3FC;\n",
              "    }\n",
              "\n",
              "    [theme=dark] .colab-df-convert:hover {\n",
              "      background-color: #434B5C;\n",
              "      box-shadow: 0px 1px 3px 1px rgba(0, 0, 0, 0.15);\n",
              "      filter: drop-shadow(0px 1px 2px rgba(0, 0, 0, 0.3));\n",
              "      fill: #FFFFFF;\n",
              "    }\n",
              "  </style>\n",
              "\n",
              "      <script>\n",
              "        const buttonEl =\n",
              "          document.querySelector('#df-8738c846-e3fe-436d-939a-81e0471d5f00 button.colab-df-convert');\n",
              "        buttonEl.style.display =\n",
              "          google.colab.kernel.accessAllowed ? 'block' : 'none';\n",
              "\n",
              "        async function convertToInteractive(key) {\n",
              "          const element = document.querySelector('#df-8738c846-e3fe-436d-939a-81e0471d5f00');\n",
              "          const dataTable =\n",
              "            await google.colab.kernel.invokeFunction('convertToInteractive',\n",
              "                                                     [key], {});\n",
              "          if (!dataTable) return;\n",
              "\n",
              "          const docLinkHtml = 'Like what you see? Visit the ' +\n",
              "            '<a target=\"_blank\" href=https://colab.research.google.com/notebooks/data_table.ipynb>data table notebook</a>'\n",
              "            + ' to learn more about interactive tables.';\n",
              "          element.innerHTML = '';\n",
              "          dataTable['output_type'] = 'display_data';\n",
              "          await google.colab.output.renderOutput(dataTable, element);\n",
              "          const docLink = document.createElement('div');\n",
              "          docLink.innerHTML = docLinkHtml;\n",
              "          element.appendChild(docLink);\n",
              "        }\n",
              "      </script>\n",
              "    </div>\n",
              "  </div>\n",
              "  "
            ]
          },
          "metadata": {},
          "execution_count": 1
        }
      ]
    },
    {
      "cell_type": "markdown",
      "metadata": {
        "id": "8Sao1JGYEP2R"
      },
      "source": [
        "## Análise prévia dos dados\n",
        "\n",
        "Imprime o número de dados non-null (não ausentes) e o tipo de cada atributo."
      ]
    },
    {
      "cell_type": "code",
      "metadata": {
        "colab": {
          "base_uri": "https://localhost:8080/"
        },
        "id": "rRbFDx1iDCLq",
        "outputId": "fe2dcd75-5a78-4621-bbbb-9a71f95e5d06"
      },
      "source": [
        "# Mostra o número de dados non-null (não ausentes) e o tipo de cada atributo\n",
        "print('Informações sobre os dados:\\n')\n",
        "advertis.info()\n",
        "# Soma o número de dados null (ausentes)\n",
        "print('\\n\\nSoma de dados null (vazios):\\n')\n",
        "advertis.isnull().sum()"
      ],
      "execution_count": 2,
      "outputs": [
        {
          "output_type": "stream",
          "name": "stdout",
          "text": [
            "Informações sobre os dados:\n",
            "\n",
            "<class 'pandas.core.frame.DataFrame'>\n",
            "RangeIndex: 200 entries, 0 to 199\n",
            "Data columns (total 5 columns):\n",
            " #   Column      Non-Null Count  Dtype  \n",
            "---  ------      --------------  -----  \n",
            " 0   Unnamed: 0  200 non-null    int64  \n",
            " 1   TV          200 non-null    float64\n",
            " 2   radio       200 non-null    float64\n",
            " 3   newspaper   200 non-null    float64\n",
            " 4   sales       200 non-null    float64\n",
            "dtypes: float64(4), int64(1)\n",
            "memory usage: 7.9 KB\n",
            "\n",
            "\n",
            "Soma de dados null (vazios):\n",
            "\n"
          ]
        },
        {
          "output_type": "execute_result",
          "data": {
            "text/plain": [
              "Unnamed: 0    0\n",
              "TV            0\n",
              "radio         0\n",
              "newspaper     0\n",
              "sales         0\n",
              "dtype: int64"
            ]
          },
          "metadata": {},
          "execution_count": 2
        }
      ]
    },
    {
      "cell_type": "markdown",
      "metadata": {
        "id": "Rb5BrMqzDT9Q"
      },
      "source": [
        "## Eliminação de dados desnecessários\n"
      ]
    },
    {
      "cell_type": "code",
      "metadata": {
        "colab": {
          "base_uri": "https://localhost:8080/",
          "height": 423
        },
        "id": "Uws9ESq9FXDG",
        "outputId": "ee4343f5-1698-43ba-baff-a592aaadb6a4"
      },
      "source": [
        "# Elimina primeira coluna\n",
        "advertis.drop(advertis.columns[[0]], axis=1, inplace=True)\n",
        "advertis"
      ],
      "execution_count": 3,
      "outputs": [
        {
          "output_type": "execute_result",
          "data": {
            "text/plain": [
              "        TV  radio  newspaper  sales\n",
              "0    230.1   37.8       69.2   22.1\n",
              "1     44.5   39.3       45.1   10.4\n",
              "2     17.2   45.9       69.3    9.3\n",
              "3    151.5   41.3       58.5   18.5\n",
              "4    180.8   10.8       58.4   12.9\n",
              "..     ...    ...        ...    ...\n",
              "195   38.2    3.7       13.8    7.6\n",
              "196   94.2    4.9        8.1    9.7\n",
              "197  177.0    9.3        6.4   12.8\n",
              "198  283.6   42.0       66.2   25.5\n",
              "199  232.1    8.6        8.7   13.4\n",
              "\n",
              "[200 rows x 4 columns]"
            ],
            "text/html": [
              "\n",
              "  <div id=\"df-327d726c-618a-49f2-ab60-dbed09e676c2\">\n",
              "    <div class=\"colab-df-container\">\n",
              "      <div>\n",
              "<style scoped>\n",
              "    .dataframe tbody tr th:only-of-type {\n",
              "        vertical-align: middle;\n",
              "    }\n",
              "\n",
              "    .dataframe tbody tr th {\n",
              "        vertical-align: top;\n",
              "    }\n",
              "\n",
              "    .dataframe thead th {\n",
              "        text-align: right;\n",
              "    }\n",
              "</style>\n",
              "<table border=\"1\" class=\"dataframe\">\n",
              "  <thead>\n",
              "    <tr style=\"text-align: right;\">\n",
              "      <th></th>\n",
              "      <th>TV</th>\n",
              "      <th>radio</th>\n",
              "      <th>newspaper</th>\n",
              "      <th>sales</th>\n",
              "    </tr>\n",
              "  </thead>\n",
              "  <tbody>\n",
              "    <tr>\n",
              "      <th>0</th>\n",
              "      <td>230.1</td>\n",
              "      <td>37.8</td>\n",
              "      <td>69.2</td>\n",
              "      <td>22.1</td>\n",
              "    </tr>\n",
              "    <tr>\n",
              "      <th>1</th>\n",
              "      <td>44.5</td>\n",
              "      <td>39.3</td>\n",
              "      <td>45.1</td>\n",
              "      <td>10.4</td>\n",
              "    </tr>\n",
              "    <tr>\n",
              "      <th>2</th>\n",
              "      <td>17.2</td>\n",
              "      <td>45.9</td>\n",
              "      <td>69.3</td>\n",
              "      <td>9.3</td>\n",
              "    </tr>\n",
              "    <tr>\n",
              "      <th>3</th>\n",
              "      <td>151.5</td>\n",
              "      <td>41.3</td>\n",
              "      <td>58.5</td>\n",
              "      <td>18.5</td>\n",
              "    </tr>\n",
              "    <tr>\n",
              "      <th>4</th>\n",
              "      <td>180.8</td>\n",
              "      <td>10.8</td>\n",
              "      <td>58.4</td>\n",
              "      <td>12.9</td>\n",
              "    </tr>\n",
              "    <tr>\n",
              "      <th>...</th>\n",
              "      <td>...</td>\n",
              "      <td>...</td>\n",
              "      <td>...</td>\n",
              "      <td>...</td>\n",
              "    </tr>\n",
              "    <tr>\n",
              "      <th>195</th>\n",
              "      <td>38.2</td>\n",
              "      <td>3.7</td>\n",
              "      <td>13.8</td>\n",
              "      <td>7.6</td>\n",
              "    </tr>\n",
              "    <tr>\n",
              "      <th>196</th>\n",
              "      <td>94.2</td>\n",
              "      <td>4.9</td>\n",
              "      <td>8.1</td>\n",
              "      <td>9.7</td>\n",
              "    </tr>\n",
              "    <tr>\n",
              "      <th>197</th>\n",
              "      <td>177.0</td>\n",
              "      <td>9.3</td>\n",
              "      <td>6.4</td>\n",
              "      <td>12.8</td>\n",
              "    </tr>\n",
              "    <tr>\n",
              "      <th>198</th>\n",
              "      <td>283.6</td>\n",
              "      <td>42.0</td>\n",
              "      <td>66.2</td>\n",
              "      <td>25.5</td>\n",
              "    </tr>\n",
              "    <tr>\n",
              "      <th>199</th>\n",
              "      <td>232.1</td>\n",
              "      <td>8.6</td>\n",
              "      <td>8.7</td>\n",
              "      <td>13.4</td>\n",
              "    </tr>\n",
              "  </tbody>\n",
              "</table>\n",
              "<p>200 rows × 4 columns</p>\n",
              "</div>\n",
              "      <button class=\"colab-df-convert\" onclick=\"convertToInteractive('df-327d726c-618a-49f2-ab60-dbed09e676c2')\"\n",
              "              title=\"Convert this dataframe to an interactive table.\"\n",
              "              style=\"display:none;\">\n",
              "        \n",
              "  <svg xmlns=\"http://www.w3.org/2000/svg\" height=\"24px\"viewBox=\"0 0 24 24\"\n",
              "       width=\"24px\">\n",
              "    <path d=\"M0 0h24v24H0V0z\" fill=\"none\"/>\n",
              "    <path d=\"M18.56 5.44l.94 2.06.94-2.06 2.06-.94-2.06-.94-.94-2.06-.94 2.06-2.06.94zm-11 1L8.5 8.5l.94-2.06 2.06-.94-2.06-.94L8.5 2.5l-.94 2.06-2.06.94zm10 10l.94 2.06.94-2.06 2.06-.94-2.06-.94-.94-2.06-.94 2.06-2.06.94z\"/><path d=\"M17.41 7.96l-1.37-1.37c-.4-.4-.92-.59-1.43-.59-.52 0-1.04.2-1.43.59L10.3 9.45l-7.72 7.72c-.78.78-.78 2.05 0 2.83L4 21.41c.39.39.9.59 1.41.59.51 0 1.02-.2 1.41-.59l7.78-7.78 2.81-2.81c.8-.78.8-2.07 0-2.86zM5.41 20L4 18.59l7.72-7.72 1.47 1.35L5.41 20z\"/>\n",
              "  </svg>\n",
              "      </button>\n",
              "      \n",
              "  <style>\n",
              "    .colab-df-container {\n",
              "      display:flex;\n",
              "      flex-wrap:wrap;\n",
              "      gap: 12px;\n",
              "    }\n",
              "\n",
              "    .colab-df-convert {\n",
              "      background-color: #E8F0FE;\n",
              "      border: none;\n",
              "      border-radius: 50%;\n",
              "      cursor: pointer;\n",
              "      display: none;\n",
              "      fill: #1967D2;\n",
              "      height: 32px;\n",
              "      padding: 0 0 0 0;\n",
              "      width: 32px;\n",
              "    }\n",
              "\n",
              "    .colab-df-convert:hover {\n",
              "      background-color: #E2EBFA;\n",
              "      box-shadow: 0px 1px 2px rgba(60, 64, 67, 0.3), 0px 1px 3px 1px rgba(60, 64, 67, 0.15);\n",
              "      fill: #174EA6;\n",
              "    }\n",
              "\n",
              "    [theme=dark] .colab-df-convert {\n",
              "      background-color: #3B4455;\n",
              "      fill: #D2E3FC;\n",
              "    }\n",
              "\n",
              "    [theme=dark] .colab-df-convert:hover {\n",
              "      background-color: #434B5C;\n",
              "      box-shadow: 0px 1px 3px 1px rgba(0, 0, 0, 0.15);\n",
              "      filter: drop-shadow(0px 1px 2px rgba(0, 0, 0, 0.3));\n",
              "      fill: #FFFFFF;\n",
              "    }\n",
              "  </style>\n",
              "\n",
              "      <script>\n",
              "        const buttonEl =\n",
              "          document.querySelector('#df-327d726c-618a-49f2-ab60-dbed09e676c2 button.colab-df-convert');\n",
              "        buttonEl.style.display =\n",
              "          google.colab.kernel.accessAllowed ? 'block' : 'none';\n",
              "\n",
              "        async function convertToInteractive(key) {\n",
              "          const element = document.querySelector('#df-327d726c-618a-49f2-ab60-dbed09e676c2');\n",
              "          const dataTable =\n",
              "            await google.colab.kernel.invokeFunction('convertToInteractive',\n",
              "                                                     [key], {});\n",
              "          if (!dataTable) return;\n",
              "\n",
              "          const docLinkHtml = 'Like what you see? Visit the ' +\n",
              "            '<a target=\"_blank\" href=https://colab.research.google.com/notebooks/data_table.ipynb>data table notebook</a>'\n",
              "            + ' to learn more about interactive tables.';\n",
              "          element.innerHTML = '';\n",
              "          dataTable['output_type'] = 'display_data';\n",
              "          await google.colab.output.renderOutput(dataTable, element);\n",
              "          const docLink = document.createElement('div');\n",
              "          docLink.innerHTML = docLinkHtml;\n",
              "          element.appendChild(docLink);\n",
              "        }\n",
              "      </script>\n",
              "    </div>\n",
              "  </div>\n",
              "  "
            ]
          },
          "metadata": {},
          "execution_count": 3
        }
      ]
    },
    {
      "cell_type": "markdown",
      "metadata": {
        "id": "VccXvtXmOJy7"
      },
      "source": [
        "## Análise (estatística) descritiva dos dados\n",
        "\n",
        "Análise descritiva dos dados (resumo)."
      ]
    },
    {
      "cell_type": "code",
      "metadata": {
        "colab": {
          "base_uri": "https://localhost:8080/",
          "height": 300
        },
        "id": "WHpUgIoROTpq",
        "outputId": "c8470537-5d01-4482-a50f-1ef4121f9861"
      },
      "source": [
        "advertis.describe()"
      ],
      "execution_count": 4,
      "outputs": [
        {
          "output_type": "execute_result",
          "data": {
            "text/plain": [
              "               TV       radio   newspaper       sales\n",
              "count  200.000000  200.000000  200.000000  200.000000\n",
              "mean   147.042500   23.264000   30.554000   14.022500\n",
              "std     85.854236   14.846809   21.778621    5.217457\n",
              "min      0.700000    0.000000    0.300000    1.600000\n",
              "25%     74.375000    9.975000   12.750000   10.375000\n",
              "50%    149.750000   22.900000   25.750000   12.900000\n",
              "75%    218.825000   36.525000   45.100000   17.400000\n",
              "max    296.400000   49.600000  114.000000   27.000000"
            ],
            "text/html": [
              "\n",
              "  <div id=\"df-05f27456-c8fb-4849-a927-fe2474c08c70\">\n",
              "    <div class=\"colab-df-container\">\n",
              "      <div>\n",
              "<style scoped>\n",
              "    .dataframe tbody tr th:only-of-type {\n",
              "        vertical-align: middle;\n",
              "    }\n",
              "\n",
              "    .dataframe tbody tr th {\n",
              "        vertical-align: top;\n",
              "    }\n",
              "\n",
              "    .dataframe thead th {\n",
              "        text-align: right;\n",
              "    }\n",
              "</style>\n",
              "<table border=\"1\" class=\"dataframe\">\n",
              "  <thead>\n",
              "    <tr style=\"text-align: right;\">\n",
              "      <th></th>\n",
              "      <th>TV</th>\n",
              "      <th>radio</th>\n",
              "      <th>newspaper</th>\n",
              "      <th>sales</th>\n",
              "    </tr>\n",
              "  </thead>\n",
              "  <tbody>\n",
              "    <tr>\n",
              "      <th>count</th>\n",
              "      <td>200.000000</td>\n",
              "      <td>200.000000</td>\n",
              "      <td>200.000000</td>\n",
              "      <td>200.000000</td>\n",
              "    </tr>\n",
              "    <tr>\n",
              "      <th>mean</th>\n",
              "      <td>147.042500</td>\n",
              "      <td>23.264000</td>\n",
              "      <td>30.554000</td>\n",
              "      <td>14.022500</td>\n",
              "    </tr>\n",
              "    <tr>\n",
              "      <th>std</th>\n",
              "      <td>85.854236</td>\n",
              "      <td>14.846809</td>\n",
              "      <td>21.778621</td>\n",
              "      <td>5.217457</td>\n",
              "    </tr>\n",
              "    <tr>\n",
              "      <th>min</th>\n",
              "      <td>0.700000</td>\n",
              "      <td>0.000000</td>\n",
              "      <td>0.300000</td>\n",
              "      <td>1.600000</td>\n",
              "    </tr>\n",
              "    <tr>\n",
              "      <th>25%</th>\n",
              "      <td>74.375000</td>\n",
              "      <td>9.975000</td>\n",
              "      <td>12.750000</td>\n",
              "      <td>10.375000</td>\n",
              "    </tr>\n",
              "    <tr>\n",
              "      <th>50%</th>\n",
              "      <td>149.750000</td>\n",
              "      <td>22.900000</td>\n",
              "      <td>25.750000</td>\n",
              "      <td>12.900000</td>\n",
              "    </tr>\n",
              "    <tr>\n",
              "      <th>75%</th>\n",
              "      <td>218.825000</td>\n",
              "      <td>36.525000</td>\n",
              "      <td>45.100000</td>\n",
              "      <td>17.400000</td>\n",
              "    </tr>\n",
              "    <tr>\n",
              "      <th>max</th>\n",
              "      <td>296.400000</td>\n",
              "      <td>49.600000</td>\n",
              "      <td>114.000000</td>\n",
              "      <td>27.000000</td>\n",
              "    </tr>\n",
              "  </tbody>\n",
              "</table>\n",
              "</div>\n",
              "      <button class=\"colab-df-convert\" onclick=\"convertToInteractive('df-05f27456-c8fb-4849-a927-fe2474c08c70')\"\n",
              "              title=\"Convert this dataframe to an interactive table.\"\n",
              "              style=\"display:none;\">\n",
              "        \n",
              "  <svg xmlns=\"http://www.w3.org/2000/svg\" height=\"24px\"viewBox=\"0 0 24 24\"\n",
              "       width=\"24px\">\n",
              "    <path d=\"M0 0h24v24H0V0z\" fill=\"none\"/>\n",
              "    <path d=\"M18.56 5.44l.94 2.06.94-2.06 2.06-.94-2.06-.94-.94-2.06-.94 2.06-2.06.94zm-11 1L8.5 8.5l.94-2.06 2.06-.94-2.06-.94L8.5 2.5l-.94 2.06-2.06.94zm10 10l.94 2.06.94-2.06 2.06-.94-2.06-.94-.94-2.06-.94 2.06-2.06.94z\"/><path d=\"M17.41 7.96l-1.37-1.37c-.4-.4-.92-.59-1.43-.59-.52 0-1.04.2-1.43.59L10.3 9.45l-7.72 7.72c-.78.78-.78 2.05 0 2.83L4 21.41c.39.39.9.59 1.41.59.51 0 1.02-.2 1.41-.59l7.78-7.78 2.81-2.81c.8-.78.8-2.07 0-2.86zM5.41 20L4 18.59l7.72-7.72 1.47 1.35L5.41 20z\"/>\n",
              "  </svg>\n",
              "      </button>\n",
              "      \n",
              "  <style>\n",
              "    .colab-df-container {\n",
              "      display:flex;\n",
              "      flex-wrap:wrap;\n",
              "      gap: 12px;\n",
              "    }\n",
              "\n",
              "    .colab-df-convert {\n",
              "      background-color: #E8F0FE;\n",
              "      border: none;\n",
              "      border-radius: 50%;\n",
              "      cursor: pointer;\n",
              "      display: none;\n",
              "      fill: #1967D2;\n",
              "      height: 32px;\n",
              "      padding: 0 0 0 0;\n",
              "      width: 32px;\n",
              "    }\n",
              "\n",
              "    .colab-df-convert:hover {\n",
              "      background-color: #E2EBFA;\n",
              "      box-shadow: 0px 1px 2px rgba(60, 64, 67, 0.3), 0px 1px 3px 1px rgba(60, 64, 67, 0.15);\n",
              "      fill: #174EA6;\n",
              "    }\n",
              "\n",
              "    [theme=dark] .colab-df-convert {\n",
              "      background-color: #3B4455;\n",
              "      fill: #D2E3FC;\n",
              "    }\n",
              "\n",
              "    [theme=dark] .colab-df-convert:hover {\n",
              "      background-color: #434B5C;\n",
              "      box-shadow: 0px 1px 3px 1px rgba(0, 0, 0, 0.15);\n",
              "      filter: drop-shadow(0px 1px 2px rgba(0, 0, 0, 0.3));\n",
              "      fill: #FFFFFF;\n",
              "    }\n",
              "  </style>\n",
              "\n",
              "      <script>\n",
              "        const buttonEl =\n",
              "          document.querySelector('#df-05f27456-c8fb-4849-a927-fe2474c08c70 button.colab-df-convert');\n",
              "        buttonEl.style.display =\n",
              "          google.colab.kernel.accessAllowed ? 'block' : 'none';\n",
              "\n",
              "        async function convertToInteractive(key) {\n",
              "          const element = document.querySelector('#df-05f27456-c8fb-4849-a927-fe2474c08c70');\n",
              "          const dataTable =\n",
              "            await google.colab.kernel.invokeFunction('convertToInteractive',\n",
              "                                                     [key], {});\n",
              "          if (!dataTable) return;\n",
              "\n",
              "          const docLinkHtml = 'Like what you see? Visit the ' +\n",
              "            '<a target=\"_blank\" href=https://colab.research.google.com/notebooks/data_table.ipynb>data table notebook</a>'\n",
              "            + ' to learn more about interactive tables.';\n",
              "          element.innerHTML = '';\n",
              "          dataTable['output_type'] = 'display_data';\n",
              "          await google.colab.output.renderOutput(dataTable, element);\n",
              "          const docLink = document.createElement('div');\n",
              "          docLink.innerHTML = docLinkHtml;\n",
              "          element.appendChild(docLink);\n",
              "        }\n",
              "      </script>\n",
              "    </div>\n",
              "  </div>\n",
              "  "
            ]
          },
          "metadata": {},
          "execution_count": 4
        }
      ]
    },
    {
      "cell_type": "markdown",
      "metadata": {
        "id": "TL8-zZUoOxCT"
      },
      "source": [
        "## Mostra um histograma das vendas\n",
        "\n",
        "O objetivo é comparar com as predições do modelo de rede neural e com o método de regressão linear."
      ]
    },
    {
      "cell_type": "code",
      "metadata": {
        "colab": {
          "base_uri": "https://localhost:8080/",
          "height": 297
        },
        "id": "Tpho1mISO2RK",
        "outputId": "1bf51d5d-744e-4a0f-b724-c5e774dac81e"
      },
      "source": [
        "import seaborn as sns\n",
        "import matplotlib.pyplot as plt\n",
        "\n",
        "plt.figure(figsize=(10,4))\n",
        "sns.histplot(advertis['sales'], kde = True)"
      ],
      "execution_count": 5,
      "outputs": [
        {
          "output_type": "execute_result",
          "data": {
            "text/plain": [
              "<matplotlib.axes._subplots.AxesSubplot at 0x7fe64d939610>"
            ]
          },
          "metadata": {},
          "execution_count": 5
        },
        {
          "output_type": "display_data",
          "data": {
            "text/plain": [
              "<Figure size 720x288 with 1 Axes>"
            ],
            "image/png": "[encoded data removed]"
          },
          "metadata": {
            "needs_background": "light"
          }
        }
      ]
    },
    {
      "cell_type": "markdown",
      "metadata": {
        "id": "Gy05_KBoaEXe"
      },
      "source": [
        "## Calcula a correlação entre pares de atributos (colunas)"
      ]
    },
    {
      "cell_type": "code",
      "metadata": {
        "colab": {
          "base_uri": "https://localhost:8080/"
        },
        "id": "WgXsW8B7aKGe",
        "outputId": "b4f73553-99b9-4f80-eb83-ed864e2dc59a"
      },
      "source": [
        "# Correlação entre TV e vendas\n",
        "print('Correlação entre TV e vendas (sales): ',advertis['TV'].corr(advertis['sales']))\n",
        "# Correlação entre Radio e vendas\n",
        "print('Correlação entre radio e vendas (sales): ',advertis['radio'].corr(advertis['sales']))\n",
        "# Correlação entre jornais e vendas\n",
        "print('Correlação entre jornais e vendas (sales): ',advertis['newspaper'].corr(advertis['sales']))"
      ],
      "execution_count": 6,
      "outputs": [
        {
          "output_type": "stream",
          "name": "stdout",
          "text": [
            "Correlação entre TV e vendas (sales):  0.7822244248616061\n",
            "Correlação entre radio e vendas (sales):  0.5762225745710551\n",
            "Correlação entre jornais e vendas (sales):  0.22829902637616528\n"
          ]
        }
      ]
    },
    {
      "cell_type": "markdown",
      "metadata": {
        "id": "YYWTnUzoc_yK"
      },
      "source": [
        "# Separa atributos e variável de destino\n",
        "\n",
        "Separa atributos (em X) e variável de destino (em y)."
      ]
    },
    {
      "cell_type": "code",
      "metadata": {
        "colab": {
          "base_uri": "https://localhost:8080/"
        },
        "id": "o-DJ6yPGdPhA",
        "outputId": "984fe915-8ea0-43c5-dbde-cff721f8d3c9"
      },
      "source": [
        "# Separa os atributos da variável de destino (median_house_value)\n",
        "X = advertis.drop('sales',axis=1).values\n",
        "y = advertis['sales'].values\n",
        "print(X.shape)\n",
        "print(y.shape)"
      ],
      "execution_count": 7,
      "outputs": [
        {
          "output_type": "stream",
          "name": "stdout",
          "text": [
            "(200, 3)\n",
            "(200,)\n"
          ]
        }
      ]
    },
    {
      "cell_type": "markdown",
      "metadata": {
        "id": "jpLOFqQPeQzg"
      },
      "source": [
        "## Divide o conjunto de dados em treino e teste"
      ]
    },
    {
      "cell_type": "code",
      "metadata": {
        "id": "CjWD0riweoxT"
      },
      "source": [
        "from sklearn.model_selection import train_test_split\n",
        "X_train, X_test, y_train, y_test = train_test_split(X,y,test_size=0.25,random_state=42)"
      ],
      "execution_count": 8,
      "outputs": []
    },
    {
      "cell_type": "markdown",
      "metadata": {
        "id": "MhhsCagVNxxP"
      },
      "source": [
        "## Normaliza (padroniza) os dados\n",
        "\n",
        "Transforma os atributos redimensionando para o intervalo [0,1]"
      ]
    },
    {
      "cell_type": "code",
      "metadata": {
        "id": "gAEwiebzOLer"
      },
      "source": [
        "from sklearn.preprocessing import MinMaxScaler\n",
        "scaler = MinMaxScaler()\n",
        "X_train= scaler.fit_transform(X_train)\n",
        "X_test = scaler.transform(X_test)\n",
        "\n",
        "#from sklearn.preprocessing import StandardScaler\n",
        "#scaler = StandardScaler()\n",
        "#X_train = scaler.fit_transform(X_train)\n",
        "#X_test = scaler.transform(X_test)"
      ],
      "execution_count": 9,
      "outputs": []
    },
    {
      "cell_type": "markdown",
      "metadata": {
        "id": "ex3_2GzOXe0J"
      },
      "source": [
        "## Cria o modelo de rede neural"
      ]
    },
    {
      "cell_type": "code",
      "metadata": {
        "colab": {
          "base_uri": "https://localhost:8080/"
        },
        "id": "Ay4Tb9OyXimS",
        "outputId": "79919a20-a7d3-4c84-8a32-3bb4045a26ea"
      },
      "source": [
        "from keras.models import Sequential\n",
        "from keras.layers import Dense\n",
        "\n",
        "model = Sequential()\n",
        "# Uma camada escondida com 20 neurônios\n",
        "model.add(Dense(20, input_dim=X_train.shape[1], activation =\"relu\"))\n",
        "# Camada de saída\n",
        "model.add(Dense(1)) # default: função de ativação linear\n",
        "# Sumário do modelo\n",
        "model.summary()"
      ],
      "execution_count": 10,
      "outputs": [
        {
          "output_type": "stream",
          "name": "stdout",
          "text": [
            "Model: \"sequential\"\n",
            "_________________________________________________________________\n",
            " Layer (type)                Output Shape              Param #   \n",
            "=================================================================\n",
            " dense (Dense)               (None, 20)                80        \n",
            "                                                                 \n",
            " dense_1 (Dense)             (None, 1)                 21        \n",
            "                                                                 \n",
            "=================================================================\n",
            "Total params: 101\n",
            "Trainable params: 101\n",
            "Non-trainable params: 0\n",
            "_________________________________________________________________\n"
          ]
        }
      ]
    },
    {
      "cell_type": "markdown",
      "metadata": {
        "id": "7mDnXp9HuPM2"
      },
      "source": [
        "## Compila a rede neural"
      ]
    },
    {
      "cell_type": "code",
      "metadata": {
        "id": "Jn95jqw0uWxl"
      },
      "source": [
        "model.compile(optimizer='adam', loss='mean_squared_error', metrics=['mean_squared_error'])"
      ],
      "execution_count": 11,
      "outputs": []
    },
    {
      "cell_type": "markdown",
      "metadata": {
        "id": "zowlFWeju9Te"
      },
      "source": [
        "## Treina a rede neural"
      ]
    },
    {
      "cell_type": "code",
      "metadata": {
        "colab": {
          "base_uri": "https://localhost:8080/"
        },
        "id": "kJ6Mk8kBu8NM",
        "outputId": "c2ebb81f-a2e9-423d-812e-c1d00aa96898"
      },
      "source": [
        "history = model.fit(X_train, y_train, epochs=300, batch_size = 5, validation_data=(X_test, y_test))"
      ],
      "execution_count": 12,
      "outputs": [
        {
          "output_type": "stream",
          "name": "stdout",
          "text": [
            "Epoch 1/300\n",
            "30/30 [==============================] - 3s 7ms/step - loss: 228.9789 - mean_squared_error: 228.9789 - val_loss: 195.4355 - val_mean_squared_error: 195.4355\n",
            "Epoch 2/300\n",
            "30/30 [==============================] - 0s 3ms/step - loss: 221.7046 - mean_squared_error: 221.7046 - val_loss: 188.7356 - val_mean_squared_error: 188.7356\n",
            "Epoch 3/300\n",
            "30/30 [==============================] - 0s 3ms/step - loss: 213.2863 - mean_squared_error: 213.2863 - val_loss: 180.2577 - val_mean_squared_error: 180.2578\n",
            "Epoch 4/300\n",
            "30/30 [==============================] - 0s 3ms/step - loss: 202.6373 - mean_squared_error: 202.6373 - val_loss: 169.6713 - val_mean_squared_error: 169.6713\n",
            "Epoch 5/300\n",
            "30/30 [==============================] - 0s 3ms/step - loss: 189.5264 - mean_squared_error: 189.5264 - val_loss: 156.4369 - val_mean_squared_error: 156.4369\n",
            "Epoch 6/300\n",
            "30/30 [==============================] - 0s 3ms/step - loss: 173.5719 - mean_squared_error: 173.5719 - val_loss: 141.8551 - val_mean_squared_error: 141.8551\n",
            "Epoch 7/300\n",
            "30/30 [==============================] - 0s 3ms/step - loss: 156.5824 - mean_squared_error: 156.5824 - val_loss: 126.2181 - val_mean_squared_error: 126.2181\n",
            "Epoch 8/300\n",
            "30/30 [==============================] - 0s 3ms/step - loss: 138.7226 - mean_squared_error: 138.7226 - val_loss: 110.6970 - val_mean_squared_error: 110.6970\n",
            "Epoch 9/300\n",
            "30/30 [==============================] - 0s 3ms/step - loss: 121.0851 - mean_squared_error: 121.0851 - val_loss: 95.0513 - val_mean_squared_error: 95.0513\n",
            "Epoch 10/300\n",
            "30/30 [==============================] - 0s 3ms/step - loss: 103.6973 - mean_squared_error: 103.6973 - val_loss: 80.2744 - val_mean_squared_error: 80.2744\n",
            "Epoch 11/300\n",
            "30/30 [==============================] - 0s 3ms/step - loss: 87.1450 - mean_squared_error: 87.1450 - val_loss: 66.7574 - val_mean_squared_error: 66.7574\n",
            "Epoch 12/300\n",
            "30/30 [==============================] - 0s 3ms/step - loss: 72.1880 - mean_squared_error: 72.1880 - val_loss: 54.0671 - val_mean_squared_error: 54.0671\n",
            "Epoch 13/300\n",
            "30/30 [==============================] - 0s 3ms/step - loss: 58.4850 - mean_squared_error: 58.4850 - val_loss: 43.3304 - val_mean_squared_error: 43.3304\n",
            "Epoch 14/300\n",
            "30/30 [==============================] - 0s 3ms/step - loss: 46.7199 - mean_squared_error: 46.7198 - val_loss: 34.2615 - val_mean_squared_error: 34.2615\n",
            "Epoch 15/300\n",
            "30/30 [==============================] - 0s 3ms/step - loss: 36.8919 - mean_squared_error: 36.8919 - val_loss: 26.8008 - val_mean_squared_error: 26.8008\n",
            "Epoch 16/300\n",
            "30/30 [==============================] - 0s 3ms/step - loss: 28.8874 - mean_squared_error: 28.8874 - val_loss: 21.0057 - val_mean_squared_error: 21.0057\n",
            "Epoch 17/300\n",
            "30/30 [==============================] - 0s 3ms/step - loss: 22.6263 - mean_squared_error: 22.6263 - val_loss: 16.6944 - val_mean_squared_error: 16.6944\n",
            "Epoch 18/300\n",
            "30/30 [==============================] - 0s 3ms/step - loss: 17.8482 - mean_squared_error: 17.8482 - val_loss: 13.7037 - val_mean_squared_error: 13.7037\n",
            "Epoch 19/300\n",
            "30/30 [==============================] - 0s 3ms/step - loss: 14.4632 - mean_squared_error: 14.4632 - val_loss: 11.5769 - val_mean_squared_error: 11.5769\n",
            "Epoch 20/300\n",
            "30/30 [==============================] - 0s 3ms/step - loss: 12.1015 - mean_squared_error: 12.1015 - val_loss: 10.1590 - val_mean_squared_error: 10.1590\n",
            "Epoch 21/300\n",
            "30/30 [==============================] - 0s 3ms/step - loss: 10.3716 - mean_squared_error: 10.3716 - val_loss: 9.3969 - val_mean_squared_error: 9.3969\n",
            "Epoch 22/300\n",
            "30/30 [==============================] - 0s 3ms/step - loss: 9.3031 - mean_squared_error: 9.3031 - val_loss: 8.8999 - val_mean_squared_error: 8.8999\n",
            "Epoch 23/300\n",
            "30/30 [==============================] - 0s 3ms/step - loss: 8.5951 - mean_squared_error: 8.5951 - val_loss: 8.5982 - val_mean_squared_error: 8.5982\n",
            "Epoch 24/300\n",
            "30/30 [==============================] - 0s 3ms/step - loss: 8.1229 - mean_squared_error: 8.1229 - val_loss: 8.4096 - val_mean_squared_error: 8.4096\n",
            "Epoch 25/300\n",
            "30/30 [==============================] - 0s 3ms/step - loss: 7.7469 - mean_squared_error: 7.7469 - val_loss: 8.2048 - val_mean_squared_error: 8.2048\n",
            "Epoch 26/300\n",
            "30/30 [==============================] - 0s 3ms/step - loss: 7.4487 - mean_squared_error: 7.4487 - val_loss: 8.0354 - val_mean_squared_error: 8.0354\n",
            "Epoch 27/300\n",
            "30/30 [==============================] - 0s 3ms/step - loss: 7.2108 - mean_squared_error: 7.2108 - val_loss: 7.8315 - val_mean_squared_error: 7.8315\n",
            "Epoch 28/300\n",
            "30/30 [==============================] - 0s 3ms/step - loss: 6.9651 - mean_squared_error: 6.9651 - val_loss: 7.6387 - val_mean_squared_error: 7.6387\n",
            "Epoch 29/300\n",
            "30/30 [==============================] - 0s 3ms/step - loss: 6.7467 - mean_squared_error: 6.7467 - val_loss: 7.4710 - val_mean_squared_error: 7.4710\n",
            "Epoch 30/300\n",
            "30/30 [==============================] - 0s 3ms/step - loss: 6.5346 - mean_squared_error: 6.5346 - val_loss: 7.2248 - val_mean_squared_error: 7.2248\n",
            "Epoch 31/300\n",
            "30/30 [==============================] - 0s 3ms/step - loss: 6.3334 - mean_squared_error: 6.3334 - val_loss: 7.0288 - val_mean_squared_error: 7.0288\n",
            "Epoch 32/300\n",
            "30/30 [==============================] - 0s 3ms/step - loss: 6.1331 - mean_squared_error: 6.1331 - val_loss: 6.7946 - val_mean_squared_error: 6.7946\n",
            "Epoch 33/300\n",
            "30/30 [==============================] - 0s 3ms/step - loss: 5.9458 - mean_squared_error: 5.9458 - val_loss: 6.5984 - val_mean_squared_error: 6.5984\n",
            "Epoch 34/300\n",
            "30/30 [==============================] - 0s 3ms/step - loss: 5.7543 - mean_squared_error: 5.7543 - val_loss: 6.3735 - val_mean_squared_error: 6.3735\n",
            "Epoch 35/300\n",
            "30/30 [==============================] - 0s 3ms/step - loss: 5.5698 - mean_squared_error: 5.5698 - val_loss: 6.1552 - val_mean_squared_error: 6.1552\n",
            "Epoch 36/300\n",
            "30/30 [==============================] - 0s 3ms/step - loss: 5.3960 - mean_squared_error: 5.3960 - val_loss: 5.9950 - val_mean_squared_error: 5.9950\n",
            "Epoch 37/300\n",
            "30/30 [==============================] - 0s 3ms/step - loss: 5.2702 - mean_squared_error: 5.2702 - val_loss: 5.6961 - val_mean_squared_error: 5.6961\n",
            "Epoch 38/300\n",
            "30/30 [==============================] - 0s 3ms/step - loss: 5.0388 - mean_squared_error: 5.0388 - val_loss: 5.5604 - val_mean_squared_error: 5.5604\n",
            "Epoch 39/300\n",
            "30/30 [==============================] - 0s 3ms/step - loss: 4.8843 - mean_squared_error: 4.8843 - val_loss: 5.3592 - val_mean_squared_error: 5.3592\n",
            "Epoch 40/300\n",
            "30/30 [==============================] - 0s 3ms/step - loss: 4.7277 - mean_squared_error: 4.7277 - val_loss: 5.2108 - val_mean_squared_error: 5.2108\n",
            "Epoch 41/300\n",
            "30/30 [==============================] - 0s 3ms/step - loss: 4.5726 - mean_squared_error: 4.5726 - val_loss: 4.9937 - val_mean_squared_error: 4.9937\n",
            "Epoch 42/300\n",
            "30/30 [==============================] - 0s 3ms/step - loss: 4.4303 - mean_squared_error: 4.4303 - val_loss: 4.8378 - val_mean_squared_error: 4.8378\n",
            "Epoch 43/300\n",
            "30/30 [==============================] - 0s 3ms/step - loss: 4.2972 - mean_squared_error: 4.2972 - val_loss: 4.6615 - val_mean_squared_error: 4.6615\n",
            "Epoch 44/300\n",
            "30/30 [==============================] - 0s 3ms/step - loss: 4.1576 - mean_squared_error: 4.1576 - val_loss: 4.5157 - val_mean_squared_error: 4.5157\n",
            "Epoch 45/300\n",
            "30/30 [==============================] - 0s 3ms/step - loss: 4.0357 - mean_squared_error: 4.0357 - val_loss: 4.3803 - val_mean_squared_error: 4.3803\n",
            "Epoch 46/300\n",
            "30/30 [==============================] - 0s 3ms/step - loss: 3.9220 - mean_squared_error: 3.9220 - val_loss: 4.2224 - val_mean_squared_error: 4.2224\n",
            "Epoch 47/300\n",
            "30/30 [==============================] - 0s 3ms/step - loss: 3.7999 - mean_squared_error: 3.7999 - val_loss: 4.1162 - val_mean_squared_error: 4.1162\n",
            "Epoch 48/300\n",
            "30/30 [==============================] - 0s 3ms/step - loss: 3.6960 - mean_squared_error: 3.6960 - val_loss: 3.9914 - val_mean_squared_error: 3.9914\n",
            "Epoch 49/300\n",
            "30/30 [==============================] - 0s 3ms/step - loss: 3.5961 - mean_squared_error: 3.5961 - val_loss: 3.8656 - val_mean_squared_error: 3.8656\n",
            "Epoch 50/300\n",
            "30/30 [==============================] - 0s 3ms/step - loss: 3.4925 - mean_squared_error: 3.4925 - val_loss: 3.7455 - val_mean_squared_error: 3.7455\n",
            "Epoch 51/300\n",
            "30/30 [==============================] - 0s 3ms/step - loss: 3.4018 - mean_squared_error: 3.4018 - val_loss: 3.6319 - val_mean_squared_error: 3.6319\n",
            "Epoch 52/300\n",
            "30/30 [==============================] - 0s 3ms/step - loss: 3.3078 - mean_squared_error: 3.3078 - val_loss: 3.5248 - val_mean_squared_error: 3.5248\n",
            "Epoch 53/300\n",
            "30/30 [==============================] - 0s 3ms/step - loss: 3.2296 - mean_squared_error: 3.2296 - val_loss: 3.4251 - val_mean_squared_error: 3.4251\n",
            "Epoch 54/300\n",
            "30/30 [==============================] - 0s 3ms/step - loss: 3.1394 - mean_squared_error: 3.1394 - val_loss: 3.3428 - val_mean_squared_error: 3.3428\n",
            "Epoch 55/300\n",
            "30/30 [==============================] - 0s 3ms/step - loss: 3.0807 - mean_squared_error: 3.0807 - val_loss: 3.2786 - val_mean_squared_error: 3.2786\n",
            "Epoch 56/300\n",
            "30/30 [==============================] - 0s 3ms/step - loss: 3.0053 - mean_squared_error: 3.0053 - val_loss: 3.1553 - val_mean_squared_error: 3.1553\n",
            "Epoch 57/300\n",
            "30/30 [==============================] - 0s 3ms/step - loss: 2.9213 - mean_squared_error: 2.9213 - val_loss: 3.0900 - val_mean_squared_error: 3.0900\n",
            "Epoch 58/300\n",
            "30/30 [==============================] - 0s 3ms/step - loss: 2.8633 - mean_squared_error: 2.8633 - val_loss: 2.9985 - val_mean_squared_error: 2.9985\n",
            "Epoch 59/300\n",
            "30/30 [==============================] - 0s 3ms/step - loss: 2.7996 - mean_squared_error: 2.7996 - val_loss: 2.9423 - val_mean_squared_error: 2.9423\n",
            "Epoch 60/300\n",
            "30/30 [==============================] - 0s 3ms/step - loss: 2.7424 - mean_squared_error: 2.7424 - val_loss: 2.8588 - val_mean_squared_error: 2.8588\n",
            "Epoch 61/300\n",
            "30/30 [==============================] - 0s 3ms/step - loss: 2.6769 - mean_squared_error: 2.6769 - val_loss: 2.8055 - val_mean_squared_error: 2.8055\n",
            "Epoch 62/300\n",
            "30/30 [==============================] - 0s 3ms/step - loss: 2.6193 - mean_squared_error: 2.6193 - val_loss: 2.7252 - val_mean_squared_error: 2.7252\n",
            "Epoch 63/300\n",
            "30/30 [==============================] - 0s 3ms/step - loss: 2.5677 - mean_squared_error: 2.5677 - val_loss: 2.6620 - val_mean_squared_error: 2.6620\n",
            "Epoch 64/300\n",
            "30/30 [==============================] - 0s 3ms/step - loss: 2.5169 - mean_squared_error: 2.5169 - val_loss: 2.6040 - val_mean_squared_error: 2.6040\n",
            "Epoch 65/300\n",
            "30/30 [==============================] - 0s 3ms/step - loss: 2.4708 - mean_squared_error: 2.4708 - val_loss: 2.5473 - val_mean_squared_error: 2.5473\n",
            "Epoch 66/300\n",
            "30/30 [==============================] - 0s 3ms/step - loss: 2.4266 - mean_squared_error: 2.4266 - val_loss: 2.4987 - val_mean_squared_error: 2.4987\n",
            "Epoch 67/300\n",
            "30/30 [==============================] - 0s 3ms/step - loss: 2.3765 - mean_squared_error: 2.3765 - val_loss: 2.4397 - val_mean_squared_error: 2.4397\n",
            "Epoch 68/300\n",
            "30/30 [==============================] - 0s 3ms/step - loss: 2.3332 - mean_squared_error: 2.3332 - val_loss: 2.3930 - val_mean_squared_error: 2.3930\n",
            "Epoch 69/300\n",
            "30/30 [==============================] - 0s 3ms/step - loss: 2.2925 - mean_squared_error: 2.2925 - val_loss: 2.3524 - val_mean_squared_error: 2.3524\n",
            "Epoch 70/300\n",
            "30/30 [==============================] - 0s 3ms/step - loss: 2.2477 - mean_squared_error: 2.2477 - val_loss: 2.3071 - val_mean_squared_error: 2.3071\n",
            "Epoch 71/300\n",
            "30/30 [==============================] - 0s 3ms/step - loss: 2.2082 - mean_squared_error: 2.2082 - val_loss: 2.2712 - val_mean_squared_error: 2.2712\n",
            "Epoch 72/300\n",
            "30/30 [==============================] - 0s 3ms/step - loss: 2.1685 - mean_squared_error: 2.1685 - val_loss: 2.2284 - val_mean_squared_error: 2.2284\n",
            "Epoch 73/300\n",
            "30/30 [==============================] - 0s 3ms/step - loss: 2.1344 - mean_squared_error: 2.1344 - val_loss: 2.1902 - val_mean_squared_error: 2.1902\n",
            "Epoch 74/300\n",
            "30/30 [==============================] - 0s 3ms/step - loss: 2.1146 - mean_squared_error: 2.1146 - val_loss: 2.1454 - val_mean_squared_error: 2.1454\n",
            "Epoch 75/300\n",
            "30/30 [==============================] - 0s 3ms/step - loss: 2.0581 - mean_squared_error: 2.0581 - val_loss: 2.1118 - val_mean_squared_error: 2.1118\n",
            "Epoch 76/300\n",
            "30/30 [==============================] - 0s 3ms/step - loss: 2.0281 - mean_squared_error: 2.0281 - val_loss: 2.0805 - val_mean_squared_error: 2.0805\n",
            "Epoch 77/300\n",
            "30/30 [==============================] - 0s 3ms/step - loss: 1.9981 - mean_squared_error: 1.9981 - val_loss: 2.0478 - val_mean_squared_error: 2.0478\n",
            "Epoch 78/300\n",
            "30/30 [==============================] - 0s 3ms/step - loss: 1.9644 - mean_squared_error: 1.9644 - val_loss: 2.0106 - val_mean_squared_error: 2.0106\n",
            "Epoch 79/300\n",
            "30/30 [==============================] - 0s 3ms/step - loss: 1.9397 - mean_squared_error: 1.9397 - val_loss: 1.9814 - val_mean_squared_error: 1.9814\n",
            "Epoch 80/300\n",
            "30/30 [==============================] - 0s 3ms/step - loss: 1.9171 - mean_squared_error: 1.9171 - val_loss: 1.9473 - val_mean_squared_error: 1.9473\n",
            "Epoch 81/300\n",
            "30/30 [==============================] - 0s 4ms/step - loss: 1.8852 - mean_squared_error: 1.8852 - val_loss: 1.9198 - val_mean_squared_error: 1.9198\n",
            "Epoch 82/300\n",
            "30/30 [==============================] - 0s 3ms/step - loss: 1.8517 - mean_squared_error: 1.8517 - val_loss: 1.8889 - val_mean_squared_error: 1.8889\n",
            "Epoch 83/300\n",
            "30/30 [==============================] - 0s 3ms/step - loss: 1.8258 - mean_squared_error: 1.8258 - val_loss: 1.8641 - val_mean_squared_error: 1.8641\n",
            "Epoch 84/300\n",
            "30/30 [==============================] - 0s 3ms/step - loss: 1.8050 - mean_squared_error: 1.8050 - val_loss: 1.8334 - val_mean_squared_error: 1.8334\n",
            "Epoch 85/300\n",
            "30/30 [==============================] - 0s 4ms/step - loss: 1.7707 - mean_squared_error: 1.7707 - val_loss: 1.8088 - val_mean_squared_error: 1.8088\n",
            "Epoch 86/300\n",
            "30/30 [==============================] - 0s 3ms/step - loss: 1.7457 - mean_squared_error: 1.7457 - val_loss: 1.7836 - val_mean_squared_error: 1.7836\n",
            "Epoch 87/300\n",
            "30/30 [==============================] - 0s 3ms/step - loss: 1.7218 - mean_squared_error: 1.7218 - val_loss: 1.7553 - val_mean_squared_error: 1.7553\n",
            "Epoch 88/300\n",
            "30/30 [==============================] - 0s 3ms/step - loss: 1.6993 - mean_squared_error: 1.6993 - val_loss: 1.7316 - val_mean_squared_error: 1.7316\n",
            "Epoch 89/300\n",
            "30/30 [==============================] - 0s 3ms/step - loss: 1.6701 - mean_squared_error: 1.6701 - val_loss: 1.7068 - val_mean_squared_error: 1.7068\n",
            "Epoch 90/300\n",
            "30/30 [==============================] - 0s 3ms/step - loss: 1.6536 - mean_squared_error: 1.6536 - val_loss: 1.6801 - val_mean_squared_error: 1.6801\n",
            "Epoch 91/300\n",
            "30/30 [==============================] - 0s 3ms/step - loss: 1.6209 - mean_squared_error: 1.6209 - val_loss: 1.6552 - val_mean_squared_error: 1.6552\n",
            "Epoch 92/300\n",
            "30/30 [==============================] - 0s 3ms/step - loss: 1.6007 - mean_squared_error: 1.6007 - val_loss: 1.6310 - val_mean_squared_error: 1.6310\n",
            "Epoch 93/300\n",
            "30/30 [==============================] - 0s 3ms/step - loss: 1.5783 - mean_squared_error: 1.5783 - val_loss: 1.6107 - val_mean_squared_error: 1.6107\n",
            "Epoch 94/300\n",
            "30/30 [==============================] - 0s 3ms/step - loss: 1.5548 - mean_squared_error: 1.5548 - val_loss: 1.5846 - val_mean_squared_error: 1.5846\n",
            "Epoch 95/300\n",
            "30/30 [==============================] - 0s 3ms/step - loss: 1.5450 - mean_squared_error: 1.5450 - val_loss: 1.5627 - val_mean_squared_error: 1.5627\n",
            "Epoch 96/300\n",
            "30/30 [==============================] - 0s 3ms/step - loss: 1.5171 - mean_squared_error: 1.5171 - val_loss: 1.5377 - val_mean_squared_error: 1.5377\n",
            "Epoch 97/300\n",
            "30/30 [==============================] - 0s 3ms/step - loss: 1.4967 - mean_squared_error: 1.4967 - val_loss: 1.5194 - val_mean_squared_error: 1.5194\n",
            "Epoch 98/300\n",
            "30/30 [==============================] - 0s 3ms/step - loss: 1.4762 - mean_squared_error: 1.4762 - val_loss: 1.4985 - val_mean_squared_error: 1.4985\n",
            "Epoch 99/300\n",
            "30/30 [==============================] - 0s 3ms/step - loss: 1.4531 - mean_squared_error: 1.4531 - val_loss: 1.4762 - val_mean_squared_error: 1.4762\n",
            "Epoch 100/300\n",
            "30/30 [==============================] - 0s 3ms/step - loss: 1.4385 - mean_squared_error: 1.4385 - val_loss: 1.4602 - val_mean_squared_error: 1.4602\n",
            "Epoch 101/300\n",
            "30/30 [==============================] - 0s 3ms/step - loss: 1.4246 - mean_squared_error: 1.4246 - val_loss: 1.4321 - val_mean_squared_error: 1.4321\n",
            "Epoch 102/300\n",
            "30/30 [==============================] - 0s 3ms/step - loss: 1.3972 - mean_squared_error: 1.3972 - val_loss: 1.4190 - val_mean_squared_error: 1.4190\n",
            "Epoch 103/300\n",
            "30/30 [==============================] - 0s 3ms/step - loss: 1.3803 - mean_squared_error: 1.3803 - val_loss: 1.3957 - val_mean_squared_error: 1.3957\n",
            "Epoch 104/300\n",
            "30/30 [==============================] - 0s 3ms/step - loss: 1.3622 - mean_squared_error: 1.3622 - val_loss: 1.3728 - val_mean_squared_error: 1.3728\n",
            "Epoch 105/300\n",
            "30/30 [==============================] - 0s 3ms/step - loss: 1.3448 - mean_squared_error: 1.3448 - val_loss: 1.3516 - val_mean_squared_error: 1.3516\n",
            "Epoch 106/300\n",
            "30/30 [==============================] - 0s 3ms/step - loss: 1.3360 - mean_squared_error: 1.3360 - val_loss: 1.3342 - val_mean_squared_error: 1.3342\n",
            "Epoch 107/300\n",
            "30/30 [==============================] - 0s 3ms/step - loss: 1.3275 - mean_squared_error: 1.3275 - val_loss: 1.3155 - val_mean_squared_error: 1.3155\n",
            "Epoch 108/300\n",
            "30/30 [==============================] - 0s 3ms/step - loss: 1.2958 - mean_squared_error: 1.2958 - val_loss: 1.2929 - val_mean_squared_error: 1.2929\n",
            "Epoch 109/300\n",
            "30/30 [==============================] - 0s 3ms/step - loss: 1.2817 - mean_squared_error: 1.2817 - val_loss: 1.2719 - val_mean_squared_error: 1.2719\n",
            "Epoch 110/300\n",
            "30/30 [==============================] - 0s 3ms/step - loss: 1.2627 - mean_squared_error: 1.2627 - val_loss: 1.2577 - val_mean_squared_error: 1.2577\n",
            "Epoch 111/300\n",
            "30/30 [==============================] - 0s 3ms/step - loss: 1.2505 - mean_squared_error: 1.2505 - val_loss: 1.2360 - val_mean_squared_error: 1.2360\n",
            "Epoch 112/300\n",
            "30/30 [==============================] - 0s 3ms/step - loss: 1.2373 - mean_squared_error: 1.2373 - val_loss: 1.2185 - val_mean_squared_error: 1.2185\n",
            "Epoch 113/300\n",
            "30/30 [==============================] - 0s 3ms/step - loss: 1.2210 - mean_squared_error: 1.2210 - val_loss: 1.2048 - val_mean_squared_error: 1.2048\n",
            "Epoch 114/300\n",
            "30/30 [==============================] - 0s 3ms/step - loss: 1.2076 - mean_squared_error: 1.2076 - val_loss: 1.1833 - val_mean_squared_error: 1.1833\n",
            "Epoch 115/300\n",
            "30/30 [==============================] - 0s 3ms/step - loss: 1.2029 - mean_squared_error: 1.2029 - val_loss: 1.1769 - val_mean_squared_error: 1.1769\n",
            "Epoch 116/300\n",
            "30/30 [==============================] - 0s 3ms/step - loss: 1.1836 - mean_squared_error: 1.1836 - val_loss: 1.1477 - val_mean_squared_error: 1.1477\n",
            "Epoch 117/300\n",
            "30/30 [==============================] - 0s 3ms/step - loss: 1.1595 - mean_squared_error: 1.1595 - val_loss: 1.1357 - val_mean_squared_error: 1.1357\n",
            "Epoch 118/300\n",
            "30/30 [==============================] - 0s 3ms/step - loss: 1.1501 - mean_squared_error: 1.1501 - val_loss: 1.1182 - val_mean_squared_error: 1.1182\n",
            "Epoch 119/300\n",
            "30/30 [==============================] - 0s 3ms/step - loss: 1.1387 - mean_squared_error: 1.1387 - val_loss: 1.1063 - val_mean_squared_error: 1.1063\n",
            "Epoch 120/300\n",
            "30/30 [==============================] - 0s 3ms/step - loss: 1.1330 - mean_squared_error: 1.1330 - val_loss: 1.0893 - val_mean_squared_error: 1.0893\n",
            "Epoch 121/300\n",
            "30/30 [==============================] - 0s 3ms/step - loss: 1.1133 - mean_squared_error: 1.1133 - val_loss: 1.0679 - val_mean_squared_error: 1.0679\n",
            "Epoch 122/300\n",
            "30/30 [==============================] - 0s 3ms/step - loss: 1.1077 - mean_squared_error: 1.1077 - val_loss: 1.0537 - val_mean_squared_error: 1.0537\n",
            "Epoch 123/300\n",
            "30/30 [==============================] - 0s 3ms/step - loss: 1.0953 - mean_squared_error: 1.0953 - val_loss: 1.0369 - val_mean_squared_error: 1.0369\n",
            "Epoch 124/300\n",
            "30/30 [==============================] - 0s 3ms/step - loss: 1.0810 - mean_squared_error: 1.0810 - val_loss: 1.0210 - val_mean_squared_error: 1.0210\n",
            "Epoch 125/300\n",
            "30/30 [==============================] - 0s 3ms/step - loss: 1.0702 - mean_squared_error: 1.0702 - val_loss: 1.0048 - val_mean_squared_error: 1.0048\n",
            "Epoch 126/300\n",
            "30/30 [==============================] - 0s 3ms/step - loss: 1.0639 - mean_squared_error: 1.0639 - val_loss: 0.9941 - val_mean_squared_error: 0.9941\n",
            "Epoch 127/300\n",
            "30/30 [==============================] - 0s 3ms/step - loss: 1.0448 - mean_squared_error: 1.0448 - val_loss: 0.9774 - val_mean_squared_error: 0.9774\n",
            "Epoch 128/300\n",
            "30/30 [==============================] - 0s 3ms/step - loss: 1.0442 - mean_squared_error: 1.0442 - val_loss: 0.9651 - val_mean_squared_error: 0.9651\n",
            "Epoch 129/300\n",
            "30/30 [==============================] - 0s 3ms/step - loss: 1.0224 - mean_squared_error: 1.0224 - val_loss: 0.9589 - val_mean_squared_error: 0.9589\n",
            "Epoch 130/300\n",
            "30/30 [==============================] - 0s 3ms/step - loss: 1.0155 - mean_squared_error: 1.0155 - val_loss: 0.9387 - val_mean_squared_error: 0.9387\n",
            "Epoch 131/300\n",
            "30/30 [==============================] - 0s 3ms/step - loss: 1.0083 - mean_squared_error: 1.0083 - val_loss: 0.9266 - val_mean_squared_error: 0.9266\n",
            "Epoch 132/300\n",
            "30/30 [==============================] - 0s 3ms/step - loss: 0.9977 - mean_squared_error: 0.9977 - val_loss: 0.9168 - val_mean_squared_error: 0.9168\n",
            "Epoch 133/300\n",
            "30/30 [==============================] - 0s 3ms/step - loss: 0.9868 - mean_squared_error: 0.9868 - val_loss: 0.8974 - val_mean_squared_error: 0.8974\n",
            "Epoch 134/300\n",
            "30/30 [==============================] - 0s 3ms/step - loss: 0.9791 - mean_squared_error: 0.9791 - val_loss: 0.8853 - val_mean_squared_error: 0.8853\n",
            "Epoch 135/300\n",
            "30/30 [==============================] - 0s 3ms/step - loss: 0.9678 - mean_squared_error: 0.9678 - val_loss: 0.8827 - val_mean_squared_error: 0.8827\n",
            "Epoch 136/300\n",
            "30/30 [==============================] - 0s 3ms/step - loss: 0.9709 - mean_squared_error: 0.9709 - val_loss: 0.8682 - val_mean_squared_error: 0.8682\n",
            "Epoch 137/300\n",
            "30/30 [==============================] - 0s 3ms/step - loss: 0.9560 - mean_squared_error: 0.9560 - val_loss: 0.8494 - val_mean_squared_error: 0.8494\n",
            "Epoch 138/300\n",
            "30/30 [==============================] - 0s 3ms/step - loss: 0.9416 - mean_squared_error: 0.9416 - val_loss: 0.8392 - val_mean_squared_error: 0.8392\n",
            "Epoch 139/300\n",
            "30/30 [==============================] - 0s 3ms/step - loss: 0.9391 - mean_squared_error: 0.9391 - val_loss: 0.8367 - val_mean_squared_error: 0.8367\n",
            "Epoch 140/300\n",
            "30/30 [==============================] - 0s 3ms/step - loss: 0.9301 - mean_squared_error: 0.9301 - val_loss: 0.8183 - val_mean_squared_error: 0.8183\n",
            "Epoch 141/300\n",
            "30/30 [==============================] - 0s 3ms/step - loss: 0.9259 - mean_squared_error: 0.9259 - val_loss: 0.8066 - val_mean_squared_error: 0.8066\n",
            "Epoch 142/300\n",
            "30/30 [==============================] - 0s 3ms/step - loss: 0.9149 - mean_squared_error: 0.9149 - val_loss: 0.7917 - val_mean_squared_error: 0.7917\n",
            "Epoch 143/300\n",
            "30/30 [==============================] - 0s 3ms/step - loss: 0.9133 - mean_squared_error: 0.9133 - val_loss: 0.7817 - val_mean_squared_error: 0.7817\n",
            "Epoch 144/300\n",
            "30/30 [==============================] - 0s 3ms/step - loss: 0.9030 - mean_squared_error: 0.9030 - val_loss: 0.7761 - val_mean_squared_error: 0.7761\n",
            "Epoch 145/300\n",
            "30/30 [==============================] - 0s 3ms/step - loss: 0.8932 - mean_squared_error: 0.8932 - val_loss: 0.7598 - val_mean_squared_error: 0.7598\n",
            "Epoch 146/300\n",
            "30/30 [==============================] - 0s 3ms/step - loss: 0.8809 - mean_squared_error: 0.8809 - val_loss: 0.7578 - val_mean_squared_error: 0.7578\n",
            "Epoch 147/300\n",
            "30/30 [==============================] - 0s 3ms/step - loss: 0.8815 - mean_squared_error: 0.8815 - val_loss: 0.7459 - val_mean_squared_error: 0.7459\n",
            "Epoch 148/300\n",
            "30/30 [==============================] - 0s 3ms/step - loss: 0.8764 - mean_squared_error: 0.8764 - val_loss: 0.7452 - val_mean_squared_error: 0.7452\n",
            "Epoch 149/300\n",
            "30/30 [==============================] - 0s 3ms/step - loss: 0.8666 - mean_squared_error: 0.8666 - val_loss: 0.7233 - val_mean_squared_error: 0.7233\n",
            "Epoch 150/300\n",
            "30/30 [==============================] - 0s 3ms/step - loss: 0.8563 - mean_squared_error: 0.8563 - val_loss: 0.7162 - val_mean_squared_error: 0.7162\n",
            "Epoch 151/300\n",
            "30/30 [==============================] - 0s 3ms/step - loss: 0.8552 - mean_squared_error: 0.8552 - val_loss: 0.7027 - val_mean_squared_error: 0.7027\n",
            "Epoch 152/300\n",
            "30/30 [==============================] - 0s 3ms/step - loss: 0.8455 - mean_squared_error: 0.8455 - val_loss: 0.6995 - val_mean_squared_error: 0.6995\n",
            "Epoch 153/300\n",
            "30/30 [==============================] - 0s 3ms/step - loss: 0.8467 - mean_squared_error: 0.8467 - val_loss: 0.6855 - val_mean_squared_error: 0.6855\n",
            "Epoch 154/300\n",
            "30/30 [==============================] - 0s 3ms/step - loss: 0.8274 - mean_squared_error: 0.8274 - val_loss: 0.6856 - val_mean_squared_error: 0.6856\n",
            "Epoch 155/300\n",
            "30/30 [==============================] - 0s 4ms/step - loss: 0.8250 - mean_squared_error: 0.8250 - val_loss: 0.6781 - val_mean_squared_error: 0.6781\n",
            "Epoch 156/300\n",
            "30/30 [==============================] - 0s 5ms/step - loss: 0.8247 - mean_squared_error: 0.8247 - val_loss: 0.6635 - val_mean_squared_error: 0.6635\n",
            "Epoch 157/300\n",
            "30/30 [==============================] - 0s 3ms/step - loss: 0.8137 - mean_squared_error: 0.8137 - val_loss: 0.6586 - val_mean_squared_error: 0.6586\n",
            "Epoch 158/300\n",
            "30/30 [==============================] - 0s 4ms/step - loss: 0.8100 - mean_squared_error: 0.8100 - val_loss: 0.6409 - val_mean_squared_error: 0.6409\n",
            "Epoch 159/300\n",
            "30/30 [==============================] - 0s 3ms/step - loss: 0.8063 - mean_squared_error: 0.8063 - val_loss: 0.6339 - val_mean_squared_error: 0.6339\n",
            "Epoch 160/300\n",
            "30/30 [==============================] - 0s 3ms/step - loss: 0.7934 - mean_squared_error: 0.7934 - val_loss: 0.6273 - val_mean_squared_error: 0.6273\n",
            "Epoch 161/300\n",
            "30/30 [==============================] - 0s 3ms/step - loss: 0.7898 - mean_squared_error: 0.7898 - val_loss: 0.6195 - val_mean_squared_error: 0.6195\n",
            "Epoch 162/300\n",
            "30/30 [==============================] - 0s 3ms/step - loss: 0.7828 - mean_squared_error: 0.7828 - val_loss: 0.6134 - val_mean_squared_error: 0.6134\n",
            "Epoch 163/300\n",
            "30/30 [==============================] - 0s 3ms/step - loss: 0.7742 - mean_squared_error: 0.7742 - val_loss: 0.6051 - val_mean_squared_error: 0.6051\n",
            "Epoch 164/300\n",
            "30/30 [==============================] - 0s 3ms/step - loss: 0.7728 - mean_squared_error: 0.7728 - val_loss: 0.5998 - val_mean_squared_error: 0.5998\n",
            "Epoch 165/300\n",
            "30/30 [==============================] - 0s 4ms/step - loss: 0.7683 - mean_squared_error: 0.7683 - val_loss: 0.5951 - val_mean_squared_error: 0.5951\n",
            "Epoch 166/300\n",
            "30/30 [==============================] - 0s 3ms/step - loss: 0.7636 - mean_squared_error: 0.7636 - val_loss: 0.5879 - val_mean_squared_error: 0.5879\n",
            "Epoch 167/300\n",
            "30/30 [==============================] - 0s 4ms/step - loss: 0.7741 - mean_squared_error: 0.7741 - val_loss: 0.5804 - val_mean_squared_error: 0.5804\n",
            "Epoch 168/300\n",
            "30/30 [==============================] - 0s 3ms/step - loss: 0.7650 - mean_squared_error: 0.7650 - val_loss: 0.5767 - val_mean_squared_error: 0.5767\n",
            "Epoch 169/300\n",
            "30/30 [==============================] - 0s 3ms/step - loss: 0.7533 - mean_squared_error: 0.7533 - val_loss: 0.5738 - val_mean_squared_error: 0.5738\n",
            "Epoch 170/300\n",
            "30/30 [==============================] - 0s 3ms/step - loss: 0.7461 - mean_squared_error: 0.7461 - val_loss: 0.5672 - val_mean_squared_error: 0.5672\n",
            "Epoch 171/300\n",
            "30/30 [==============================] - 0s 3ms/step - loss: 0.7437 - mean_squared_error: 0.7437 - val_loss: 0.5597 - val_mean_squared_error: 0.5597\n",
            "Epoch 172/300\n",
            "30/30 [==============================] - 0s 4ms/step - loss: 0.7492 - mean_squared_error: 0.7492 - val_loss: 0.5543 - val_mean_squared_error: 0.5543\n",
            "Epoch 173/300\n",
            "30/30 [==============================] - 0s 3ms/step - loss: 0.7372 - mean_squared_error: 0.7372 - val_loss: 0.5590 - val_mean_squared_error: 0.5590\n",
            "Epoch 174/300\n",
            "30/30 [==============================] - 0s 3ms/step - loss: 0.7311 - mean_squared_error: 0.7311 - val_loss: 0.5467 - val_mean_squared_error: 0.5467\n",
            "Epoch 175/300\n",
            "30/30 [==============================] - 0s 3ms/step - loss: 0.7216 - mean_squared_error: 0.7216 - val_loss: 0.5440 - val_mean_squared_error: 0.5440\n",
            "Epoch 176/300\n",
            "30/30 [==============================] - 0s 3ms/step - loss: 0.7338 - mean_squared_error: 0.7338 - val_loss: 0.5359 - val_mean_squared_error: 0.5359\n",
            "Epoch 177/300\n",
            "30/30 [==============================] - 0s 3ms/step - loss: 0.7231 - mean_squared_error: 0.7231 - val_loss: 0.5312 - val_mean_squared_error: 0.5312\n",
            "Epoch 178/300\n",
            "30/30 [==============================] - 0s 3ms/step - loss: 0.7126 - mean_squared_error: 0.7126 - val_loss: 0.5268 - val_mean_squared_error: 0.5268\n",
            "Epoch 179/300\n",
            "30/30 [==============================] - 0s 3ms/step - loss: 0.7100 - mean_squared_error: 0.7100 - val_loss: 0.5313 - val_mean_squared_error: 0.5313\n",
            "Epoch 180/300\n",
            "30/30 [==============================] - 0s 3ms/step - loss: 0.7062 - mean_squared_error: 0.7062 - val_loss: 0.5209 - val_mean_squared_error: 0.5209\n",
            "Epoch 181/300\n",
            "30/30 [==============================] - 0s 3ms/step - loss: 0.7148 - mean_squared_error: 0.7148 - val_loss: 0.5183 - val_mean_squared_error: 0.5183\n",
            "Epoch 182/300\n",
            "30/30 [==============================] - 0s 3ms/step - loss: 0.7009 - mean_squared_error: 0.7009 - val_loss: 0.5121 - val_mean_squared_error: 0.5121\n",
            "Epoch 183/300\n",
            "30/30 [==============================] - 0s 3ms/step - loss: 0.7030 - mean_squared_error: 0.7030 - val_loss: 0.5052 - val_mean_squared_error: 0.5052\n",
            "Epoch 184/300\n",
            "30/30 [==============================] - 0s 3ms/step - loss: 0.6956 - mean_squared_error: 0.6956 - val_loss: 0.5108 - val_mean_squared_error: 0.5108\n",
            "Epoch 185/300\n",
            "30/30 [==============================] - 0s 3ms/step - loss: 0.6891 - mean_squared_error: 0.6891 - val_loss: 0.5015 - val_mean_squared_error: 0.5015\n",
            "Epoch 186/300\n",
            "30/30 [==============================] - 0s 3ms/step - loss: 0.6974 - mean_squared_error: 0.6974 - val_loss: 0.5066 - val_mean_squared_error: 0.5066\n",
            "Epoch 187/300\n",
            "30/30 [==============================] - 0s 3ms/step - loss: 0.6889 - mean_squared_error: 0.6889 - val_loss: 0.4995 - val_mean_squared_error: 0.4995\n",
            "Epoch 188/300\n",
            "30/30 [==============================] - 0s 3ms/step - loss: 0.6826 - mean_squared_error: 0.6826 - val_loss: 0.4902 - val_mean_squared_error: 0.4902\n",
            "Epoch 189/300\n",
            "30/30 [==============================] - 0s 3ms/step - loss: 0.6869 - mean_squared_error: 0.6869 - val_loss: 0.4881 - val_mean_squared_error: 0.4881\n",
            "Epoch 190/300\n",
            "30/30 [==============================] - 0s 3ms/step - loss: 0.6754 - mean_squared_error: 0.6754 - val_loss: 0.4944 - val_mean_squared_error: 0.4944\n",
            "Epoch 191/300\n",
            "30/30 [==============================] - 0s 3ms/step - loss: 0.6771 - mean_squared_error: 0.6771 - val_loss: 0.4786 - val_mean_squared_error: 0.4786\n",
            "Epoch 192/300\n",
            "30/30 [==============================] - 0s 3ms/step - loss: 0.6704 - mean_squared_error: 0.6704 - val_loss: 0.4778 - val_mean_squared_error: 0.4778\n",
            "Epoch 193/300\n",
            "30/30 [==============================] - 0s 3ms/step - loss: 0.6678 - mean_squared_error: 0.6678 - val_loss: 0.4736 - val_mean_squared_error: 0.4736\n",
            "Epoch 194/300\n",
            "30/30 [==============================] - 0s 3ms/step - loss: 0.6667 - mean_squared_error: 0.6667 - val_loss: 0.4753 - val_mean_squared_error: 0.4753\n",
            "Epoch 195/300\n",
            "30/30 [==============================] - 0s 3ms/step - loss: 0.6615 - mean_squared_error: 0.6615 - val_loss: 0.4667 - val_mean_squared_error: 0.4667\n",
            "Epoch 196/300\n",
            "30/30 [==============================] - 0s 3ms/step - loss: 0.6637 - mean_squared_error: 0.6637 - val_loss: 0.4630 - val_mean_squared_error: 0.4630\n",
            "Epoch 197/300\n",
            "30/30 [==============================] - 0s 3ms/step - loss: 0.6602 - mean_squared_error: 0.6602 - val_loss: 0.4614 - val_mean_squared_error: 0.4614\n",
            "Epoch 198/300\n",
            "30/30 [==============================] - 0s 3ms/step - loss: 0.6649 - mean_squared_error: 0.6649 - val_loss: 0.4634 - val_mean_squared_error: 0.4634\n",
            "Epoch 199/300\n",
            "30/30 [==============================] - 0s 3ms/step - loss: 0.6562 - mean_squared_error: 0.6562 - val_loss: 0.4569 - val_mean_squared_error: 0.4569\n",
            "Epoch 200/300\n",
            "30/30 [==============================] - 0s 3ms/step - loss: 0.6531 - mean_squared_error: 0.6531 - val_loss: 0.4566 - val_mean_squared_error: 0.4566\n",
            "Epoch 201/300\n",
            "30/30 [==============================] - 0s 3ms/step - loss: 0.6575 - mean_squared_error: 0.6575 - val_loss: 0.4541 - val_mean_squared_error: 0.4541\n",
            "Epoch 202/300\n",
            "30/30 [==============================] - 0s 3ms/step - loss: 0.6509 - mean_squared_error: 0.6509 - val_loss: 0.4555 - val_mean_squared_error: 0.4555\n",
            "Epoch 203/300\n",
            "30/30 [==============================] - 0s 3ms/step - loss: 0.6490 - mean_squared_error: 0.6490 - val_loss: 0.4605 - val_mean_squared_error: 0.4605\n",
            "Epoch 204/300\n",
            "30/30 [==============================] - 0s 3ms/step - loss: 0.6387 - mean_squared_error: 0.6387 - val_loss: 0.4482 - val_mean_squared_error: 0.4482\n",
            "Epoch 205/300\n",
            "30/30 [==============================] - 0s 3ms/step - loss: 0.6368 - mean_squared_error: 0.6368 - val_loss: 0.4445 - val_mean_squared_error: 0.4445\n",
            "Epoch 206/300\n",
            "30/30 [==============================] - 0s 3ms/step - loss: 0.6378 - mean_squared_error: 0.6378 - val_loss: 0.4432 - val_mean_squared_error: 0.4432\n",
            "Epoch 207/300\n",
            "30/30 [==============================] - 0s 3ms/step - loss: 0.6318 - mean_squared_error: 0.6318 - val_loss: 0.4404 - val_mean_squared_error: 0.4404\n",
            "Epoch 208/300\n",
            "30/30 [==============================] - 0s 3ms/step - loss: 0.6302 - mean_squared_error: 0.6302 - val_loss: 0.4414 - val_mean_squared_error: 0.4414\n",
            "Epoch 209/300\n",
            "30/30 [==============================] - 0s 3ms/step - loss: 0.6360 - mean_squared_error: 0.6360 - val_loss: 0.4409 - val_mean_squared_error: 0.4409\n",
            "Epoch 210/300\n",
            "30/30 [==============================] - 0s 3ms/step - loss: 0.6310 - mean_squared_error: 0.6310 - val_loss: 0.4342 - val_mean_squared_error: 0.4342\n",
            "Epoch 211/300\n",
            "30/30 [==============================] - 0s 3ms/step - loss: 0.6229 - mean_squared_error: 0.6229 - val_loss: 0.4473 - val_mean_squared_error: 0.4473\n",
            "Epoch 212/300\n",
            "30/30 [==============================] - 0s 3ms/step - loss: 0.6238 - mean_squared_error: 0.6238 - val_loss: 0.4322 - val_mean_squared_error: 0.4322\n",
            "Epoch 213/300\n",
            "30/30 [==============================] - 0s 3ms/step - loss: 0.6204 - mean_squared_error: 0.6204 - val_loss: 0.4320 - val_mean_squared_error: 0.4320\n",
            "Epoch 214/300\n",
            "30/30 [==============================] - 0s 4ms/step - loss: 0.6184 - mean_squared_error: 0.6184 - val_loss: 0.4305 - val_mean_squared_error: 0.4305\n",
            "Epoch 215/300\n",
            "30/30 [==============================] - 0s 3ms/step - loss: 0.6107 - mean_squared_error: 0.6107 - val_loss: 0.4333 - val_mean_squared_error: 0.4333\n",
            "Epoch 216/300\n",
            "30/30 [==============================] - 0s 3ms/step - loss: 0.6065 - mean_squared_error: 0.6065 - val_loss: 0.4282 - val_mean_squared_error: 0.4282\n",
            "Epoch 217/300\n",
            "30/30 [==============================] - 0s 3ms/step - loss: 0.6065 - mean_squared_error: 0.6065 - val_loss: 0.4248 - val_mean_squared_error: 0.4248\n",
            "Epoch 218/300\n",
            "30/30 [==============================] - 0s 3ms/step - loss: 0.6036 - mean_squared_error: 0.6036 - val_loss: 0.4239 - val_mean_squared_error: 0.4239\n",
            "Epoch 219/300\n",
            "30/30 [==============================] - 0s 3ms/step - loss: 0.6016 - mean_squared_error: 0.6016 - val_loss: 0.4175 - val_mean_squared_error: 0.4175\n",
            "Epoch 220/300\n",
            "30/30 [==============================] - 0s 3ms/step - loss: 0.5968 - mean_squared_error: 0.5968 - val_loss: 0.4180 - val_mean_squared_error: 0.4180\n",
            "Epoch 221/300\n",
            "30/30 [==============================] - 0s 3ms/step - loss: 0.5945 - mean_squared_error: 0.5945 - val_loss: 0.4145 - val_mean_squared_error: 0.4145\n",
            "Epoch 222/300\n",
            "30/30 [==============================] - 0s 3ms/step - loss: 0.5946 - mean_squared_error: 0.5946 - val_loss: 0.4176 - val_mean_squared_error: 0.4176\n",
            "Epoch 223/300\n",
            "30/30 [==============================] - 0s 4ms/step - loss: 0.5966 - mean_squared_error: 0.5966 - val_loss: 0.4106 - val_mean_squared_error: 0.4106\n",
            "Epoch 224/300\n",
            "30/30 [==============================] - 0s 3ms/step - loss: 0.5879 - mean_squared_error: 0.5879 - val_loss: 0.4120 - val_mean_squared_error: 0.4120\n",
            "Epoch 225/300\n",
            "30/30 [==============================] - 0s 3ms/step - loss: 0.5874 - mean_squared_error: 0.5874 - val_loss: 0.4054 - val_mean_squared_error: 0.4054\n",
            "Epoch 226/300\n",
            "30/30 [==============================] - 0s 3ms/step - loss: 0.5812 - mean_squared_error: 0.5812 - val_loss: 0.4055 - val_mean_squared_error: 0.4055\n",
            "Epoch 227/300\n",
            "30/30 [==============================] - 0s 3ms/step - loss: 0.5911 - mean_squared_error: 0.5911 - val_loss: 0.4038 - val_mean_squared_error: 0.4038\n",
            "Epoch 228/300\n",
            "30/30 [==============================] - 0s 3ms/step - loss: 0.5778 - mean_squared_error: 0.5778 - val_loss: 0.4023 - val_mean_squared_error: 0.4023\n",
            "Epoch 229/300\n",
            "30/30 [==============================] - 0s 3ms/step - loss: 0.5779 - mean_squared_error: 0.5779 - val_loss: 0.4007 - val_mean_squared_error: 0.4007\n",
            "Epoch 230/300\n",
            "30/30 [==============================] - 0s 3ms/step - loss: 0.5857 - mean_squared_error: 0.5857 - val_loss: 0.3968 - val_mean_squared_error: 0.3968\n",
            "Epoch 231/300\n",
            "30/30 [==============================] - 0s 3ms/step - loss: 0.5699 - mean_squared_error: 0.5699 - val_loss: 0.4063 - val_mean_squared_error: 0.4063\n",
            "Epoch 232/300\n",
            "30/30 [==============================] - 0s 4ms/step - loss: 0.5716 - mean_squared_error: 0.5716 - val_loss: 0.3958 - val_mean_squared_error: 0.3958\n",
            "Epoch 233/300\n",
            "30/30 [==============================] - 0s 4ms/step - loss: 0.5733 - mean_squared_error: 0.5733 - val_loss: 0.4014 - val_mean_squared_error: 0.4014\n",
            "Epoch 234/300\n",
            "30/30 [==============================] - 0s 3ms/step - loss: 0.5655 - mean_squared_error: 0.5655 - val_loss: 0.3941 - val_mean_squared_error: 0.3941\n",
            "Epoch 235/300\n",
            "30/30 [==============================] - 0s 3ms/step - loss: 0.5654 - mean_squared_error: 0.5654 - val_loss: 0.3915 - val_mean_squared_error: 0.3915\n",
            "Epoch 236/300\n",
            "30/30 [==============================] - 0s 3ms/step - loss: 0.5624 - mean_squared_error: 0.5624 - val_loss: 0.3979 - val_mean_squared_error: 0.3979\n",
            "Epoch 237/300\n",
            "30/30 [==============================] - 0s 3ms/step - loss: 0.5583 - mean_squared_error: 0.5583 - val_loss: 0.3963 - val_mean_squared_error: 0.3963\n",
            "Epoch 238/300\n",
            "30/30 [==============================] - 0s 3ms/step - loss: 0.5526 - mean_squared_error: 0.5526 - val_loss: 0.3885 - val_mean_squared_error: 0.3885\n",
            "Epoch 239/300\n",
            "30/30 [==============================] - 0s 3ms/step - loss: 0.5625 - mean_squared_error: 0.5625 - val_loss: 0.3876 - val_mean_squared_error: 0.3876\n",
            "Epoch 240/300\n",
            "30/30 [==============================] - 0s 3ms/step - loss: 0.5598 - mean_squared_error: 0.5598 - val_loss: 0.3884 - val_mean_squared_error: 0.3884\n",
            "Epoch 241/300\n",
            "30/30 [==============================] - 0s 3ms/step - loss: 0.5529 - mean_squared_error: 0.5529 - val_loss: 0.3840 - val_mean_squared_error: 0.3840\n",
            "Epoch 242/300\n",
            "30/30 [==============================] - 0s 4ms/step - loss: 0.5483 - mean_squared_error: 0.5483 - val_loss: 0.3875 - val_mean_squared_error: 0.3875\n",
            "Epoch 243/300\n",
            "30/30 [==============================] - 0s 4ms/step - loss: 0.5425 - mean_squared_error: 0.5425 - val_loss: 0.3834 - val_mean_squared_error: 0.3834\n",
            "Epoch 244/300\n",
            "30/30 [==============================] - 0s 3ms/step - loss: 0.5408 - mean_squared_error: 0.5408 - val_loss: 0.3877 - val_mean_squared_error: 0.3877\n",
            "Epoch 245/300\n",
            "30/30 [==============================] - 0s 3ms/step - loss: 0.5459 - mean_squared_error: 0.5459 - val_loss: 0.3836 - val_mean_squared_error: 0.3836\n",
            "Epoch 246/300\n",
            "30/30 [==============================] - 0s 3ms/step - loss: 0.5592 - mean_squared_error: 0.5592 - val_loss: 0.3844 - val_mean_squared_error: 0.3844\n",
            "Epoch 247/300\n",
            "30/30 [==============================] - 0s 3ms/step - loss: 0.5369 - mean_squared_error: 0.5369 - val_loss: 0.3835 - val_mean_squared_error: 0.3835\n",
            "Epoch 248/300\n",
            "30/30 [==============================] - 0s 3ms/step - loss: 0.5388 - mean_squared_error: 0.5388 - val_loss: 0.3827 - val_mean_squared_error: 0.3827\n",
            "Epoch 249/300\n",
            "30/30 [==============================] - 0s 4ms/step - loss: 0.5318 - mean_squared_error: 0.5318 - val_loss: 0.3856 - val_mean_squared_error: 0.3856\n",
            "Epoch 250/300\n",
            "30/30 [==============================] - 0s 3ms/step - loss: 0.5362 - mean_squared_error: 0.5362 - val_loss: 0.3898 - val_mean_squared_error: 0.3898\n",
            "Epoch 251/300\n",
            "30/30 [==============================] - 0s 4ms/step - loss: 0.5268 - mean_squared_error: 0.5268 - val_loss: 0.3782 - val_mean_squared_error: 0.3782\n",
            "Epoch 252/300\n",
            "30/30 [==============================] - 0s 3ms/step - loss: 0.5265 - mean_squared_error: 0.5265 - val_loss: 0.3779 - val_mean_squared_error: 0.3779\n",
            "Epoch 253/300\n",
            "30/30 [==============================] - 0s 3ms/step - loss: 0.5223 - mean_squared_error: 0.5223 - val_loss: 0.3913 - val_mean_squared_error: 0.3913\n",
            "Epoch 254/300\n",
            "30/30 [==============================] - 0s 3ms/step - loss: 0.5210 - mean_squared_error: 0.5210 - val_loss: 0.3804 - val_mean_squared_error: 0.3804\n",
            "Epoch 255/300\n",
            "30/30 [==============================] - 0s 4ms/step - loss: 0.5194 - mean_squared_error: 0.5194 - val_loss: 0.3802 - val_mean_squared_error: 0.3802\n",
            "Epoch 256/300\n",
            "30/30 [==============================] - 0s 3ms/step - loss: 0.5289 - mean_squared_error: 0.5289 - val_loss: 0.3743 - val_mean_squared_error: 0.3743\n",
            "Epoch 257/300\n",
            "30/30 [==============================] - 0s 3ms/step - loss: 0.5144 - mean_squared_error: 0.5144 - val_loss: 0.3828 - val_mean_squared_error: 0.3828\n",
            "Epoch 258/300\n",
            "30/30 [==============================] - 0s 3ms/step - loss: 0.5116 - mean_squared_error: 0.5116 - val_loss: 0.3767 - val_mean_squared_error: 0.3767\n",
            "Epoch 259/300\n",
            "30/30 [==============================] - 0s 4ms/step - loss: 0.5084 - mean_squared_error: 0.5084 - val_loss: 0.3746 - val_mean_squared_error: 0.3746\n",
            "Epoch 260/300\n",
            "30/30 [==============================] - 0s 3ms/step - loss: 0.5061 - mean_squared_error: 0.5061 - val_loss: 0.3728 - val_mean_squared_error: 0.3728\n",
            "Epoch 261/300\n",
            "30/30 [==============================] - 0s 3ms/step - loss: 0.5043 - mean_squared_error: 0.5043 - val_loss: 0.3744 - val_mean_squared_error: 0.3744\n",
            "Epoch 262/300\n",
            "30/30 [==============================] - 0s 4ms/step - loss: 0.5031 - mean_squared_error: 0.5031 - val_loss: 0.3744 - val_mean_squared_error: 0.3744\n",
            "Epoch 263/300\n",
            "30/30 [==============================] - 0s 3ms/step - loss: 0.5009 - mean_squared_error: 0.5009 - val_loss: 0.3721 - val_mean_squared_error: 0.3721\n",
            "Epoch 264/300\n",
            "30/30 [==============================] - 0s 3ms/step - loss: 0.4980 - mean_squared_error: 0.4980 - val_loss: 0.3715 - val_mean_squared_error: 0.3715\n",
            "Epoch 265/300\n",
            "30/30 [==============================] - 0s 3ms/step - loss: 0.4923 - mean_squared_error: 0.4923 - val_loss: 0.3811 - val_mean_squared_error: 0.3811\n",
            "Epoch 266/300\n",
            "30/30 [==============================] - 0s 3ms/step - loss: 0.4977 - mean_squared_error: 0.4977 - val_loss: 0.3708 - val_mean_squared_error: 0.3708\n",
            "Epoch 267/300\n",
            "30/30 [==============================] - 0s 3ms/step - loss: 0.4905 - mean_squared_error: 0.4905 - val_loss: 0.3685 - val_mean_squared_error: 0.3685\n",
            "Epoch 268/300\n",
            "30/30 [==============================] - 0s 3ms/step - loss: 0.4865 - mean_squared_error: 0.4865 - val_loss: 0.3743 - val_mean_squared_error: 0.3743\n",
            "Epoch 269/300\n",
            "30/30 [==============================] - 0s 3ms/step - loss: 0.4910 - mean_squared_error: 0.4910 - val_loss: 0.3696 - val_mean_squared_error: 0.3696\n",
            "Epoch 270/300\n",
            "30/30 [==============================] - 0s 4ms/step - loss: 0.4882 - mean_squared_error: 0.4882 - val_loss: 0.3678 - val_mean_squared_error: 0.3678\n",
            "Epoch 271/300\n",
            "30/30 [==============================] - 0s 3ms/step - loss: 0.4800 - mean_squared_error: 0.4800 - val_loss: 0.3663 - val_mean_squared_error: 0.3663\n",
            "Epoch 272/300\n",
            "30/30 [==============================] - 0s 3ms/step - loss: 0.4830 - mean_squared_error: 0.4830 - val_loss: 0.3616 - val_mean_squared_error: 0.3616\n",
            "Epoch 273/300\n",
            "30/30 [==============================] - 0s 4ms/step - loss: 0.4764 - mean_squared_error: 0.4764 - val_loss: 0.3614 - val_mean_squared_error: 0.3614\n",
            "Epoch 274/300\n",
            "30/30 [==============================] - 0s 3ms/step - loss: 0.4731 - mean_squared_error: 0.4731 - val_loss: 0.3652 - val_mean_squared_error: 0.3652\n",
            "Epoch 275/300\n",
            "30/30 [==============================] - 0s 3ms/step - loss: 0.4775 - mean_squared_error: 0.4775 - val_loss: 0.3738 - val_mean_squared_error: 0.3738\n",
            "Epoch 276/300\n",
            "30/30 [==============================] - 0s 3ms/step - loss: 0.4803 - mean_squared_error: 0.4803 - val_loss: 0.3567 - val_mean_squared_error: 0.3567\n",
            "Epoch 277/300\n",
            "30/30 [==============================] - 0s 3ms/step - loss: 0.4695 - mean_squared_error: 0.4695 - val_loss: 0.3575 - val_mean_squared_error: 0.3575\n",
            "Epoch 278/300\n",
            "30/30 [==============================] - 0s 3ms/step - loss: 0.4779 - mean_squared_error: 0.4779 - val_loss: 0.3595 - val_mean_squared_error: 0.3595\n",
            "Epoch 279/300\n",
            "30/30 [==============================] - 0s 3ms/step - loss: 0.4704 - mean_squared_error: 0.4704 - val_loss: 0.3675 - val_mean_squared_error: 0.3675\n",
            "Epoch 280/300\n",
            "30/30 [==============================] - 0s 4ms/step - loss: 0.4613 - mean_squared_error: 0.4613 - val_loss: 0.3580 - val_mean_squared_error: 0.3580\n",
            "Epoch 281/300\n",
            "30/30 [==============================] - 0s 3ms/step - loss: 0.4668 - mean_squared_error: 0.4668 - val_loss: 0.3560 - val_mean_squared_error: 0.3560\n",
            "Epoch 282/300\n",
            "30/30 [==============================] - 0s 3ms/step - loss: 0.4609 - mean_squared_error: 0.4609 - val_loss: 0.3675 - val_mean_squared_error: 0.3675\n",
            "Epoch 283/300\n",
            "30/30 [==============================] - 0s 3ms/step - loss: 0.4638 - mean_squared_error: 0.4638 - val_loss: 0.3588 - val_mean_squared_error: 0.3588\n",
            "Epoch 284/300\n",
            "30/30 [==============================] - 0s 3ms/step - loss: 0.4633 - mean_squared_error: 0.4633 - val_loss: 0.3556 - val_mean_squared_error: 0.3556\n",
            "Epoch 285/300\n",
            "30/30 [==============================] - 0s 4ms/step - loss: 0.4595 - mean_squared_error: 0.4595 - val_loss: 0.3500 - val_mean_squared_error: 0.3500\n",
            "Epoch 286/300\n",
            "30/30 [==============================] - 0s 3ms/step - loss: 0.4496 - mean_squared_error: 0.4496 - val_loss: 0.3477 - val_mean_squared_error: 0.3477\n",
            "Epoch 287/300\n",
            "30/30 [==============================] - 0s 3ms/step - loss: 0.4497 - mean_squared_error: 0.4497 - val_loss: 0.3458 - val_mean_squared_error: 0.3458\n",
            "Epoch 288/300\n",
            "30/30 [==============================] - 0s 3ms/step - loss: 0.4493 - mean_squared_error: 0.4493 - val_loss: 0.3538 - val_mean_squared_error: 0.3538\n",
            "Epoch 289/300\n",
            "30/30 [==============================] - 0s 3ms/step - loss: 0.4504 - mean_squared_error: 0.4504 - val_loss: 0.3492 - val_mean_squared_error: 0.3492\n",
            "Epoch 290/300\n",
            "30/30 [==============================] - 0s 3ms/step - loss: 0.4483 - mean_squared_error: 0.4483 - val_loss: 0.3506 - val_mean_squared_error: 0.3506\n",
            "Epoch 291/300\n",
            "30/30 [==============================] - 0s 3ms/step - loss: 0.4523 - mean_squared_error: 0.4523 - val_loss: 0.3604 - val_mean_squared_error: 0.3604\n",
            "Epoch 292/300\n",
            "30/30 [==============================] - 0s 3ms/step - loss: 0.4442 - mean_squared_error: 0.4442 - val_loss: 0.3395 - val_mean_squared_error: 0.3395\n",
            "Epoch 293/300\n",
            "30/30 [==============================] - 0s 3ms/step - loss: 0.4310 - mean_squared_error: 0.4310 - val_loss: 0.3495 - val_mean_squared_error: 0.3495\n",
            "Epoch 294/300\n",
            "30/30 [==============================] - 0s 3ms/step - loss: 0.4484 - mean_squared_error: 0.4484 - val_loss: 0.3439 - val_mean_squared_error: 0.3439\n",
            "Epoch 295/300\n",
            "30/30 [==============================] - 0s 4ms/step - loss: 0.4360 - mean_squared_error: 0.4360 - val_loss: 0.3451 - val_mean_squared_error: 0.3451\n",
            "Epoch 296/300\n",
            "30/30 [==============================] - 0s 3ms/step - loss: 0.4297 - mean_squared_error: 0.4297 - val_loss: 0.3394 - val_mean_squared_error: 0.3394\n",
            "Epoch 297/300\n",
            "30/30 [==============================] - 0s 3ms/step - loss: 0.4332 - mean_squared_error: 0.4332 - val_loss: 0.3453 - val_mean_squared_error: 0.3453\n",
            "Epoch 298/300\n",
            "30/30 [==============================] - 0s 3ms/step - loss: 0.4334 - mean_squared_error: 0.4334 - val_loss: 0.3366 - val_mean_squared_error: 0.3366\n",
            "Epoch 299/300\n",
            "30/30 [==============================] - 0s 4ms/step - loss: 0.4280 - mean_squared_error: 0.4280 - val_loss: 0.3422 - val_mean_squared_error: 0.3422\n",
            "Epoch 300/300\n",
            "30/30 [==============================] - 0s 3ms/step - loss: 0.4240 - mean_squared_error: 0.4240 - val_loss: 0.3403 - val_mean_squared_error: 0.3403\n"
          ]
        }
      ]
    },
    {
      "cell_type": "code",
      "metadata": {
        "colab": {
          "base_uri": "https://localhost:8080/"
        },
        "id": "smXfNXPV0lUY",
        "outputId": "3722615c-f7d2-4e42-fc0a-5e961910662b"
      },
      "source": [
        "mse_test = model.evaluate(X_test, y_test)"
      ],
      "execution_count": 13,
      "outputs": [
        {
          "output_type": "stream",
          "name": "stdout",
          "text": [
            "2/2 [==============================] - 0s 6ms/step - loss: 0.3403 - mean_squared_error: 0.3403\n"
          ]
        }
      ]
    },
    {
      "cell_type": "markdown",
      "metadata": {
        "id": "nKPvhrRWX6kN"
      },
      "source": [
        "## Análise da função *loss* (erro/perda)\n",
        "Vamos observar o comportamento da função *loss* para os dados de treino e de validação/teste."
      ]
    },
    {
      "cell_type": "code",
      "metadata": {
        "colab": {
          "base_uri": "https://localhost:8080/",
          "height": 297
        },
        "id": "7X02GavXX7t9",
        "outputId": "0c6d1627-5acf-404b-fbea-f7011db73258"
      },
      "source": [
        "import matplotlib.pyplot as plt\n",
        "plt.plot(history.history['loss'])\n",
        "plt.plot(history.history['val_loss'], '')\n",
        "plt.xlabel(\"Épocas\")\n",
        "plt.ylabel('Erro/loss')\n",
        "plt.title('Função erro/loss')\n",
        "plt.legend(['loss', 'val_loss'])\n",
        "plt.show()"
      ],
      "execution_count": 14,
      "outputs": [
        {
          "output_type": "display_data",
          "data": {
            "text/plain": [
              "<Figure size 432x288 with 1 Axes>"
            ],
            "image/png": "[encoded data removed]"
          },
          "metadata": {
            "needs_background": "light"
          }
        }
      ]
    },
    {
      "cell_type": "markdown",
      "metadata": {
        "id": "omOk_U0dX_yr"
      },
      "source": [
        "## Análise da métrica de desempenho (acurácia)\n",
        "Vamos observar o desempenho (acurácia) da rede para os dados de treino e de validação/teste."
      ]
    },
    {
      "cell_type": "code",
      "metadata": {
        "colab": {
          "base_uri": "https://localhost:8080/",
          "height": 297
        },
        "id": "apnDE-BiYD38",
        "outputId": "2b92cbbc-6cc8-4cd8-9822-096b77832f38"
      },
      "source": [
        "plt.plot(history.history['mean_squared_error'])\n",
        "plt.plot(history.history['val_mean_squared_error'], '')\n",
        "plt.xlabel(\"Épocas\")\n",
        "plt.ylabel('mean_squared_error')\n",
        "plt.title('Acurácia')\n",
        "plt.legend(['acurácia', 'val_acurácia'])\n",
        "plt.show()"
      ],
      "execution_count": 15,
      "outputs": [
        {
          "output_type": "display_data",
          "data": {
            "text/plain": [
              "<Figure size 432x288 with 1 Axes>"
            ],
            "image/png": "[encoded data removed]"
          },
          "metadata": {
            "needs_background": "light"
          }
        }
      ]
    },
    {
      "cell_type": "markdown",
      "metadata": {
        "id": "tXdSC711vw6_"
      },
      "source": [
        "## Fazendo predições"
      ]
    },
    {
      "cell_type": "code",
      "metadata": {
        "id": "_E0dMNb4v03S",
        "colab": {
          "base_uri": "https://localhost:8080/"
        },
        "outputId": "78f00886-667b-49ba-f2fd-3947a61414a3"
      },
      "source": [
        "import numpy as np\n",
        "\n",
        "predictions = model.predict(X_test)\n",
        "# 5 primeiros casos do conjunto teste\n",
        "for i in range(5):\n",
        "  print('%s => %f (esperado %f)' % (np.round(X_test[i],2).tolist(), predictions[i], y_test[i]))"
      ],
      "execution_count": 16,
      "outputs": [
        {
          "output_type": "stream",
          "name": "stdout",
          "text": [
            "[0.55, 0.64, 0.52] => 17.515915 (esperado 16.900000)\n",
            "[0.66, 0.96, 0.52] => 22.035004 (esperado 22.400000)\n",
            "[0.99, 0.57, 0.43] => 20.664419 (esperado 21.400000)\n",
            "[0.04, 0.74, 0.45] => 7.427867 (esperado 7.300000)\n",
            "[0.74, 0.99, 0.03] => 23.233824 (esperado 24.700000)\n"
          ]
        }
      ]
    },
    {
      "cell_type": "markdown",
      "metadata": {
        "id": "G38RBcfWUosv"
      },
      "source": [
        "## Mostra histograma das predições do modelo neural\n",
        "\n",
        "Mostra histograma das predições de vendas para o conjunto de dados completo com o objetico de comparar com o histograma das vendas real."
      ]
    },
    {
      "cell_type": "code",
      "metadata": {
        "colab": {
          "base_uri": "https://localhost:8080/",
          "height": 283
        },
        "id": "c3kYzC0nLCjU",
        "outputId": "7b659635-f664-4443-813d-c1802afac7e8"
      },
      "source": [
        "# Normaliza o conjunto X de dados\n",
        "X_scaled = scaler.transform(X)\n",
        "# Aplica o modelo\n",
        "prediction = model.predict(X_scaled)\n",
        "# plota histograma\n",
        "plt.figure(figsize=(10,4))\n",
        "sns.histplot(prediction, kde = True)"
      ],
      "execution_count": 17,
      "outputs": [
        {
          "output_type": "execute_result",
          "data": {
            "text/plain": [
              "<matplotlib.axes._subplots.AxesSubplot at 0x7fe5644974d0>"
            ]
          },
          "metadata": {},
          "execution_count": 17
        },
        {
          "output_type": "display_data",
          "data": {
            "text/plain": [
              "<Figure size 720x288 with 1 Axes>"
            ],
            "image/png": "[encoded data removed]"
          },
          "metadata": {
            "needs_background": "light"
          }
        }
      ]
    },
    {
      "cell_type": "markdown",
      "metadata": {
        "id": "1mY5k6Um6Ia6"
      },
      "source": [
        "## Regressão Linear (Sklearn)"
      ]
    },
    {
      "cell_type": "code",
      "metadata": {
        "colab": {
          "base_uri": "https://localhost:8080/"
        },
        "id": "U7yPyN4g6Xsp",
        "outputId": "22391d5c-daf7-41b7-da29-58fc2332d36c"
      },
      "source": [
        "from sklearn.linear_model import LinearRegression\n",
        "from sklearn import metrics\n",
        "\n",
        "reglin = LinearRegression()\n",
        "reglin.fit(X_train,y_train)"
      ],
      "execution_count": 18,
      "outputs": [
        {
          "output_type": "execute_result",
          "data": {
            "text/plain": [
              "LinearRegression()"
            ]
          },
          "metadata": {},
          "execution_count": 18
        }
      ]
    },
    {
      "cell_type": "markdown",
      "metadata": {
        "id": "z00jASFs7fOx"
      },
      "source": [
        "## Aplica o modelo de regressão linear no conjunto teste"
      ]
    },
    {
      "cell_type": "code",
      "metadata": {
        "id": "t5aal3rf7ju_"
      },
      "source": [
        "y_reglin = reglin.predict(X_test)"
      ],
      "execution_count": 19,
      "outputs": []
    },
    {
      "cell_type": "markdown",
      "metadata": {
        "id": "h0b5fXsB6iEJ"
      },
      "source": [
        "## Calcula o erro quadrático médio"
      ]
    },
    {
      "cell_type": "code",
      "metadata": {
        "colab": {
          "base_uri": "https://localhost:8080/"
        },
        "id": "JFRcfQfH6yv4",
        "outputId": "748a2415-31aa-4e49-a917-7c0cc37fa5bf"
      },
      "source": [
        "print(metrics.mean_squared_error(y_reglin,y_test))"
      ],
      "execution_count": 20,
      "outputs": [
        {
          "output_type": "stream",
          "name": "stdout",
          "text": [
            "2.8800237300941918\n"
          ]
        }
      ]
    },
    {
      "cell_type": "markdown",
      "metadata": {
        "id": "MTLBPBkHVqMe"
      },
      "source": [
        "## Fazendo predições"
      ]
    },
    {
      "cell_type": "code",
      "metadata": {
        "colab": {
          "base_uri": "https://localhost:8080/"
        },
        "id": "PjX38ro98N4w",
        "outputId": "98a8e9f3-5ad4-4951-a992-985fbdb78de8"
      },
      "source": [
        "predictions_reg = reglin.predict(X_test)\n",
        "# 5 primeiros casos do conjunto teste\n",
        "for i in range(5):\n",
        "  print('%s => %f (esperado %f)' % (np.round(X_test[i],2).tolist(), predictions_reg[i], y_test[i]))"
      ],
      "execution_count": 21,
      "outputs": [
        {
          "output_type": "stream",
          "name": "stdout",
          "text": [
            "[0.55, 0.64, 0.52] => 16.383482 (esperado 16.900000)\n",
            "[0.66, 0.96, 0.52] => 20.924350 (esperado 22.400000)\n",
            "[0.99, 0.57, 0.43] => 21.614954 (esperado 21.400000)\n",
            "[0.04, 0.74, 0.45] => 10.490700 (esperado 7.300000)\n",
            "[0.74, 0.99, 0.03] => 22.176905 (esperado 24.700000)\n"
          ]
        }
      ]
    },
    {
      "cell_type": "markdown",
      "metadata": {
        "id": "VeoFguGfVzcL"
      },
      "source": [
        "## Mostra histograma das predições da Regressão Linear\n",
        "\n",
        "Mostra histograma das predições de vendas para o conjunto de dados completo com o objetico de comparar com o histograma das vendas real."
      ]
    },
    {
      "cell_type": "code",
      "metadata": {
        "colab": {
          "base_uri": "https://localhost:8080/",
          "height": 283
        },
        "id": "mTrtKCOpPdZY",
        "outputId": "d22ff0ff-be91-4af9-d09e-127c56b61974"
      },
      "source": [
        "X_scaled = scaler.transform(X)\n",
        "predictions_reg2 = reglin.predict(X_scaled)\n",
        "plt.figure(figsize=(10,4))\n",
        "sns.histplot(predictions_reg2, kde = True)"
      ],
      "execution_count": 22,
      "outputs": [
        {
          "output_type": "execute_result",
          "data": {
            "text/plain": [
              "<matplotlib.axes._subplots.AxesSubplot at 0x7fe564527ad0>"
            ]
          },
          "metadata": {},
          "execution_count": 22
        },
        {
          "output_type": "display_data",
          "data": {
            "text/plain": [
              "<Figure size 720x288 with 1 Axes>"
            ],
            "image/png": "[encoded data removed]"
          },
          "metadata": {
            "needs_background": "light"
          }
        }
      ]
    }
  ]
}