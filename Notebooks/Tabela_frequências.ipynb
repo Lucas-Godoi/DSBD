{
  "nbformat": 4,
  "nbformat_minor": 0,
  "metadata": {
    "kernelspec": {
      "display_name": "Python 3",
      "language": "python",
      "name": "python3"
    },
    "language_info": {
      "codemirror_mode": {
        "name": "ipython",
        "version": 3
      },
      "file_extension": ".py",
      "mimetype": "text/x-python",
      "name": "python",
      "nbconvert_exporter": "python",
      "pygments_lexer": "ipython3",
      "version": "3.7.3"
    },
    "colab": {
      "name": "Tabela_frequências.ipynb",
      "provenance": [],
      "collapsed_sections": []
    }
  },
  "cells": [
    {
      "cell_type": "markdown",
      "metadata": {
        "id": "xpAuMVCwfWs8"
      },
      "source": [
        "\n",
        "\n",
        "---\n",
        "\n",
        "---\n",
        "# Tabelas de distribuição de frequências \n",
        "\n",
        "Este notebook constrói a tabela de distribuição de frequências absoluta, acumulada e relativa dos valores de uma variável.\n",
        "\n",
        "A construção é feita de duas maneiras diferentes:\n",
        "\n",
        "\n",
        "\n",
        "1.   Manualmente usando arrays e listas (**\"raiz!\"**)\n",
        "\n",
        "2.   Utilizando funções da biblioteca [Numpy](https://numpy.org/) (**mais prático!**)\n",
        "\n",
        "*Observação: outras formas de implementação são possíves, como, por exemplo, utilizando as funções da própria biblioteca [Pandas](https://pandas.pydata.org/) ([pandas.dataframe.hist](https://https://pandas.pydata.org/docs/reference/api/pandas.DataFrame.hist.html), [pandas.cut](https://pandas.DataFrame.hist), etc.)*\n",
        "\n",
        "\n",
        "\n",
        "\n",
        "---\n",
        "\n",
        "---\n",
        "\n",
        "\n",
        "\n",
        "\n",
        "\n"
      ]
    },
    {
      "cell_type": "markdown",
      "metadata": {
        "id": "PcWx36BdDBX0"
      },
      "source": [
        "## Conjunto de dados\n",
        "\n",
        "- Fonte: https://www.kaggle.com/uciml/pima-indians-diabetes-database\n",
        "- Proprietários originais: National Institute of Diabetes and Digestive and Kidney Diseases\n",
        "- Doadores da base de dados: Vincent Sigillito (vgs@aplcen.apl.jhu.edu), \n",
        "Research Center, RMI Group Leader, Applied Physics Laboratory, The Johns Hopkins University (1990)\n",
        "\n",
        "Detalhes sobre o conjunto de dados:\n",
        "\n",
        "1. Número de instâncias: 768\n",
        "\n",
        "2. Número de atributos: 8 (mais classe target)\n",
        "\n",
        "3. Atributos: (todos com valor numérico)\n",
        "   1. Número de vezes que engravidou (*Pregnancies*)\n",
        "   2. Concentração de glicose plasmática a 2 horas em um teste de tolerância à glicose oral (*Glucose*)\n",
        "   3. Pressão arterial diastólica (mm Hg) (*BloodPressure*)\n",
        "   4. Espessura da dobra da pele do tríceps (mm) (*SkinThickness*)\n",
        "   5. Insulina sérica de 2 horas (mu U / ml) (*Insulin*)\n",
        "   6. Índice de massa corporal (peso em kg / (altura em m) ^ 2) (*BMI*)\n",
        "   7. Função de pedigree de diabetes (*DiabetesPedigreeFunction*)\n",
        "   8. Idade (anos) (*Age*)\n",
        "   \n",
        "4. Variável target (classe): 0 ou 1 (valor de classe 1 é interpretado como \"teste positivo para diabetes\")\n",
        "\n",
        "   Classe Valor Número de instâncias\n",
        "   - 500 => 0\n",
        "   - 268 => 1\n",
        "\n",
        " "
      ]
    },
    {
      "cell_type": "markdown",
      "metadata": {
        "id": "SgK6xTSQM9cA"
      },
      "source": [
        "## Clona repositório de dados da disciplina hospedado no GitHUb"
      ]
    },
    {
      "cell_type": "code",
      "metadata": {
        "id": "1SP-2hEvNDAA"
      },
      "source": [
        "!git clone \"https://github.com/malegopc/DSBD\""
      ],
      "execution_count": null,
      "outputs": []
    },
    {
      "cell_type": "markdown",
      "metadata": {
        "id": "LWXwGCqvIwgN"
      },
      "source": [
        "## Leitura dos dados\n",
        "\n",
        "Vamos começar importando o arquivo CSV \"bruto\" usando o Pandas."
      ]
    },
    {
      "cell_type": "code",
      "metadata": {
        "scrolled": true,
        "id": "LM6AT7tPzjL6",
        "colab": {
          "base_uri": "https://localhost:8080/",
          "height": 424
        },
        "outputId": "a2d4d2a0-fdb4-407c-cc88-c712604efed0"
      },
      "source": [
        "import pandas as pd\n",
        "# lê arquivo de dados, atribue NaN para dados faltantes\n",
        "diabetes = pd.read_csv('DSBD/Datasets/Indians_Diabetes/diabetes.csv', na_values=['?'])\n",
        "# imprime as 10 primeiras linhas do dataframe\n",
        "diabetes # mostra as 5 primeiras linhas e as 5 últimas do dataframe"
      ],
      "execution_count": 48,
      "outputs": [
        {
          "output_type": "execute_result",
          "data": {
            "text/html": [
              "<div>\n",
              "<style scoped>\n",
              "    .dataframe tbody tr th:only-of-type {\n",
              "        vertical-align: middle;\n",
              "    }\n",
              "\n",
              "    .dataframe tbody tr th {\n",
              "        vertical-align: top;\n",
              "    }\n",
              "\n",
              "    .dataframe thead th {\n",
              "        text-align: right;\n",
              "    }\n",
              "</style>\n",
              "<table border=\"1\" class=\"dataframe\">\n",
              "  <thead>\n",
              "    <tr style=\"text-align: right;\">\n",
              "      <th></th>\n",
              "      <th>Pregnancies</th>\n",
              "      <th>Glucose</th>\n",
              "      <th>BloodPressure</th>\n",
              "      <th>SkinThickness</th>\n",
              "      <th>Insulin</th>\n",
              "      <th>BMI</th>\n",
              "      <th>DiabetesPedigreeFunction</th>\n",
              "      <th>Age</th>\n",
              "      <th>Outcome</th>\n",
              "    </tr>\n",
              "  </thead>\n",
              "  <tbody>\n",
              "    <tr>\n",
              "      <th>0</th>\n",
              "      <td>6</td>\n",
              "      <td>148</td>\n",
              "      <td>72</td>\n",
              "      <td>35</td>\n",
              "      <td>0</td>\n",
              "      <td>33.6</td>\n",
              "      <td>0.627</td>\n",
              "      <td>50</td>\n",
              "      <td>1</td>\n",
              "    </tr>\n",
              "    <tr>\n",
              "      <th>1</th>\n",
              "      <td>1</td>\n",
              "      <td>85</td>\n",
              "      <td>66</td>\n",
              "      <td>29</td>\n",
              "      <td>0</td>\n",
              "      <td>26.6</td>\n",
              "      <td>0.351</td>\n",
              "      <td>31</td>\n",
              "      <td>0</td>\n",
              "    </tr>\n",
              "    <tr>\n",
              "      <th>2</th>\n",
              "      <td>8</td>\n",
              "      <td>183</td>\n",
              "      <td>64</td>\n",
              "      <td>0</td>\n",
              "      <td>0</td>\n",
              "      <td>23.3</td>\n",
              "      <td>0.672</td>\n",
              "      <td>32</td>\n",
              "      <td>1</td>\n",
              "    </tr>\n",
              "    <tr>\n",
              "      <th>3</th>\n",
              "      <td>1</td>\n",
              "      <td>89</td>\n",
              "      <td>66</td>\n",
              "      <td>23</td>\n",
              "      <td>94</td>\n",
              "      <td>28.1</td>\n",
              "      <td>0.167</td>\n",
              "      <td>21</td>\n",
              "      <td>0</td>\n",
              "    </tr>\n",
              "    <tr>\n",
              "      <th>4</th>\n",
              "      <td>0</td>\n",
              "      <td>137</td>\n",
              "      <td>40</td>\n",
              "      <td>35</td>\n",
              "      <td>168</td>\n",
              "      <td>43.1</td>\n",
              "      <td>2.288</td>\n",
              "      <td>33</td>\n",
              "      <td>1</td>\n",
              "    </tr>\n",
              "    <tr>\n",
              "      <th>...</th>\n",
              "      <td>...</td>\n",
              "      <td>...</td>\n",
              "      <td>...</td>\n",
              "      <td>...</td>\n",
              "      <td>...</td>\n",
              "      <td>...</td>\n",
              "      <td>...</td>\n",
              "      <td>...</td>\n",
              "      <td>...</td>\n",
              "    </tr>\n",
              "    <tr>\n",
              "      <th>763</th>\n",
              "      <td>10</td>\n",
              "      <td>101</td>\n",
              "      <td>76</td>\n",
              "      <td>48</td>\n",
              "      <td>180</td>\n",
              "      <td>32.9</td>\n",
              "      <td>0.171</td>\n",
              "      <td>63</td>\n",
              "      <td>0</td>\n",
              "    </tr>\n",
              "    <tr>\n",
              "      <th>764</th>\n",
              "      <td>2</td>\n",
              "      <td>122</td>\n",
              "      <td>70</td>\n",
              "      <td>27</td>\n",
              "      <td>0</td>\n",
              "      <td>36.8</td>\n",
              "      <td>0.340</td>\n",
              "      <td>27</td>\n",
              "      <td>0</td>\n",
              "    </tr>\n",
              "    <tr>\n",
              "      <th>765</th>\n",
              "      <td>5</td>\n",
              "      <td>121</td>\n",
              "      <td>72</td>\n",
              "      <td>23</td>\n",
              "      <td>112</td>\n",
              "      <td>26.2</td>\n",
              "      <td>0.245</td>\n",
              "      <td>30</td>\n",
              "      <td>0</td>\n",
              "    </tr>\n",
              "    <tr>\n",
              "      <th>766</th>\n",
              "      <td>1</td>\n",
              "      <td>126</td>\n",
              "      <td>60</td>\n",
              "      <td>0</td>\n",
              "      <td>0</td>\n",
              "      <td>30.1</td>\n",
              "      <td>0.349</td>\n",
              "      <td>47</td>\n",
              "      <td>1</td>\n",
              "    </tr>\n",
              "    <tr>\n",
              "      <th>767</th>\n",
              "      <td>1</td>\n",
              "      <td>93</td>\n",
              "      <td>70</td>\n",
              "      <td>31</td>\n",
              "      <td>0</td>\n",
              "      <td>30.4</td>\n",
              "      <td>0.315</td>\n",
              "      <td>23</td>\n",
              "      <td>0</td>\n",
              "    </tr>\n",
              "  </tbody>\n",
              "</table>\n",
              "<p>768 rows × 9 columns</p>\n",
              "</div>"
            ],
            "text/plain": [
              "     Pregnancies  Glucose  ...  Age  Outcome\n",
              "0              6      148  ...   50        1\n",
              "1              1       85  ...   31        0\n",
              "2              8      183  ...   32        1\n",
              "3              1       89  ...   21        0\n",
              "4              0      137  ...   33        1\n",
              "..           ...      ...  ...  ...      ...\n",
              "763           10      101  ...   63        0\n",
              "764            2      122  ...   27        0\n",
              "765            5      121  ...   30        0\n",
              "766            1      126  ...   47        1\n",
              "767            1       93  ...   23        0\n",
              "\n",
              "[768 rows x 9 columns]"
            ]
          },
          "metadata": {},
          "execution_count": 48
        }
      ]
    },
    {
      "cell_type": "markdown",
      "metadata": {
        "id": "ANJV3FNXOz61"
      },
      "source": [
        "## Tamanho do conjunto de dados (n)\n"
      ]
    },
    {
      "cell_type": "code",
      "metadata": {
        "colab": {
          "base_uri": "https://localhost:8080/"
        },
        "id": "RkW4h-ivO6Xa",
        "outputId": "3faf6b8b-1b9c-4a76-f0eb-1e0f9c4d8f39"
      },
      "source": [
        "n = len(diabetes)\n",
        "print(n)"
      ],
      "execution_count": 49,
      "outputs": [
        {
          "output_type": "stream",
          "name": "stdout",
          "text": [
            "768\n"
          ]
        }
      ]
    },
    {
      "cell_type": "markdown",
      "metadata": {
        "id": "vq3pVyW6vB1w"
      },
      "source": [
        "## Variável escolhida para analisar frequências de seus valores\n",
        "\n",
        "A variável escolhida do conjunto de dados é a variável \"Age\" (idade). Copiamos os seus valores para um [array numpy](https://numpy.org/doc/stable/reference/arrays.html)."
      ]
    },
    {
      "cell_type": "code",
      "metadata": {
        "id": "nTkxkACiIdOZ",
        "colab": {
          "base_uri": "https://localhost:8080/"
        },
        "outputId": "f47b7faf-5ccd-45e9-ef9b-0aa836b28bba"
      },
      "source": [
        "import numpy as np\n",
        "dados = diabetes['Age'].values # copiando os valores da coluna 'Age'\n",
        "print(type(dados))\n",
        "print(dados)"
      ],
      "execution_count": 50,
      "outputs": [
        {
          "output_type": "stream",
          "name": "stdout",
          "text": [
            "<class 'numpy.ndarray'>\n",
            "[50 31 32 21 33 30 26 29 53 54 30 34 57 59 51 32 31 31 33 32 27 50 41 29\n",
            " 51 41 43 22 57 38 60 28 22 28 45 33 35 46 27 56 26 37 48 54 40 25 29 22\n",
            " 31 24 22 26 30 58 42 21 41 31 44 22 21 39 36 24 42 32 38 54 25 27 28 26\n",
            " 42 23 22 22 41 27 26 24 22 22 36 22 37 27 45 26 43 24 21 34 42 60 21 40\n",
            " 24 22 23 31 33 22 21 24 27 21 27 37 25 24 24 46 23 25 39 61 38 25 22 21\n",
            " 25 24 23 69 23 26 30 23 40 62 33 33 30 39 26 31 21 22 29 28 55 38 22 42\n",
            " 23 21 41 34 65 22 24 37 42 23 43 36 21 23 22 47 36 45 27 21 32 41 22 34\n",
            " 29 29 36 29 25 23 33 36 42 26 47 37 32 23 21 27 40 41 60 33 31 25 21 40\n",
            " 36 40 42 29 21 23 26 29 21 28 32 27 55 27 57 52 21 41 25 24 60 24 36 38\n",
            " 25 32 32 41 21 66 37 61 26 22 26 24 31 24 22 46 22 29 23 26 51 23 32 27\n",
            " 21 22 22 33 29 49 41 23 34 23 42 27 24 25 44 21 30 25 24 51 34 27 24 63\n",
            " 35 43 25 24 21 28 38 21 40 21 52 25 29 23 57 22 28 39 37 47 52 51 34 29\n",
            " 26 33 21 25 31 24 65 28 29 24 46 58 30 25 35 28 37 29 47 21 25 30 41 22\n",
            " 27 25 43 26 30 29 28 59 31 25 36 43 21 24 30 37 23 37 46 25 41 44 22 26\n",
            " 44 44 33 41 22 36 22 33 57 49 22 23 26 37 29 30 46 24 21 49 28 44 48 29\n",
            " 29 63 65 67 30 30 29 21 22 45 25 21 21 25 28 58 22 22 32 35 24 22 21 25\n",
            " 25 24 35 45 58 28 42 27 21 37 31 25 39 22 25 25 31 55 35 38 41 26 46 25\n",
            " 39 28 28 25 22 21 21 22 22 37 27 28 26 21 21 21 36 31 25 38 26 43 23 38\n",
            " 22 29 36 29 41 28 21 31 41 22 24 33 30 25 28 26 22 26 23 23 25 72 24 38\n",
            " 62 24 51 81 48 26 39 37 34 21 22 25 38 27 28 22 22 50 24 59 29 31 39 63\n",
            " 35 29 28 23 31 24 21 58 28 67 24 42 33 45 22 66 30 25 55 39 21 28 41 41\n",
            " 40 38 35 21 21 64 46 21 58 22 24 28 53 51 41 60 25 26 26 45 24 21 21 24\n",
            " 22 31 22 24 29 31 24 23 46 67 23 32 43 27 56 25 29 37 53 28 50 37 21 25\n",
            " 66 23 28 37 30 58 42 35 54 28 24 32 27 22 21 46 37 33 39 21 22 22 23 25\n",
            " 35 21 36 62 21 27 62 42 52 22 41 29 52 25 45 24 44 25 34 22 46 21 38 26\n",
            " 24 28 30 54 36 21 22 25 27 23 24 36 40 26 50 27 30 23 50 24 28 28 45 21\n",
            " 21 29 21 21 45 21 34 24 23 22 31 38 48 23 32 28 27 24 50 31 27 30 33 22\n",
            " 42 23 23 27 28 27 22 25 22 41 51 27 54 22 43 40 40 24 70 40 43 45 49 21\n",
            " 47 22 68 31 53 25 25 23 22 26 22 27 69 25 22 29 23 46 34 44 23 43 25 43\n",
            " 31 22 28 26 26 49 52 41 27 28 30 22 45 23 24 40 38 21 32 34 31 56 24 52\n",
            " 34 21 42 42 45 38 25 22 22 22 34 22 24 22 53 28 21 42 21 42 48 26 22 45\n",
            " 39 46 27 32 36 50 22 28 25 26 45 37 39 52 26 66 22 43 33 63 27 30 47 23]\n"
          ]
        }
      ]
    },
    {
      "cell_type": "markdown",
      "metadata": {
        "id": "hGoKogsZgYKW"
      },
      "source": [
        "\n",
        "\n",
        "---\n",
        "\n",
        "\n",
        "# 1. Manualmente usando arrays e listas\n",
        "\n",
        "\n",
        "---\n",
        "\n"
      ]
    },
    {
      "cell_type": "markdown",
      "metadata": {
        "id": "vV93bzuJKIIG"
      },
      "source": [
        "## Rol\n",
        "\n",
        "Ordena os valores no array de dados embora não haja necessidade disso para os próximos passos."
      ]
    },
    {
      "cell_type": "code",
      "metadata": {
        "colab": {
          "base_uri": "https://localhost:8080/"
        },
        "id": "Mv-cjrCcKJuJ",
        "outputId": "34f42eec-866d-4dcf-a685-df95f78e52e3"
      },
      "source": [
        "dados = np.sort(dados)\n",
        "print(dados)"
      ],
      "execution_count": 51,
      "outputs": [
        {
          "output_type": "stream",
          "name": "stdout",
          "text": [
            "[21 21 21 21 21 21 21 21 21 21 21 21 21 21 21 21 21 21 21 21 21 21 21 21\n",
            " 21 21 21 21 21 21 21 21 21 21 21 21 21 21 21 21 21 21 21 21 21 21 21 21\n",
            " 21 21 21 21 21 21 21 21 21 21 21 21 21 21 21 22 22 22 22 22 22 22 22 22\n",
            " 22 22 22 22 22 22 22 22 22 22 22 22 22 22 22 22 22 22 22 22 22 22 22 22\n",
            " 22 22 22 22 22 22 22 22 22 22 22 22 22 22 22 22 22 22 22 22 22 22 22 22\n",
            " 22 22 22 22 22 22 22 22 22 22 22 22 22 22 22 23 23 23 23 23 23 23 23 23\n",
            " 23 23 23 23 23 23 23 23 23 23 23 23 23 23 23 23 23 23 23 23 23 23 23 23\n",
            " 23 23 23 23 23 24 24 24 24 24 24 24 24 24 24 24 24 24 24 24 24 24 24 24\n",
            " 24 24 24 24 24 24 24 24 24 24 24 24 24 24 24 24 24 24 24 24 24 24 24 24\n",
            " 24 24 24 25 25 25 25 25 25 25 25 25 25 25 25 25 25 25 25 25 25 25 25 25\n",
            " 25 25 25 25 25 25 25 25 25 25 25 25 25 25 25 25 25 25 25 25 25 25 25 25\n",
            " 25 25 25 26 26 26 26 26 26 26 26 26 26 26 26 26 26 26 26 26 26 26 26 26\n",
            " 26 26 26 26 26 26 26 26 26 26 26 26 27 27 27 27 27 27 27 27 27 27 27 27\n",
            " 27 27 27 27 27 27 27 27 27 27 27 27 27 27 27 27 27 27 27 27 28 28 28 28\n",
            " 28 28 28 28 28 28 28 28 28 28 28 28 28 28 28 28 28 28 28 28 28 28 28 28\n",
            " 28 28 28 28 28 28 28 29 29 29 29 29 29 29 29 29 29 29 29 29 29 29 29 29\n",
            " 29 29 29 29 29 29 29 29 29 29 29 29 30 30 30 30 30 30 30 30 30 30 30 30\n",
            " 30 30 30 30 30 30 30 30 30 31 31 31 31 31 31 31 31 31 31 31 31 31 31 31\n",
            " 31 31 31 31 31 31 31 31 31 32 32 32 32 32 32 32 32 32 32 32 32 32 32 32\n",
            " 32 33 33 33 33 33 33 33 33 33 33 33 33 33 33 33 33 33 34 34 34 34 34 34\n",
            " 34 34 34 34 34 34 34 34 35 35 35 35 35 35 35 35 35 35 36 36 36 36 36 36\n",
            " 36 36 36 36 36 36 36 36 36 36 37 37 37 37 37 37 37 37 37 37 37 37 37 37\n",
            " 37 37 37 37 37 38 38 38 38 38 38 38 38 38 38 38 38 38 38 38 38 39 39 39\n",
            " 39 39 39 39 39 39 39 39 39 40 40 40 40 40 40 40 40 40 40 40 40 40 41 41\n",
            " 41 41 41 41 41 41 41 41 41 41 41 41 41 41 41 41 41 41 41 41 42 42 42 42\n",
            " 42 42 42 42 42 42 42 42 42 42 42 42 42 42 43 43 43 43 43 43 43 43 43 43\n",
            " 43 43 43 44 44 44 44 44 44 44 44 45 45 45 45 45 45 45 45 45 45 45 45 45\n",
            " 45 45 46 46 46 46 46 46 46 46 46 46 46 46 46 47 47 47 47 47 47 48 48 48\n",
            " 48 48 49 49 49 49 49 50 50 50 50 50 50 50 50 51 51 51 51 51 51 51 51 52\n",
            " 52 52 52 52 52 52 52 53 53 53 53 53 54 54 54 54 54 54 55 55 55 55 56 56\n",
            " 56 57 57 57 57 57 58 58 58 58 58 58 58 59 59 59 60 60 60 60 60 61 61 62\n",
            " 62 62 62 63 63 63 63 64 65 65 65 66 66 66 66 67 67 67 68 69 69 70 72 81]\n"
          ]
        }
      ]
    },
    {
      "cell_type": "markdown",
      "metadata": {
        "id": "Z7mCZX_lwUGV"
      },
      "source": [
        "## Amplitude toral ou Range"
      ]
    },
    {
      "cell_type": "code",
      "metadata": {
        "id": "ZzoekbZsJMR8",
        "colab": {
          "base_uri": "https://localhost:8080/"
        },
        "outputId": "4791d1c7-4c79-4510-ce45-07846c61476f"
      },
      "source": [
        "R = dados.max() - dados.min()\n",
        "print(R)"
      ],
      "execution_count": 52,
      "outputs": [
        {
          "output_type": "stream",
          "name": "stdout",
          "text": [
            "60\n"
          ]
        }
      ]
    },
    {
      "cell_type": "markdown",
      "metadata": {
        "id": "iFh19audwi9h"
      },
      "source": [
        "## Número de classes\n",
        "\n",
        "Cálculo do número de classes (auxilia na determinação da amplitude das classes)"
      ]
    },
    {
      "cell_type": "code",
      "metadata": {
        "id": "s-5lts80JRjL",
        "colab": {
          "base_uri": "https://localhost:8080/"
        },
        "outputId": "ec2e301d-d536-4ac3-8b60-bd9835998981"
      },
      "source": [
        "import math\n",
        "k = math.ceil(1+ 3.22*math.log(n))\n",
        "print(k)"
      ],
      "execution_count": 53,
      "outputs": [
        {
          "output_type": "stream",
          "name": "stdout",
          "text": [
            "23\n"
          ]
        }
      ]
    },
    {
      "cell_type": "markdown",
      "metadata": {
        "id": "ghtHzPepwsOf"
      },
      "source": [
        "## Amplitude de cada classe"
      ]
    },
    {
      "cell_type": "code",
      "metadata": {
        "id": "BcXD4Lw5Jjia",
        "colab": {
          "base_uri": "https://localhost:8080/"
        },
        "outputId": "fc04d8b3-15b9-4fa8-a134-c3d22efab7c3"
      },
      "source": [
        "h = R/k \n",
        "h = math.ceil(h)\n",
        "print(h)"
      ],
      "execution_count": 54,
      "outputs": [
        {
          "output_type": "stream",
          "name": "stdout",
          "text": [
            "3\n"
          ]
        }
      ]
    },
    {
      "cell_type": "markdown",
      "metadata": {
        "id": "I-veImVqL2Tg"
      },
      "source": [
        "## Valores distintos e frequência\n",
        "\n",
        "Armazena num array os valores **distintos** do conjunto de dados e num outro as suas frequências."
      ]
    },
    {
      "cell_type": "code",
      "metadata": {
        "colab": {
          "base_uri": "https://localhost:8080/"
        },
        "id": "9JdThJyLKvfu",
        "outputId": "0f2956e6-5c4f-488a-a1bd-4999d658c3d0"
      },
      "source": [
        "dados_distintos, freq = np.unique(dados, return_counts=True)\n",
        "print(\"Dados distintos:\")\n",
        "print(dados_distintos)\n",
        "print(\"\\nFrequências dos dados distintos:\")\n",
        "print(freq)"
      ],
      "execution_count": 55,
      "outputs": [
        {
          "output_type": "stream",
          "name": "stdout",
          "text": [
            "Dados distintos:\n",
            "[21 22 23 24 25 26 27 28 29 30 31 32 33 34 35 36 37 38 39 40 41 42 43 44\n",
            " 45 46 47 48 49 50 51 52 53 54 55 56 57 58 59 60 61 62 63 64 65 66 67 68\n",
            " 69 70 72 81]\n",
            "\n",
            "Frequências dos dados distintos:\n",
            "[63 72 38 46 48 33 32 35 29 21 24 16 17 14 10 16 19 16 12 13 22 18 13  8\n",
            " 15 13  6  5  5  8  8  8  5  6  4  3  5  7  3  5  2  4  4  1  3  4  3  1\n",
            "  2  1  1  1]\n"
          ]
        }
      ]
    },
    {
      "cell_type": "markdown",
      "metadata": {
        "id": "EBZjvYpfw0Ba"
      },
      "source": [
        "## Define as classes e calcula suas frequências\n",
        "\n",
        "Cria uma lista com todas as classes (rótulos) e outras 3 listas para as frequências absoluta, acumulada e relativa de cada uma das classes."
      ]
    },
    {
      "cell_type": "code",
      "metadata": {
        "id": "l09hZbFxJsw2",
        "colab": {
          "base_uri": "https://localhost:8080/"
        },
        "outputId": "3e1c5906-471c-402e-bcf8-f5084901bc56"
      },
      "source": [
        "classes = [] # cria uma lista vazia para armazenar os rótulos das classes\n",
        "Fi = [] # cria uma lista vazia para armazenar as frequências absolutas das classes\n",
        "Fac = [0] # cria uma lista para armazenar as frequências acumuladas das classes\n",
        "fi = [] # cria uma lista vazia para armazenar as frequências relativas das classes\n",
        "\n",
        "# Menor valor da série\n",
        "menor = round(dados.min())\n",
        "valor = menor\n",
        "i = 0\n",
        "while valor < dados.max():\n",
        "    # acrescenta cada rótulo da classe na lista de classes\n",
        "    classes.append(str(round(valor)) +' |- '+ str(round(valor+h)))\n",
        "    soma = 0\n",
        "    while dados_distintos[i] < valor+h: \n",
        "      soma = soma + freq[i]\n",
        "      i+=1\n",
        "    Fi.append(soma) # frequência absoluta\n",
        "    fi.append(round(soma/n,4)) # frequência relativa\n",
        "    Fac.append(Fac[-1]+Fi[-1]) # frequência acumulada\n",
        "    valor+= h\n",
        "Fi[-1]+= freq[-1] # adiciona frequência do maior valor na frequência da última classe\n",
        "fi[-1]+= round(Fi[-1]/n,4)\n",
        "Fac.pop(0) # exclui o zero utilizado para inicializar a lista Fac\n",
        "Fac[-1] = Fac[-2]+Fi[-1]\n",
        "\n",
        "print('Rótulos das classes:')\n",
        "print(classes)\n",
        "print('\\nFrequências absolutas (Fi):')\n",
        "print(Fi)\n",
        "print('\\nFrequências acumuladas (Fac):')\n",
        "print(Fac)\n",
        "print('\\nFrequências relativas (fi):')\n",
        "print(fi)"
      ],
      "execution_count": 56,
      "outputs": [
        {
          "output_type": "stream",
          "name": "stdout",
          "text": [
            "Rótulos das classes:\n",
            "['21 |- 24', '24 |- 27', '27 |- 30', '30 |- 33', '33 |- 36', '36 |- 39', '39 |- 42', '42 |- 45', '45 |- 48', '48 |- 51', '51 |- 54', '54 |- 57', '57 |- 60', '60 |- 63', '63 |- 66', '66 |- 69', '69 |- 72', '72 |- 75', '75 |- 78', '78 |- 81']\n",
            "\n",
            "Frequências absolutas (Fi):\n",
            "[173, 127, 96, 61, 41, 51, 47, 39, 34, 18, 21, 13, 15, 11, 8, 8, 3, 1, 0, 1]\n",
            "\n",
            "Frequências acumuladas (Fac):\n",
            "[173, 300, 396, 457, 498, 549, 596, 635, 669, 687, 708, 721, 736, 747, 755, 763, 766, 767, 767, 768]\n",
            "\n",
            "Frequências relativas (fi):\n",
            "[0.2253, 0.1654, 0.125, 0.0794, 0.0534, 0.0664, 0.0612, 0.0508, 0.0443, 0.0234, 0.0273, 0.0169, 0.0195, 0.0143, 0.0104, 0.0104, 0.0039, 0.0013, 0.0, 0.0013]\n"
          ]
        }
      ]
    },
    {
      "cell_type": "markdown",
      "metadata": {
        "id": "zDiT4WxgRN7l"
      },
      "source": [
        "## Imprime tabela de distribuição de frequências completa\n",
        "\n",
        "Imprime a tabela completa com as 3 frequências (absoluta, acumulada e relativa)"
      ]
    },
    {
      "cell_type": "code",
      "metadata": {
        "colab": {
          "base_uri": "https://localhost:8080/"
        },
        "id": "NvgW_GdmRTdX",
        "outputId": "78fa7fea-f01c-46e9-d864-dc83ccb83c40"
      },
      "source": [
        "print(' Classes  Fi   Fac   fi')\n",
        "for i in range(len(classes)):\n",
        "  print(str(classes[i]) +'  '+ str(Fi[i]) + '  ' + str(Fac[i]) + '  '+ str(round(fi[i]*100,2)) + '%')"
      ],
      "execution_count": 57,
      "outputs": [
        {
          "output_type": "stream",
          "name": "stdout",
          "text": [
            " Classes  Fi   Fac   fi\n",
            "21 |- 24  173  173  22.53%\n",
            "24 |- 27  127  300  16.54%\n",
            "27 |- 30  96  396  12.5%\n",
            "30 |- 33  61  457  7.94%\n",
            "33 |- 36  41  498  5.34%\n",
            "36 |- 39  51  549  6.64%\n",
            "39 |- 42  47  596  6.12%\n",
            "42 |- 45  39  635  5.08%\n",
            "45 |- 48  34  669  4.43%\n",
            "48 |- 51  18  687  2.34%\n",
            "51 |- 54  21  708  2.73%\n",
            "54 |- 57  13  721  1.69%\n",
            "57 |- 60  15  736  1.95%\n",
            "60 |- 63  11  747  1.43%\n",
            "63 |- 66  8  755  1.04%\n",
            "66 |- 69  8  763  1.04%\n",
            "69 |- 72  3  766  0.39%\n",
            "72 |- 75  1  767  0.13%\n",
            "75 |- 78  0  767  0.0%\n",
            "78 |- 81  1  768  0.13%\n"
          ]
        }
      ]
    },
    {
      "cell_type": "markdown",
      "metadata": {
        "id": "Gv4nmuZa7UL_"
      },
      "source": [
        "## Cria um dataframe\n",
        "\n",
        "Cria um pandas dataframe com as 4 listas (classes, frequência absoluta, acumulada e relativa)"
      ]
    },
    {
      "cell_type": "code",
      "metadata": {
        "colab": {
          "base_uri": "https://localhost:8080/",
          "height": 677
        },
        "id": "4v4ZPckVYZjV",
        "outputId": "8567403b-c14c-4df8-ca2f-b5daa60bb208"
      },
      "source": [
        "tab_dist_freq = pd.DataFrame(list(zip(classes,Fi,Fac,fi)), columns = ['Classes','Fi','Fac','fi'])\n",
        "tab_dist_freq "
      ],
      "execution_count": 58,
      "outputs": [
        {
          "output_type": "execute_result",
          "data": {
            "text/html": [
              "<div>\n",
              "<style scoped>\n",
              "    .dataframe tbody tr th:only-of-type {\n",
              "        vertical-align: middle;\n",
              "    }\n",
              "\n",
              "    .dataframe tbody tr th {\n",
              "        vertical-align: top;\n",
              "    }\n",
              "\n",
              "    .dataframe thead th {\n",
              "        text-align: right;\n",
              "    }\n",
              "</style>\n",
              "<table border=\"1\" class=\"dataframe\">\n",
              "  <thead>\n",
              "    <tr style=\"text-align: right;\">\n",
              "      <th></th>\n",
              "      <th>Classes</th>\n",
              "      <th>Fi</th>\n",
              "      <th>Fac</th>\n",
              "      <th>fi</th>\n",
              "    </tr>\n",
              "  </thead>\n",
              "  <tbody>\n",
              "    <tr>\n",
              "      <th>0</th>\n",
              "      <td>21 |- 24</td>\n",
              "      <td>173</td>\n",
              "      <td>173</td>\n",
              "      <td>0.2253</td>\n",
              "    </tr>\n",
              "    <tr>\n",
              "      <th>1</th>\n",
              "      <td>24 |- 27</td>\n",
              "      <td>127</td>\n",
              "      <td>300</td>\n",
              "      <td>0.1654</td>\n",
              "    </tr>\n",
              "    <tr>\n",
              "      <th>2</th>\n",
              "      <td>27 |- 30</td>\n",
              "      <td>96</td>\n",
              "      <td>396</td>\n",
              "      <td>0.1250</td>\n",
              "    </tr>\n",
              "    <tr>\n",
              "      <th>3</th>\n",
              "      <td>30 |- 33</td>\n",
              "      <td>61</td>\n",
              "      <td>457</td>\n",
              "      <td>0.0794</td>\n",
              "    </tr>\n",
              "    <tr>\n",
              "      <th>4</th>\n",
              "      <td>33 |- 36</td>\n",
              "      <td>41</td>\n",
              "      <td>498</td>\n",
              "      <td>0.0534</td>\n",
              "    </tr>\n",
              "    <tr>\n",
              "      <th>5</th>\n",
              "      <td>36 |- 39</td>\n",
              "      <td>51</td>\n",
              "      <td>549</td>\n",
              "      <td>0.0664</td>\n",
              "    </tr>\n",
              "    <tr>\n",
              "      <th>6</th>\n",
              "      <td>39 |- 42</td>\n",
              "      <td>47</td>\n",
              "      <td>596</td>\n",
              "      <td>0.0612</td>\n",
              "    </tr>\n",
              "    <tr>\n",
              "      <th>7</th>\n",
              "      <td>42 |- 45</td>\n",
              "      <td>39</td>\n",
              "      <td>635</td>\n",
              "      <td>0.0508</td>\n",
              "    </tr>\n",
              "    <tr>\n",
              "      <th>8</th>\n",
              "      <td>45 |- 48</td>\n",
              "      <td>34</td>\n",
              "      <td>669</td>\n",
              "      <td>0.0443</td>\n",
              "    </tr>\n",
              "    <tr>\n",
              "      <th>9</th>\n",
              "      <td>48 |- 51</td>\n",
              "      <td>18</td>\n",
              "      <td>687</td>\n",
              "      <td>0.0234</td>\n",
              "    </tr>\n",
              "    <tr>\n",
              "      <th>10</th>\n",
              "      <td>51 |- 54</td>\n",
              "      <td>21</td>\n",
              "      <td>708</td>\n",
              "      <td>0.0273</td>\n",
              "    </tr>\n",
              "    <tr>\n",
              "      <th>11</th>\n",
              "      <td>54 |- 57</td>\n",
              "      <td>13</td>\n",
              "      <td>721</td>\n",
              "      <td>0.0169</td>\n",
              "    </tr>\n",
              "    <tr>\n",
              "      <th>12</th>\n",
              "      <td>57 |- 60</td>\n",
              "      <td>15</td>\n",
              "      <td>736</td>\n",
              "      <td>0.0195</td>\n",
              "    </tr>\n",
              "    <tr>\n",
              "      <th>13</th>\n",
              "      <td>60 |- 63</td>\n",
              "      <td>11</td>\n",
              "      <td>747</td>\n",
              "      <td>0.0143</td>\n",
              "    </tr>\n",
              "    <tr>\n",
              "      <th>14</th>\n",
              "      <td>63 |- 66</td>\n",
              "      <td>8</td>\n",
              "      <td>755</td>\n",
              "      <td>0.0104</td>\n",
              "    </tr>\n",
              "    <tr>\n",
              "      <th>15</th>\n",
              "      <td>66 |- 69</td>\n",
              "      <td>8</td>\n",
              "      <td>763</td>\n",
              "      <td>0.0104</td>\n",
              "    </tr>\n",
              "    <tr>\n",
              "      <th>16</th>\n",
              "      <td>69 |- 72</td>\n",
              "      <td>3</td>\n",
              "      <td>766</td>\n",
              "      <td>0.0039</td>\n",
              "    </tr>\n",
              "    <tr>\n",
              "      <th>17</th>\n",
              "      <td>72 |- 75</td>\n",
              "      <td>1</td>\n",
              "      <td>767</td>\n",
              "      <td>0.0013</td>\n",
              "    </tr>\n",
              "    <tr>\n",
              "      <th>18</th>\n",
              "      <td>75 |- 78</td>\n",
              "      <td>0</td>\n",
              "      <td>767</td>\n",
              "      <td>0.0000</td>\n",
              "    </tr>\n",
              "    <tr>\n",
              "      <th>19</th>\n",
              "      <td>78 |- 81</td>\n",
              "      <td>1</td>\n",
              "      <td>768</td>\n",
              "      <td>0.0013</td>\n",
              "    </tr>\n",
              "  </tbody>\n",
              "</table>\n",
              "</div>"
            ],
            "text/plain": [
              "     Classes   Fi  Fac      fi\n",
              "0   21 |- 24  173  173  0.2253\n",
              "1   24 |- 27  127  300  0.1654\n",
              "2   27 |- 30   96  396  0.1250\n",
              "3   30 |- 33   61  457  0.0794\n",
              "4   33 |- 36   41  498  0.0534\n",
              "5   36 |- 39   51  549  0.0664\n",
              "6   39 |- 42   47  596  0.0612\n",
              "7   42 |- 45   39  635  0.0508\n",
              "8   45 |- 48   34  669  0.0443\n",
              "9   48 |- 51   18  687  0.0234\n",
              "10  51 |- 54   21  708  0.0273\n",
              "11  54 |- 57   13  721  0.0169\n",
              "12  57 |- 60   15  736  0.0195\n",
              "13  60 |- 63   11  747  0.0143\n",
              "14  63 |- 66    8  755  0.0104\n",
              "15  66 |- 69    8  763  0.0104\n",
              "16  69 |- 72    3  766  0.0039\n",
              "17  72 |- 75    1  767  0.0013\n",
              "18  75 |- 78    0  767  0.0000\n",
              "19  78 |- 81    1  768  0.0013"
            ]
          },
          "metadata": {},
          "execution_count": 58
        }
      ]
    },
    {
      "cell_type": "markdown",
      "metadata": {
        "id": "-eAZ274mbp8X"
      },
      "source": [
        "## Grava em arquivo CSV"
      ]
    },
    {
      "cell_type": "code",
      "metadata": {
        "id": "pS3ARr5QY1QQ"
      },
      "source": [
        "tab_dist_freq.to_csv('tab_dist_freq.csv')"
      ],
      "execution_count": 59,
      "outputs": []
    },
    {
      "cell_type": "markdown",
      "metadata": {
        "id": "mmaiIs-PgoWt"
      },
      "source": [
        "## Grava em arquivo Excel"
      ]
    },
    {
      "cell_type": "code",
      "metadata": {
        "id": "oi5cLiZAZycB"
      },
      "source": [
        "tab_dist_freq.to_excel('tab_dist_freq.xls')"
      ],
      "execution_count": 60,
      "outputs": []
    },
    {
      "cell_type": "markdown",
      "metadata": {
        "id": "ONN7QUrVgvOL"
      },
      "source": [
        "\n",
        "\n",
        "---\n",
        "\n",
        "\n",
        "# 2. Utilizando funções da biblioteca Numpy (mais prático!)\n",
        "\n",
        "\n",
        "---\n",
        "\n"
      ]
    },
    {
      "cell_type": "markdown",
      "metadata": {
        "id": "VfOxqrRowCW-"
      },
      "source": [
        "## Classes e frequências absolutas\n",
        "\n",
        "A função [np.histogram](https://numpy.org/doc/stable/reference/generated/numpy.histogram.html) define o número classes/faixas (bins) e as frequências absolutas delas.\n",
        "\n",
        "Pode-se utilizar diferentes métodos para definição do número de classes por meio do parâmetro 'bins': 'stugers', 'sqrt', 'auto', etc..  O método 'sturges' é ideal apenas para dados gaussianos e subestima o número de classes para grandes conjuntos de dados não gaussianos. "
      ]
    },
    {
      "cell_type": "code",
      "metadata": {
        "colab": {
          "base_uri": "https://localhost:8080/"
        },
        "id": "NpRpwzDCkpyS",
        "outputId": "6af894ff-1d5b-4a16-d7f9-d2a6d4794591"
      },
      "source": [
        "Fi_, classes = np.histogram(dados, bins = 'sqrt') # 'sturges', 'auto', ... ou o próprio k calculado anteriormente\n",
        "print('Número de classes: ',len(classes)-1)\n",
        "print('\\nLimites das classes: ')\n",
        "print(classes)\n",
        "print('\\nFrequências absolutas das classes:')\n",
        "print(Fi_)"
      ],
      "execution_count": 61,
      "outputs": [
        {
          "output_type": "stream",
          "name": "stdout",
          "text": [
            "Número de classes:  28\n",
            "\n",
            "Limites das classes: \n",
            "[21.         23.14285714 25.28571429 27.42857143 29.57142857 31.71428571\n",
            " 33.85714286 36.         38.14285714 40.28571429 42.42857143 44.57142857\n",
            " 46.71428571 48.85714286 51.         53.14285714 55.28571429 57.42857143\n",
            " 59.57142857 61.71428571 63.85714286 66.         68.14285714 70.28571429\n",
            " 72.42857143 74.57142857 76.71428571 78.85714286 81.        ]\n",
            "\n",
            "Frequências absolutas das classes:\n",
            "[173  94  65  64  45  33  24  51  25  40  21  28  11  13  21  10   8  10\n",
            "   7   8   4   8   3   1   0   0   0   1]\n"
          ]
        }
      ]
    },
    {
      "cell_type": "markdown",
      "metadata": {
        "id": "eQRXTACKy2bp"
      },
      "source": [
        "## Frequência acumulada\n",
        "\n",
        "Obtém as frequências acumuladas utilizando a função [np.cumsum](https://numpy.org/doc/stable/reference/generated/numpy.cumsum.html)."
      ]
    },
    {
      "cell_type": "code",
      "metadata": {
        "colab": {
          "base_uri": "https://localhost:8080/"
        },
        "id": "6COQ8XHQy7ZL",
        "outputId": "6b68ad69-568a-4abf-ffb2-9b3dadc248b8"
      },
      "source": [
        "Fac_ = np.cumsum(Fi_)\n",
        "print(\"Frequências acumuladas:\")\n",
        "print(Fac_)"
      ],
      "execution_count": 62,
      "outputs": [
        {
          "output_type": "stream",
          "name": "stdout",
          "text": [
            "Frequências acumuladas:\n",
            "[173 267 332 396 441 474 498 549 574 614 635 663 674 687 708 718 726 736\n",
            " 743 751 755 763 766 767 767 767 767 768]\n"
          ]
        }
      ]
    },
    {
      "cell_type": "markdown",
      "metadata": {
        "id": "58Uh2WGZzX17"
      },
      "source": [
        "## Frequências relativas\n"
      ]
    },
    {
      "cell_type": "code",
      "metadata": {
        "colab": {
          "base_uri": "https://localhost:8080/"
        },
        "id": "-RDSgAgYztEp",
        "outputId": "3d99bf26-ff1b-4d78-bd5d-2e4eb1779995"
      },
      "source": [
        "fi_ = Fi_/n\n",
        "print(\"Frequências relativas:\")\n",
        "print(fi_)"
      ],
      "execution_count": 63,
      "outputs": [
        {
          "output_type": "stream",
          "name": "stdout",
          "text": [
            "Frequências relativas:\n",
            "[0.22526042 0.12239583 0.08463542 0.08333333 0.05859375 0.04296875\n",
            " 0.03125    0.06640625 0.03255208 0.05208333 0.02734375 0.03645833\n",
            " 0.01432292 0.01692708 0.02734375 0.01302083 0.01041667 0.01302083\n",
            " 0.00911458 0.01041667 0.00520833 0.01041667 0.00390625 0.00130208\n",
            " 0.         0.         0.         0.00130208]\n"
          ]
        }
      ]
    },
    {
      "cell_type": "markdown",
      "metadata": {
        "id": "YP7QnZXg5Aw0"
      },
      "source": [
        "## Cria uma lista com os rótulos das classes"
      ]
    },
    {
      "cell_type": "code",
      "metadata": {
        "colab": {
          "base_uri": "https://localhost:8080/"
        },
        "id": "myCNdpCK5Sub",
        "outputId": "06801be6-ff94-4e42-96ec-f7adc423cf37"
      },
      "source": [
        "labels_classes = [] # cria lista vazia para armazenar os rótulos das classes\n",
        "for i in range(len(classes)-1):\n",
        "  labels_classes.append(str(round(classes[i],2)) +' |- '+ str(round(classes[i+1],2)))\n",
        "labels_classes"
      ],
      "execution_count": 64,
      "outputs": [
        {
          "output_type": "execute_result",
          "data": {
            "text/plain": [
              "['21.0 |- 23.14',\n",
              " '23.14 |- 25.29',\n",
              " '25.29 |- 27.43',\n",
              " '27.43 |- 29.57',\n",
              " '29.57 |- 31.71',\n",
              " '31.71 |- 33.86',\n",
              " '33.86 |- 36.0',\n",
              " '36.0 |- 38.14',\n",
              " '38.14 |- 40.29',\n",
              " '40.29 |- 42.43',\n",
              " '42.43 |- 44.57',\n",
              " '44.57 |- 46.71',\n",
              " '46.71 |- 48.86',\n",
              " '48.86 |- 51.0',\n",
              " '51.0 |- 53.14',\n",
              " '53.14 |- 55.29',\n",
              " '55.29 |- 57.43',\n",
              " '57.43 |- 59.57',\n",
              " '59.57 |- 61.71',\n",
              " '61.71 |- 63.86',\n",
              " '63.86 |- 66.0',\n",
              " '66.0 |- 68.14',\n",
              " '68.14 |- 70.29',\n",
              " '70.29 |- 72.43',\n",
              " '72.43 |- 74.57',\n",
              " '74.57 |- 76.71',\n",
              " '76.71 |- 78.86',\n",
              " '78.86 |- 81.0']"
            ]
          },
          "metadata": {},
          "execution_count": 64
        }
      ]
    },
    {
      "cell_type": "markdown",
      "metadata": {
        "id": "t2rL6H6g6zzo"
      },
      "source": [
        "## Cria um dataframe\n",
        "\n",
        "Cria um pandas dataframe com as 4 listas (classes, frequência absoluta, acumulada e relativa)"
      ]
    },
    {
      "cell_type": "code",
      "metadata": {
        "colab": {
          "base_uri": "https://localhost:8080/",
          "height": 927
        },
        "id": "DrnEQTZA69RI",
        "outputId": "f466a383-02a6-4ec7-d146-dac420c22ddb"
      },
      "source": [
        "tab_dist_freq_ = pd.DataFrame(list(zip(labels_classes,Fi_.tolist(),Fac_.tolist(),fi_.tolist())), columns = ['Classes','Fi','Fac','fi'])\n",
        "tab_dist_freq_ "
      ],
      "execution_count": 65,
      "outputs": [
        {
          "output_type": "execute_result",
          "data": {
            "text/html": [
              "<div>\n",
              "<style scoped>\n",
              "    .dataframe tbody tr th:only-of-type {\n",
              "        vertical-align: middle;\n",
              "    }\n",
              "\n",
              "    .dataframe tbody tr th {\n",
              "        vertical-align: top;\n",
              "    }\n",
              "\n",
              "    .dataframe thead th {\n",
              "        text-align: right;\n",
              "    }\n",
              "</style>\n",
              "<table border=\"1\" class=\"dataframe\">\n",
              "  <thead>\n",
              "    <tr style=\"text-align: right;\">\n",
              "      <th></th>\n",
              "      <th>Classes</th>\n",
              "      <th>Fi</th>\n",
              "      <th>Fac</th>\n",
              "      <th>fi</th>\n",
              "    </tr>\n",
              "  </thead>\n",
              "  <tbody>\n",
              "    <tr>\n",
              "      <th>0</th>\n",
              "      <td>21.0 |- 23.14</td>\n",
              "      <td>173</td>\n",
              "      <td>173</td>\n",
              "      <td>0.225260</td>\n",
              "    </tr>\n",
              "    <tr>\n",
              "      <th>1</th>\n",
              "      <td>23.14 |- 25.29</td>\n",
              "      <td>94</td>\n",
              "      <td>267</td>\n",
              "      <td>0.122396</td>\n",
              "    </tr>\n",
              "    <tr>\n",
              "      <th>2</th>\n",
              "      <td>25.29 |- 27.43</td>\n",
              "      <td>65</td>\n",
              "      <td>332</td>\n",
              "      <td>0.084635</td>\n",
              "    </tr>\n",
              "    <tr>\n",
              "      <th>3</th>\n",
              "      <td>27.43 |- 29.57</td>\n",
              "      <td>64</td>\n",
              "      <td>396</td>\n",
              "      <td>0.083333</td>\n",
              "    </tr>\n",
              "    <tr>\n",
              "      <th>4</th>\n",
              "      <td>29.57 |- 31.71</td>\n",
              "      <td>45</td>\n",
              "      <td>441</td>\n",
              "      <td>0.058594</td>\n",
              "    </tr>\n",
              "    <tr>\n",
              "      <th>5</th>\n",
              "      <td>31.71 |- 33.86</td>\n",
              "      <td>33</td>\n",
              "      <td>474</td>\n",
              "      <td>0.042969</td>\n",
              "    </tr>\n",
              "    <tr>\n",
              "      <th>6</th>\n",
              "      <td>33.86 |- 36.0</td>\n",
              "      <td>24</td>\n",
              "      <td>498</td>\n",
              "      <td>0.031250</td>\n",
              "    </tr>\n",
              "    <tr>\n",
              "      <th>7</th>\n",
              "      <td>36.0 |- 38.14</td>\n",
              "      <td>51</td>\n",
              "      <td>549</td>\n",
              "      <td>0.066406</td>\n",
              "    </tr>\n",
              "    <tr>\n",
              "      <th>8</th>\n",
              "      <td>38.14 |- 40.29</td>\n",
              "      <td>25</td>\n",
              "      <td>574</td>\n",
              "      <td>0.032552</td>\n",
              "    </tr>\n",
              "    <tr>\n",
              "      <th>9</th>\n",
              "      <td>40.29 |- 42.43</td>\n",
              "      <td>40</td>\n",
              "      <td>614</td>\n",
              "      <td>0.052083</td>\n",
              "    </tr>\n",
              "    <tr>\n",
              "      <th>10</th>\n",
              "      <td>42.43 |- 44.57</td>\n",
              "      <td>21</td>\n",
              "      <td>635</td>\n",
              "      <td>0.027344</td>\n",
              "    </tr>\n",
              "    <tr>\n",
              "      <th>11</th>\n",
              "      <td>44.57 |- 46.71</td>\n",
              "      <td>28</td>\n",
              "      <td>663</td>\n",
              "      <td>0.036458</td>\n",
              "    </tr>\n",
              "    <tr>\n",
              "      <th>12</th>\n",
              "      <td>46.71 |- 48.86</td>\n",
              "      <td>11</td>\n",
              "      <td>674</td>\n",
              "      <td>0.014323</td>\n",
              "    </tr>\n",
              "    <tr>\n",
              "      <th>13</th>\n",
              "      <td>48.86 |- 51.0</td>\n",
              "      <td>13</td>\n",
              "      <td>687</td>\n",
              "      <td>0.016927</td>\n",
              "    </tr>\n",
              "    <tr>\n",
              "      <th>14</th>\n",
              "      <td>51.0 |- 53.14</td>\n",
              "      <td>21</td>\n",
              "      <td>708</td>\n",
              "      <td>0.027344</td>\n",
              "    </tr>\n",
              "    <tr>\n",
              "      <th>15</th>\n",
              "      <td>53.14 |- 55.29</td>\n",
              "      <td>10</td>\n",
              "      <td>718</td>\n",
              "      <td>0.013021</td>\n",
              "    </tr>\n",
              "    <tr>\n",
              "      <th>16</th>\n",
              "      <td>55.29 |- 57.43</td>\n",
              "      <td>8</td>\n",
              "      <td>726</td>\n",
              "      <td>0.010417</td>\n",
              "    </tr>\n",
              "    <tr>\n",
              "      <th>17</th>\n",
              "      <td>57.43 |- 59.57</td>\n",
              "      <td>10</td>\n",
              "      <td>736</td>\n",
              "      <td>0.013021</td>\n",
              "    </tr>\n",
              "    <tr>\n",
              "      <th>18</th>\n",
              "      <td>59.57 |- 61.71</td>\n",
              "      <td>7</td>\n",
              "      <td>743</td>\n",
              "      <td>0.009115</td>\n",
              "    </tr>\n",
              "    <tr>\n",
              "      <th>19</th>\n",
              "      <td>61.71 |- 63.86</td>\n",
              "      <td>8</td>\n",
              "      <td>751</td>\n",
              "      <td>0.010417</td>\n",
              "    </tr>\n",
              "    <tr>\n",
              "      <th>20</th>\n",
              "      <td>63.86 |- 66.0</td>\n",
              "      <td>4</td>\n",
              "      <td>755</td>\n",
              "      <td>0.005208</td>\n",
              "    </tr>\n",
              "    <tr>\n",
              "      <th>21</th>\n",
              "      <td>66.0 |- 68.14</td>\n",
              "      <td>8</td>\n",
              "      <td>763</td>\n",
              "      <td>0.010417</td>\n",
              "    </tr>\n",
              "    <tr>\n",
              "      <th>22</th>\n",
              "      <td>68.14 |- 70.29</td>\n",
              "      <td>3</td>\n",
              "      <td>766</td>\n",
              "      <td>0.003906</td>\n",
              "    </tr>\n",
              "    <tr>\n",
              "      <th>23</th>\n",
              "      <td>70.29 |- 72.43</td>\n",
              "      <td>1</td>\n",
              "      <td>767</td>\n",
              "      <td>0.001302</td>\n",
              "    </tr>\n",
              "    <tr>\n",
              "      <th>24</th>\n",
              "      <td>72.43 |- 74.57</td>\n",
              "      <td>0</td>\n",
              "      <td>767</td>\n",
              "      <td>0.000000</td>\n",
              "    </tr>\n",
              "    <tr>\n",
              "      <th>25</th>\n",
              "      <td>74.57 |- 76.71</td>\n",
              "      <td>0</td>\n",
              "      <td>767</td>\n",
              "      <td>0.000000</td>\n",
              "    </tr>\n",
              "    <tr>\n",
              "      <th>26</th>\n",
              "      <td>76.71 |- 78.86</td>\n",
              "      <td>0</td>\n",
              "      <td>767</td>\n",
              "      <td>0.000000</td>\n",
              "    </tr>\n",
              "    <tr>\n",
              "      <th>27</th>\n",
              "      <td>78.86 |- 81.0</td>\n",
              "      <td>1</td>\n",
              "      <td>768</td>\n",
              "      <td>0.001302</td>\n",
              "    </tr>\n",
              "  </tbody>\n",
              "</table>\n",
              "</div>"
            ],
            "text/plain": [
              "           Classes   Fi  Fac        fi\n",
              "0    21.0 |- 23.14  173  173  0.225260\n",
              "1   23.14 |- 25.29   94  267  0.122396\n",
              "2   25.29 |- 27.43   65  332  0.084635\n",
              "3   27.43 |- 29.57   64  396  0.083333\n",
              "4   29.57 |- 31.71   45  441  0.058594\n",
              "5   31.71 |- 33.86   33  474  0.042969\n",
              "6    33.86 |- 36.0   24  498  0.031250\n",
              "7    36.0 |- 38.14   51  549  0.066406\n",
              "8   38.14 |- 40.29   25  574  0.032552\n",
              "9   40.29 |- 42.43   40  614  0.052083\n",
              "10  42.43 |- 44.57   21  635  0.027344\n",
              "11  44.57 |- 46.71   28  663  0.036458\n",
              "12  46.71 |- 48.86   11  674  0.014323\n",
              "13   48.86 |- 51.0   13  687  0.016927\n",
              "14   51.0 |- 53.14   21  708  0.027344\n",
              "15  53.14 |- 55.29   10  718  0.013021\n",
              "16  55.29 |- 57.43    8  726  0.010417\n",
              "17  57.43 |- 59.57   10  736  0.013021\n",
              "18  59.57 |- 61.71    7  743  0.009115\n",
              "19  61.71 |- 63.86    8  751  0.010417\n",
              "20   63.86 |- 66.0    4  755  0.005208\n",
              "21   66.0 |- 68.14    8  763  0.010417\n",
              "22  68.14 |- 70.29    3  766  0.003906\n",
              "23  70.29 |- 72.43    1  767  0.001302\n",
              "24  72.43 |- 74.57    0  767  0.000000\n",
              "25  74.57 |- 76.71    0  767  0.000000\n",
              "26  76.71 |- 78.86    0  767  0.000000\n",
              "27   78.86 |- 81.0    1  768  0.001302"
            ]
          },
          "metadata": {},
          "execution_count": 65
        }
      ]
    },
    {
      "cell_type": "markdown",
      "metadata": {
        "id": "8SgnQVV97adA"
      },
      "source": [
        "## Grava em arquivo CSV"
      ]
    },
    {
      "cell_type": "code",
      "metadata": {
        "id": "iPdQjGSx7ee_"
      },
      "source": [
        "tab_dist_freq_.to_csv('tab_dist_freq2.csv')"
      ],
      "execution_count": 66,
      "outputs": []
    },
    {
      "cell_type": "markdown",
      "metadata": {
        "id": "NwEV5xRt7jbJ"
      },
      "source": [
        "## Grava em arquivo Excel"
      ]
    },
    {
      "cell_type": "code",
      "metadata": {
        "id": "h0HnUqQx7mvX"
      },
      "source": [
        "tab_dist_freq_.to_excel('tab_dist_freq2.xls')"
      ],
      "execution_count": 67,
      "outputs": []
    }
  ]
}