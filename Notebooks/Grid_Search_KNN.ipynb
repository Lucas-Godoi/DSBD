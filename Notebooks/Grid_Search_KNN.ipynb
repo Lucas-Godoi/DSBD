{
  "nbformat": 4,
  "nbformat_minor": 0,
  "metadata": {
    "kernelspec": {
      "display_name": "Python 3",
      "language": "python",
      "name": "python3"
    },
    "language_info": {
      "codemirror_mode": {
        "name": "ipython",
        "version": 3
      },
      "file_extension": ".py",
      "mimetype": "text/x-python",
      "name": "python",
      "nbconvert_exporter": "python",
      "pygments_lexer": "ipython3",
      "version": "3.8.2"
    },
    "colab": {
      "name": "Grid_Search_KNN.ipynb",
      "provenance": [],
      "collapsed_sections": []
    }
  },
  "cells": [
    {
      "cell_type": "markdown",
      "metadata": {
        "id": "lefst2D1mILh"
      },
      "source": [
        "\n",
        "\n",
        "---\n",
        "\n",
        "\n",
        "\n",
        "---\n",
        "\n",
        "\n",
        "# GridSearch - KNN - Iris Dataset\n",
        "\n",
        "Este notebook mostra aplicação do método [GridSearchCV](https://scikit-learn.org/stable/modules/generated/sklearn.model_selection.GridSearchCV.html) disponível na biblioteca [scikit-learn](https://scikit-learn.org/stable/index.html) para determinar o número de vizinhos mais próximo ideal para o método KNN na classificação do conjunto de dados **Iris** ([Iris Dataset](https://scikit-learn.org/stable/modules/classes.html?highlight=datasets#module-sklearn.datasets)).\n",
        "\n",
        "---\n",
        "\n",
        "---\n",
        "\n"
      ]
    },
    {
      "cell_type": "markdown",
      "metadata": {
        "id": "ET712ydLsue6"
      },
      "source": [
        "## Importa módulo com funções para medir o desempenho do classificador"
      ]
    },
    {
      "cell_type": "code",
      "metadata": {
        "id": "jrEEqfKHmILi"
      },
      "source": [
        "from sklearn import metrics\n",
        "from sklearn.metrics import ConfusionMatrixDisplay"
      ],
      "execution_count": 1,
      "outputs": []
    },
    {
      "cell_type": "markdown",
      "metadata": {
        "id": "3M4dqVnZmILi"
      },
      "source": [
        "### Importação dos dados - Iris dataset"
      ]
    },
    {
      "cell_type": "code",
      "metadata": {
        "id": "cG1YeeSvmILi"
      },
      "source": [
        "from sklearn.datasets import load_iris\n",
        "iris = load_iris()\n",
        "class_names = iris.target_names\n",
        "X = iris.data\n",
        "y = iris.target"
      ],
      "execution_count": 2,
      "outputs": []
    },
    {
      "cell_type": "markdown",
      "metadata": {
        "id": "6anpcBoTmILj"
      },
      "source": [
        "### Separa em dois conjuntos de dados (treinamento e teste)"
      ]
    },
    {
      "cell_type": "code",
      "metadata": {
        "id": "WDW38fnfmILj"
      },
      "source": [
        "from sklearn.model_selection import train_test_split\n",
        "X_train, X_test, y_train, y_test = train_test_split(X,y,test_size=0.25) "
      ],
      "execution_count": 3,
      "outputs": []
    },
    {
      "cell_type": "markdown",
      "source": [
        "## Aplicação do Grid_Search"
      ],
      "metadata": {
        "id": "m4JBs6diBXuH"
      }
    },
    {
      "cell_type": "code",
      "source": [
        "from sklearn.model_selection import GridSearchCV\n",
        "from sklearn.neighbors import KNeighborsClassifier\n",
        "import numpy as np\n",
        "\n",
        "clf = KNeighborsClassifier()\n",
        "\n",
        "param_grid = {'n_neighbors': np.arange (1,50)}\n",
        "grid = GridSearchCV(clf, param_grid, cv=5)\n",
        "\n",
        "X_train, X_test, y_train, y_test = train_test_split(X, y, test_size =.2, random_state=42)\n",
        "grid_results = grid.fit(X_train ,y_train )\n",
        "# Melhor resultado (melhores parâmetros)\n",
        "print(\"Melhor resultado: %f utilizando os parâmetros %s\" % (grid_results.best_score_, grid_results.best_params_))\n",
        "# Análise dos resultados dos testes\n",
        "medias = grid_results.cv_results_['mean_test_score']\n",
        "desvios = grid_results.cv_results_['std_test_score']\n",
        "params = grid_results.cv_results_['params']\n",
        "for media, desvio, param in zip(medias, desvios, params):\n",
        "    print(\"%f (%f) utilizando: %r\" % (media, desvio, param))"
      ],
      "metadata": {
        "id": "NtrjaLK1-ZxN",
        "outputId": "6bf8fa9e-292d-4e31-8ebe-dfea09284465",
        "colab": {
          "base_uri": "https://localhost:8080/"
        }
      },
      "execution_count": 4,
      "outputs": [
        {
          "output_type": "stream",
          "name": "stdout",
          "text": [
            "Melhor resultado: 0.958333 utilizando os parâmetros {'n_neighbors': 3}\n",
            "0.950000 (0.040825) utilizando: {'n_neighbors': 1}\n",
            "0.950000 (0.040825) utilizando: {'n_neighbors': 2}\n",
            "0.958333 (0.045644) utilizando: {'n_neighbors': 3}\n",
            "0.950000 (0.040825) utilizando: {'n_neighbors': 4}\n",
            "0.941667 (0.056519) utilizando: {'n_neighbors': 5}\n",
            "0.941667 (0.042492) utilizando: {'n_neighbors': 6}\n",
            "0.941667 (0.056519) utilizando: {'n_neighbors': 7}\n",
            "0.933333 (0.056519) utilizando: {'n_neighbors': 8}\n",
            "0.933333 (0.056519) utilizando: {'n_neighbors': 9}\n",
            "0.933333 (0.056519) utilizando: {'n_neighbors': 10}\n",
            "0.950000 (0.061237) utilizando: {'n_neighbors': 11}\n",
            "0.941667 (0.062361) utilizando: {'n_neighbors': 12}\n",
            "0.941667 (0.062361) utilizando: {'n_neighbors': 13}\n",
            "0.941667 (0.062361) utilizando: {'n_neighbors': 14}\n",
            "0.941667 (0.062361) utilizando: {'n_neighbors': 15}\n",
            "0.941667 (0.062361) utilizando: {'n_neighbors': 16}\n",
            "0.941667 (0.062361) utilizando: {'n_neighbors': 17}\n",
            "0.941667 (0.062361) utilizando: {'n_neighbors': 18}\n",
            "0.941667 (0.062361) utilizando: {'n_neighbors': 19}\n",
            "0.941667 (0.062361) utilizando: {'n_neighbors': 20}\n",
            "0.950000 (0.061237) utilizando: {'n_neighbors': 21}\n",
            "0.925000 (0.048591) utilizando: {'n_neighbors': 22}\n",
            "0.933333 (0.056519) utilizando: {'n_neighbors': 23}\n",
            "0.916667 (0.045644) utilizando: {'n_neighbors': 24}\n",
            "0.941667 (0.062361) utilizando: {'n_neighbors': 25}\n",
            "0.933333 (0.067700) utilizando: {'n_neighbors': 26}\n",
            "0.941667 (0.062361) utilizando: {'n_neighbors': 27}\n",
            "0.933333 (0.067700) utilizando: {'n_neighbors': 28}\n",
            "0.933333 (0.067700) utilizando: {'n_neighbors': 29}\n",
            "0.916667 (0.069722) utilizando: {'n_neighbors': 30}\n",
            "0.908333 (0.066667) utilizando: {'n_neighbors': 31}\n",
            "0.900000 (0.067700) utilizando: {'n_neighbors': 32}\n",
            "0.891667 (0.056519) utilizando: {'n_neighbors': 33}\n",
            "0.908333 (0.061237) utilizando: {'n_neighbors': 34}\n",
            "0.891667 (0.056519) utilizando: {'n_neighbors': 35}\n",
            "0.900000 (0.056519) utilizando: {'n_neighbors': 36}\n",
            "0.900000 (0.042492) utilizando: {'n_neighbors': 37}\n",
            "0.916667 (0.058926) utilizando: {'n_neighbors': 38}\n",
            "0.916667 (0.058926) utilizando: {'n_neighbors': 39}\n",
            "0.908333 (0.066667) utilizando: {'n_neighbors': 40}\n",
            "0.900000 (0.056519) utilizando: {'n_neighbors': 41}\n",
            "0.908333 (0.066667) utilizando: {'n_neighbors': 42}\n",
            "0.900000 (0.056519) utilizando: {'n_neighbors': 43}\n",
            "0.891667 (0.067700) utilizando: {'n_neighbors': 44}\n",
            "0.908333 (0.048591) utilizando: {'n_neighbors': 45}\n",
            "0.883333 (0.061237) utilizando: {'n_neighbors': 46}\n",
            "0.891667 (0.067700) utilizando: {'n_neighbors': 47}\n",
            "0.891667 (0.067700) utilizando: {'n_neighbors': 48}\n",
            "0.891667 (0.067700) utilizando: {'n_neighbors': 49}\n"
          ]
        }
      ]
    }
  ]
}