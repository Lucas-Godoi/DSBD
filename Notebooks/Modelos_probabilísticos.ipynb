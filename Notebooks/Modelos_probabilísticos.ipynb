{
  "nbformat": 4,
  "nbformat_minor": 0,
  "metadata": {
    "colab": {
      "name": "Modelos_probabilísticos.ipynb",
      "provenance": [],
      "collapsed_sections": []
    },
    "kernelspec": {
      "name": "python3",
      "display_name": "Python 3"
    },
    "language_info": {
      "name": "python"
    }
  },
  "cells": [
    {
      "cell_type": "markdown",
      "metadata": {
        "id": "xpAuMVCwfWs8"
      },
      "source": [
        "\n",
        "---\n",
        "\n",
        "---\n",
        "# Modelos de Distribuição de Probabilidade\n",
        "\n",
        "Este notebook apresenta funções existentes em bibliotecas Python para geração de dados e cálculos de probabilidades a partir dos modelos de distribuição de probabilidades Binomial, Poisson e Normal (estudados nas aulas).\n",
        "\n",
        "---\n",
        "\n",
        "---\n",
        "\n",
        "\n",
        "\n",
        "\n",
        "\n"
      ]
    },
    {
      "cell_type": "markdown",
      "source": [
        "\n",
        "\n",
        "---\n",
        "\n",
        "\n",
        "## Geração aleatória de dados\n",
        "\n",
        "---\n",
        "\n"
      ],
      "metadata": {
        "id": "EUM0DDv--s5Y"
      }
    },
    {
      "cell_type": "markdown",
      "source": [
        "### *Distribuição uniforme*\n",
        "\n",
        "Gera 10.000 valores aleatórios no intervalo [-10,10] uniformemente distribuídos."
      ],
      "metadata": {
        "id": "8Sx_tHLgA59S"
      }
    },
    {
      "cell_type": "code",
      "execution_count": 1,
      "metadata": {
        "id": "XQ17JAYs-TSL",
        "colab": {
          "base_uri": "https://localhost:8080/",
          "height": 265
        },
        "outputId": "7ee7d84d-1652-4f14-cd61-7a3baec8a4b0"
      },
      "outputs": [
        {
          "output_type": "display_data",
          "data": {
            "image/png": "[encoded data removed]",
            "text/plain": [
              "<Figure size 432x288 with 1 Axes>"
            ]
          },
          "metadata": {
            "needs_background": "light"
          }
        }
      ],
      "source": [
        "import numpy as np\n",
        "import matplotlib.pyplot as plt\n",
        "\n",
        "valores = np.random.uniform(-10.0, 10.0, 10000) \n",
        "plt.hist(valores,10) # histograma\n",
        "plt.show()"
      ]
    },
    {
      "cell_type": "markdown",
      "source": [
        "###*Distribuição binomial*\n",
        "\n",
        "Amostras são geradas a partir de uma distribuição binomial considerando n tentativas com probabilidade de sucesso igual a p. Você pode considerar sucesso igual a 1 e fracasso igual a 0.\n",
        "\n",
        "No código abaixo a probailidade de sucesso p = 0.5. Você pode imaginar então que está jogando uma moeda n vezes (1 seria cara e 0 coroa).\n",
        "\n",
        "A variável resultado armazena o número de sucessos (número de vezes que saiu 1) nas n tentativas."
      ],
      "metadata": {
        "id": "-B1bVWy7Ecka"
      }
    },
    {
      "cell_type": "code",
      "source": [
        "import numpy as np\n",
        "import matplotlib.pyplot as plt\n",
        "\n",
        "n, p = 10, 0.5\n",
        "resultados = np.random.binomial(n,p,1000)  # as n tentativas são executadas 1000 vezes\n",
        "plt.hist(resultados) # histograma\n",
        "plt.show()"
      ],
      "metadata": {
        "colab": {
          "base_uri": "https://localhost:8080/",
          "height": 265
        },
        "id": "M-T8npToEqLw",
        "outputId": "1170c4dc-5366-41a6-e2cd-14554b54c1f9"
      },
      "execution_count": 2,
      "outputs": [
        {
          "output_type": "display_data",
          "data": {
            "image/png": "[encoded data removed]",
            "text/plain": [
              "<Figure size 432x288 with 1 Axes>"
            ]
          },
          "metadata": {
            "needs_background": "light"
          }
        }
      ]
    },
    {
      "cell_type": "markdown",
      "source": [
        "###*Distribuição de Poisson*\n",
        "\n",
        "Amostras são geradas a partir de uma distribuição de Poisson."
      ],
      "metadata": {
        "id": "GYR4TmDBL-gl"
      }
    },
    {
      "cell_type": "code",
      "source": [
        "import numpy as np\n",
        "import matplotlib.pyplot as plt\n",
        "\n",
        "lamb = 500 # lambda (média)\n",
        "resultados = np.random.poisson(lamb,1000)  # executada 1000 vezes\n",
        "plt.hist(resultados) # histograma\n",
        "plt.show()"
      ],
      "metadata": {
        "colab": {
          "base_uri": "https://localhost:8080/",
          "height": 265
        },
        "id": "-F-XBesIMEA4",
        "outputId": "6fb61e79-2c0e-4347-aff9-1f9056b693c0"
      },
      "execution_count": 3,
      "outputs": [
        {
          "output_type": "display_data",
          "data": {
            "image/png": "[encoded data removed]",
            "text/plain": [
              "<Figure size 432x288 with 1 Axes>"
            ]
          },
          "metadata": {
            "needs_background": "light"
          }
        }
      ]
    },
    {
      "cell_type": "markdown",
      "source": [
        "###*Distribuição normal*\n",
        "\n",
        "Gera 10.000 valores aleatórios distribuídos normalmente com média igual 5 e desvio padrão igual a 2."
      ],
      "metadata": {
        "id": "BEAd44MRB5hL"
      }
    },
    {
      "cell_type": "code",
      "source": [
        "import numpy as np\n",
        "import matplotlib.pyplot as plt\n",
        "import seaborn as sns\n",
        "\n",
        "mu = 5.0 # média\n",
        "sigma = 2.0 # desvio padrão\n",
        "valores = np.random.normal(mu, sigma, 10000)\n",
        "#plt.hist(valores)\n",
        "sns.histplot(valores, kde=True)\n",
        "plt.show()"
      ],
      "metadata": {
        "colab": {
          "base_uri": "https://localhost:8080/",
          "height": 265
        },
        "id": "orM8xv3RCIxR",
        "outputId": "cc23292b-5352-4833-fac9-167134055aa1"
      },
      "execution_count": 4,
      "outputs": [
        {
          "output_type": "display_data",
          "data": {
            "image/png": "[encoded data removed]",
            "text/plain": [
              "<Figure size 432x288 with 1 Axes>"
            ]
          },
          "metadata": {
            "needs_background": "light"
          }
        }
      ]
    },
    {
      "cell_type": "markdown",
      "source": [
        "\n",
        "\n",
        "---\n",
        "\n",
        "\n",
        "## Cálculos de probabilidades\n",
        "\n",
        "\n",
        "---\n",
        "\n"
      ],
      "metadata": {
        "id": "nTONG4bllMSc"
      }
    },
    {
      "cell_type": "markdown",
      "source": [
        "###*Distribuição Binomial*\n",
        "\n",
        "Jogando uma moeda 10 vezes, qual a probabilidade de obter 3 \"caras\"?"
      ],
      "metadata": {
        "id": "NxVaTPmxGkA8"
      }
    },
    {
      "cell_type": "code",
      "source": [
        "import math\n",
        "\n",
        "n = 10\n",
        "x = 3\n",
        "p = 0.5\n",
        "\n",
        "(math.factorial(n)) / (math.factorial(x) * math.factorial(n - x)) * math.pow(p, x) * math.pow(1 - p, n - x)"
      ],
      "metadata": {
        "colab": {
          "base_uri": "https://localhost:8080/"
        },
        "id": "WhpQGs8qGm9-",
        "outputId": "466fd180-3c7b-4fc8-da9b-3cd2c5153f9b"
      },
      "execution_count": 5,
      "outputs": [
        {
          "output_type": "execute_result",
          "data": {
            "text/plain": [
              "0.1171875"
            ]
          },
          "metadata": {},
          "execution_count": 5
        }
      ]
    },
    {
      "cell_type": "markdown",
      "source": [
        "OBS: A relação entre os eventos para uma variável aleatória discreta e suas probabilidades é chamada de distribuição de probabilidade discreta e é resumida por uma função massa de probabilidade, ou PMF (Probability Mass Function)."
      ],
      "metadata": {
        "id": "wNGzPXSpXLvG"
      }
    },
    {
      "cell_type": "code",
      "source": [
        "from scipy import stats\n",
        "\n",
        "stats.binom.pmf(x, n, p)"
      ],
      "metadata": {
        "colab": {
          "base_uri": "https://localhost:8080/"
        },
        "id": "zM25haJvSCRZ",
        "outputId": "f420e6dc-94fa-4815-a60e-6601088e88bd"
      },
      "execution_count": 6,
      "outputs": [
        {
          "output_type": "execute_result",
          "data": {
            "text/plain": [
              "0.11718750000000014"
            ]
          },
          "metadata": {},
          "execution_count": 6
        }
      ]
    },
    {
      "cell_type": "markdown",
      "source": [
        "###*Distribuição de Poisson*\n",
        "\n",
        "O número médio de acidentes de trânsito por dia é 10. Qual a probabilidade de ocorrerem 20 amanhã?"
      ],
      "metadata": {
        "id": "OeojTAmVSQRw"
      }
    },
    {
      "cell_type": "code",
      "source": [
        "lamb = 10\n",
        "x = 20\n",
        "math.pow(math.e, -lamb) * (math.pow(lamb, x) / math.factorial(x))"
      ],
      "metadata": {
        "colab": {
          "base_uri": "https://localhost:8080/"
        },
        "id": "anvwk1-zSn_Y",
        "outputId": "6ab575ee-6704-4d8f-ac6b-a25c2243c6bc"
      },
      "execution_count": 7,
      "outputs": [
        {
          "output_type": "execute_result",
          "data": {
            "text/plain": [
              "0.0018660813139987605"
            ]
          },
          "metadata": {},
          "execution_count": 7
        }
      ]
    },
    {
      "cell_type": "code",
      "source": [
        "stats.poisson.pmf(x, lamb)"
      ],
      "metadata": {
        "colab": {
          "base_uri": "https://localhost:8080/"
        },
        "id": "7Par5ANJTLo9",
        "outputId": "4f415e93-d1e0-4cdb-eb11-c6c9a954571d"
      },
      "execution_count": 8,
      "outputs": [
        {
          "output_type": "execute_result",
          "data": {
            "text/plain": [
              "0.0018660813139987742"
            ]
          },
          "metadata": {},
          "execution_count": 8
        }
      ]
    },
    {
      "cell_type": "markdown",
      "source": [
        "###*Distribuição Normal*\n",
        "\n",
        "A vida útil de uma marca de pneus é representada por uma distribuição normal com média de 38.000 Km e desvio padrão de 3.000 Km.\n",
        "\n",
        "a-) Qual a probabilidade de que ele dure menos que 25.000 Km?\n",
        "\n",
        "b-) Qual a probabilidade de que um pneu escolhido aleatoriamente tenha vida útil maior que 40.000 Km?\n",
        "\n",
        "c-) Qual a probabilidade de que ele dure entre 25.000 e 40.000 Km?\n",
        "\n",
        "d-) Qual a probabilidade de que ele dure 45.000 Km?"
      ],
      "metadata": {
        "id": "f9kHTLYCTTHl"
      }
    },
    {
      "cell_type": "code",
      "source": [
        "mu = 38000 # média\n",
        "sigma = 3000 # desvio padrão"
      ],
      "metadata": {
        "id": "89GSFKoBZjr8"
      },
      "execution_count": 9,
      "outputs": []
    },
    {
      "cell_type": "markdown",
      "source": [
        "\n",
        "*Obs: CDF : Função de distribuição cumulativa (ou acumulada), retorna a probabilidade de um valor menor ou igual a um determinado resultado.*\n",
        "https://docs.scipy.org/doc/scipy/reference/generated/scipy.stats.norm.html"
      ],
      "metadata": {
        "id": "5GHMVioDZfCA"
      }
    },
    {
      "cell_type": "markdown",
      "source": [
        "item a-)"
      ],
      "metadata": {
        "id": "x3PCbFQBbgX2"
      }
    },
    {
      "cell_type": "code",
      "source": [
        "x1 = 25000\n",
        "stats.norm.cdf(x1, mu, sigma)  "
      ],
      "metadata": {
        "colab": {
          "base_uri": "https://localhost:8080/"
        },
        "id": "1GylFj6JcDTL",
        "outputId": "162b1c06-deec-4881-ea12-ecf6ff13ba0f"
      },
      "execution_count": 10,
      "outputs": [
        {
          "output_type": "execute_result",
          "data": {
            "text/plain": [
              "7.343423836894689e-06"
            ]
          },
          "metadata": {},
          "execution_count": 10
        }
      ]
    },
    {
      "cell_type": "markdown",
      "source": [
        "item b-)"
      ],
      "metadata": {
        "id": "v_DdG858cBCm"
      }
    },
    {
      "cell_type": "code",
      "source": [
        "x2 = 40000\n",
        "1 - stats.norm.cdf(x2, mu, sigma)  "
      ],
      "metadata": {
        "colab": {
          "base_uri": "https://localhost:8080/"
        },
        "id": "jPvTeinwao5B",
        "outputId": "08f33310-3af7-4431-d0c6-709a9760418e"
      },
      "execution_count": 11,
      "outputs": [
        {
          "output_type": "execute_result",
          "data": {
            "text/plain": [
              "0.2524925375469229"
            ]
          },
          "metadata": {},
          "execution_count": 11
        }
      ]
    },
    {
      "cell_type": "markdown",
      "source": [
        "item c-)"
      ],
      "metadata": {
        "id": "WARB3yPBc9Zi"
      }
    },
    {
      "cell_type": "code",
      "source": [
        "stats.norm.cdf(x2, mu, sigma) - stats.norm.cdf(x1, mu, sigma)  "
      ],
      "metadata": {
        "colab": {
          "base_uri": "https://localhost:8080/"
        },
        "id": "GQ06T4Hmc_UZ",
        "outputId": "ba149c56-ebb5-4a83-8176-413214dbc5ad"
      },
      "execution_count": 12,
      "outputs": [
        {
          "output_type": "execute_result",
          "data": {
            "text/plain": [
              "0.7475001190292402"
            ]
          },
          "metadata": {},
          "execution_count": 12
        }
      ]
    },
    {
      "cell_type": "markdown",
      "source": [
        "*Obs: Se uma variável aleatória é contínua, a probabilidade pode ser calculada por meio da função de densidade de probabilidade (ou PDF)*"
      ],
      "metadata": {
        "id": "ik8qtQFNgRrw"
      }
    },
    {
      "cell_type": "markdown",
      "source": [
        "item d-)"
      ],
      "metadata": {
        "id": "qGZkaVuggrVO"
      }
    },
    {
      "cell_type": "code",
      "source": [
        "stats.norm.pdf(45000, mu, sigma) "
      ],
      "metadata": {
        "colab": {
          "base_uri": "https://localhost:8080/"
        },
        "id": "3LfxsYrEgqNM",
        "outputId": "580fe6e8-b2f5-455f-aadf-893cef1c10f3"
      },
      "execution_count": 13,
      "outputs": [
        {
          "output_type": "execute_result",
          "data": {
            "text/plain": [
              "8.740629697903161e-06"
            ]
          },
          "metadata": {},
          "execution_count": 13
        }
      ]
    }
  ]
}