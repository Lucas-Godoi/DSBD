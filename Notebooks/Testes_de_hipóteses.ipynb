{
  "nbformat": 4,
  "nbformat_minor": 0,
  "metadata": {
    "colab": {
      "name": "Testes_de_hipóteses.ipynb",
      "provenance": [],
      "collapsed_sections": []
    },
    "kernelspec": {
      "name": "python3",
      "display_name": "Python 3"
    },
    "language_info": {
      "name": "python"
    }
  },
  "cells": [
    {
      "cell_type": "markdown",
      "metadata": {
        "id": "xpAuMVCwfWs8"
      },
      "source": [
        "\n",
        "---\n",
        "\n",
        "---\n",
        "# Testes de hipóteses\n",
        "\n",
        "Este notebook mostra como realizar testes de hipóteses para a média utilizando as funções do módulo [stats](https://docs.scipy.org/doc/scipy/reference/stats.html) da biblioteca Scipy e a função [ztest](https://www.statsmodels.org/devel/generated/statsmodels.stats.weightstats.ztest.html?highlight=ztest#statsmodels.stats.weightstats.ztest) do módulo [statsmodels](https://www.statsmodels.org/devel/index.html).\n",
        "\n",
        "---\n",
        "\n",
        "---\n",
        "\n",
        "\n",
        "\n",
        "\n",
        "\n"
      ]
    },
    {
      "cell_type": "markdown",
      "source": [
        "##Importações de bibliotecas"
      ],
      "metadata": {
        "id": "zuWu8Pnk4dq-"
      }
    },
    {
      "cell_type": "code",
      "source": [
        "import numpy as np\n",
        "import math\n",
        "from scipy.stats import norm"
      ],
      "metadata": {
        "id": "D0jBwL3k4jEh"
      },
      "execution_count": 1,
      "outputs": []
    },
    {
      "cell_type": "markdown",
      "source": [
        "\n",
        "\n",
        "---\n",
        "\n",
        "##Exemplo 1\n",
        "\n",
        "---\n",
        "\n"
      ],
      "metadata": {
        "id": "vqfeymMWVOch"
      }
    },
    {
      "cell_type": "markdown",
      "source": [
        "Suponha que a altura média de uma população de universitários é 155 cm, mas um novo estudo (pesquisa) foi feito com uma amostra de estudantes e chegou-se numa altura média diferente. Com um nível de significância igual a 5%, verifique se a nova altura média obtida na pesquisa deve ser aceita ou rejeitada. "
      ],
      "metadata": {
        "id": "NG-DKDK2VVr-"
      }
    },
    {
      "cell_type": "code",
      "source": [
        "H0_media = 155 # hipótese nula (altura média igual a 155cm)"
      ],
      "metadata": {
        "id": "qlCgaKjmXcEr"
      },
      "execution_count": 2,
      "outputs": []
    },
    {
      "cell_type": "markdown",
      "source": [
        "Alturas obtidas na nova pesquisa:\n"
      ],
      "metadata": {
        "id": "i5oTNYfK1ACx"
      }
    },
    {
      "cell_type": "code",
      "source": [
        "dados = np.array([151, 140, 149, 152, 158, 143, 152, 141, 135, 145, 160, 149, 147,\n",
        "       148, 138, 140, 144, 152, 128, 144, 168, 146, 136, 152, 149, 161,\n",
        "       158, 145, 136, 163, 151, 159, 130, 165, 130, 142, 157, 155, 157,\n",
        "       137, 142, 142, 146, 173, 150, 147, 157, 146, 155, 129, 132, 150,\n",
        "       137, 165, 136, 145, 169, 144, 145, 159, 160, 146, 142, 131, 135,\n",
        "       155, 151, 143, 158, 169, 152, 151, 146, 141, 156, 118, 164, 164,\n",
        "       137, 141, 163, 155, 167, 165, 154, 133, 151, 149, 152, 139, 149,\n",
        "       155, 171, 149, 151, 142, 169, 140, 137, 161])"
      ],
      "metadata": {
        "id": "gn1JqMwQ5hKv"
      },
      "execution_count": 3,
      "outputs": []
    },
    {
      "cell_type": "code",
      "source": [
        "n = len(dados)  # tamanho da amostra de estudantes \n",
        "n"
      ],
      "metadata": {
        "colab": {
          "base_uri": "https://localhost:8080/"
        },
        "id": "nj7uLB7dY9e6",
        "outputId": "e0cfbd81-53cb-4551-f22c-6acccfa5d307"
      },
      "execution_count": 4,
      "outputs": [
        {
          "output_type": "execute_result",
          "data": {
            "text/plain": [
              "100"
            ]
          },
          "metadata": {},
          "execution_count": 4
        }
      ]
    },
    {
      "cell_type": "code",
      "source": [
        "Ha_media = dados.mean() # hipótese alternativa (altura média diferente de 155cm\n",
        "Ha_media"
      ],
      "metadata": {
        "colab": {
          "base_uri": "https://localhost:8080/"
        },
        "id": "QiXNd51uW9UK",
        "outputId": "2717700f-11f6-488a-90ec-8908baa3a7bd"
      },
      "execution_count": 5,
      "outputs": [
        {
          "output_type": "execute_result",
          "data": {
            "text/plain": [
              "148.94"
            ]
          },
          "metadata": {},
          "execution_count": 5
        }
      ]
    },
    {
      "cell_type": "code",
      "source": [
        "Ha_desvio_padrao = np.std(dados) # desvio-padrão\n",
        "Ha_desvio_padrao"
      ],
      "metadata": {
        "colab": {
          "base_uri": "https://localhost:8080/"
        },
        "id": "zGSYzpywYrcK",
        "outputId": "68588522-8475-49a2-f00c-ba53816e453e"
      },
      "execution_count": 6,
      "outputs": [
        {
          "output_type": "execute_result",
          "data": {
            "text/plain": [
              "10.994380382722802"
            ]
          },
          "metadata": {},
          "execution_count": 6
        }
      ]
    },
    {
      "cell_type": "code",
      "source": [
        "alpha = 0.05/2 # nível de significância (teste bilateral)\n",
        "alpha"
      ],
      "metadata": {
        "colab": {
          "base_uri": "https://localhost:8080/"
        },
        "id": "tBXs1HukZF0G",
        "outputId": "11c339bf-2c21-4c94-f309-8a730b96400a"
      },
      "execution_count": 7,
      "outputs": [
        {
          "output_type": "execute_result",
          "data": {
            "text/plain": [
              "0.025"
            ]
          },
          "metadata": {},
          "execution_count": 7
        }
      ]
    },
    {
      "cell_type": "code",
      "source": [
        "Zc = norm.ppf(alpha) # retorna o escore z (valor crítico) \n",
        "Zc"
      ],
      "metadata": {
        "colab": {
          "base_uri": "https://localhost:8080/"
        },
        "id": "ujS_JfjsbN3r",
        "outputId": "7fa66e2a-aa83-4232-93d6-2ce2780a0596"
      },
      "execution_count": 8,
      "outputs": [
        {
          "output_type": "execute_result",
          "data": {
            "text/plain": [
              "-1.9599639845400545"
            ]
          },
          "metadata": {},
          "execution_count": 8
        }
      ]
    },
    {
      "cell_type": "markdown",
      "source": [
        "##Teste de hipótese Z (manual):"
      ],
      "metadata": {
        "id": "9hFg5zJdZRju"
      }
    },
    {
      "cell_type": "code",
      "source": [
        "Z = (Ha_media - H0_media) / (Ha_desvio_padrao / math.sqrt(n))\n",
        "Z"
      ],
      "metadata": {
        "colab": {
          "base_uri": "https://localhost:8080/"
        },
        "id": "1_Qetn-gZPMh",
        "outputId": "d41cbdc9-b67c-46f6-c3a9-fe4134583ba4"
      },
      "execution_count": 9,
      "outputs": [
        {
          "output_type": "execute_result",
          "data": {
            "text/plain": [
              "-5.511906800607911"
            ]
          },
          "metadata": {},
          "execution_count": 9
        }
      ]
    },
    {
      "cell_type": "code",
      "source": [
        "if Z > abs(Zc) or Z < -abs(Zc):  # Z está na região de aceitação\n",
        "  print('Hipótese nula deve ser rejeitada')\n",
        "else:\n",
        "  print('Hipótese nula deve ser aceita')"
      ],
      "metadata": {
        "colab": {
          "base_uri": "https://localhost:8080/"
        },
        "id": "toV5HYKkb6rD",
        "outputId": "2177d6a1-2a55-4170-d255-6f4c179bc54e"
      },
      "execution_count": 12,
      "outputs": [
        {
          "output_type": "stream",
          "name": "stdout",
          "text": [
            "Hipótese nula deve ser rejeitada\n"
          ]
        }
      ]
    },
    {
      "cell_type": "markdown",
      "source": [
        "##Valor-p:"
      ],
      "metadata": {
        "id": "6-nScDmTksWZ"
      }
    },
    {
      "cell_type": "code",
      "source": [
        "p = 2*(1 - norm.cdf(-Z)) # teste bilateral\n",
        "p"
      ],
      "metadata": {
        "colab": {
          "base_uri": "https://localhost:8080/"
        },
        "id": "DJj64v3GkIhG",
        "outputId": "9b71c747-00b2-4d7e-f175-bda52039ea3a"
      },
      "execution_count": null,
      "outputs": [
        {
          "output_type": "execute_result",
          "data": {
            "text/plain": [
              "3.5496688033376245e-08"
            ]
          },
          "metadata": {},
          "execution_count": 11
        }
      ]
    },
    {
      "cell_type": "code",
      "source": [
        "p = 2*norm.cdf(Z) # teste bilateral\n",
        "p"
      ],
      "metadata": {
        "colab": {
          "base_uri": "https://localhost:8080/"
        },
        "id": "nj1-iB-fNrAK",
        "outputId": "0253b470-8863-4fd5-9ef2-3f29071b09ad"
      },
      "execution_count": null,
      "outputs": [
        {
          "output_type": "execute_result",
          "data": {
            "text/plain": [
              "3.5496688120334884e-08"
            ]
          },
          "metadata": {},
          "execution_count": 12
        }
      ]
    },
    {
      "cell_type": "code",
      "source": [
        "if p < alpha:\n",
        "   print('Hipótese nula deve ser rejeitada')\n",
        "else:\n",
        "  print('Hipótese nula deve ser aceita')"
      ],
      "metadata": {
        "colab": {
          "base_uri": "https://localhost:8080/"
        },
        "id": "8SB-N5c4kQ33",
        "outputId": "7b023662-a4ea-42fd-8e8f-70eda4fad40c"
      },
      "execution_count": null,
      "outputs": [
        {
          "output_type": "stream",
          "name": "stdout",
          "text": [
            "Hipótese nula deve ser rejeitada\n"
          ]
        }
      ]
    },
    {
      "cell_type": "markdown",
      "source": [
        "##Usando statsmodels \n",
        "\n",
        "[statsmodels](https://www.statsmodels.org/devel/index.html) é um módulo Python que fornece classes e funções para a estimativa de muitos modelos estatísticos diferentes, bem como para a realização de testes estatísticos e exploração de dados estatísticos.\n",
        "\n",
        "A função utilizada é: [ztest](https://www.statsmodels.org/devel/generated/statsmodels.stats.weightstats.ztest.html?highlight=ztest#statsmodels.stats.weightstats.ztest)\n",
        "\n"
      ],
      "metadata": {
        "id": "zfgLu1-nLJKL"
      }
    },
    {
      "cell_type": "code",
      "source": [
        "from statsmodels.stats.weightstats import ztest\n",
        "\n",
        "Z, p = ztest(dados, value = H0_media)"
      ],
      "metadata": {
        "colab": {
          "base_uri": "https://localhost:8080/"
        },
        "id": "8m633AEJLKvu",
        "outputId": "3b3e75ff-1df0-4eb7-d12e-c410854b5329"
      },
      "execution_count": 14,
      "outputs": [
        {
          "output_type": "stream",
          "name": "stderr",
          "text": [
            "/usr/local/lib/python3.7/dist-packages/statsmodels/tools/_testing.py:19: FutureWarning: pandas.util.testing is deprecated. Use the functions in the public API at pandas.testing instead.\n",
            "  import pandas.util.testing as tm\n"
          ]
        }
      ]
    },
    {
      "cell_type": "code",
      "source": [
        "p"
      ],
      "metadata": {
        "colab": {
          "base_uri": "https://localhost:8080/"
        },
        "id": "K1enO-uULbpD",
        "outputId": "661bc29e-c2e7-406d-cbcf-bedc889fa2b9"
      },
      "execution_count": 15,
      "outputs": [
        {
          "output_type": "execute_result",
          "data": {
            "text/plain": [
              "4.151614205770418e-08"
            ]
          },
          "metadata": {},
          "execution_count": 15
        }
      ]
    },
    {
      "cell_type": "code",
      "source": [
        "Z"
      ],
      "metadata": {
        "colab": {
          "base_uri": "https://localhost:8080/"
        },
        "id": "55msAvRrMelX",
        "outputId": "129d9207-313b-4f6d-957d-8b68d398424e"
      },
      "execution_count": 16,
      "outputs": [
        {
          "output_type": "execute_result",
          "data": {
            "text/plain": [
              "-5.484278021107414"
            ]
          },
          "metadata": {},
          "execution_count": 16
        }
      ]
    },
    {
      "cell_type": "markdown",
      "source": [
        "\n",
        "\n",
        "---\n",
        "\n",
        "\n",
        "## Exemplo 2\n",
        "\n",
        "---\n",
        "\n"
      ],
      "metadata": {
        "id": "EUM0DDv--s5Y"
      }
    },
    {
      "cell_type": "markdown",
      "source": [
        "Funcionários de uma empresa de tecnologia afirmam que a média salarial deles é menor que a de outra empresa concorrente, que é de 45.000,00.\n",
        "Uma amostra aleatória de 30 funcionários mostrou que a média dos salários é de 43.500,00. Sabe-se, de estudos anteriores, que o desvio padrão dos salários é de 5.200,00. Teste a afirmação do funcionário ao nível de 5% de significância."
      ],
      "metadata": {
        "id": "lwKmL8Iset3x"
      }
    },
    {
      "cell_type": "code",
      "source": [
        "n = 30\n",
        "H0_media = 45000\n",
        "Ha_media = 43500\n",
        "Ha_desvio_padrao = 5200\n",
        "alpha = 0.05"
      ],
      "metadata": {
        "id": "vVEeytPme2Kh"
      },
      "execution_count": 17,
      "outputs": []
    },
    {
      "cell_type": "code",
      "source": [
        "Zc = norm.ppf(alpha) # retorna o escore z (valor crítico) \n",
        "Zc"
      ],
      "metadata": {
        "colab": {
          "base_uri": "https://localhost:8080/"
        },
        "id": "Rlyd8r8MfM1k",
        "outputId": "83482272-f032-4476-8230-b2fe9d8dfe39"
      },
      "execution_count": 18,
      "outputs": [
        {
          "output_type": "execute_result",
          "data": {
            "text/plain": [
              "-1.6448536269514729"
            ]
          },
          "metadata": {},
          "execution_count": 18
        }
      ]
    },
    {
      "cell_type": "code",
      "source": [
        "Z = (Ha_media - H0_media) / (Ha_desvio_padrao / math.sqrt(n))\n",
        "Z"
      ],
      "metadata": {
        "colab": {
          "base_uri": "https://localhost:8080/"
        },
        "id": "MUpizLgtfsa4",
        "outputId": "2dde7fa5-b9e5-42ed-b8cf-6c9a16918d58"
      },
      "execution_count": 19,
      "outputs": [
        {
          "output_type": "execute_result",
          "data": {
            "text/plain": [
              "-1.579968915880287"
            ]
          },
          "metadata": {},
          "execution_count": 19
        }
      ]
    },
    {
      "cell_type": "code",
      "source": [
        "if Z < Zc:  # Z está na região de aceitação\n",
        "  print('Hipótese nula deve ser rejeitada')\n",
        "else:\n",
        "  print('Hipótese nula deve ser aceita')"
      ],
      "metadata": {
        "colab": {
          "base_uri": "https://localhost:8080/"
        },
        "id": "unBICMJmf9y-",
        "outputId": "2a6bfaaa-587a-48cd-bcb2-d70c41544eb8"
      },
      "execution_count": 21,
      "outputs": [
        {
          "output_type": "stream",
          "name": "stdout",
          "text": [
            "Hipótese nula deve ser aceita\n"
          ]
        }
      ]
    },
    {
      "cell_type": "markdown",
      "source": [
        "##Valor-p:"
      ],
      "metadata": {
        "id": "_zDiQcdBg3i8"
      }
    },
    {
      "cell_type": "code",
      "source": [
        "p = norm.cdf(Z) \n",
        "p"
      ],
      "metadata": {
        "colab": {
          "base_uri": "https://localhost:8080/"
        },
        "id": "wFsMzf_rhVpL",
        "outputId": "45d4318c-d109-46c4-cc3a-e8f53fe3fa8a"
      },
      "execution_count": 24,
      "outputs": [
        {
          "output_type": "execute_result",
          "data": {
            "text/plain": [
              "0.05705699260607738"
            ]
          },
          "metadata": {},
          "execution_count": 24
        }
      ]
    },
    {
      "cell_type": "code",
      "source": [
        "if p < alpha:\n",
        "   print('Hipótese nula deve ser rejeitada')\n",
        "else:\n",
        "  print('Hipótese nula deve ser aceita')"
      ],
      "metadata": {
        "colab": {
          "base_uri": "https://localhost:8080/"
        },
        "id": "fAyEibqPhe8V",
        "outputId": "37696751-53a8-4512-f15b-c8e3d0bca02c"
      },
      "execution_count": 25,
      "outputs": [
        {
          "output_type": "stream",
          "name": "stdout",
          "text": [
            "Hipótese nula deve ser aceita\n"
          ]
        }
      ]
    }
  ]
}