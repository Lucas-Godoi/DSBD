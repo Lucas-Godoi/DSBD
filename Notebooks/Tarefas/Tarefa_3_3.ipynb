{
  "nbformat": 4,
  "nbformat_minor": 0,
  "metadata": {
    "colab": {
      "name": "Tarefa_3_3.ipynb",
      "provenance": [],
      "collapsed_sections": []
    },
    "kernelspec": {
      "name": "python3",
      "display_name": "Python 3"
    }
  },
  "cells": [
    {
      "cell_type": "markdown",
      "metadata": {
        "id": "jZM3XREkvOba"
      },
      "source": [
        "---\n",
        "\n",
        "---\n",
        "## Tarefa 3.3 - Análise Exploratória e Estatística Descritiva\n",
        "\n",
        "Esta tarefa consiste em praticar a manipulação de um *dataframe* por meio da biblioteca Pandas e explorar por meio de métodos de descrição paramétrica (medidas estatísticas) o conjunto de dados *Hourly Wages*.\n",
        "\n",
        "Você deve implementar em Python os itens solicitados abaixo utilizando a biblioteca Pandas e outras que forem necessárias. \n",
        "\n",
        "---\n",
        "\n",
        "\n",
        "\n",
        "---\n",
        "\n"
      ]
    },
    {
      "cell_type": "markdown",
      "metadata": {
        "id": "IPxitpXn5GFN"
      },
      "source": [
        "## Conjunto de dados *Hourly Wages*\n",
        "\n",
        "Esse conjunto de dados é popularmente empregado para a tarefa de regressão em Machine Learning. Constrói-se e ajusta-se um modelo de aprendizado de máquina para predizer/estimar o salário de um funcionário em função de suas características (anos de estudos, experiência de trabalho, filiação sindical, região, ocupação e sexo). \n",
        "\n",
        "- Número de Instâncias: 534\n",
        "\n",
        "- Número de Atributos: 9 atributos numéricos e o target (*wage_per_hour*)\n",
        "\n",
        "- Informações dos Atributos:\n",
        "  - union (filiação sindical)\n",
        "  - education_yrs (anos de instrução)\n",
        "  - experience_yrs (anos de experiência)\n",
        "  - age (idade)\n",
        "  - female (sexo)\n",
        "  - marr (estado civil - casado)\n",
        "  - south (região)\n",
        "  - manufacturing (indústria)\n",
        "  - construction (construção)\n",
        "\n",
        "  \n",
        "- Variável de destino (target): wage_per_hour \n",
        "\n"
      ]
    },
    {
      "cell_type": "markdown",
      "source": [
        "## Implementar os itens abaixo:"
      ],
      "metadata": {
        "id": "4B33fWHi7rrc"
      }
    },
    {
      "cell_type": "markdown",
      "metadata": {
        "id": "nufGipDieZbc"
      },
      "source": [
        "#### a-) Clonar o repositório de dados da disciplina (DSBD) hospedado no GitHUb.\n"
      ]
    },
    {
      "cell_type": "code",
      "metadata": {
        "id": "ZaJpoCYtejnr"
      },
      "source": [
        ""
      ],
      "execution_count": null,
      "outputs": []
    },
    {
      "cell_type": "markdown",
      "metadata": {
        "id": "4G6UZT6QC_us"
      },
      "source": [
        "#### b-) Ler o dataset \"*Hourly_wages/hourly_wages.csv*\" como dataframe utilizando a biblioteca Pandas e mostrar as 5 primeiras e as 5 últimas linhas do dataset. "
      ]
    },
    {
      "cell_type": "code",
      "metadata": {
        "id": "jGSqUwVE7QvS"
      },
      "source": [
        ""
      ],
      "execution_count": null,
      "outputs": []
    },
    {
      "cell_type": "markdown",
      "metadata": {
        "id": "8Sao1JGYEP2R"
      },
      "source": [
        "#### c-) Verificar se há dados vazios (null) e imprimir o tipo de cada variável/atributo."
      ]
    },
    {
      "cell_type": "code",
      "metadata": {
        "id": "rRbFDx1iDCLq"
      },
      "source": [
        ""
      ],
      "execution_count": null,
      "outputs": []
    },
    {
      "cell_type": "markdown",
      "metadata": {
        "id": "VccXvtXmOJy7"
      },
      "source": [
        "#### d-) Obter um resumo da estatística descritiva dos dados utilizando um único comando (função)."
      ]
    },
    {
      "cell_type": "code",
      "metadata": {
        "id": "WHpUgIoROTpq"
      },
      "source": [
        ""
      ],
      "execution_count": null,
      "outputs": []
    },
    {
      "cell_type": "markdown",
      "source": [
        "#### e-) Calcule a proporção de funcionários de sexo masculino e feminino."
      ],
      "metadata": {
        "id": "6c2QQ18WB5Vb"
      }
    },
    {
      "cell_type": "code",
      "source": [
        ""
      ],
      "metadata": {
        "id": "v2ME0aM2CIq8"
      },
      "execution_count": null,
      "outputs": []
    },
    {
      "cell_type": "markdown",
      "source": [
        "#### f-) Calcule a proporção de casados e solteiros."
      ],
      "metadata": {
        "id": "LniJ24RxETKy"
      }
    },
    {
      "cell_type": "code",
      "source": [
        ""
      ],
      "metadata": {
        "id": "6__WiQEeEhdS"
      },
      "execution_count": null,
      "outputs": []
    },
    {
      "cell_type": "markdown",
      "source": [
        "#### g-) Calcule a proporção de funcionários filiados ao sindicato (union)."
      ],
      "metadata": {
        "id": "D1Fwp7rgEh-f"
      }
    },
    {
      "cell_type": "code",
      "source": [
        ""
      ],
      "metadata": {
        "id": "wj_QM5PgEp_7"
      },
      "execution_count": null,
      "outputs": []
    },
    {
      "cell_type": "markdown",
      "source": [
        "#### h-) Calcule as medianas de cada uma das variáveis: anos de educação, anos de experiência e idade."
      ],
      "metadata": {
        "id": "quy0rserFE5V"
      }
    },
    {
      "cell_type": "code",
      "source": [
        ""
      ],
      "metadata": {
        "id": "zvMebS_bFcs-"
      },
      "execution_count": null,
      "outputs": []
    },
    {
      "cell_type": "markdown",
      "source": [
        "####i-) Calcule as modas de cada uma das variáveis: anos de educação, anos de experiência e idade."
      ],
      "metadata": {
        "id": "HmBKD12oLVKC"
      }
    },
    {
      "cell_type": "code",
      "source": [
        ""
      ],
      "metadata": {
        "id": "YnitL-oeLblK"
      },
      "execution_count": null,
      "outputs": []
    },
    {
      "cell_type": "markdown",
      "source": [
        "####j-) Calcule o percentil 90 da variável idade."
      ],
      "metadata": {
        "id": "JDjD9nSwGB3O"
      }
    },
    {
      "cell_type": "code",
      "source": [
        ""
      ],
      "metadata": {
        "id": "CTEjI25IGfkF"
      },
      "execution_count": null,
      "outputs": []
    },
    {
      "cell_type": "markdown",
      "source": [
        "####k-) Calcule o percentil 10 da variável anos de experiência."
      ],
      "metadata": {
        "id": "GQ8baHEpIbYA"
      }
    },
    {
      "cell_type": "code",
      "source": [
        ""
      ],
      "metadata": {
        "id": "U3XniCMGIpUP"
      },
      "execution_count": null,
      "outputs": []
    },
    {
      "cell_type": "markdown",
      "source": [
        "####l-) Determine qual atributo apresenta maior variabilidade dentre os atributos: anos de educação, anos de experiência e idade."
      ],
      "metadata": {
        "id": "OH-IBwUrONIF"
      }
    },
    {
      "cell_type": "code",
      "source": [
        ""
      ],
      "metadata": {
        "id": "2oQmNM5EPBBj"
      },
      "execution_count": null,
      "outputs": []
    }
  ]
}