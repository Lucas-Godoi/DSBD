{
  "nbformat": 4,
  "nbformat_minor": 0,
  "metadata": {
    "colab": {
      "provenance": [],
      "collapsed_sections": []
    },
    "kernelspec": {
      "name": "python3",
      "display_name": "Python 3"
    },
    "accelerator": "GPU"
  },
  "cells": [
    {
      "cell_type": "markdown",
      "metadata": {
        "id": "jZM3XREkvOba"
      },
      "source": [
        "---\n",
        "\n",
        "---\n",
        "## Tarefa 3.5 - Análise Exploratória e Estatística Descritiva - Correlação\n",
        "\n",
        "Esta tarefa consiste em realizar a análise de correlação de variáveis (atributos) por meio de diagramas de dispersão (scatterplot) e coeficiente de correlação de Pearson utilizando as bibliotecas e funções da linguagem Python.\n",
        "\n",
        "Você deve implementar em Python e responder os itens solicitados abaixo utilizando a biblioteca [Matplotlib](https://matplotlib.org/) e/ou [Seaborn](https://seaborn.pydata.org/) e outras que desejar ou forem necessárias. \n",
        "\n",
        "[Clique aqui](https://colab.research.google.com/github/malegopc/DSBD/blob/main/Notebooks/Correla%C3%A7%C3%A3o.ipynb) para acessar um exemplo de notebook que contém as funções necessárias para a realização desta tarefa. \n",
        "\n",
        "---\n",
        "\n",
        "\n",
        "\n",
        "---\n",
        "\n"
      ]
    },
    {
      "cell_type": "code",
      "source": [
        "!git clone \"https://github.com/malegopc/DSBD\""
      ],
      "metadata": {
        "id": "1cQpMWjT7beG"
      },
      "execution_count": null,
      "outputs": []
    },
    {
      "cell_type": "markdown",
      "source": [
        "## PARTE I: *dataset [Advertising](https://github.com/malegopc/DSBD/blob/main/Datasets/Advertising/Advertising.csv)*\n",
        "\n",
        "Este dataset mostra uma série de valores investidos em anúncios de TV, Rádio e jornais e os respectivos resultados de venda."
      ],
      "metadata": {
        "id": "4_e5M6QJ6hl4"
      }
    },
    {
      "cell_type": "markdown",
      "metadata": {
        "id": "4G6UZT6QC_us"
      },
      "source": [
        "#### a-) Ler o dataset \"*Advertising/Advertising.csv*\" como dataframe utilizando a biblioteca Pandas e mostrar as 5 primeiras e 5 últimas linhas."
      ]
    },
    {
      "cell_type": "code",
      "metadata": {
        "id": "jGSqUwVE7QvS"
      },
      "source": [],
      "execution_count": null,
      "outputs": []
    },
    {
      "cell_type": "markdown",
      "source": [
        "#### b-) Mostre num mesmo quadro (usando subplots) os três diagramas de dispersão para os pares de variáveis: TV x sales, radio x sales e newspaper x sales."
      ],
      "metadata": {
        "id": "yY9KotjOEkh2"
      }
    },
    {
      "cell_type": "code",
      "source": [],
      "metadata": {
        "id": "s3d8c7phutxN"
      },
      "execution_count": null,
      "outputs": []
    },
    {
      "cell_type": "markdown",
      "metadata": {
        "id": "8Sao1JGYEP2R"
      },
      "source": [
        "#### c-) Calcule o coeficiente de correlação de Pearson para os três pares de variáveis: TV x sales, radio x sales e newspaper x sales."
      ]
    },
    {
      "cell_type": "code",
      "metadata": {
        "id": "rRbFDx1iDCLq"
      },
      "source": [],
      "execution_count": null,
      "outputs": []
    },
    {
      "cell_type": "markdown",
      "metadata": {
        "id": "VccXvtXmOJy7"
      },
      "source": [
        "#### d-) Analisando os diagramas de dispersão acima e os valores dos coeficientes de correlação responda qual dos tipos de anúncios influencia mais e qual deles influencia menos nos resultados das vendas?\n",
        "\n",
        "Respostas:"
      ]
    },
    {
      "cell_type": "markdown",
      "source": [
        "## PARTE II: *dataset [Tips](https://github.com/mwaskom/seaborn-data/blob/master/tips.csv)*\n",
        "\n",
        "Este dataset mostra diferentes atributos (valor da conta, gorjeta, número de pessoas, etc.) dos clientes de um restaurante."
      ],
      "metadata": {
        "id": "hiGfagosEQ63"
      }
    },
    {
      "cell_type": "markdown",
      "source": [
        "#### e-) Faça a leitura do dataset \"tips\" disponível na biblioteca seaborn."
      ],
      "metadata": {
        "id": "6c2QQ18WB5Vb"
      }
    },
    {
      "cell_type": "code",
      "source": [],
      "metadata": {
        "id": "v2ME0aM2CIq8"
      },
      "execution_count": null,
      "outputs": []
    },
    {
      "cell_type": "markdown",
      "source": [
        "#### f-) Mostre o diagrama de dispersão entre as variáveis \"total_bill\" e \"tip\" e calcule o coeficiente de correlação entre elas.\n",
        "\n",
        "\n",
        "\n"
      ],
      "metadata": {
        "id": "oSbT_35-cNTe"
      }
    },
    {
      "cell_type": "code",
      "source": [],
      "metadata": {
        "id": "ZgMA4ZMPGHHb"
      },
      "execution_count": null,
      "outputs": []
    },
    {
      "cell_type": "markdown",
      "source": [
        "#### g-) Responda:\n",
        "\n",
        "i-) Existe correlação entre 'total_bill' e 'tip'? Resp:\n",
        "\n",
        "ii-) Se sim, a correlação é positiva ou negativa? Resp:\n",
        "\n",
        "iii-) Se sim, qual o grau de correlação? Forte, moderada ou fraca? Resp:"
      ],
      "metadata": {
        "id": "YP4gk2Krehfs"
      }
    },
    {
      "cell_type": "markdown",
      "source": [
        "## PARTE III: *dataset [Atlas Brasil](https://raw.githubusercontent.com/malegopc/DSBD/main/Datasets/Atlas/Atlas_Brasil_2014.csv)*\n",
        "\n",
        "Este dataset mostra diferentes atributos valores de variáveis sociais para cada um dos estados brasileiros:\n",
        "\n",
        "* ANOSEST = Média de anos de estudo\n",
        "* T_ANALF25M = Taxa de analfabetismo - 25 anos ou mais\n",
        "* MORT1 =\tMortalidade infantil\n",
        "* RDPC = Renda per capita \n",
        "* POPTOT = População total\n",
        "* IDHM = IDHM"
      ],
      "metadata": {
        "id": "MLIQY5twIBJC"
      }
    },
    {
      "cell_type": "markdown",
      "source": [
        "#### h-) Ler o dataset \"*Atlas/Atlas_Brasil_2014.csv*\" como dataframe utilizando a biblioteca Pandas"
      ],
      "metadata": {
        "id": "tkE63KqEe7oG"
      }
    },
    {
      "cell_type": "code",
      "source": [],
      "metadata": {
        "id": "NFK1K-12JZlV"
      },
      "execution_count": null,
      "outputs": []
    },
    {
      "cell_type": "markdown",
      "source": [
        "#### i-) Utilizando a função \"[pairplot](https://seaborn.pydata.org/generated/seaborn.pairplot.html)\" da biblioteca seaborn mostre os diagramas de dispersão com suas respectivas retas de regressão entre todos os pares de variáveis."
      ],
      "metadata": {
        "id": "xoJJIY4m8csy"
      }
    },
    {
      "cell_type": "code",
      "source": [],
      "metadata": {
        "id": "7w-2XYR6-3tY"
      },
      "execution_count": null,
      "outputs": []
    },
    {
      "cell_type": "markdown",
      "source": [
        "#### j-) Obtenha a matriz de correlação entre todos os pares de variáveis."
      ],
      "metadata": {
        "id": "UqcFb2rp_ZQO"
      }
    },
    {
      "cell_type": "code",
      "source": [],
      "metadata": {
        "id": "NIIwvqCmRih7"
      },
      "execution_count": null,
      "outputs": []
    },
    {
      "cell_type": "markdown",
      "source": [
        "#### k-) Mostre um \"mapa de calor\" (heatmap) baseado na matriz de correlação entre todos os pares de variáveis."
      ],
      "metadata": {
        "id": "st_9LOHQRnm3"
      }
    },
    {
      "cell_type": "code",
      "source": [],
      "metadata": {
        "id": "O6FgBHefRzac"
      },
      "execution_count": null,
      "outputs": []
    },
    {
      "cell_type": "markdown",
      "source": [
        "#### l-) Analisando os resultados acima, responda:\n",
        "\n",
        "i-) Quais pares de variáveis são correlacionadas positivamente? Resp:\n",
        "\n",
        "ii-) Quais pares de variáveis são correlacionadas negativamente? Resp:\n",
        "\n",
        "iii-) Qual par de variáveis apresenta maior correlação (positiva e negativa)( desconsidere pares com as mesmas variáveis)? Resp:"
      ],
      "metadata": {
        "id": "Fq5_Fb9hSfz3"
      }
    }
  ]
}