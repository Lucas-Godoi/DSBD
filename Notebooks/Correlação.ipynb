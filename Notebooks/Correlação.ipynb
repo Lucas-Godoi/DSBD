{
  "nbformat": 4,
  "nbformat_minor": 0,
  "metadata": {
    "colab": {
      "name": "Correlação.ipynb",
      "provenance": [],
      "collapsed_sections": []
    },
    "kernelspec": {
      "name": "python3",
      "display_name": "Python 3"
    },
    "language_info": {
      "name": "python"
    }
  },
  "cells": [
    {
      "cell_type": "markdown",
      "metadata": {
        "id": "xpAuMVCwfWs8"
      },
      "source": [
        "\n",
        "---\n",
        "\n",
        "---\n",
        "# Associação de duas variáveis\n",
        "\n",
        "Este notebook mostra como construir o gráfico de dispersão de duas variáveis, como obter o coeficiente de correlação de Pearson utilizando diferentes bibliotecas, além da matriz correlação e de covariância.\n",
        "\n",
        "---\n",
        "\n",
        "---\n",
        "\n",
        "\n",
        "\n",
        "\n",
        "\n"
      ]
    },
    {
      "cell_type": "markdown",
      "source": [
        "\n",
        "\n",
        "---\n",
        "\n",
        "\n",
        "## Diagrama de dispersão (scatterplot) \n",
        "\n",
        "---\n",
        "\n"
      ],
      "metadata": {
        "id": "EUM0DDv--s5Y"
      }
    },
    {
      "cell_type": "code",
      "execution_count": 1,
      "metadata": {
        "id": "XQ17JAYs-TSL"
      },
      "outputs": [],
      "source": [
        "import numpy as np\n",
        "import matplotlib.pyplot as plt\n",
        "import seaborn as sns\n",
        "\n",
        "altura = np.array([1.46, 1.8, 1.5, 1.62, 1.65, 1.72, 1.9, 1.56, 1.88, 1.52])\n",
        "peso = np.array([38, 80, 50, 72, 62, 83, 85, 45, 90, 43])"
      ]
    },
    {
      "cell_type": "markdown",
      "source": [
        "Utilizando Matplotlib"
      ],
      "metadata": {
        "id": "vGGn6XA3BJPx"
      }
    },
    {
      "cell_type": "code",
      "source": [
        "plt.scatter(altura, peso)\n",
        "plt.show()"
      ],
      "metadata": {
        "colab": {
          "base_uri": "https://localhost:8080/",
          "height": 265
        },
        "id": "KBqrQX9jAGCt",
        "outputId": "5e3671ea-d435-465e-f0e9-238628081d6e"
      },
      "execution_count": 2,
      "outputs": [
        {
          "output_type": "display_data",
          "data": {
            "image/png": "[encoded data removed]",
            "text/plain": [
              "<Figure size 432x288 with 1 Axes>"
            ]
          },
          "metadata": {
            "needs_background": "light"
          }
        }
      ]
    },
    {
      "cell_type": "markdown",
      "source": [
        "Utilizando Seaborn"
      ],
      "metadata": {
        "id": "21LY6KU0BOtD"
      }
    },
    {
      "cell_type": "code",
      "source": [
        "sns.scatterplot(x=altura,y=peso)"
      ],
      "metadata": {
        "colab": {
          "base_uri": "https://localhost:8080/",
          "height": 282
        },
        "id": "pbi-Qj0pBVLB",
        "outputId": "0c3a769b-54c4-4ee3-9112-f280d3ef1880"
      },
      "execution_count": 3,
      "outputs": [
        {
          "output_type": "execute_result",
          "data": {
            "text/plain": [
              "<matplotlib.axes._subplots.AxesSubplot at 0x7fec64fc4e90>"
            ]
          },
          "metadata": {},
          "execution_count": 3
        },
        {
          "output_type": "display_data",
          "data": {
            "image/png": "[encoded data removed]",
            "text/plain": [
              "<Figure size 432x288 with 1 Axes>"
            ]
          },
          "metadata": {
            "needs_background": "light"
          }
        }
      ]
    },
    {
      "cell_type": "markdown",
      "source": [
        "\n",
        "\n",
        "---\n",
        "\n",
        "\n",
        "## Outros exemplos de diagramas de dispersão (scatterplots)\n",
        "\n",
        "\n",
        "---\n",
        "\n"
      ],
      "metadata": {
        "id": "nTONG4bllMSc"
      }
    },
    {
      "cell_type": "markdown",
      "source": [
        "\n",
        "\n",
        "*   Matplotlib: https://matplotlib.org/stable/api/_as_gen/matplotlib.pyplot.scatter.html?highlight=scatter#matplotlib.pyplot.scatter\n",
        "*   Seaborn: https://seaborn.pydata.org/generated/seaborn.scatterplot.html?highlight=scatter#seaborn.scatterplot\n",
        "* 3D: https://matplotlib.org/stable/gallery/mplot3d/scatter3d.html?highlight=scatter%203d\n",
        "\n",
        "\n",
        "\n"
      ],
      "metadata": {
        "id": "i8HmPTBDlbQ5"
      }
    },
    {
      "cell_type": "markdown",
      "source": [
        "\n",
        "\n",
        "---\n",
        "\n",
        "## Coeficiente de correlação de Pearson\n",
        "\n",
        "---\n",
        "\n"
      ],
      "metadata": {
        "id": "--b0-79pGc2M"
      }
    },
    {
      "cell_type": "markdown",
      "source": [
        "Utilizando Scipy"
      ],
      "metadata": {
        "id": "NxVaTPmxGkA8"
      }
    },
    {
      "cell_type": "code",
      "source": [
        "from scipy.stats import pearsonr\n",
        "\n",
        "r, _ = pearsonr(altura, peso)\n",
        "print('Coeficiente de correlação de Pearson',r)"
      ],
      "metadata": {
        "colab": {
          "base_uri": "https://localhost:8080/"
        },
        "id": "WhpQGs8qGm9-",
        "outputId": "ed190249-7d71-4387-8153-d7adfee5b45d"
      },
      "execution_count": 4,
      "outputs": [
        {
          "output_type": "stream",
          "name": "stdout",
          "text": [
            "Coeficiente de correlação de Pearson 0.9323087400248908\n"
          ]
        }
      ]
    },
    {
      "cell_type": "markdown",
      "source": [
        "Utilizando Numpy"
      ],
      "metadata": {
        "id": "CRl_-hZaIVZa"
      }
    },
    {
      "cell_type": "code",
      "source": [
        "np.corrcoef(altura,peso)  # retorna matriz de correlação"
      ],
      "metadata": {
        "colab": {
          "base_uri": "https://localhost:8080/"
        },
        "id": "Z-qy31r5IXTJ",
        "outputId": "e0000aee-c9be-4224-ef0e-54c36ae13f77"
      },
      "execution_count": 5,
      "outputs": [
        {
          "output_type": "execute_result",
          "data": {
            "text/plain": [
              "array([[1.        , 0.93230874],\n",
              "       [0.93230874, 1.        ]])"
            ]
          },
          "metadata": {},
          "execution_count": 5
        }
      ]
    },
    {
      "cell_type": "markdown",
      "source": [
        "Utilizando Pandas (dataframes)"
      ],
      "metadata": {
        "id": "sQd_K_LrJbXR"
      }
    },
    {
      "cell_type": "code",
      "source": [
        "import pandas as pd\n",
        "\n",
        "df = pd.DataFrame({'Altura': altura, 'Peso': peso})\n",
        "df"
      ],
      "metadata": {
        "colab": {
          "base_uri": "https://localhost:8080/",
          "height": 363
        },
        "id": "V5aLW5_aJefR",
        "outputId": "78045d93-7581-4910-d804-b134796cbabc"
      },
      "execution_count": 6,
      "outputs": [
        {
          "output_type": "execute_result",
          "data": {
            "text/html": [
              "<div>\n",
              "<style scoped>\n",
              "    .dataframe tbody tr th:only-of-type {\n",
              "        vertical-align: middle;\n",
              "    }\n",
              "\n",
              "    .dataframe tbody tr th {\n",
              "        vertical-align: top;\n",
              "    }\n",
              "\n",
              "    .dataframe thead th {\n",
              "        text-align: right;\n",
              "    }\n",
              "</style>\n",
              "<table border=\"1\" class=\"dataframe\">\n",
              "  <thead>\n",
              "    <tr style=\"text-align: right;\">\n",
              "      <th></th>\n",
              "      <th>Altura</th>\n",
              "      <th>Peso</th>\n",
              "    </tr>\n",
              "  </thead>\n",
              "  <tbody>\n",
              "    <tr>\n",
              "      <th>0</th>\n",
              "      <td>1.46</td>\n",
              "      <td>38</td>\n",
              "    </tr>\n",
              "    <tr>\n",
              "      <th>1</th>\n",
              "      <td>1.80</td>\n",
              "      <td>80</td>\n",
              "    </tr>\n",
              "    <tr>\n",
              "      <th>2</th>\n",
              "      <td>1.50</td>\n",
              "      <td>50</td>\n",
              "    </tr>\n",
              "    <tr>\n",
              "      <th>3</th>\n",
              "      <td>1.62</td>\n",
              "      <td>72</td>\n",
              "    </tr>\n",
              "    <tr>\n",
              "      <th>4</th>\n",
              "      <td>1.65</td>\n",
              "      <td>62</td>\n",
              "    </tr>\n",
              "    <tr>\n",
              "      <th>5</th>\n",
              "      <td>1.72</td>\n",
              "      <td>83</td>\n",
              "    </tr>\n",
              "    <tr>\n",
              "      <th>6</th>\n",
              "      <td>1.90</td>\n",
              "      <td>85</td>\n",
              "    </tr>\n",
              "    <tr>\n",
              "      <th>7</th>\n",
              "      <td>1.56</td>\n",
              "      <td>45</td>\n",
              "    </tr>\n",
              "    <tr>\n",
              "      <th>8</th>\n",
              "      <td>1.88</td>\n",
              "      <td>90</td>\n",
              "    </tr>\n",
              "    <tr>\n",
              "      <th>9</th>\n",
              "      <td>1.52</td>\n",
              "      <td>43</td>\n",
              "    </tr>\n",
              "  </tbody>\n",
              "</table>\n",
              "</div>"
            ],
            "text/plain": [
              "   Altura  Peso\n",
              "0    1.46    38\n",
              "1    1.80    80\n",
              "2    1.50    50\n",
              "3    1.62    72\n",
              "4    1.65    62\n",
              "5    1.72    83\n",
              "6    1.90    85\n",
              "7    1.56    45\n",
              "8    1.88    90\n",
              "9    1.52    43"
            ]
          },
          "metadata": {},
          "execution_count": 6
        }
      ]
    },
    {
      "cell_type": "code",
      "source": [
        "df.corr() # retorna matriz de correloação"
      ],
      "metadata": {
        "colab": {
          "base_uri": "https://localhost:8080/",
          "height": 112
        },
        "id": "MdWABnUNMPG9",
        "outputId": "8cfb73e4-c473-4d75-bdcd-9ccf3dc6abc6"
      },
      "execution_count": 7,
      "outputs": [
        {
          "output_type": "execute_result",
          "data": {
            "text/html": [
              "<div>\n",
              "<style scoped>\n",
              "    .dataframe tbody tr th:only-of-type {\n",
              "        vertical-align: middle;\n",
              "    }\n",
              "\n",
              "    .dataframe tbody tr th {\n",
              "        vertical-align: top;\n",
              "    }\n",
              "\n",
              "    .dataframe thead th {\n",
              "        text-align: right;\n",
              "    }\n",
              "</style>\n",
              "<table border=\"1\" class=\"dataframe\">\n",
              "  <thead>\n",
              "    <tr style=\"text-align: right;\">\n",
              "      <th></th>\n",
              "      <th>Altura</th>\n",
              "      <th>Peso</th>\n",
              "    </tr>\n",
              "  </thead>\n",
              "  <tbody>\n",
              "    <tr>\n",
              "      <th>Altura</th>\n",
              "      <td>1.000000</td>\n",
              "      <td>0.932309</td>\n",
              "    </tr>\n",
              "    <tr>\n",
              "      <th>Peso</th>\n",
              "      <td>0.932309</td>\n",
              "      <td>1.000000</td>\n",
              "    </tr>\n",
              "  </tbody>\n",
              "</table>\n",
              "</div>"
            ],
            "text/plain": [
              "          Altura      Peso\n",
              "Altura  1.000000  0.932309\n",
              "Peso    0.932309  1.000000"
            ]
          },
          "metadata": {},
          "execution_count": 7
        }
      ]
    },
    {
      "cell_type": "markdown",
      "source": [
        "\n",
        "\n",
        "---\n",
        "##Covariância\n",
        "\n",
        "\n",
        "---\n",
        "\n",
        "\n",
        "\n"
      ],
      "metadata": {
        "id": "vh_05Tzsjjkw"
      }
    },
    {
      "cell_type": "markdown",
      "source": [
        "Utilizando Numpy"
      ],
      "metadata": {
        "id": "YxaZkGa_kvZ9"
      }
    },
    {
      "cell_type": "code",
      "source": [
        "cov = np.cov(altura,peso)\n",
        "print('Covariância',cov)"
      ],
      "metadata": {
        "colab": {
          "base_uri": "https://localhost:8080/"
        },
        "id": "a0Vpp-o3jrI1",
        "outputId": "5a535dc4-7389-4136-9188-e5399aaff79d"
      },
      "execution_count": 8,
      "outputs": [
        {
          "output_type": "stream",
          "name": "stdout",
          "text": [
            "Covariância [[2.51211111e-02 2.90133333e+00]\n",
            " [2.90133333e+00 3.85511111e+02]]\n"
          ]
        }
      ]
    },
    {
      "cell_type": "markdown",
      "source": [
        "Utilizando Pandas"
      ],
      "metadata": {
        "id": "Wg0CZpP4kyWq"
      }
    },
    {
      "cell_type": "code",
      "source": [
        "df.cov()"
      ],
      "metadata": {
        "colab": {
          "base_uri": "https://localhost:8080/",
          "height": 112
        },
        "id": "oKOcj75lkkV-",
        "outputId": "a872ac55-abe2-4156-8028-44124c9629ad"
      },
      "execution_count": 9,
      "outputs": [
        {
          "output_type": "execute_result",
          "data": {
            "text/html": [
              "<div>\n",
              "<style scoped>\n",
              "    .dataframe tbody tr th:only-of-type {\n",
              "        vertical-align: middle;\n",
              "    }\n",
              "\n",
              "    .dataframe tbody tr th {\n",
              "        vertical-align: top;\n",
              "    }\n",
              "\n",
              "    .dataframe thead th {\n",
              "        text-align: right;\n",
              "    }\n",
              "</style>\n",
              "<table border=\"1\" class=\"dataframe\">\n",
              "  <thead>\n",
              "    <tr style=\"text-align: right;\">\n",
              "      <th></th>\n",
              "      <th>Altura</th>\n",
              "      <th>Peso</th>\n",
              "    </tr>\n",
              "  </thead>\n",
              "  <tbody>\n",
              "    <tr>\n",
              "      <th>Altura</th>\n",
              "      <td>0.025121</td>\n",
              "      <td>2.901333</td>\n",
              "    </tr>\n",
              "    <tr>\n",
              "      <th>Peso</th>\n",
              "      <td>2.901333</td>\n",
              "      <td>385.511111</td>\n",
              "    </tr>\n",
              "  </tbody>\n",
              "</table>\n",
              "</div>"
            ],
            "text/plain": [
              "          Altura        Peso\n",
              "Altura  0.025121    2.901333\n",
              "Peso    2.901333  385.511111"
            ]
          },
          "metadata": {},
          "execution_count": 9
        }
      ]
    },
    {
      "cell_type": "markdown",
      "source": [
        "\n",
        "\n",
        "---\n",
        "\n",
        "\n",
        "## Matriz de correlação (visualização - heatmap)\n",
        "\n",
        "\n",
        "---\n",
        "\n"
      ],
      "metadata": {
        "id": "g7jbeFdvB4sw"
      }
    },
    {
      "cell_type": "code",
      "source": [
        "data = {'A': [45,37,42,35,39],\n",
        "         'B': [38,31,26,28,33],\n",
        "         'C': [10,15,17,21,12]\n",
        "        }\n",
        "\n",
        "df = pd.DataFrame(data,columns=['A','B','C'])\n",
        "\n",
        "corrMatrix = df.corr()\n",
        "sns.heatmap(corrMatrix, annot=True)\n",
        "plt.show()"
      ],
      "metadata": {
        "colab": {
          "base_uri": "https://localhost:8080/",
          "height": 269
        },
        "id": "xIbUSNDhyXGo",
        "outputId": "670314ce-8b89-47a8-9dc3-2a856c931002"
      },
      "execution_count": 10,
      "outputs": [
        {
          "output_type": "display_data",
          "data": {
            "image/png": "[encoded data removed]",
            "text/plain": [
              "<Figure size 432x288 with 2 Axes>"
            ]
          },
          "metadata": {
            "needs_background": "light"
          }
        }
      ]
    },
    {
      "cell_type": "markdown",
      "source": [
        "\n",
        "Outros exemplos de heatmaps de matrizes de correlação:\n",
        "https://seaborn.pydata.org/generated/seaborn.heatmap.html?highlight=cmap\n",
        "\n",
        "\n",
        "\n"
      ],
      "metadata": {
        "id": "DuL0NNCs3Uuf"
      }
    },
    {
      "cell_type": "markdown",
      "source": [
        "\n",
        "\n",
        "---\n",
        "\n",
        "\n",
        "## Matriz de covariância (visualização - heatmap)\n",
        "\n",
        "\n",
        "---\n",
        "\n"
      ],
      "metadata": {
        "id": "HVzlB7Oo0s8c"
      }
    },
    {
      "cell_type": "code",
      "source": [
        "data = {'A': [45,37,42,35,39],\n",
        "         'B': [38,31,26,28,33],\n",
        "         'C': [10,15,17,21,12]\n",
        "        }\n",
        "\n",
        "df = pd.DataFrame(data,columns=['A','B','C'])\n",
        "\n",
        "covMatrix = df.cov()\n",
        "sns.heatmap(covMatrix, annot=True)\n",
        "plt.show()"
      ],
      "metadata": {
        "colab": {
          "base_uri": "https://localhost:8080/",
          "height": 265
        },
        "id": "GZBPvlVD0J20",
        "outputId": "49831ebc-691a-455f-caa4-6019f7d40102"
      },
      "execution_count": 11,
      "outputs": [
        {
          "output_type": "display_data",
          "data": {
            "image/png": "[encoded data removed]",
            "text/plain": [
              "<Figure size 432x288 with 2 Axes>"
            ]
          },
          "metadata": {
            "needs_background": "light"
          }
        }
      ]
    }
  ]
}