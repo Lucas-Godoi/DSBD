{
  "nbformat": 4,
  "nbformat_minor": 0,
  "metadata": {
    "colab": {
      "name": "Exemplo_Plotly.ipynb",
      "provenance": [],
      "collapsed_sections": []
    },
    "language_info": {
      "name": "python"
    },
    "kernelspec": {
      "name": "python3",
      "display_name": "Python 3"
    }
  },
  "cells": [
    {
      "metadata": {
        "id": "T9CCbDEksqnq"
      },
      "cell_type": "markdown",
      "source": [
        "---\n",
        "---\n",
        "# Tutorial de Plotly\n",
        "\n",
        "Este notebook apresenta um rápido tutorial sobre a biblioteca [Plotly](https://plotly.com/).\n",
        "\n",
        "*Fonte: adaptado de https://paulovasconcellos.com.br/como-criar-gr%C3%A1ficos-interativos-utilizando-plotly-e-python-3eb6eda57a2b*\n",
        "\n",
        "---\n",
        "---\n",
        "\n",
        "\n",
        "\n"
      ]
    },
    {
      "cell_type": "markdown",
      "metadata": {
        "id": "lblkLglJyIhs"
      },
      "source": [
        "## Clona repositório de dados da disciplina hospedado no GitHUb"
      ]
    },
    {
      "cell_type": "code",
      "source": [
        "!git clone \"https://github.com/malegopc/DSBD\""
      ],
      "metadata": {
        "id": "5JJXAj48LQR6"
      },
      "execution_count": null,
      "outputs": []
    },
    {
      "metadata": {
        "id": "0J8MAXiwtE_5"
      },
      "cell_type": "markdown",
      "source": [
        "## Importando bibliotecas"
      ]
    },
    {
      "metadata": {
        "id": "M0BzlpxNkuCb"
      },
      "cell_type": "code",
      "source": [
        "import pandas as pd\n",
        "import numpy as np\n",
        "import plotly.offline as py\n",
        "import plotly.graph_objs as go"
      ],
      "execution_count": null,
      "outputs": []
    },
    {
      "metadata": {
        "id": "qHPV-4kpoJq5"
      },
      "cell_type": "code",
      "source": [
        "# Devido o Plotly estar sendo utilizado no Google Colab é ncessário definir\n",
        "# a função abaixo e chamá-la para exibir um gráfico\n",
        " \n",
        "def enable_plotly_in_cell():\n",
        "  import IPython\n",
        "  from plotly.offline import init_notebook_mode\n",
        "  display(IPython.core.display.HTML('''<script \n",
        "  src=\"/static/components/requirejs/require.js\"></script>'''))\n",
        "  init_notebook_mode(connected=False)"
      ],
      "execution_count": null,
      "outputs": []
    },
    {
      "metadata": {
        "id": "TKRZbGwEtmt_"
      },
      "cell_type": "markdown",
      "source": [
        "## Carregando dataset\n",
        "\n",
        "Este conjunto de dados contém preços de venda de casas para King County, que inclui Seattle. Inclui casas vendidas entre maio de 2014 e maio de 2015.\n",
        "\n",
        "É um ótimo conjunto de dados para avaliar modelos de regressão simples."
      ]
    },
    {
      "metadata": {
        "id": "yjaWEmXvkw2t"
      },
      "cell_type": "code",
      "source": [
        "df = pd.read_csv('/content/DSBD/Datasets/KC_house/kc_house_data.csv')\n",
        "df.head()"
      ],
      "execution_count": null,
      "outputs": []
    },
    {
      "metadata": {
        "id": "ew_pUZ4Fq6ix"
      },
      "cell_type": "code",
      "source": [
        "print('Esse dataset contém {} linhas'.format(df.shape[0]))"
      ],
      "execution_count": null,
      "outputs": []
    },
    {
      "metadata": {
        "id": "S3QQzdX7uMEJ"
      },
      "cell_type": "markdown",
      "source": [
        "## Gráfico de dispersão simples"
      ]
    },
    {
      "metadata": {
        "id": "LHqT3nLnp7nI"
      },
      "cell_type": "code",
      "source": [
        "enable_plotly_in_cell()\n",
        "\n",
        "trace = go.Scatter(x = df['yr_built'],\n",
        "                   y = df['price'],\n",
        "                   mode = 'markers')\n",
        "\n",
        "data = [trace]\n",
        "\n",
        "py.iplot(data)"
      ],
      "execution_count": null,
      "outputs": []
    },
    {
      "metadata": {
        "id": "TGyHNXveuhjS"
      },
      "cell_type": "markdown",
      "source": [
        "## Gráfico com títulos\n",
        "Vamos utilizar a função `go.Layout()` para definir alguns rótulos e títulos"
      ]
    },
    {
      "metadata": {
        "id": "tMqg4nH_rD4o"
      },
      "cell_type": "code",
      "source": [
        "enable_plotly_in_cell()\n",
        "\n",
        "trace = go.Scatter(x = df['yr_built'],\n",
        "                   y = df['price'],\n",
        "                   mode = 'markers')\n",
        "\n",
        "data = [trace]\n",
        "layout = go.Layout(title='Preços por ano de construção',\n",
        "                   yaxis={'title':'Preço da casa'},\n",
        "                   xaxis={'title': 'Ano de construção'}, )\n",
        "fig = go.Figure(data=data, layout=layout)\n",
        "py.iplot(fig)"
      ],
      "execution_count": null,
      "outputs": []
    },
    {
      "metadata": {
        "id": "ZU2h89pjutsY"
      },
      "cell_type": "markdown",
      "source": [
        "## Alterando cores do gráfico"
      ]
    },
    {
      "metadata": {
        "id": "FpND8RMerF1T"
      },
      "cell_type": "code",
      "source": [
        "enable_plotly_in_cell()\n",
        "trace = go.Scatter(x = df['yr_built'],\n",
        "                   y = df['price'],\n",
        "                   mode = 'markers',\n",
        "                   marker =  {'color' : '#e74c3c',\n",
        "                              'line' : {'width': 1,\n",
        "                                        'color': '#c0392b'}},\n",
        "                   opacity=.8)\n",
        "\n",
        "data = [trace]\n",
        "layout = go.Layout(title='Preços por ano de construção',\n",
        "                   yaxis={'title':'Preço da casa'},\n",
        "                   xaxis={'title': 'Ano de construção'})\n",
        "fig = go.Figure(data=data, layout=layout)\n",
        "py.iplot(fig)"
      ],
      "execution_count": null,
      "outputs": []
    },
    {
      "metadata": {
        "id": "JEL5B_vCuzq3"
      },
      "cell_type": "markdown",
      "source": [
        "## Boxplot"
      ]
    },
    {
      "metadata": {
        "id": "JTF-Rvz4rHec"
      },
      "cell_type": "code",
      "source": [
        "enable_plotly_in_cell()\n",
        "\n",
        "# Gerando gráficos para casas que tem 1 quarto\n",
        "trace1 = go.Box(y = df.loc[df['bedrooms'] == 1, 'price'],\n",
        "                name = 'Casas com 1 quarto',\n",
        "                marker = {'color': '#f39c12'})\n",
        "# Gráfico de caixa para casas com 2 quartos\n",
        "trace2 = go.Box(y = df.loc[df['bedrooms'] == 2, 'price'],\n",
        "                name = 'Casas com 2 quartos',\n",
        "                marker = {'color': '#e67e22'})\n",
        "\n",
        "# Gráfico de caixa para casas com 3 quartos\n",
        "trace3 = go.Box(y = df.loc[df['bedrooms'] == 3, 'price'],\n",
        "                name = 'Casas com 3 quartos',\n",
        "                marker = {'color': '#d35400'})\n",
        "\n",
        "# Gráfico para casas de quatro quartos\n",
        "trace4 = go.Box(y = df.loc[df['bedrooms'] == 4, 'price'],\n",
        "                name = 'Casas com 4 quartos',\n",
        "                marker = {'color': '#e74c3c'})\n",
        "\n",
        "data = [trace1, trace2, trace3, trace4]\n",
        "layout = go.Layout(title = 'Dispersão de preços para casas com diferentes quartos',\n",
        "                   titlefont = {'family': 'Arial',\n",
        "                                'size': 22,\n",
        "                                'color': '#7f7f7f'},\n",
        "                   xaxis = {'title': 'Número de quartos'},\n",
        "                   yaxis = {'title': 'Preço'},\n",
        "                   paper_bgcolor = 'rgb(243, 243, 243)',\n",
        "                   plot_bgcolor = 'rgb(243, 243, 243)')\n",
        "\n",
        "fig = go.Figure(data=data, layout=layout)\n",
        "py.iplot(fig)"
      ],
      "execution_count": null,
      "outputs": []
    },
    {
      "metadata": {
        "id": "YtVT0WsJu29N"
      },
      "cell_type": "markdown",
      "source": [
        "## Gráficos de linha"
      ]
    },
    {
      "metadata": {
        "id": "GB5TBvdrrXz8"
      },
      "cell_type": "code",
      "source": [
        "enable_plotly_in_cell()\n",
        "\n",
        "# Gráfico usando apenas marcadores\n",
        "trace1 = go.Scatter(x = ['Janeiro', 'Fevereiro', 'Março', 'Abril', 'Maio'],\n",
        "                    y = [1, 2, 3, 4, 5],\n",
        "                    mode = 'markers',\n",
        "                    name = 'Apenas marcadores')\n",
        "\n",
        "# Gráfico de apenas linhas\n",
        "trace2 = go.Scatter(x = ['Janeiro', 'Fevereiro', 'Março', 'Abril', 'Maio'],\n",
        "                    y = [11, 12, 13, 14, 15],\n",
        "                    mode = 'lines',\n",
        "                    name = 'Apenas linhas')\n",
        "\n",
        "# Criando gráfico com marcadores e linhas\n",
        "trace3 = go.Scatter(x = ['Janeiro', 'Fevereiro', 'Março', 'Abril', 'Maio'],\n",
        "                    y = [6, 7, 8, 9, 10],\n",
        "                    mode = 'markers+lines',\n",
        "                    name = 'Marcadores e Linhas')\n",
        "\n",
        "data = [trace1, trace2, trace3]\n",
        "\n",
        "py.iplot(data)"
      ],
      "execution_count": null,
      "outputs": []
    },
    {
      "metadata": {
        "id": "QFkaKfwBu_1Z"
      },
      "cell_type": "markdown",
      "source": [
        "## Customizando linhas do gráfico"
      ]
    },
    {
      "metadata": {
        "id": "_7-A2Uj_rdK9"
      },
      "cell_type": "code",
      "source": [
        "enable_plotly_in_cell()\n",
        "# Gráfico usando apenas marcadores\n",
        "trace1 = go.Scatter(x = ['Janeiro', 'Fevereiro', 'Março', 'Abril', 'Maio'],\n",
        "                    y = [10, 9, 11, 8, 12],\n",
        "                    mode = 'lines',\n",
        "                    name = 'Gráfico com linhas tracejadas',\n",
        "                    line = {'color': '#ee5253',\n",
        "                            'dash': 'dash'})\n",
        "\n",
        "# Gráfico de apenas linhas\n",
        "trace2 = go.Scatter(x = ['Janeiro', 'Fevereiro', 'Março', 'Abril', 'Maio'],\n",
        "                    y = [11, 12, 13, 14, 15],\n",
        "                    mode = 'lines',\n",
        "                    name = 'Gráfico com linha pontilhada',\n",
        "                    line = {'color': '#341f97',\n",
        "                            'dash': 'dot'})\n",
        "\n",
        "data = [trace1, trace2]\n",
        "\n",
        "py.iplot(data)"
      ],
      "execution_count": null,
      "outputs": []
    },
    {
      "metadata": {
        "id": "kd1x03lAvGZv"
      },
      "cell_type": "markdown",
      "source": [
        "## Gráfico de barras simples"
      ]
    },
    {
      "metadata": {
        "id": "lbhb2ndnrhOB"
      },
      "cell_type": "code",
      "source": [
        "enable_plotly_in_cell()\n",
        "trace = go.Bar(x = ['Banana', 'Maçã', 'Uva'],\n",
        "               y = [10, 20, 30])\n",
        "data = [trace]\n",
        "py.iplot(data)"
      ],
      "execution_count": null,
      "outputs": []
    },
    {
      "metadata": {
        "id": "qynM4cvTvKac"
      },
      "cell_type": "markdown",
      "source": [
        "## Múltiplos gráficos de barras"
      ]
    },
    {
      "metadata": {
        "id": "EWFKKOilrtLc"
      },
      "cell_type": "code",
      "source": [
        "enable_plotly_in_cell()\n",
        "trace1 = go.Bar(x = ['Banana', 'Maçã', 'Uva'],\n",
        "                y = [10, 20, 30])\n",
        "\n",
        "trace2 = go.Bar(x = ['Banana', 'Maçã', 'Uva'],\n",
        "                y = [20, 30, 40])\n",
        "\n",
        "data = [trace1, trace2]\n",
        "py.iplot(data)"
      ],
      "execution_count": null,
      "outputs": []
    },
    {
      "metadata": {
        "id": "sgyOpzxRvNtR"
      },
      "cell_type": "markdown",
      "source": [
        "## Alterando cores e nomes de gráficas de barras"
      ]
    },
    {
      "metadata": {
        "id": "2V8zhh1Cr2xC"
      },
      "cell_type": "code",
      "source": [
        "enable_plotly_in_cell()\n",
        "\n",
        "trace1 = go.Bar(x = ['Banana', 'Maçã', 'Uva'],\n",
        "                y = [10, 20, 30],\n",
        "                name = 'Gráfico 1',\n",
        "                marker = {'color': '#feca57'})\n",
        "\n",
        "trace2 = go.Bar(x = ['Banana', 'Maçã', 'Uva'],\n",
        "                y = [20, 30, 40],\n",
        "                name = 'Gráfico 2',\n",
        "                marker = {'color': '#ff9f43'})\n",
        "\n",
        "data = [trace1, trace2]\n",
        "\n",
        "py.iplot(data)"
      ],
      "execution_count": null,
      "outputs": []
    },
    {
      "metadata": {
        "id": "N3_BF92LvTfd"
      },
      "cell_type": "markdown",
      "source": [
        "## Adicionando título"
      ]
    },
    {
      "metadata": {
        "id": "arreUqNXr69A"
      },
      "cell_type": "code",
      "source": [
        "enable_plotly_in_cell()\n",
        "\n",
        "trace1 = go.Bar(x = ['Banana', 'Maçã', 'Uva'],\n",
        "                y = [10, 20, 30],\n",
        "                name = 'Gráfico 1',\n",
        "                marker = {'color': '#feca57'})\n",
        "\n",
        "trace2 = go.Bar(x = ['Banana', 'Maçã', 'Uva'],\n",
        "                y = [20, 30, 40],\n",
        "                name = 'Gráfico 2',\n",
        "                marker = {'color': '#ff9f43'})\n",
        "\n",
        "data = [trace1, trace2]\n",
        "\n",
        "layout = go.Layout(title = 'Gráfico de barras do <a href=\\'https://plot.ly/\\'>Plotly</a>',\n",
        "                   xaxis = {'title': 'Nome da fruta'},\n",
        "                   yaxis = {'title': 'Quantidade'}\n",
        "                   )\n",
        "fig = go.Figure(data=data, layout=layout)\n",
        "py.iplot(fig)"
      ],
      "execution_count": null,
      "outputs": []
    },
    {
      "metadata": {
        "id": "IW0fHj1bvpAL"
      },
      "cell_type": "markdown",
      "source": [
        "## Criando um stacked bar plot"
      ]
    },
    {
      "metadata": {
        "id": "JTg1uzi9sA8m"
      },
      "cell_type": "code",
      "source": [
        "enable_plotly_in_cell()\n",
        "\n",
        "trace1 = go.Bar(x = ['Banana', 'Maçã', 'Uva'],\n",
        "                y = [10, 20, 30],\n",
        "                name = 'Gráfico 1',\n",
        "                marker = {'color': '#feca57'})\n",
        "\n",
        "trace2 = go.Bar(x = ['Banana', 'Maçã', 'Uva'],\n",
        "                y = [20, 30, 40],\n",
        "                name = 'Gráfico 2',\n",
        "                marker = {'color': '#ff9f43'})\n",
        "\n",
        "data = [trace1, trace2]\n",
        "\n",
        "layout = go.Layout(title = 'Gráfico de barras do <a href=\\'https://plot.ly/\\'>Plotly</a>',\n",
        "                   xaxis = {'title': 'Nome da fruta'},\n",
        "                   yaxis = {'title': 'Quantidade'},\n",
        "                   barmode = 'stack')\n",
        "\n",
        "fig = go.Figure(data=data, layout=layout)\n",
        "py.iplot(fig)"
      ],
      "execution_count": null,
      "outputs": []
    },
    {
      "metadata": {
        "id": "MXjR_--wvxxF"
      },
      "cell_type": "markdown",
      "source": [
        "## Criando gráfico com mapas"
      ]
    },
    {
      "metadata": {
        "id": "BalGHtdVv0Rz"
      },
      "cell_type": "markdown",
      "source": [
        "###Lendo arquivo"
      ]
    },
    {
      "metadata": {
        "id": "Ml1b6q26sHn0"
      },
      "cell_type": "code",
      "source": [
        "df = pd.read_csv('https://raw.githubusercontent.com/plotly/datasets/master/2014_us_cities.csv')\n",
        "df.head()"
      ],
      "execution_count": null,
      "outputs": []
    },
    {
      "metadata": {
        "id": "8JJj9Nx6sKVX"
      },
      "cell_type": "code",
      "source": [
        "enable_plotly_in_cell()\n",
        "\n",
        "trace = go.Scattergeo(\n",
        "                     locationmode = 'USA-states',\n",
        "                     lon = df['lon'],\n",
        "                     lat = df['lat'],\n",
        "                     text = df['name'] + '- População: ' + df['pop'].astype(str),\n",
        "                     marker = dict(\n",
        "                            size = df['pop']/5000,\n",
        "                            color = '#e74c3c',\n",
        "                            line = {'width': 0.5, \n",
        "                                    'color': '#2c3e50'},\n",
        "                            sizemode = 'area')\n",
        "                    )\n",
        "data = [trace]\n",
        "\n",
        "layout = go.Layout(\n",
        "        title = '<b>População americana em 2014</b>',\n",
        "        titlefont = {'family': 'Arial',\n",
        "                     'size': 24},\n",
        "        geo =  {'scope': 'usa',\n",
        "                'projection': {'type': 'albers usa'},\n",
        "                'showland': True,\n",
        "                'landcolor': '#2ecc71',\n",
        "                'showlakes': True,\n",
        "                'lakecolor': '#3498db',\n",
        "                'subunitwidth': 1,\n",
        "                'subunitcolor': \"rgb(255, 255, 255)\"\n",
        "                })\n",
        "\n",
        "fig = go.Figure(data=data, layout=layout)\n",
        "py.iplot(fig)"
      ],
      "execution_count": null,
      "outputs": []
    }
  ]
}