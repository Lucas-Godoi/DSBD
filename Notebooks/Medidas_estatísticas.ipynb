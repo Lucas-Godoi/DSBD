{
  "nbformat": 4,
  "nbformat_minor": 0,
  "metadata": {
    "kernelspec": {
      "display_name": "Python 3",
      "language": "python",
      "name": "python3"
    },
    "language_info": {
      "codemirror_mode": {
        "name": "ipython",
        "version": 3
      },
      "file_extension": ".py",
      "mimetype": "text/x-python",
      "name": "python",
      "nbconvert_exporter": "python",
      "pygments_lexer": "ipython3",
      "version": "3.7.3"
    },
    "colab": {
      "name": "Medidas_estatísticas.ipynb",
      "provenance": [],
      "collapsed_sections": []
    }
  },
  "cells": [
    {
      "cell_type": "markdown",
      "metadata": {
        "id": "xpAuMVCwfWs8"
      },
      "source": [
        "\n",
        "\n",
        "---\n",
        "\n",
        "---\n",
        "# Medidas Estatísticas\n",
        "\n",
        "Este notebook apresenta cálculos de medidas estatísticas (de posição e de dispersão) utilizando diferentes funções (bibliotecas):\n",
        "\n",
        "* Módulo de estatística do Python ([statistics](https://docs.python.org/3/library/statistics.html#module-statistics))\n",
        "* Módulo de estatística da biblioteca Numpy ([statistics](https://numpy.org/doc/stable/reference/routines.statistics.html?highlight=statistics))\n",
        "* Módulo de estatística da biblioteca Scipy ([stats](https://docs.scipy.org/doc/scipy/reference/stats.html?highlight=stats#module-scipy.stats))\n",
        "\n",
        "Os cálculos são feitos em:\n",
        "\n",
        "1. Array de dados\n",
        "2. Dados agrupados em classes\n",
        "3. Dataframes\n",
        "\n",
        "\n",
        "\n",
        "---\n",
        "\n",
        "---\n",
        "\n",
        "\n",
        "\n",
        "\n",
        "\n"
      ]
    },
    {
      "cell_type": "markdown",
      "metadata": {
        "id": "Hw9-e_kKD6QE"
      },
      "source": [
        "\n",
        "\n",
        "---\n",
        "## 1. Array de dados\n",
        "---\n",
        "\n",
        "\n"
      ]
    },
    {
      "cell_type": "code",
      "metadata": {
        "id": "5Ius77o0GejU"
      },
      "source": [
        "import statistics # módulo de estatística do Python\n",
        "import math # módulo de matemática do Python\n",
        "import numpy as np # biblioteca numpy\n",
        "from scipy import stats # módulo de estatística da biblioteca scipy\n",
        "\n",
        "dados = np.array([24, 23, 22, 28, 35, 21, 23, 33, 34, 24, 21, 25, 36, 26, 22, \n",
        "                  30, 32, 25, 26, 33, 34, 21, 31, 25, 31, 26, 25, 35, 33, 31])"
      ],
      "execution_count": null,
      "outputs": []
    },
    {
      "cell_type": "markdown",
      "metadata": {
        "id": "1_Pp-sqRMiSo"
      },
      "source": [
        "##Média"
      ]
    },
    {
      "cell_type": "code",
      "metadata": {
        "colab": {
          "base_uri": "https://localhost:8080/"
        },
        "id": "Hm0tnuVQMk7F",
        "outputId": "d841e4e1-85c9-47a9-f96d-a56fdef0cacf"
      },
      "source": [
        "dados.sum() / len(dados)"
      ],
      "execution_count": null,
      "outputs": [
        {
          "output_type": "execute_result",
          "data": {
            "text/plain": [
              "27.833333333333332"
            ]
          },
          "metadata": {},
          "execution_count": 2
        }
      ]
    },
    {
      "cell_type": "code",
      "metadata": {
        "colab": {
          "base_uri": "https://localhost:8080/"
        },
        "id": "WgGfVICxMvC1",
        "outputId": "1a1cc171-629b-4c5d-876f-c608d13f34b7"
      },
      "source": [
        "dados.mean()"
      ],
      "execution_count": null,
      "outputs": [
        {
          "output_type": "execute_result",
          "data": {
            "text/plain": [
              "27.833333333333332"
            ]
          },
          "metadata": {},
          "execution_count": 3
        }
      ]
    },
    {
      "cell_type": "code",
      "metadata": {
        "colab": {
          "base_uri": "https://localhost:8080/"
        },
        "id": "Jme6FqXDNXGb",
        "outputId": "0026e28d-3081-4175-cb16-e23b8f8599eb"
      },
      "source": [
        "np.mean(dados)"
      ],
      "execution_count": null,
      "outputs": [
        {
          "output_type": "execute_result",
          "data": {
            "text/plain": [
              "27.833333333333332"
            ]
          },
          "metadata": {},
          "execution_count": 4
        }
      ]
    },
    {
      "cell_type": "code",
      "metadata": {
        "colab": {
          "base_uri": "https://localhost:8080/"
        },
        "id": "eiQQdzlAMyIc",
        "outputId": "5576a8c0-a665-4ba1-bebd-26dba9d7a22c"
      },
      "source": [
        "statistics.mean(dados.astype(float))"
      ],
      "execution_count": null,
      "outputs": [
        {
          "output_type": "execute_result",
          "data": {
            "text/plain": [
              "27.833333333333332"
            ]
          },
          "metadata": {},
          "execution_count": 5
        }
      ]
    },
    {
      "cell_type": "markdown",
      "metadata": {
        "id": "CuYvMqQDM66Y"
      },
      "source": [
        "##Mediana"
      ]
    },
    {
      "cell_type": "code",
      "metadata": {
        "colab": {
          "base_uri": "https://localhost:8080/"
        },
        "id": "R3WUpC3JNu1i",
        "outputId": "27ec03f0-4e50-4563-c4e1-f6510687e146"
      },
      "source": [
        "np.median(dados)"
      ],
      "execution_count": null,
      "outputs": [
        {
          "output_type": "execute_result",
          "data": {
            "text/plain": [
              "26.0"
            ]
          },
          "metadata": {},
          "execution_count": 6
        }
      ]
    },
    {
      "cell_type": "code",
      "metadata": {
        "colab": {
          "base_uri": "https://localhost:8080/"
        },
        "id": "djOLERjLN2Pl",
        "outputId": "e4d36b41-f296-4110-95e5-c9c718f30628"
      },
      "source": [
        "statistics.median(dados)"
      ],
      "execution_count": null,
      "outputs": [
        {
          "output_type": "execute_result",
          "data": {
            "text/plain": [
              "26.0"
            ]
          },
          "metadata": {},
          "execution_count": 7
        }
      ]
    },
    {
      "cell_type": "markdown",
      "metadata": {
        "id": "1Y9eGD98OlJ4"
      },
      "source": [
        "##Moda"
      ]
    },
    {
      "cell_type": "code",
      "metadata": {
        "colab": {
          "base_uri": "https://localhost:8080/"
        },
        "id": "587EFBtwPgDv",
        "outputId": "8bf167a7-d0ec-4c35-e18d-998cc67aa948"
      },
      "source": [
        "statistics.mode(dados)"
      ],
      "execution_count": null,
      "outputs": [
        {
          "output_type": "execute_result",
          "data": {
            "text/plain": [
              "25"
            ]
          },
          "metadata": {},
          "execution_count": 8
        }
      ]
    },
    {
      "cell_type": "code",
      "metadata": {
        "colab": {
          "base_uri": "https://localhost:8080/"
        },
        "id": "HXsyCagBOnto",
        "outputId": "50e11eb4-596c-4d39-b0b3-e7228c1b181d"
      },
      "source": [
        "stats.mode(dados)"
      ],
      "execution_count": null,
      "outputs": [
        {
          "output_type": "execute_result",
          "data": {
            "text/plain": [
              "ModeResult(mode=array([25]), count=array([4]))"
            ]
          },
          "metadata": {},
          "execution_count": 9
        }
      ]
    },
    {
      "cell_type": "markdown",
      "metadata": {
        "id": "SHYihPsPXY-7"
      },
      "source": [
        "##Quartis"
      ]
    },
    {
      "cell_type": "code",
      "metadata": {
        "colab": {
          "base_uri": "https://localhost:8080/"
        },
        "id": "jPlsaVYNZjsH",
        "outputId": "ad4aed16-3c0e-4b34-96f8-04661d816cfc"
      },
      "source": [
        "np.quantile(dados,0.25) # 1o. quartil"
      ],
      "execution_count": null,
      "outputs": [
        {
          "output_type": "execute_result",
          "data": {
            "text/plain": [
              "24.0"
            ]
          },
          "metadata": {},
          "execution_count": 10
        }
      ]
    },
    {
      "cell_type": "code",
      "metadata": {
        "colab": {
          "base_uri": "https://localhost:8080/"
        },
        "id": "0QyH5-G8aNJp",
        "outputId": "a7d97630-d182-43d0-eb12-96ea2a22f2f7"
      },
      "source": [
        "np.quantile(dados,0.50) # 2o. quartil"
      ],
      "execution_count": null,
      "outputs": [
        {
          "output_type": "execute_result",
          "data": {
            "text/plain": [
              "26.0"
            ]
          },
          "metadata": {},
          "execution_count": 11
        }
      ]
    },
    {
      "cell_type": "code",
      "metadata": {
        "colab": {
          "base_uri": "https://localhost:8080/"
        },
        "id": "3lhTjwxraQ1X",
        "outputId": "2eedfee3-8fe9-4414-c3bb-cd27b1a70f35"
      },
      "source": [
        "np.quantile(dados,0.75) # 3o. quartil"
      ],
      "execution_count": null,
      "outputs": [
        {
          "output_type": "execute_result",
          "data": {
            "text/plain": [
              "32.75"
            ]
          },
          "metadata": {},
          "execution_count": 12
        }
      ]
    },
    {
      "cell_type": "markdown",
      "metadata": {
        "id": "jCN-N4J_ajkI"
      },
      "source": [
        "##Percentis"
      ]
    },
    {
      "cell_type": "code",
      "metadata": {
        "colab": {
          "base_uri": "https://localhost:8080/"
        },
        "id": "g6l-9I9VamH9",
        "outputId": "d02070d2-fbc1-417f-dc57-c9c3982241ba"
      },
      "source": [
        "np.percentile(dados,0.18) # percentil 18"
      ],
      "execution_count": null,
      "outputs": [
        {
          "output_type": "execute_result",
          "data": {
            "text/plain": [
              "21.0"
            ]
          },
          "metadata": {},
          "execution_count": 13
        }
      ]
    },
    {
      "cell_type": "markdown",
      "metadata": {
        "id": "wSyFoNiXcfji"
      },
      "source": [
        "## Variância"
      ]
    },
    {
      "cell_type": "code",
      "metadata": {
        "colab": {
          "base_uri": "https://localhost:8080/"
        },
        "id": "s5X-0BfBci0w",
        "outputId": "580749c7-20b0-439a-829a-35fab7ec0512"
      },
      "source": [
        "dados.var()"
      ],
      "execution_count": null,
      "outputs": [
        {
          "output_type": "execute_result",
          "data": {
            "text/plain": [
              "23.47222222222222"
            ]
          },
          "metadata": {},
          "execution_count": 14
        }
      ]
    },
    {
      "cell_type": "code",
      "metadata": {
        "colab": {
          "base_uri": "https://localhost:8080/"
        },
        "id": "B0EPua0UcmYC",
        "outputId": "6a85837b-2425-4531-8b38-53559b98a2de"
      },
      "source": [
        "np.var(dados)"
      ],
      "execution_count": null,
      "outputs": [
        {
          "output_type": "execute_result",
          "data": {
            "text/plain": [
              "23.47222222222222"
            ]
          },
          "metadata": {},
          "execution_count": 15
        }
      ]
    },
    {
      "cell_type": "code",
      "metadata": {
        "colab": {
          "base_uri": "https://localhost:8080/"
        },
        "id": "KcR8OhaRcvxc",
        "outputId": "067cc99b-47be-4fd1-98ec-70b27fc23ffa"
      },
      "source": [
        "statistics.variance(dados)"
      ],
      "execution_count": null,
      "outputs": [
        {
          "output_type": "execute_result",
          "data": {
            "text/plain": [
              "24"
            ]
          },
          "metadata": {},
          "execution_count": 16
        }
      ]
    },
    {
      "cell_type": "markdown",
      "metadata": {
        "id": "Fnei_A7bdM5Y"
      },
      "source": [
        "##Desvio-padrão"
      ]
    },
    {
      "cell_type": "code",
      "metadata": {
        "colab": {
          "base_uri": "https://localhost:8080/"
        },
        "id": "DAyBXWZAdPdG",
        "outputId": "89fc1535-c25c-4123-a389-b6896f64436b"
      },
      "source": [
        "dados.std()"
      ],
      "execution_count": null,
      "outputs": [
        {
          "output_type": "execute_result",
          "data": {
            "text/plain": [
              "4.844813951249544"
            ]
          },
          "metadata": {},
          "execution_count": 17
        }
      ]
    },
    {
      "cell_type": "code",
      "metadata": {
        "colab": {
          "base_uri": "https://localhost:8080/"
        },
        "id": "7CB0PctUddD1",
        "outputId": "c44a87c8-c585-4886-f041-0044bff6f2cb"
      },
      "source": [
        "np.std(dados)"
      ],
      "execution_count": null,
      "outputs": [
        {
          "output_type": "execute_result",
          "data": {
            "text/plain": [
              "4.844813951249544"
            ]
          },
          "metadata": {},
          "execution_count": 18
        }
      ]
    },
    {
      "cell_type": "code",
      "metadata": {
        "colab": {
          "base_uri": "https://localhost:8080/"
        },
        "id": "vAm-AMnrdhDV",
        "outputId": "cb8d2b2a-971a-4858-b379-821ee61f354e"
      },
      "source": [
        "statistics.stdev(dados)"
      ],
      "execution_count": null,
      "outputs": [
        {
          "output_type": "execute_result",
          "data": {
            "text/plain": [
              "4.898979485566356"
            ]
          },
          "metadata": {},
          "execution_count": 19
        }
      ]
    },
    {
      "cell_type": "markdown",
      "metadata": {
        "id": "4Km0oZKSf9s_"
      },
      "source": [
        "\n",
        "\n",
        "---\n",
        "\n",
        "\n",
        "##2. Dados agrupados em classes\n",
        "\n",
        "---\n",
        "\n"
      ]
    },
    {
      "cell_type": "markdown",
      "metadata": {
        "id": "DpkuNIBxgkp9"
      },
      "source": [
        "Clona repositório de dados da disciplina hospedado no GitHUb"
      ]
    },
    {
      "cell_type": "code",
      "metadata": {
        "colab": {
          "base_uri": "https://localhost:8080/"
        },
        "id": "TJtdHODqgkqD",
        "outputId": "829286fb-6aa4-4f5a-ac80-66937ac4f0cb"
      },
      "source": [
        "!git clone \"https://github.com/malegopc/DSBD\""
      ],
      "execution_count": null,
      "outputs": [
        {
          "output_type": "stream",
          "name": "stdout",
          "text": [
            "Cloning into 'DSBD'...\n",
            "remote: Enumerating objects: 149, done.\u001b[K\n",
            "remote: Counting objects: 100% (149/149), done.\u001b[K\n",
            "remote: Compressing objects: 100% (130/130), done.\u001b[K\n",
            "remote: Total 149 (delta 39), reused 0 (delta 0), pack-reused 0\u001b[K\n",
            "Receiving objects: 100% (149/149), 2.82 MiB | 5.69 MiB/s, done.\n",
            "Resolving deltas: 100% (39/39), done.\n"
          ]
        }
      ]
    },
    {
      "cell_type": "markdown",
      "metadata": {
        "id": "ID86EBcXg7Y4"
      },
      "source": [
        "Leitura de tabela de distribuição de frequências de dados agrupados em classes"
      ]
    },
    {
      "cell_type": "code",
      "metadata": {
        "colab": {
          "base_uri": "https://localhost:8080/",
          "height": 677
        },
        "id": "c2Qyz_2ahEsN",
        "outputId": "cfb8dc18-6e79-4ce9-9c39-658ba347443e"
      },
      "source": [
        "import pandas as pd\n",
        "\n",
        "tab = pd.read_csv('DSBD/Datasets/tab_dist_freq.csv')\n",
        "# imprime as 10 primeiras linhas do dataframe\n",
        "tab # mostra as 5 primeiras linhas e as 5 últimas do dataframe"
      ],
      "execution_count": null,
      "outputs": [
        {
          "output_type": "execute_result",
          "data": {
            "text/html": [
              "<div>\n",
              "<style scoped>\n",
              "    .dataframe tbody tr th:only-of-type {\n",
              "        vertical-align: middle;\n",
              "    }\n",
              "\n",
              "    .dataframe tbody tr th {\n",
              "        vertical-align: top;\n",
              "    }\n",
              "\n",
              "    .dataframe thead th {\n",
              "        text-align: right;\n",
              "    }\n",
              "</style>\n",
              "<table border=\"1\" class=\"dataframe\">\n",
              "  <thead>\n",
              "    <tr style=\"text-align: right;\">\n",
              "      <th></th>\n",
              "      <th>Inf</th>\n",
              "      <th>Sup</th>\n",
              "      <th>Fi</th>\n",
              "      <th>Fac</th>\n",
              "      <th>fi</th>\n",
              "      <th>Xi</th>\n",
              "    </tr>\n",
              "  </thead>\n",
              "  <tbody>\n",
              "    <tr>\n",
              "      <th>0</th>\n",
              "      <td>21</td>\n",
              "      <td>24</td>\n",
              "      <td>173</td>\n",
              "      <td>173</td>\n",
              "      <td>0.2253</td>\n",
              "      <td>22.5</td>\n",
              "    </tr>\n",
              "    <tr>\n",
              "      <th>1</th>\n",
              "      <td>24</td>\n",
              "      <td>27</td>\n",
              "      <td>127</td>\n",
              "      <td>300</td>\n",
              "      <td>0.1654</td>\n",
              "      <td>25.5</td>\n",
              "    </tr>\n",
              "    <tr>\n",
              "      <th>2</th>\n",
              "      <td>27</td>\n",
              "      <td>30</td>\n",
              "      <td>96</td>\n",
              "      <td>396</td>\n",
              "      <td>0.1250</td>\n",
              "      <td>28.5</td>\n",
              "    </tr>\n",
              "    <tr>\n",
              "      <th>3</th>\n",
              "      <td>30</td>\n",
              "      <td>33</td>\n",
              "      <td>61</td>\n",
              "      <td>457</td>\n",
              "      <td>0.0794</td>\n",
              "      <td>31.5</td>\n",
              "    </tr>\n",
              "    <tr>\n",
              "      <th>4</th>\n",
              "      <td>33</td>\n",
              "      <td>36</td>\n",
              "      <td>41</td>\n",
              "      <td>498</td>\n",
              "      <td>0.0534</td>\n",
              "      <td>34.5</td>\n",
              "    </tr>\n",
              "    <tr>\n",
              "      <th>5</th>\n",
              "      <td>36</td>\n",
              "      <td>39</td>\n",
              "      <td>51</td>\n",
              "      <td>549</td>\n",
              "      <td>0.0664</td>\n",
              "      <td>37.5</td>\n",
              "    </tr>\n",
              "    <tr>\n",
              "      <th>6</th>\n",
              "      <td>39</td>\n",
              "      <td>42</td>\n",
              "      <td>47</td>\n",
              "      <td>596</td>\n",
              "      <td>0.0612</td>\n",
              "      <td>40.5</td>\n",
              "    </tr>\n",
              "    <tr>\n",
              "      <th>7</th>\n",
              "      <td>42</td>\n",
              "      <td>45</td>\n",
              "      <td>39</td>\n",
              "      <td>635</td>\n",
              "      <td>0.0508</td>\n",
              "      <td>43.5</td>\n",
              "    </tr>\n",
              "    <tr>\n",
              "      <th>8</th>\n",
              "      <td>45</td>\n",
              "      <td>48</td>\n",
              "      <td>34</td>\n",
              "      <td>669</td>\n",
              "      <td>0.0443</td>\n",
              "      <td>46.5</td>\n",
              "    </tr>\n",
              "    <tr>\n",
              "      <th>9</th>\n",
              "      <td>48</td>\n",
              "      <td>51</td>\n",
              "      <td>18</td>\n",
              "      <td>687</td>\n",
              "      <td>0.0234</td>\n",
              "      <td>49.5</td>\n",
              "    </tr>\n",
              "    <tr>\n",
              "      <th>10</th>\n",
              "      <td>51</td>\n",
              "      <td>54</td>\n",
              "      <td>21</td>\n",
              "      <td>708</td>\n",
              "      <td>0.0273</td>\n",
              "      <td>52.5</td>\n",
              "    </tr>\n",
              "    <tr>\n",
              "      <th>11</th>\n",
              "      <td>54</td>\n",
              "      <td>57</td>\n",
              "      <td>13</td>\n",
              "      <td>721</td>\n",
              "      <td>0.0169</td>\n",
              "      <td>55.5</td>\n",
              "    </tr>\n",
              "    <tr>\n",
              "      <th>12</th>\n",
              "      <td>57</td>\n",
              "      <td>60</td>\n",
              "      <td>15</td>\n",
              "      <td>736</td>\n",
              "      <td>0.0195</td>\n",
              "      <td>58.5</td>\n",
              "    </tr>\n",
              "    <tr>\n",
              "      <th>13</th>\n",
              "      <td>60</td>\n",
              "      <td>63</td>\n",
              "      <td>11</td>\n",
              "      <td>747</td>\n",
              "      <td>0.0143</td>\n",
              "      <td>61.5</td>\n",
              "    </tr>\n",
              "    <tr>\n",
              "      <th>14</th>\n",
              "      <td>63</td>\n",
              "      <td>66</td>\n",
              "      <td>8</td>\n",
              "      <td>755</td>\n",
              "      <td>0.0104</td>\n",
              "      <td>64.5</td>\n",
              "    </tr>\n",
              "    <tr>\n",
              "      <th>15</th>\n",
              "      <td>66</td>\n",
              "      <td>69</td>\n",
              "      <td>8</td>\n",
              "      <td>763</td>\n",
              "      <td>0.0104</td>\n",
              "      <td>67.5</td>\n",
              "    </tr>\n",
              "    <tr>\n",
              "      <th>16</th>\n",
              "      <td>69</td>\n",
              "      <td>72</td>\n",
              "      <td>3</td>\n",
              "      <td>766</td>\n",
              "      <td>0.0039</td>\n",
              "      <td>70.5</td>\n",
              "    </tr>\n",
              "    <tr>\n",
              "      <th>17</th>\n",
              "      <td>72</td>\n",
              "      <td>75</td>\n",
              "      <td>1</td>\n",
              "      <td>767</td>\n",
              "      <td>0.0013</td>\n",
              "      <td>73.5</td>\n",
              "    </tr>\n",
              "    <tr>\n",
              "      <th>18</th>\n",
              "      <td>75</td>\n",
              "      <td>78</td>\n",
              "      <td>0</td>\n",
              "      <td>767</td>\n",
              "      <td>0.0000</td>\n",
              "      <td>76.5</td>\n",
              "    </tr>\n",
              "    <tr>\n",
              "      <th>19</th>\n",
              "      <td>78</td>\n",
              "      <td>81</td>\n",
              "      <td>1</td>\n",
              "      <td>768</td>\n",
              "      <td>0.0013</td>\n",
              "      <td>79.5</td>\n",
              "    </tr>\n",
              "  </tbody>\n",
              "</table>\n",
              "</div>"
            ],
            "text/plain": [
              "    Inf  Sup   Fi  Fac      fi    Xi\n",
              "0    21   24  173  173  0.2253  22.5\n",
              "1    24   27  127  300  0.1654  25.5\n",
              "2    27   30   96  396  0.1250  28.5\n",
              "3    30   33   61  457  0.0794  31.5\n",
              "4    33   36   41  498  0.0534  34.5\n",
              "5    36   39   51  549  0.0664  37.5\n",
              "6    39   42   47  596  0.0612  40.5\n",
              "7    42   45   39  635  0.0508  43.5\n",
              "8    45   48   34  669  0.0443  46.5\n",
              "9    48   51   18  687  0.0234  49.5\n",
              "10   51   54   21  708  0.0273  52.5\n",
              "11   54   57   13  721  0.0169  55.5\n",
              "12   57   60   15  736  0.0195  58.5\n",
              "13   60   63   11  747  0.0143  61.5\n",
              "14   63   66    8  755  0.0104  64.5\n",
              "15   66   69    8  763  0.0104  67.5\n",
              "16   69   72    3  766  0.0039  70.5\n",
              "17   72   75    1  767  0.0013  73.5\n",
              "18   75   78    0  767  0.0000  76.5\n",
              "19   78   81    1  768  0.0013  79.5"
            ]
          },
          "metadata": {},
          "execution_count": 21
        }
      ]
    },
    {
      "cell_type": "markdown",
      "metadata": {
        "id": "tJq7qYkFmENc"
      },
      "source": [
        "##Média de dados agrupados em classes"
      ]
    },
    {
      "cell_type": "code",
      "metadata": {
        "colab": {
          "base_uri": "https://localhost:8080/",
          "height": 677
        },
        "id": "P_j_gv0jmJDR",
        "outputId": "02d4ddde-973c-4f48-fa33-1864e67625df"
      },
      "source": [
        "# multiplica a frequência de cada classe pelo seu ponto médio (representante da classe)\n",
        "tab['Fi.Xi'] = tab['Fi'] * tab['Xi'] \n",
        "tab"
      ],
      "execution_count": null,
      "outputs": [
        {
          "output_type": "execute_result",
          "data": {
            "text/html": [
              "<div>\n",
              "<style scoped>\n",
              "    .dataframe tbody tr th:only-of-type {\n",
              "        vertical-align: middle;\n",
              "    }\n",
              "\n",
              "    .dataframe tbody tr th {\n",
              "        vertical-align: top;\n",
              "    }\n",
              "\n",
              "    .dataframe thead th {\n",
              "        text-align: right;\n",
              "    }\n",
              "</style>\n",
              "<table border=\"1\" class=\"dataframe\">\n",
              "  <thead>\n",
              "    <tr style=\"text-align: right;\">\n",
              "      <th></th>\n",
              "      <th>Inf</th>\n",
              "      <th>Sup</th>\n",
              "      <th>Fi</th>\n",
              "      <th>Fac</th>\n",
              "      <th>fi</th>\n",
              "      <th>Xi</th>\n",
              "      <th>Fi.Xi</th>\n",
              "    </tr>\n",
              "  </thead>\n",
              "  <tbody>\n",
              "    <tr>\n",
              "      <th>0</th>\n",
              "      <td>21</td>\n",
              "      <td>24</td>\n",
              "      <td>173</td>\n",
              "      <td>173</td>\n",
              "      <td>0.2253</td>\n",
              "      <td>22.5</td>\n",
              "      <td>3892.5</td>\n",
              "    </tr>\n",
              "    <tr>\n",
              "      <th>1</th>\n",
              "      <td>24</td>\n",
              "      <td>27</td>\n",
              "      <td>127</td>\n",
              "      <td>300</td>\n",
              "      <td>0.1654</td>\n",
              "      <td>25.5</td>\n",
              "      <td>3238.5</td>\n",
              "    </tr>\n",
              "    <tr>\n",
              "      <th>2</th>\n",
              "      <td>27</td>\n",
              "      <td>30</td>\n",
              "      <td>96</td>\n",
              "      <td>396</td>\n",
              "      <td>0.1250</td>\n",
              "      <td>28.5</td>\n",
              "      <td>2736.0</td>\n",
              "    </tr>\n",
              "    <tr>\n",
              "      <th>3</th>\n",
              "      <td>30</td>\n",
              "      <td>33</td>\n",
              "      <td>61</td>\n",
              "      <td>457</td>\n",
              "      <td>0.0794</td>\n",
              "      <td>31.5</td>\n",
              "      <td>1921.5</td>\n",
              "    </tr>\n",
              "    <tr>\n",
              "      <th>4</th>\n",
              "      <td>33</td>\n",
              "      <td>36</td>\n",
              "      <td>41</td>\n",
              "      <td>498</td>\n",
              "      <td>0.0534</td>\n",
              "      <td>34.5</td>\n",
              "      <td>1414.5</td>\n",
              "    </tr>\n",
              "    <tr>\n",
              "      <th>5</th>\n",
              "      <td>36</td>\n",
              "      <td>39</td>\n",
              "      <td>51</td>\n",
              "      <td>549</td>\n",
              "      <td>0.0664</td>\n",
              "      <td>37.5</td>\n",
              "      <td>1912.5</td>\n",
              "    </tr>\n",
              "    <tr>\n",
              "      <th>6</th>\n",
              "      <td>39</td>\n",
              "      <td>42</td>\n",
              "      <td>47</td>\n",
              "      <td>596</td>\n",
              "      <td>0.0612</td>\n",
              "      <td>40.5</td>\n",
              "      <td>1903.5</td>\n",
              "    </tr>\n",
              "    <tr>\n",
              "      <th>7</th>\n",
              "      <td>42</td>\n",
              "      <td>45</td>\n",
              "      <td>39</td>\n",
              "      <td>635</td>\n",
              "      <td>0.0508</td>\n",
              "      <td>43.5</td>\n",
              "      <td>1696.5</td>\n",
              "    </tr>\n",
              "    <tr>\n",
              "      <th>8</th>\n",
              "      <td>45</td>\n",
              "      <td>48</td>\n",
              "      <td>34</td>\n",
              "      <td>669</td>\n",
              "      <td>0.0443</td>\n",
              "      <td>46.5</td>\n",
              "      <td>1581.0</td>\n",
              "    </tr>\n",
              "    <tr>\n",
              "      <th>9</th>\n",
              "      <td>48</td>\n",
              "      <td>51</td>\n",
              "      <td>18</td>\n",
              "      <td>687</td>\n",
              "      <td>0.0234</td>\n",
              "      <td>49.5</td>\n",
              "      <td>891.0</td>\n",
              "    </tr>\n",
              "    <tr>\n",
              "      <th>10</th>\n",
              "      <td>51</td>\n",
              "      <td>54</td>\n",
              "      <td>21</td>\n",
              "      <td>708</td>\n",
              "      <td>0.0273</td>\n",
              "      <td>52.5</td>\n",
              "      <td>1102.5</td>\n",
              "    </tr>\n",
              "    <tr>\n",
              "      <th>11</th>\n",
              "      <td>54</td>\n",
              "      <td>57</td>\n",
              "      <td>13</td>\n",
              "      <td>721</td>\n",
              "      <td>0.0169</td>\n",
              "      <td>55.5</td>\n",
              "      <td>721.5</td>\n",
              "    </tr>\n",
              "    <tr>\n",
              "      <th>12</th>\n",
              "      <td>57</td>\n",
              "      <td>60</td>\n",
              "      <td>15</td>\n",
              "      <td>736</td>\n",
              "      <td>0.0195</td>\n",
              "      <td>58.5</td>\n",
              "      <td>877.5</td>\n",
              "    </tr>\n",
              "    <tr>\n",
              "      <th>13</th>\n",
              "      <td>60</td>\n",
              "      <td>63</td>\n",
              "      <td>11</td>\n",
              "      <td>747</td>\n",
              "      <td>0.0143</td>\n",
              "      <td>61.5</td>\n",
              "      <td>676.5</td>\n",
              "    </tr>\n",
              "    <tr>\n",
              "      <th>14</th>\n",
              "      <td>63</td>\n",
              "      <td>66</td>\n",
              "      <td>8</td>\n",
              "      <td>755</td>\n",
              "      <td>0.0104</td>\n",
              "      <td>64.5</td>\n",
              "      <td>516.0</td>\n",
              "    </tr>\n",
              "    <tr>\n",
              "      <th>15</th>\n",
              "      <td>66</td>\n",
              "      <td>69</td>\n",
              "      <td>8</td>\n",
              "      <td>763</td>\n",
              "      <td>0.0104</td>\n",
              "      <td>67.5</td>\n",
              "      <td>540.0</td>\n",
              "    </tr>\n",
              "    <tr>\n",
              "      <th>16</th>\n",
              "      <td>69</td>\n",
              "      <td>72</td>\n",
              "      <td>3</td>\n",
              "      <td>766</td>\n",
              "      <td>0.0039</td>\n",
              "      <td>70.5</td>\n",
              "      <td>211.5</td>\n",
              "    </tr>\n",
              "    <tr>\n",
              "      <th>17</th>\n",
              "      <td>72</td>\n",
              "      <td>75</td>\n",
              "      <td>1</td>\n",
              "      <td>767</td>\n",
              "      <td>0.0013</td>\n",
              "      <td>73.5</td>\n",
              "      <td>73.5</td>\n",
              "    </tr>\n",
              "    <tr>\n",
              "      <th>18</th>\n",
              "      <td>75</td>\n",
              "      <td>78</td>\n",
              "      <td>0</td>\n",
              "      <td>767</td>\n",
              "      <td>0.0000</td>\n",
              "      <td>76.5</td>\n",
              "      <td>0.0</td>\n",
              "    </tr>\n",
              "    <tr>\n",
              "      <th>19</th>\n",
              "      <td>78</td>\n",
              "      <td>81</td>\n",
              "      <td>1</td>\n",
              "      <td>768</td>\n",
              "      <td>0.0013</td>\n",
              "      <td>79.5</td>\n",
              "      <td>79.5</td>\n",
              "    </tr>\n",
              "  </tbody>\n",
              "</table>\n",
              "</div>"
            ],
            "text/plain": [
              "    Inf  Sup   Fi  Fac      fi    Xi   Fi.Xi\n",
              "0    21   24  173  173  0.2253  22.5  3892.5\n",
              "1    24   27  127  300  0.1654  25.5  3238.5\n",
              "2    27   30   96  396  0.1250  28.5  2736.0\n",
              "3    30   33   61  457  0.0794  31.5  1921.5\n",
              "4    33   36   41  498  0.0534  34.5  1414.5\n",
              "5    36   39   51  549  0.0664  37.5  1912.5\n",
              "6    39   42   47  596  0.0612  40.5  1903.5\n",
              "7    42   45   39  635  0.0508  43.5  1696.5\n",
              "8    45   48   34  669  0.0443  46.5  1581.0\n",
              "9    48   51   18  687  0.0234  49.5   891.0\n",
              "10   51   54   21  708  0.0273  52.5  1102.5\n",
              "11   54   57   13  721  0.0169  55.5   721.5\n",
              "12   57   60   15  736  0.0195  58.5   877.5\n",
              "13   60   63   11  747  0.0143  61.5   676.5\n",
              "14   63   66    8  755  0.0104  64.5   516.0\n",
              "15   66   69    8  763  0.0104  67.5   540.0\n",
              "16   69   72    3  766  0.0039  70.5   211.5\n",
              "17   72   75    1  767  0.0013  73.5    73.5\n",
              "18   75   78    0  767  0.0000  76.5     0.0\n",
              "19   78   81    1  768  0.0013  79.5    79.5"
            ]
          },
          "metadata": {},
          "execution_count": 22
        }
      ]
    },
    {
      "cell_type": "code",
      "metadata": {
        "colab": {
          "base_uri": "https://localhost:8080/"
        },
        "id": "Wmzw2IrqnoVI",
        "outputId": "ad60a49b-5f5f-48d7-d4be-40fef690f456"
      },
      "source": [
        "# soma a coluna Fi.Xi e divide pelo número elementos do conjunto de dados\n",
        "n = tab['Fi'].sum() # número de elementos do conjunto de dados\n",
        "x̄ = tab['Fi.Xi'].sum() / n\n",
        "print('Média =', x̄)"
      ],
      "execution_count": null,
      "outputs": [
        {
          "output_type": "stream",
          "name": "stdout",
          "text": [
            "Média = 33.8359375\n"
          ]
        }
      ]
    },
    {
      "cell_type": "markdown",
      "metadata": {
        "id": "GKCIEZUAyLH-"
      },
      "source": [
        "## Moda em dados agrupados em classes"
      ]
    },
    {
      "cell_type": "code",
      "metadata": {
        "colab": {
          "base_uri": "https://localhost:8080/"
        },
        "id": "n1oJ4ClszRQ3",
        "outputId": "240a6201-bf7b-4b4b-b030-25e546d9992e"
      },
      "source": [
        "# Encontra a classe modal\n",
        "pos, = tab.index[tab['Fi'] == max(tab['Fi'])]\n",
        "print('Classe Modal:',tab['Inf'][pos],'|-' ,tab['Sup'][pos])\n",
        "print('Moda = ',tab['Xi'][pos])"
      ],
      "execution_count": null,
      "outputs": [
        {
          "output_type": "stream",
          "name": "stdout",
          "text": [
            "Classe Modal: 21 |- 24\n",
            "Moda =  22.5\n"
          ]
        }
      ]
    },
    {
      "cell_type": "markdown",
      "metadata": {
        "id": "SaGuhQsq62J0"
      },
      "source": [
        "\n",
        "\n",
        "---\n",
        "##3. Dataframes\n",
        "---\n",
        "\n",
        "\n",
        "\n"
      ]
    },
    {
      "cell_type": "markdown",
      "metadata": {
        "id": "PcWx36BdDBX0"
      },
      "source": [
        "## Conjunto de dados\n",
        "\n",
        "- Fonte: https://www.kaggle.com/uciml/pima-indians-diabetes-database\n",
        "- Proprietários originais: National Institute of Diabetes and Digestive and Kidney Diseases\n",
        "- Doadores da base de dados: Vincent Sigillito (vgs@aplcen.apl.jhu.edu), \n",
        "Research Center, RMI Group Leader, Applied Physics Laboratory, The Johns Hopkins University (1990)\n",
        "\n",
        "Detalhes sobre o conjunto de dados:\n",
        "\n",
        "1. Número de instâncias: 768\n",
        "\n",
        "2. Número de atributos: 8 (mais classe target)\n",
        "\n",
        "3. Atributos: (todos com valor numérico)\n",
        "   1. Número de vezes que engravidou (*Pregnancies*)\n",
        "   2. Concentração de glicose plasmática a 2 horas em um teste de tolerância à glicose oral (*Glucose*)\n",
        "   3. Pressão arterial diastólica (mm Hg) (*BloodPressure*)\n",
        "   4. Espessura da dobra da pele do tríceps (mm) (*SkinThickness*)\n",
        "   5. Insulina sérica de 2 horas (mu U / ml) (*Insulin*)\n",
        "   6. Índice de massa corporal (peso em kg / (altura em m) ^ 2) (*BMI*)\n",
        "   7. Função de pedigree de diabetes (*DiabetesPedigreeFunction*)\n",
        "   8. Idade (anos) (*Age*)\n",
        "   \n",
        "4. Variável target (classe): 0 ou 1 (valor de classe 1 é interpretado como \"teste positivo para diabetes\")\n",
        "\n",
        "   Classe Valor Número de instâncias\n",
        "   - 500 => 0\n",
        "   - 268 => 1\n",
        "\n",
        " "
      ]
    },
    {
      "cell_type": "markdown",
      "metadata": {
        "id": "LWXwGCqvIwgN"
      },
      "source": [
        "## Leitura dos dados\n",
        "\n",
        "Vamos começar importando o arquivo CSV \"bruto\" usando o Pandas."
      ]
    },
    {
      "cell_type": "code",
      "metadata": {
        "scrolled": true,
        "id": "LM6AT7tPzjL6",
        "colab": {
          "base_uri": "https://localhost:8080/",
          "height": 424
        },
        "outputId": "001faea5-4181-4007-b94b-6a07a1b4ae35"
      },
      "source": [
        "import pandas as pd\n",
        "# lê arquivo de dados, atribue NaN para dados faltantes\n",
        "diabetes = pd.read_csv('DSBD/Datasets/Indians_Diabetes/diabetes.csv', na_values=['?'])\n",
        "# imprime as 10 primeiras linhas do dataframe\n",
        "diabetes # mostra as 5 primeiras linhas e as 5 últimas do dataframe"
      ],
      "execution_count": null,
      "outputs": [
        {
          "output_type": "execute_result",
          "data": {
            "text/html": [
              "<div>\n",
              "<style scoped>\n",
              "    .dataframe tbody tr th:only-of-type {\n",
              "        vertical-align: middle;\n",
              "    }\n",
              "\n",
              "    .dataframe tbody tr th {\n",
              "        vertical-align: top;\n",
              "    }\n",
              "\n",
              "    .dataframe thead th {\n",
              "        text-align: right;\n",
              "    }\n",
              "</style>\n",
              "<table border=\"1\" class=\"dataframe\">\n",
              "  <thead>\n",
              "    <tr style=\"text-align: right;\">\n",
              "      <th></th>\n",
              "      <th>Pregnancies</th>\n",
              "      <th>Glucose</th>\n",
              "      <th>BloodPressure</th>\n",
              "      <th>SkinThickness</th>\n",
              "      <th>Insulin</th>\n",
              "      <th>BMI</th>\n",
              "      <th>DiabetesPedigreeFunction</th>\n",
              "      <th>Age</th>\n",
              "      <th>Outcome</th>\n",
              "    </tr>\n",
              "  </thead>\n",
              "  <tbody>\n",
              "    <tr>\n",
              "      <th>0</th>\n",
              "      <td>6</td>\n",
              "      <td>148</td>\n",
              "      <td>72</td>\n",
              "      <td>35</td>\n",
              "      <td>0</td>\n",
              "      <td>33.6</td>\n",
              "      <td>0.627</td>\n",
              "      <td>50</td>\n",
              "      <td>1</td>\n",
              "    </tr>\n",
              "    <tr>\n",
              "      <th>1</th>\n",
              "      <td>1</td>\n",
              "      <td>85</td>\n",
              "      <td>66</td>\n",
              "      <td>29</td>\n",
              "      <td>0</td>\n",
              "      <td>26.6</td>\n",
              "      <td>0.351</td>\n",
              "      <td>31</td>\n",
              "      <td>0</td>\n",
              "    </tr>\n",
              "    <tr>\n",
              "      <th>2</th>\n",
              "      <td>8</td>\n",
              "      <td>183</td>\n",
              "      <td>64</td>\n",
              "      <td>0</td>\n",
              "      <td>0</td>\n",
              "      <td>23.3</td>\n",
              "      <td>0.672</td>\n",
              "      <td>32</td>\n",
              "      <td>1</td>\n",
              "    </tr>\n",
              "    <tr>\n",
              "      <th>3</th>\n",
              "      <td>1</td>\n",
              "      <td>89</td>\n",
              "      <td>66</td>\n",
              "      <td>23</td>\n",
              "      <td>94</td>\n",
              "      <td>28.1</td>\n",
              "      <td>0.167</td>\n",
              "      <td>21</td>\n",
              "      <td>0</td>\n",
              "    </tr>\n",
              "    <tr>\n",
              "      <th>4</th>\n",
              "      <td>0</td>\n",
              "      <td>137</td>\n",
              "      <td>40</td>\n",
              "      <td>35</td>\n",
              "      <td>168</td>\n",
              "      <td>43.1</td>\n",
              "      <td>2.288</td>\n",
              "      <td>33</td>\n",
              "      <td>1</td>\n",
              "    </tr>\n",
              "    <tr>\n",
              "      <th>...</th>\n",
              "      <td>...</td>\n",
              "      <td>...</td>\n",
              "      <td>...</td>\n",
              "      <td>...</td>\n",
              "      <td>...</td>\n",
              "      <td>...</td>\n",
              "      <td>...</td>\n",
              "      <td>...</td>\n",
              "      <td>...</td>\n",
              "    </tr>\n",
              "    <tr>\n",
              "      <th>763</th>\n",
              "      <td>10</td>\n",
              "      <td>101</td>\n",
              "      <td>76</td>\n",
              "      <td>48</td>\n",
              "      <td>180</td>\n",
              "      <td>32.9</td>\n",
              "      <td>0.171</td>\n",
              "      <td>63</td>\n",
              "      <td>0</td>\n",
              "    </tr>\n",
              "    <tr>\n",
              "      <th>764</th>\n",
              "      <td>2</td>\n",
              "      <td>122</td>\n",
              "      <td>70</td>\n",
              "      <td>27</td>\n",
              "      <td>0</td>\n",
              "      <td>36.8</td>\n",
              "      <td>0.340</td>\n",
              "      <td>27</td>\n",
              "      <td>0</td>\n",
              "    </tr>\n",
              "    <tr>\n",
              "      <th>765</th>\n",
              "      <td>5</td>\n",
              "      <td>121</td>\n",
              "      <td>72</td>\n",
              "      <td>23</td>\n",
              "      <td>112</td>\n",
              "      <td>26.2</td>\n",
              "      <td>0.245</td>\n",
              "      <td>30</td>\n",
              "      <td>0</td>\n",
              "    </tr>\n",
              "    <tr>\n",
              "      <th>766</th>\n",
              "      <td>1</td>\n",
              "      <td>126</td>\n",
              "      <td>60</td>\n",
              "      <td>0</td>\n",
              "      <td>0</td>\n",
              "      <td>30.1</td>\n",
              "      <td>0.349</td>\n",
              "      <td>47</td>\n",
              "      <td>1</td>\n",
              "    </tr>\n",
              "    <tr>\n",
              "      <th>767</th>\n",
              "      <td>1</td>\n",
              "      <td>93</td>\n",
              "      <td>70</td>\n",
              "      <td>31</td>\n",
              "      <td>0</td>\n",
              "      <td>30.4</td>\n",
              "      <td>0.315</td>\n",
              "      <td>23</td>\n",
              "      <td>0</td>\n",
              "    </tr>\n",
              "  </tbody>\n",
              "</table>\n",
              "<p>768 rows × 9 columns</p>\n",
              "</div>"
            ],
            "text/plain": [
              "     Pregnancies  Glucose  ...  Age  Outcome\n",
              "0              6      148  ...   50        1\n",
              "1              1       85  ...   31        0\n",
              "2              8      183  ...   32        1\n",
              "3              1       89  ...   21        0\n",
              "4              0      137  ...   33        1\n",
              "..           ...      ...  ...  ...      ...\n",
              "763           10      101  ...   63        0\n",
              "764            2      122  ...   27        0\n",
              "765            5      121  ...   30        0\n",
              "766            1      126  ...   47        1\n",
              "767            1       93  ...   23        0\n",
              "\n",
              "[768 rows x 9 columns]"
            ]
          },
          "metadata": {},
          "execution_count": 33
        }
      ]
    },
    {
      "cell_type": "markdown",
      "metadata": {
        "id": "401dY7Oo97gm"
      },
      "source": [
        "## Estatística descritiva \n",
        "Função describe() mostra um conjutonto de medidas estatísticas descritivas dos dados."
      ]
    },
    {
      "cell_type": "code",
      "metadata": {
        "colab": {
          "base_uri": "https://localhost:8080/",
          "height": 300
        },
        "id": "nIgVMuMp7R5Y",
        "outputId": "5c956020-6d09-4499-9660-99faf1a75185"
      },
      "source": [
        "diabetes.describe()"
      ],
      "execution_count": null,
      "outputs": [
        {
          "output_type": "execute_result",
          "data": {
            "text/html": [
              "<div>\n",
              "<style scoped>\n",
              "    .dataframe tbody tr th:only-of-type {\n",
              "        vertical-align: middle;\n",
              "    }\n",
              "\n",
              "    .dataframe tbody tr th {\n",
              "        vertical-align: top;\n",
              "    }\n",
              "\n",
              "    .dataframe thead th {\n",
              "        text-align: right;\n",
              "    }\n",
              "</style>\n",
              "<table border=\"1\" class=\"dataframe\">\n",
              "  <thead>\n",
              "    <tr style=\"text-align: right;\">\n",
              "      <th></th>\n",
              "      <th>Pregnancies</th>\n",
              "      <th>Glucose</th>\n",
              "      <th>BloodPressure</th>\n",
              "      <th>SkinThickness</th>\n",
              "      <th>Insulin</th>\n",
              "      <th>BMI</th>\n",
              "      <th>DiabetesPedigreeFunction</th>\n",
              "      <th>Age</th>\n",
              "      <th>Outcome</th>\n",
              "    </tr>\n",
              "  </thead>\n",
              "  <tbody>\n",
              "    <tr>\n",
              "      <th>count</th>\n",
              "      <td>768.000000</td>\n",
              "      <td>768.000000</td>\n",
              "      <td>768.000000</td>\n",
              "      <td>768.000000</td>\n",
              "      <td>768.000000</td>\n",
              "      <td>768.000000</td>\n",
              "      <td>768.000000</td>\n",
              "      <td>768.000000</td>\n",
              "      <td>768.000000</td>\n",
              "    </tr>\n",
              "    <tr>\n",
              "      <th>mean</th>\n",
              "      <td>3.845052</td>\n",
              "      <td>120.894531</td>\n",
              "      <td>69.105469</td>\n",
              "      <td>20.536458</td>\n",
              "      <td>79.799479</td>\n",
              "      <td>31.992578</td>\n",
              "      <td>0.471876</td>\n",
              "      <td>33.240885</td>\n",
              "      <td>0.348958</td>\n",
              "    </tr>\n",
              "    <tr>\n",
              "      <th>std</th>\n",
              "      <td>3.369578</td>\n",
              "      <td>31.972618</td>\n",
              "      <td>19.355807</td>\n",
              "      <td>15.952218</td>\n",
              "      <td>115.244002</td>\n",
              "      <td>7.884160</td>\n",
              "      <td>0.331329</td>\n",
              "      <td>11.760232</td>\n",
              "      <td>0.476951</td>\n",
              "    </tr>\n",
              "    <tr>\n",
              "      <th>min</th>\n",
              "      <td>0.000000</td>\n",
              "      <td>0.000000</td>\n",
              "      <td>0.000000</td>\n",
              "      <td>0.000000</td>\n",
              "      <td>0.000000</td>\n",
              "      <td>0.000000</td>\n",
              "      <td>0.078000</td>\n",
              "      <td>21.000000</td>\n",
              "      <td>0.000000</td>\n",
              "    </tr>\n",
              "    <tr>\n",
              "      <th>25%</th>\n",
              "      <td>1.000000</td>\n",
              "      <td>99.000000</td>\n",
              "      <td>62.000000</td>\n",
              "      <td>0.000000</td>\n",
              "      <td>0.000000</td>\n",
              "      <td>27.300000</td>\n",
              "      <td>0.243750</td>\n",
              "      <td>24.000000</td>\n",
              "      <td>0.000000</td>\n",
              "    </tr>\n",
              "    <tr>\n",
              "      <th>50%</th>\n",
              "      <td>3.000000</td>\n",
              "      <td>117.000000</td>\n",
              "      <td>72.000000</td>\n",
              "      <td>23.000000</td>\n",
              "      <td>30.500000</td>\n",
              "      <td>32.000000</td>\n",
              "      <td>0.372500</td>\n",
              "      <td>29.000000</td>\n",
              "      <td>0.000000</td>\n",
              "    </tr>\n",
              "    <tr>\n",
              "      <th>75%</th>\n",
              "      <td>6.000000</td>\n",
              "      <td>140.250000</td>\n",
              "      <td>80.000000</td>\n",
              "      <td>32.000000</td>\n",
              "      <td>127.250000</td>\n",
              "      <td>36.600000</td>\n",
              "      <td>0.626250</td>\n",
              "      <td>41.000000</td>\n",
              "      <td>1.000000</td>\n",
              "    </tr>\n",
              "    <tr>\n",
              "      <th>max</th>\n",
              "      <td>17.000000</td>\n",
              "      <td>199.000000</td>\n",
              "      <td>122.000000</td>\n",
              "      <td>99.000000</td>\n",
              "      <td>846.000000</td>\n",
              "      <td>67.100000</td>\n",
              "      <td>2.420000</td>\n",
              "      <td>81.000000</td>\n",
              "      <td>1.000000</td>\n",
              "    </tr>\n",
              "  </tbody>\n",
              "</table>\n",
              "</div>"
            ],
            "text/plain": [
              "       Pregnancies     Glucose  ...         Age     Outcome\n",
              "count   768.000000  768.000000  ...  768.000000  768.000000\n",
              "mean      3.845052  120.894531  ...   33.240885    0.348958\n",
              "std       3.369578   31.972618  ...   11.760232    0.476951\n",
              "min       0.000000    0.000000  ...   21.000000    0.000000\n",
              "25%       1.000000   99.000000  ...   24.000000    0.000000\n",
              "50%       3.000000  117.000000  ...   29.000000    0.000000\n",
              "75%       6.000000  140.250000  ...   41.000000    1.000000\n",
              "max      17.000000  199.000000  ...   81.000000    1.000000\n",
              "\n",
              "[8 rows x 9 columns]"
            ]
          },
          "metadata": {},
          "execution_count": 35
        }
      ]
    },
    {
      "cell_type": "markdown",
      "metadata": {
        "id": "8iXRbNwi7b3G"
      },
      "source": [
        "## Média"
      ]
    },
    {
      "cell_type": "code",
      "metadata": {
        "colab": {
          "base_uri": "https://localhost:8080/"
        },
        "id": "FoecC1c47fME",
        "outputId": "b3bd9a05-93f9-4e57-cfbc-ac98b6688686"
      },
      "source": [
        "diabetes['Age'].mean()"
      ],
      "execution_count": null,
      "outputs": [
        {
          "output_type": "execute_result",
          "data": {
            "text/plain": [
              "33.240885416666664"
            ]
          },
          "metadata": {},
          "execution_count": 36
        }
      ]
    },
    {
      "cell_type": "markdown",
      "metadata": {
        "id": "eC5RLzdX7n_m"
      },
      "source": [
        "##Mediana"
      ]
    },
    {
      "cell_type": "code",
      "metadata": {
        "colab": {
          "base_uri": "https://localhost:8080/"
        },
        "id": "3kHRt_5L7r2y",
        "outputId": "077e1979-38c2-45f0-83d1-3d7997fc7ad8"
      },
      "source": [
        "diabetes['Age'].median()"
      ],
      "execution_count": null,
      "outputs": [
        {
          "output_type": "execute_result",
          "data": {
            "text/plain": [
              "29.0"
            ]
          },
          "metadata": {},
          "execution_count": 37
        }
      ]
    },
    {
      "cell_type": "markdown",
      "metadata": {
        "id": "WpQSTIpJ75f8"
      },
      "source": [
        "##Quartil"
      ]
    },
    {
      "cell_type": "code",
      "metadata": {
        "colab": {
          "base_uri": "https://localhost:8080/"
        },
        "id": "f1ZnpYmN7-xi",
        "outputId": "2efb108d-97d6-46ce-9bf1-0a8f44251a7a"
      },
      "source": [
        "diabetes['Age'].quantile(0.25)"
      ],
      "execution_count": null,
      "outputs": [
        {
          "output_type": "execute_result",
          "data": {
            "text/plain": [
              "24.0"
            ]
          },
          "metadata": {},
          "execution_count": 38
        }
      ]
    },
    {
      "cell_type": "markdown",
      "metadata": {
        "id": "OTWEraP98o9R"
      },
      "source": [
        "##Desvio-padrão"
      ]
    },
    {
      "cell_type": "code",
      "metadata": {
        "colab": {
          "base_uri": "https://localhost:8080/"
        },
        "id": "CvMsLZJT8rwX",
        "outputId": "dfdac190-5614-401e-e16d-8f9a202e011f"
      },
      "source": [
        "diabetes['Age'].std()"
      ],
      "execution_count": null,
      "outputs": [
        {
          "output_type": "execute_result",
          "data": {
            "text/plain": [
              "11.76023154067868"
            ]
          },
          "metadata": {},
          "execution_count": 39
        }
      ]
    }
  ]
}