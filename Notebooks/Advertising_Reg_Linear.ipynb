{
 "cells": [
  {
   "cell_type": "markdown",
   "metadata": {},
   "source": [
    "### Importa Pandas\n",
    "###  Leitura do arquivo\n"
   ]
  },
  {
   "cell_type": "code",
   "execution_count": 38,
   "metadata": {},
   "outputs": [
    {
     "data": {
      "text/html": [
       "<div>\n",
       "<style scoped>\n",
       "    .dataframe tbody tr th:only-of-type {\n",
       "        vertical-align: middle;\n",
       "    }\n",
       "\n",
       "    .dataframe tbody tr th {\n",
       "        vertical-align: top;\n",
       "    }\n",
       "\n",
       "    .dataframe thead th {\n",
       "        text-align: right;\n",
       "    }\n",
       "</style>\n",
       "<table border=\"1\" class=\"dataframe\">\n",
       "  <thead>\n",
       "    <tr style=\"text-align: right;\">\n",
       "      <th></th>\n",
       "      <th>TV</th>\n",
       "      <th>radio</th>\n",
       "      <th>newspaper</th>\n",
       "      <th>sales</th>\n",
       "    </tr>\n",
       "  </thead>\n",
       "  <tbody>\n",
       "    <tr>\n",
       "      <th>1</th>\n",
       "      <td>230.1</td>\n",
       "      <td>37.8</td>\n",
       "      <td>69.2</td>\n",
       "      <td>22.1</td>\n",
       "    </tr>\n",
       "    <tr>\n",
       "      <th>2</th>\n",
       "      <td>44.5</td>\n",
       "      <td>39.3</td>\n",
       "      <td>45.1</td>\n",
       "      <td>10.4</td>\n",
       "    </tr>\n",
       "    <tr>\n",
       "      <th>3</th>\n",
       "      <td>17.2</td>\n",
       "      <td>45.9</td>\n",
       "      <td>69.3</td>\n",
       "      <td>9.3</td>\n",
       "    </tr>\n",
       "    <tr>\n",
       "      <th>4</th>\n",
       "      <td>151.5</td>\n",
       "      <td>41.3</td>\n",
       "      <td>58.5</td>\n",
       "      <td>18.5</td>\n",
       "    </tr>\n",
       "    <tr>\n",
       "      <th>5</th>\n",
       "      <td>180.8</td>\n",
       "      <td>10.8</td>\n",
       "      <td>58.4</td>\n",
       "      <td>12.9</td>\n",
       "    </tr>\n",
       "  </tbody>\n",
       "</table>\n",
       "</div>"
      ],
      "text/plain": [
       "      TV  radio  newspaper  sales\n",
       "1  230.1   37.8       69.2   22.1\n",
       "2   44.5   39.3       45.1   10.4\n",
       "3   17.2   45.9       69.3    9.3\n",
       "4  151.5   41.3       58.5   18.5\n",
       "5  180.8   10.8       58.4   12.9"
      ]
     },
     "execution_count": 38,
     "metadata": {},
     "output_type": "execute_result"
    }
   ],
   "source": [
    "import pandas as pd\n",
    "\n",
    "#publi = pd.read_csv('http://faculty.marshall.usc.edu/gareth-james/ISL/Advertising.csv')\n",
    "#como o pandas cria uma coluna índice automaticamente a inclusão de index_col=0 faz ele já considerar a coluna 0 como índice\n",
    "publi = pd.read_csv('http://faculty.marshall.usc.edu/gareth-james/ISL/Advertising.csv',index_col = 0)\n",
    "publi.head()  # imprime apenas as 5 primeiras linhas\n",
    "#print(publi) # imprime tudo"
   ]
  },
  {
   "cell_type": "markdown",
   "metadata": {},
   "source": [
    "### Tipo de arquivo (aceito pelo scikitlearn)"
   ]
  },
  {
   "cell_type": "code",
   "execution_count": 39,
   "metadata": {},
   "outputs": [
    {
     "name": "stdout",
     "output_type": "stream",
     "text": [
      "<class 'pandas.core.frame.DataFrame'>\n"
     ]
    }
   ],
   "source": [
    "print(type(publi))"
   ]
  },
  {
   "cell_type": "markdown",
   "metadata": {},
   "source": [
    "### Formato do arquivo"
   ]
  },
  {
   "cell_type": "code",
   "execution_count": 40,
   "metadata": {},
   "outputs": [
    {
     "name": "stdout",
     "output_type": "stream",
     "text": [
      "(200, 4)\n"
     ]
    }
   ],
   "source": [
    "print(publi.shape)"
   ]
  },
  {
   "cell_type": "code",
   "execution_count": 41,
   "metadata": {},
   "outputs": [],
   "source": [
    "x = publi[['TV','radio','newspaper']]\n",
    "y = publi['sales']           "
   ]
  },
  {
   "cell_type": "code",
   "execution_count": 42,
   "metadata": {},
   "outputs": [
    {
     "data": {
      "text/plain": [
       "(200, 3)"
      ]
     },
     "execution_count": 42,
     "metadata": {},
     "output_type": "execute_result"
    }
   ],
   "source": [
    "x.shape"
   ]
  },
  {
   "cell_type": "code",
   "execution_count": 43,
   "metadata": {},
   "outputs": [
    {
     "data": {
      "text/plain": [
       "(200,)"
      ]
     },
     "execution_count": 43,
     "metadata": {},
     "output_type": "execute_result"
    }
   ],
   "source": [
    "y.shape"
   ]
  },
  {
   "cell_type": "markdown",
   "metadata": {},
   "source": [
    "### Gráficos de dispersão usando o Seaborn"
   ]
  },
  {
   "cell_type": "code",
   "execution_count": 44,
   "metadata": {},
   "outputs": [
    {
     "data": {
      "text/plain": [
       "<seaborn.axisgrid.PairGrid at 0x20cf3b5efd0>"
      ]
     },
     "execution_count": 44,
     "metadata": {},
     "output_type": "execute_result"
    },
    {
     "data": {
      "image/png": "[encoded data removed]",
      "text/plain": [
       "<Figure size 1512x504 with 3 Axes>"
      ]
     },
     "metadata": {
      "needs_background": "light"
     },
     "output_type": "display_data"
    }
   ],
   "source": [
    "import seaborn as sns\n",
    "sns.pairplot(publi, x_vars=['TV','radio','newspaper'], y_vars='sales',height=7, kind='reg')"
   ]
  },
  {
   "cell_type": "markdown",
   "metadata": {},
   "source": [
    "### Calculando o coeficiente de correlação de Pearson e valor-p\n",
    "(eu que inseri, pois no curso ele não usa o módulo stats)\n",
    "(variável 'newspaper apresenta um coeficiente de pearson perto de zero e o valor-p bem mais alto que as demais !!!)"
   ]
  },
  {
   "cell_type": "code",
   "execution_count": 45,
   "metadata": {},
   "outputs": [
    {
     "name": "stdout",
     "output_type": "stream",
     "text": [
      "Coeficiente de Pearson entre TV e Sales 0.7822\n",
      "Valor-p 1.4673897001945725e-42\n",
      "Coeficiente de Pearson entre Radio e Sales 0.5762\n",
      "Valor-p 4.354966001767037e-19\n",
      "Coeficiente de Pearson entre Jornal e Sales 0.2283\n",
      "Valor-p 0.001148195868888248\n"
     ]
    }
   ],
   "source": [
    "from scipy import stats\n",
    "print(\"Coeficiente de Pearson entre TV e Sales\",round(stats.pearsonr(x['TV'],y)[0],4))\n",
    "print(\"Valor-p\",stats.pearsonr(x['TV'],y)[1]) #checar esse valor p do pearson\n",
    "print(\"Coeficiente de Pearson entre Radio e Sales\",round(stats.pearsonr(x['radio'],y)[0],4))\n",
    "print(\"Valor-p\",stats.pearsonr(x['radio'],y)[1]) #checar esse valor p do pearson\n",
    "print(\"Coeficiente de Pearson entre Jornal e Sales\",round(stats.pearsonr(x['newspaper'],y)[0],4))\n",
    "print(\"Valor-p\",stats.pearsonr(x['newspaper'],y)[1]) #checar esse valor p do pearson"
   ]
  },
  {
   "cell_type": "markdown",
   "metadata": {},
   "source": [
    "#### Observação: há evidências estatisticas entre as variáveis \"TV\", \"rádio\" e \"jornal\" com a variável \"venda\" (valores-p  < 0,05) - https://www.youtube.com/watch?v=TLlzToeIpGc&t=350s\n",
    "\n",
    "Outra referência interessante: https://neylsoncrepalde.github.io/2018-02-25-regressao-linear-python/"
   ]
  },
  {
   "cell_type": "markdown",
   "metadata": {},
   "source": [
    "### Separando conjuntos treinamento e teste "
   ]
  },
  {
   "cell_type": "code",
   "execution_count": 46,
   "metadata": {},
   "outputs": [],
   "source": [
    "from sklearn.model_selection import train_test_split\n",
    "x_train, x_test, y_train, y_test = train_test_split(x,y,test_size=0.3) #70% treino e 30% teste"
   ]
  },
  {
   "cell_type": "markdown",
   "metadata": {},
   "source": [
    "## Importação do modelo de regressão linear"
   ]
  },
  {
   "cell_type": "code",
   "execution_count": 47,
   "metadata": {},
   "outputs": [
    {
     "data": {
      "text/plain": [
       "LinearRegression(copy_X=True, fit_intercept=True, n_jobs=None, normalize=False)"
      ]
     },
     "execution_count": 47,
     "metadata": {},
     "output_type": "execute_result"
    }
   ],
   "source": [
    "from sklearn.linear_model import LinearRegression\n",
    "reglin = LinearRegression()\n",
    "reglin.fit(x_train,y_train)"
   ]
  },
  {
   "cell_type": "markdown",
   "metadata": {},
   "source": [
    "### Coeficientes (de saída) do modelo de regressão linear (múltipla)\n",
    "Atenção com a variável 'newspaper' (parece que não contribui muito!)"
   ]
  },
  {
   "cell_type": "code",
   "execution_count": 48,
   "metadata": {},
   "outputs": [
    {
     "name": "stdout",
     "output_type": "stream",
     "text": [
      "[ 0.04684938  0.20189382 -0.00658202]\n"
     ]
    },
    {
     "data": {
      "text/plain": [
       "[('TV', 0.046849379237505026),\n",
       " ('radio', 0.2018938190216701),\n",
       " ('newspaper', -0.006582023373602929)]"
      ]
     },
     "execution_count": 48,
     "metadata": {},
     "output_type": "execute_result"
    }
   ],
   "source": [
    "print(reglin.coef_)\n",
    "list(zip(['TV','radio','newspaper'],reglin.coef_)) # saída melhor"
   ]
  },
  {
   "cell_type": "code",
   "execution_count": 49,
   "metadata": {},
   "outputs": [
    {
     "name": "stdout",
     "output_type": "stream",
     "text": [
      "Interpretação dos coeficientes: a cada 1 dolar investido em TV temos um aumento de 0.0468  na venda (Sale), a cada 1 dolar investido em Rádio temos um aumento de  0.2019  na venda (Sale) e a cada 1 dólar investido em Jornais temos um aumento de  -0.0066  na venda (Sale)\n"
     ]
    }
   ],
   "source": [
    "print('Interpretação dos coeficientes: a cada 1 dolar investido em TV temos um aumento de', round(reglin.coef_[0],4),' na venda (Sale), a cada 1 dolar investido em Rádio temos um aumento de ',round(reglin.coef_[1],4),' na venda (Sale) e a cada 1 dólar investido em Jornais temos um aumento de ',round(reglin.coef_[2],4),' na venda (Sale)')"
   ]
  },
  {
   "cell_type": "markdown",
   "metadata": {},
   "source": [
    "### Teste de predição/previsão para uma entrada (1a. linha de x)\n",
    "Saída correta é 22.1 (ver Out[1])"
   ]
  },
  {
   "cell_type": "code",
   "execution_count": 50,
   "metadata": {},
   "outputs": [
    {
     "name": "stdout",
     "output_type": "stream",
     "text": [
      "[20.50809103]\n"
     ]
    }
   ],
   "source": [
    "print(reglin.predict([[ 230.1,37.8,69.2]]))"
   ]
  },
  {
   "cell_type": "markdown",
   "metadata": {},
   "source": [
    "### Predição/previsão para o conjunto teste"
   ]
  },
  {
   "cell_type": "code",
   "execution_count": 51,
   "metadata": {},
   "outputs": [
    {
     "name": "stdout",
     "output_type": "stream",
     "text": [
      "[10.25245073 17.00820892  8.77967935 15.36949117 12.66214924 13.76721776\n",
      " 16.42003712 16.71321842  9.17010158  6.69498762 11.57331382 11.64200131\n",
      " 12.20911004 17.02137293 12.4771703  14.24782584  7.48320215 15.10470269\n",
      " 18.02482169 18.2653485  15.09054203 21.70337338  8.42316294 21.39299157\n",
      " 19.31602577 12.21329031 10.31967146 19.91201259  9.59607696 21.13246485\n",
      " 12.39020977 13.28413782  7.21107822 19.52865824 15.22300616  3.97746473\n",
      " 10.33833127  7.80610122 15.27885897 19.33564276  9.79083663  8.51809842\n",
      "  3.07792313 19.33665529 22.04793067 17.0288644   7.65623439  6.14018232\n",
      "  6.24870413  9.38900419 17.99200175  6.19533221 24.23466494 16.94287053\n",
      " 14.88564593 12.0640013   8.97980147 18.54518862 10.37443184 12.69992372]\n"
     ]
    }
   ],
   "source": [
    "y_prev = reglin.predict(x_test)\n",
    "print(y_prev)"
   ]
  },
  {
   "cell_type": "markdown",
   "metadata": {},
   "source": [
    "### Saída desejada\n",
    "(1a. coluna é o índice do dado do conjunto teste e 2a. coluna é a saída desejada (sale))\n",
    "(tem que comparar na mesma ordem cada elemento da 2a. coluna com o y_prev acima)"
   ]
  },
  {
   "cell_type": "code",
   "execution_count": 52,
   "metadata": {},
   "outputs": [
    {
     "name": "stdout",
     "output_type": "stream",
     "text": [
      "159     7.3\n",
      "90     16.7\n",
      "79      5.3\n",
      "119    15.9\n",
      "191    10.8\n",
      "44     12.9\n",
      "153    16.6\n",
      "195    17.3\n",
      "52     10.7\n",
      "108     8.7\n",
      "87     12.0\n",
      "135    10.8\n",
      "160    12.9\n",
      "28     15.9\n",
      "97     11.7\n",
      "136    11.6\n",
      "130     9.7\n",
      "200    13.4\n",
      "21     18.0\n",
      "151    16.1\n",
      "46     14.9\n",
      "31     21.4\n",
      "133     5.7\n",
      "70     22.3\n",
      "134    19.6\n",
      "180    12.6\n",
      "13      9.2\n",
      "110    19.8\n",
      "152    11.6\n",
      "186    22.6\n",
      "149    10.9\n",
      "64     14.0\n",
      "33      9.6\n",
      "29     18.9\n",
      "124    15.2\n",
      "92      7.3\n",
      "95     11.5\n",
      "50      9.7\n",
      "132    12.7\n",
      "143    20.1\n",
      "145    11.4\n",
      "47     10.6\n",
      "109     5.3\n",
      "125    19.7\n",
      "48     23.2\n",
      "169    17.1\n",
      "66      9.3\n",
      "183     8.7\n",
      "128     8.8\n",
      "80     11.0\n",
      "106    19.2\n",
      "118     9.4\n",
      "184    26.2\n",
      "36     12.8\n",
      "86     15.2\n",
      "8      13.2\n",
      "67      9.5\n",
      "185    17.6\n",
      "72     12.4\n",
      "58     13.2\n",
      "Name: sales, dtype: float64\n"
     ]
    }
   ],
   "source": [
    "print(y_test)"
   ]
  },
  {
   "cell_type": "markdown",
   "metadata": {},
   "source": [
    "### Avaliação da Performance do modelo de regressão linear (múltipla)\n",
    "Diferentemente do KNN e Regressão Logística cuja as variáveis de saída eram categoricas (acerto ou erro do modelo - percentual de acertos), aqui deve-se medir a diferença de cada saída do modelo com a saída desejada."
   ]
  },
  {
   "cell_type": "markdown",
   "metadata": {},
   "source": [
    "### MAE (Mean absolute error)"
   ]
  },
  {
   "cell_type": "code",
   "execution_count": 53,
   "metadata": {},
   "outputs": [
    {
     "name": "stdout",
     "output_type": "stream",
     "text": [
      "1.3868866638248487\n"
     ]
    }
   ],
   "source": [
    "from sklearn import metrics\n",
    "print(metrics.mean_absolute_error(y_test,y_prev))"
   ]
  },
  {
   "cell_type": "markdown",
   "metadata": {},
   "source": [
    "### MSE (Mean squared error)"
   ]
  },
  {
   "cell_type": "code",
   "execution_count": 54,
   "metadata": {},
   "outputs": [
    {
     "name": "stdout",
     "output_type": "stream",
     "text": [
      "2.9055609179245487\n"
     ]
    }
   ],
   "source": [
    "print(metrics.mean_squared_error(y_test,y_prev))"
   ]
  },
  {
   "cell_type": "markdown",
   "metadata": {},
   "source": [
    "### RMSE (Root mean squared error)"
   ]
  },
  {
   "cell_type": "code",
   "execution_count": 55,
   "metadata": {},
   "outputs": [
    {
     "name": "stdout",
     "output_type": "stream",
     "text": [
      "1.704570596345176\n"
     ]
    }
   ],
   "source": [
    "import numpy as np\n",
    "print(np.sqrt(metrics.mean_squared_error(y_test,y_prev)))"
   ]
  },
  {
   "cell_type": "code",
   "execution_count": null,
   "metadata": {},
   "outputs": [],
   "source": []
  }
 ],
 "metadata": {
  "kernelspec": {
   "display_name": "Python 3",
   "language": "python",
   "name": "python3"
  },
  "language_info": {
   "codemirror_mode": {
    "name": "ipython",
    "version": 3
   },
   "file_extension": ".py",
   "mimetype": "text/x-python",
   "name": "python",
   "nbconvert_exporter": "python",
   "pygments_lexer": "ipython3",
   "version": "3.8.2"
  }
 },
 "nbformat": 4,
 "nbformat_minor": 4
}
