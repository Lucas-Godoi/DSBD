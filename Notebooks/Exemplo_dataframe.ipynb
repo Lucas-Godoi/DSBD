{
  "nbformat": 4,
  "nbformat_minor": 0,
  "metadata": {
    "kernelspec": {
      "display_name": "Python 3",
      "language": "python",
      "name": "python3"
    },
    "language_info": {
      "codemirror_mode": {
        "name": "ipython",
        "version": 3
      },
      "file_extension": ".py",
      "mimetype": "text/x-python",
      "name": "python",
      "nbconvert_exporter": "python",
      "pygments_lexer": "ipython3",
      "version": "3.7.3"
    },
    "colab": {
      "name": "Exemplo_dataframe.ipynb",
      "provenance": [],
      "collapsed_sections": []
    }
  },
  "cells": [
    {
      "cell_type": "markdown",
      "metadata": {
        "id": "PcWx36BdDBX0"
      },
      "source": [
        "## Conjunto de dados\n",
        "\n",
        "- Fonte: https://www.kaggle.com/uciml/pima-indians-diabetes-database\n",
        "- Proprietários originais: National Institute of Diabetes and Digestive and Kidney Diseases\n",
        "- Doadores da base de dados: Vincent Sigillito (vgs@aplcen.apl.jhu.edu), \n",
        "Research Center, RMI Group Leader, Applied Physics Laboratory, The Johns Hopkins University (1990)\n",
        "\n",
        "Detalhes sobre o conjunto de dados:\n",
        "\n",
        "1. Número de instâncias: 768\n",
        "\n",
        "2. Número de atributos: 8 (mais classe target)\n",
        "\n",
        "3. Atributos: (todos com valor numérico)\n",
        "   1. Número de vezes que engravidou (*Pregnancies*)\n",
        "   2. Concentração de glicose plasmática a 2 horas em um teste de tolerância à glicose oral (*Glucose*)\n",
        "   3. Pressão arterial diastólica (mm Hg) (*BloodPressure*)\n",
        "   4. Espessura da dobra da pele do tríceps (mm) (*SkinThickness*)\n",
        "   5. Insulina sérica de 2 horas (mu U / ml) (*Insulin*)\n",
        "   6. Índice de massa corporal (peso em kg / (altura em m) ^ 2) (*BMI*)\n",
        "   7. Função de pedigree de diabetes (*DiabetesPedigreeFunction*)\n",
        "   8. Idade (anos) (*Age*)\n",
        "   \n",
        "4. Variável target (classe): 0 ou 1 (valor de classe 1 é interpretado como \"teste positivo para diabetes\")\n",
        "\n",
        "   Classe Valor Número de instâncias\n",
        "   - 500 => 0\n",
        "   - 268 => 1\n",
        "\n",
        " "
      ]
    },
    {
      "cell_type": "markdown",
      "metadata": {
        "id": "SgK6xTSQM9cA"
      },
      "source": [
        "## Clona repositório de dados da disciplina hospedado no GitHUb"
      ]
    },
    {
      "cell_type": "code",
      "metadata": {
        "id": "1SP-2hEvNDAA"
      },
      "source": [
        "!git clone \"https://github.com/malegopc/DSBD\""
      ],
      "execution_count": null,
      "outputs": []
    },
    {
      "cell_type": "markdown",
      "metadata": {
        "id": "LWXwGCqvIwgN"
      },
      "source": [
        "## Leitura dos dados\n",
        "\n",
        "Vamos começar importando o arquivo CSV \"bruto\" usando o Pandas."
      ]
    },
    {
      "cell_type": "code",
      "metadata": {
        "scrolled": true,
        "id": "LM6AT7tPzjL6"
      },
      "source": [
        "import pandas as pd\n",
        "\n",
        "# lê arquivo de dados, atribue NaN para dados faltantes\n",
        "diabetes = pd.read_csv('DSBD/Datasets/Indians_Diabetes/diabetes.csv', na_values=['?'])\n",
        "# imprime o tipo da variável \"diabetes\" como dataframe\n",
        "print(type(diabetes))"
      ],
      "execution_count": null,
      "outputs": []
    },
    {
      "cell_type": "markdown",
      "metadata": {
        "id": "O-40JB6jVqOt"
      },
      "source": [
        "## Imprime as 5 primeiras linhas"
      ]
    },
    {
      "cell_type": "code",
      "metadata": {
        "scrolled": true,
        "id": "ENoztljlU5Zc"
      },
      "source": [
        "# imprime as 5 primeiras linhas dos dados montados\n",
        "diabetes.head()"
      ],
      "execution_count": null,
      "outputs": []
    },
    {
      "cell_type": "markdown",
      "metadata": {
        "id": "hwYy7MWElw6e"
      },
      "source": [
        "## Imprime o número de dados non-null (não ausentes) e o tipo de cada atributo."
      ]
    },
    {
      "cell_type": "code",
      "metadata": {
        "id": "4fCsJPgNlxwG"
      },
      "source": [
        "# Mostra o número de dados non-null (não ausentes) e o tipo de cada atributo\n",
        "print('Informações sobre os dados:\\n')\n",
        "diabetes.info()\n",
        "# Soma o número de dados null (ausentes)\n",
        "print('\\n\\nSoma de dados null (vazios):\\n')\n",
        "diabetes.isnull().sum()"
      ],
      "execution_count": null,
      "outputs": []
    },
    {
      "cell_type": "markdown",
      "metadata": {
        "id": "HFsjqPh-zjL-"
      },
      "source": [
        "## Análise (estatística) descritiva dos dados"
      ]
    },
    {
      "cell_type": "code",
      "metadata": {
        "id": "d02W1HKazjL-"
      },
      "source": [
        "diabetes.describe()"
      ],
      "execution_count": null,
      "outputs": []
    },
    {
      "cell_type": "markdown",
      "metadata": {
        "id": "yabMrBvezjMC"
      },
      "source": [
        "## Separa os atributos das classes\n",
        "\n",
        "O conjunto de dados será utilizado nas tarefas de classificação quando estudarmos os métodos de Aprendizado de Máquina."
      ]
    },
    {
      "cell_type": "code",
      "metadata": {
        "id": "9pK51IcczjMC"
      },
      "source": [
        "X = diabetes.drop('Outcome', axis=1).values\n",
        "y = diabetes['Outcome'].values\n",
        "print(X.shape)\n",
        "print(y.shape)"
      ],
      "execution_count": null,
      "outputs": []
    },
    {
      "cell_type": "code",
      "metadata": {
        "id": "fNSC28WrWq_o"
      },
      "source": [
        "print(X)"
      ],
      "execution_count": null,
      "outputs": []
    },
    {
      "cell_type": "code",
      "metadata": {
        "id": "cSXDerALWwz7"
      },
      "source": [
        "print(y)"
      ],
      "execution_count": null,
      "outputs": []
    }
  ]
}