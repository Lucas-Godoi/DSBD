{
  "cells": [
    {
      "cell_type": "markdown",
      "source": [
        "---\n",
        "---\n",
        "# Regressão Linear Múltipla - Advertising Dataset\n",
        "\n",
        "Este notebook mostra o uso do algoritmo [LinearRegression](https://scikit-learn.org/stable/modules/generated/sklearn.linear_model.LinearRegression.html): algoritmo de Regressão Linear disponível na biblioteca [scikit-learn](https://scikit-learn.org/stable/index.html) para realizar a tarefa de regressão com o conjunto de dados [**Advertising**](https://www.kaggle.com/ashydv/advertising-dataset).\n",
        "\n",
        "---\n",
        "---\n",
        "##Advertising Dataset\n",
        "\n",
        "O conjunto de dados Advertising é comumente utilizado para a tarefa de Regressão Linear. O objetivo é prever o volume de vendas com base nos investimentos de publicidade em TV, Rádio e Jornais.\n",
        "\n",
        "* 200 exemplos\n",
        "* Variável dependente: \"Sales\"\n",
        "* Variáveis independentes: \"TV, \"Rádio\" e \"Newspaper\"\n",
        "\n",
        "\n",
        "---\n",
        "\n",
        "\n"
      ],
      "metadata": {
        "id": "Y2HZvF5mrjaN"
      }
    },
    {
      "cell_type": "markdown",
      "metadata": {
        "id": "mGWLtx0Mq9mU"
      },
      "source": [
        "### Leitura dos dados\n",
        "\n"
      ]
    },
    {
      "cell_type": "code",
      "execution_count": 1,
      "metadata": {
        "colab": {
          "base_uri": "https://localhost:8080/",
          "height": 441
        },
        "id": "nAX88PiVq9ma",
        "outputId": "7ef3ea92-278d-4430-a525-76c32f0f36df"
      },
      "outputs": [
        {
          "output_type": "stream",
          "name": "stdout",
          "text": [
            "fatal: destination path 'DSBD' already exists and is not an empty directory.\n"
          ]
        },
        {
          "output_type": "execute_result",
          "data": {
            "text/html": [
              "\n",
              "  <div id=\"df-02195c77-6eb7-4d07-9bb3-81ddb1c51479\">\n",
              "    <div class=\"colab-df-container\">\n",
              "      <div>\n",
              "<style scoped>\n",
              "    .dataframe tbody tr th:only-of-type {\n",
              "        vertical-align: middle;\n",
              "    }\n",
              "\n",
              "    .dataframe tbody tr th {\n",
              "        vertical-align: top;\n",
              "    }\n",
              "\n",
              "    .dataframe thead th {\n",
              "        text-align: right;\n",
              "    }\n",
              "</style>\n",
              "<table border=\"1\" class=\"dataframe\">\n",
              "  <thead>\n",
              "    <tr style=\"text-align: right;\">\n",
              "      <th></th>\n",
              "      <th>Unnamed: 0</th>\n",
              "      <th>TV</th>\n",
              "      <th>radio</th>\n",
              "      <th>newspaper</th>\n",
              "      <th>sales</th>\n",
              "    </tr>\n",
              "  </thead>\n",
              "  <tbody>\n",
              "    <tr>\n",
              "      <th>0</th>\n",
              "      <td>1</td>\n",
              "      <td>230.1</td>\n",
              "      <td>37.8</td>\n",
              "      <td>69.2</td>\n",
              "      <td>22.1</td>\n",
              "    </tr>\n",
              "    <tr>\n",
              "      <th>1</th>\n",
              "      <td>2</td>\n",
              "      <td>44.5</td>\n",
              "      <td>39.3</td>\n",
              "      <td>45.1</td>\n",
              "      <td>10.4</td>\n",
              "    </tr>\n",
              "    <tr>\n",
              "      <th>2</th>\n",
              "      <td>3</td>\n",
              "      <td>17.2</td>\n",
              "      <td>45.9</td>\n",
              "      <td>69.3</td>\n",
              "      <td>9.3</td>\n",
              "    </tr>\n",
              "    <tr>\n",
              "      <th>3</th>\n",
              "      <td>4</td>\n",
              "      <td>151.5</td>\n",
              "      <td>41.3</td>\n",
              "      <td>58.5</td>\n",
              "      <td>18.5</td>\n",
              "    </tr>\n",
              "    <tr>\n",
              "      <th>4</th>\n",
              "      <td>5</td>\n",
              "      <td>180.8</td>\n",
              "      <td>10.8</td>\n",
              "      <td>58.4</td>\n",
              "      <td>12.9</td>\n",
              "    </tr>\n",
              "    <tr>\n",
              "      <th>...</th>\n",
              "      <td>...</td>\n",
              "      <td>...</td>\n",
              "      <td>...</td>\n",
              "      <td>...</td>\n",
              "      <td>...</td>\n",
              "    </tr>\n",
              "    <tr>\n",
              "      <th>195</th>\n",
              "      <td>196</td>\n",
              "      <td>38.2</td>\n",
              "      <td>3.7</td>\n",
              "      <td>13.8</td>\n",
              "      <td>7.6</td>\n",
              "    </tr>\n",
              "    <tr>\n",
              "      <th>196</th>\n",
              "      <td>197</td>\n",
              "      <td>94.2</td>\n",
              "      <td>4.9</td>\n",
              "      <td>8.1</td>\n",
              "      <td>9.7</td>\n",
              "    </tr>\n",
              "    <tr>\n",
              "      <th>197</th>\n",
              "      <td>198</td>\n",
              "      <td>177.0</td>\n",
              "      <td>9.3</td>\n",
              "      <td>6.4</td>\n",
              "      <td>12.8</td>\n",
              "    </tr>\n",
              "    <tr>\n",
              "      <th>198</th>\n",
              "      <td>199</td>\n",
              "      <td>283.6</td>\n",
              "      <td>42.0</td>\n",
              "      <td>66.2</td>\n",
              "      <td>25.5</td>\n",
              "    </tr>\n",
              "    <tr>\n",
              "      <th>199</th>\n",
              "      <td>200</td>\n",
              "      <td>232.1</td>\n",
              "      <td>8.6</td>\n",
              "      <td>8.7</td>\n",
              "      <td>13.4</td>\n",
              "    </tr>\n",
              "  </tbody>\n",
              "</table>\n",
              "<p>200 rows × 5 columns</p>\n",
              "</div>\n",
              "      <button class=\"colab-df-convert\" onclick=\"convertToInteractive('df-02195c77-6eb7-4d07-9bb3-81ddb1c51479')\"\n",
              "              title=\"Convert this dataframe to an interactive table.\"\n",
              "              style=\"display:none;\">\n",
              "        \n",
              "  <svg xmlns=\"http://www.w3.org/2000/svg\" height=\"24px\"viewBox=\"0 0 24 24\"\n",
              "       width=\"24px\">\n",
              "    <path d=\"M0 0h24v24H0V0z\" fill=\"none\"/>\n",
              "    <path d=\"M18.56 5.44l.94 2.06.94-2.06 2.06-.94-2.06-.94-.94-2.06-.94 2.06-2.06.94zm-11 1L8.5 8.5l.94-2.06 2.06-.94-2.06-.94L8.5 2.5l-.94 2.06-2.06.94zm10 10l.94 2.06.94-2.06 2.06-.94-2.06-.94-.94-2.06-.94 2.06-2.06.94z\"/><path d=\"M17.41 7.96l-1.37-1.37c-.4-.4-.92-.59-1.43-.59-.52 0-1.04.2-1.43.59L10.3 9.45l-7.72 7.72c-.78.78-.78 2.05 0 2.83L4 21.41c.39.39.9.59 1.41.59.51 0 1.02-.2 1.41-.59l7.78-7.78 2.81-2.81c.8-.78.8-2.07 0-2.86zM5.41 20L4 18.59l7.72-7.72 1.47 1.35L5.41 20z\"/>\n",
              "  </svg>\n",
              "      </button>\n",
              "      \n",
              "  <style>\n",
              "    .colab-df-container {\n",
              "      display:flex;\n",
              "      flex-wrap:wrap;\n",
              "      gap: 12px;\n",
              "    }\n",
              "\n",
              "    .colab-df-convert {\n",
              "      background-color: #E8F0FE;\n",
              "      border: none;\n",
              "      border-radius: 50%;\n",
              "      cursor: pointer;\n",
              "      display: none;\n",
              "      fill: #1967D2;\n",
              "      height: 32px;\n",
              "      padding: 0 0 0 0;\n",
              "      width: 32px;\n",
              "    }\n",
              "\n",
              "    .colab-df-convert:hover {\n",
              "      background-color: #E2EBFA;\n",
              "      box-shadow: 0px 1px 2px rgba(60, 64, 67, 0.3), 0px 1px 3px 1px rgba(60, 64, 67, 0.15);\n",
              "      fill: #174EA6;\n",
              "    }\n",
              "\n",
              "    [theme=dark] .colab-df-convert {\n",
              "      background-color: #3B4455;\n",
              "      fill: #D2E3FC;\n",
              "    }\n",
              "\n",
              "    [theme=dark] .colab-df-convert:hover {\n",
              "      background-color: #434B5C;\n",
              "      box-shadow: 0px 1px 3px 1px rgba(0, 0, 0, 0.15);\n",
              "      filter: drop-shadow(0px 1px 2px rgba(0, 0, 0, 0.3));\n",
              "      fill: #FFFFFF;\n",
              "    }\n",
              "  </style>\n",
              "\n",
              "      <script>\n",
              "        const buttonEl =\n",
              "          document.querySelector('#df-02195c77-6eb7-4d07-9bb3-81ddb1c51479 button.colab-df-convert');\n",
              "        buttonEl.style.display =\n",
              "          google.colab.kernel.accessAllowed ? 'block' : 'none';\n",
              "\n",
              "        async function convertToInteractive(key) {\n",
              "          const element = document.querySelector('#df-02195c77-6eb7-4d07-9bb3-81ddb1c51479');\n",
              "          const dataTable =\n",
              "            await google.colab.kernel.invokeFunction('convertToInteractive',\n",
              "                                                     [key], {});\n",
              "          if (!dataTable) return;\n",
              "\n",
              "          const docLinkHtml = 'Like what you see? Visit the ' +\n",
              "            '<a target=\"_blank\" href=https://colab.research.google.com/notebooks/data_table.ipynb>data table notebook</a>'\n",
              "            + ' to learn more about interactive tables.';\n",
              "          element.innerHTML = '';\n",
              "          dataTable['output_type'] = 'display_data';\n",
              "          await google.colab.output.renderOutput(dataTable, element);\n",
              "          const docLink = document.createElement('div');\n",
              "          docLink.innerHTML = docLinkHtml;\n",
              "          element.appendChild(docLink);\n",
              "        }\n",
              "      </script>\n",
              "    </div>\n",
              "  </div>\n",
              "  "
            ],
            "text/plain": [
              "     Unnamed: 0     TV  radio  newspaper  sales\n",
              "0             1  230.1   37.8       69.2   22.1\n",
              "1             2   44.5   39.3       45.1   10.4\n",
              "2             3   17.2   45.9       69.3    9.3\n",
              "3             4  151.5   41.3       58.5   18.5\n",
              "4             5  180.8   10.8       58.4   12.9\n",
              "..          ...    ...    ...        ...    ...\n",
              "195         196   38.2    3.7       13.8    7.6\n",
              "196         197   94.2    4.9        8.1    9.7\n",
              "197         198  177.0    9.3        6.4   12.8\n",
              "198         199  283.6   42.0       66.2   25.5\n",
              "199         200  232.1    8.6        8.7   13.4\n",
              "\n",
              "[200 rows x 5 columns]"
            ]
          },
          "metadata": {},
          "execution_count": 1
        }
      ],
      "source": [
        "import pandas as pd\n",
        "\n",
        "# Clone do repositório de dados do GitHub\n",
        "!git clone https://github.com/malegopc/DSBD\n",
        "\n",
        "dataset = pd.read_csv(\"/content/DSBD/Datasets/Advertising/Advertising.csv\")\n",
        "dataset"
      ]
    },
    {
      "cell_type": "markdown",
      "source": [
        "### Separa variáveis independentes e dependente"
      ],
      "metadata": {
        "id": "6iDIfnxPxb4F"
      }
    },
    {
      "cell_type": "code",
      "execution_count": 2,
      "metadata": {
        "id": "EQ-DmV9tq9me"
      },
      "outputs": [],
      "source": [
        "x = dataset[['TV','radio','newspaper']]\n",
        "y = dataset['sales']           "
      ]
    },
    {
      "cell_type": "code",
      "execution_count": 3,
      "metadata": {
        "colab": {
          "base_uri": "https://localhost:8080/"
        },
        "id": "Vkq2dk9Nq9mf",
        "outputId": "0dcd9278-c970-4bac-ec13-643b03d66a9f"
      },
      "outputs": [
        {
          "output_type": "execute_result",
          "data": {
            "text/plain": [
              "(200, 3)"
            ]
          },
          "metadata": {},
          "execution_count": 3
        }
      ],
      "source": [
        "x.shape"
      ]
    },
    {
      "cell_type": "code",
      "execution_count": 4,
      "metadata": {
        "colab": {
          "base_uri": "https://localhost:8080/"
        },
        "id": "4Hfcli6Eq9mg",
        "outputId": "067c8ce2-4d16-4dff-f925-3d5cd0ee0a20"
      },
      "outputs": [
        {
          "output_type": "execute_result",
          "data": {
            "text/plain": [
              "(200,)"
            ]
          },
          "metadata": {},
          "execution_count": 4
        }
      ],
      "source": [
        "y.shape"
      ]
    },
    {
      "cell_type": "markdown",
      "metadata": {
        "id": "3fn5AppGq9mh"
      },
      "source": [
        "### Gráficos de dispersão usando o Seaborn"
      ]
    },
    {
      "cell_type": "code",
      "execution_count": 5,
      "metadata": {
        "colab": {
          "base_uri": "https://localhost:8080/",
          "height": 451
        },
        "id": "kGP1hGOnq9mh",
        "outputId": "15b10935-accf-465b-962f-3c35b2aee92d"
      },
      "outputs": [
        {
          "output_type": "execute_result",
          "data": {
            "text/plain": [
              "<seaborn.axisgrid.PairGrid at 0x7f8f88065250>"
            ]
          },
          "metadata": {},
          "execution_count": 5
        },
        {
          "output_type": "display_data",
          "data": {
            "image/png": "[encoded data removed]",
            "text/plain": [
              "<Figure size 1512x504 with 3 Axes>"
            ]
          },
          "metadata": {
            "needs_background": "light"
          }
        }
      ],
      "source": [
        "import seaborn as sns\n",
        "sns.pairplot(dataset, x_vars=['TV','radio','newspaper'], y_vars='sales',height=7, kind='reg')"
      ]
    },
    {
      "cell_type": "markdown",
      "metadata": {
        "id": "rJakdTgYq9mi"
      },
      "source": [
        "### Calculando o coeficiente de correlação de Pearson e valor-p\n"
      ]
    },
    {
      "cell_type": "code",
      "execution_count": 6,
      "metadata": {
        "colab": {
          "base_uri": "https://localhost:8080/"
        },
        "id": "LyMk0hH3q9mi",
        "outputId": "7d008789-c0e4-4389-ea05-eeb4f5f4d8d0"
      },
      "outputs": [
        {
          "output_type": "stream",
          "name": "stdout",
          "text": [
            "Coeficiente de Pearson entre TV e Sales 0.7822\n",
            "Valor-p 1.467389700194781e-42\n",
            "Coeficiente de Pearson entre Radio e Sales 0.5762\n",
            "Valor-p 4.354966001767222e-19\n",
            "Coeficiente de Pearson entre Jornal e Sales 0.2283\n",
            "Valor-p 0.0011481958688882665\n"
          ]
        }
      ],
      "source": [
        "from scipy import stats\n",
        "print(\"Coeficiente de Pearson entre TV e Sales\",round(stats.pearsonr(x['TV'],y)[0],4))\n",
        "print(\"Valor-p\",stats.pearsonr(x['TV'],y)[1]) \n",
        "print(\"Coeficiente de Pearson entre Radio e Sales\",round(stats.pearsonr(x['radio'],y)[0],4))\n",
        "print(\"Valor-p\",stats.pearsonr(x['radio'],y)[1]) \n",
        "print(\"Coeficiente de Pearson entre Jornal e Sales\",round(stats.pearsonr(x['newspaper'],y)[0],4))\n",
        "print(\"Valor-p\",stats.pearsonr(x['newspaper'],y)[1]) "
      ]
    },
    {
      "cell_type": "markdown",
      "metadata": {
        "id": "kIB0oMFrq9mj"
      },
      "source": [
        "#### Observação: há evidências estatisticas entre as variáveis \"TV\", \"rádio\" e \"jornal\" com a variável \"venda\" (valores-p  < 0,05) "
      ]
    },
    {
      "cell_type": "markdown",
      "metadata": {
        "id": "VjkGvbeDq9mj"
      },
      "source": [
        "### Separando conjuntos treinamento e teste "
      ]
    },
    {
      "cell_type": "code",
      "execution_count": 7,
      "metadata": {
        "id": "M0mgW2kmq9mj"
      },
      "outputs": [],
      "source": [
        "from sklearn.model_selection import train_test_split\n",
        "x_train, x_test, y_train, y_test = train_test_split(x,y,test_size=0.3) #70% treino e 30% teste"
      ]
    },
    {
      "cell_type": "markdown",
      "metadata": {
        "id": "W6Oxq5m8q9mk"
      },
      "source": [
        "## Aplicação do modelo de regressão linear"
      ]
    },
    {
      "cell_type": "code",
      "execution_count": 8,
      "metadata": {
        "colab": {
          "base_uri": "https://localhost:8080/"
        },
        "id": "9gpSpG-6q9mk",
        "outputId": "f04ffb97-b8c8-4291-bc32-83243a3ea207"
      },
      "outputs": [
        {
          "output_type": "execute_result",
          "data": {
            "text/plain": [
              "LinearRegression()"
            ]
          },
          "metadata": {},
          "execution_count": 8
        }
      ],
      "source": [
        "from sklearn.linear_model import LinearRegression\n",
        "reglin = LinearRegression()\n",
        "reglin.fit(x_train,y_train)"
      ]
    },
    {
      "cell_type": "markdown",
      "metadata": {
        "id": "4iqm9OqAq9mk"
      },
      "source": [
        "### Coeficientes (de saída) do modelo de regressão linear (múltipla)\n",
        "Atenção com a variável 'newspaper' (parece que não contribue muito!)"
      ]
    },
    {
      "cell_type": "code",
      "execution_count": 9,
      "metadata": {
        "colab": {
          "base_uri": "https://localhost:8080/"
        },
        "id": "NgfpvJaXq9ml",
        "outputId": "04a30141-8eb1-4a56-c42e-aa059839d7b6"
      },
      "outputs": [
        {
          "output_type": "stream",
          "name": "stdout",
          "text": [
            "[0.04488764 0.18562963 0.00383375]\n"
          ]
        }
      ],
      "source": [
        "print(reglin.coef_)\n",
        "#list(zip(['TV','radio','newspaper'],reglin.coef_)) # saída melhor"
      ]
    },
    {
      "cell_type": "code",
      "execution_count": 10,
      "metadata": {
        "colab": {
          "base_uri": "https://localhost:8080/"
        },
        "id": "pC3BRczxq9ml",
        "outputId": "6e552250-7c1a-41b2-a6d4-34917799f6e9"
      },
      "outputs": [
        {
          "output_type": "stream",
          "name": "stdout",
          "text": [
            "Interpretação dos coeficientes: a cada 1 dolar investido em TV temos um aumento de 0.0449  na venda (Sale), a cada 1 dolar investido em Rádio temos um aumento de  0.1856  na venda (Sale) e a cada 1 dólar investido em Jornais temos um \"aumento\" de  0.0038  na venda (Sale)\n"
          ]
        }
      ],
      "source": [
        "print('Interpretação dos coeficientes: a cada 1 dolar investido em TV temos um aumento de', round(reglin.coef_[0],4),' na venda (Sale), a cada 1 dolar investido em Rádio temos um aumento de ',round(reglin.coef_[1],4),' na venda (Sale) e a cada 1 dólar investido em Jornais temos um \"aumento\" de ',round(reglin.coef_[2],4),' na venda (Sale)')"
      ]
    },
    {
      "cell_type": "markdown",
      "metadata": {
        "id": "LMFKIFyHq9mm"
      },
      "source": [
        "### Predição/previsão"
      ]
    },
    {
      "cell_type": "code",
      "source": [
        "y_prev = reglin.predict(x[0:1]) # 1o. exemplo de conjunto de dados\n",
        "print(y_prev)"
      ],
      "metadata": {
        "colab": {
          "base_uri": "https://localhost:8080/"
        },
        "id": "CzXktnM60QLN",
        "outputId": "58053283-daff-4c4c-cdfc-66b9c070e4c1"
      },
      "execution_count": 11,
      "outputs": [
        {
          "output_type": "stream",
          "name": "stdout",
          "text": [
            "[20.61719909]\n"
          ]
        }
      ]
    },
    {
      "cell_type": "markdown",
      "metadata": {
        "id": "kG5ZKtNL1l9C"
      },
      "source": [
        "### Predição/previsão para o conjunto teste"
      ]
    },
    {
      "cell_type": "code",
      "execution_count": 12,
      "metadata": {
        "colab": {
          "base_uri": "https://localhost:8080/"
        },
        "id": "tG1bEbB_q9mm",
        "outputId": "149dadc3-57ed-4fc7-a3d7-b4e0b1b90a25"
      },
      "outputs": [
        {
          "output_type": "stream",
          "name": "stdout",
          "text": [
            "[ 9.06981956 15.5318801  11.45221008 15.80219994 15.48989986  8.17551141\n",
            " 20.6554616   8.7090465  18.64235768 12.74788303 17.54087603  6.74063883\n",
            " 10.55031896 10.06510444  9.99300314 24.17348042 10.77156083 15.70486993\n",
            " 13.28093097  5.46090019 14.47377172 23.18881874 15.05464732 18.15658115\n",
            "  8.42327643 19.84038744 21.54955656  9.76008305 10.03199003 17.2999655\n",
            " 11.76624136  8.89167421 18.03586896 24.67338499 15.17242995 12.0796086\n",
            " 16.27989842 17.27693848 22.00332463 14.69958761  9.50636897 14.90815453\n",
            " 15.38956211 19.21238507 14.45185318 20.20553076  9.98010641 12.21981008\n",
            " 12.54857801  9.73133124 13.68787252 19.2642556  16.32918167  8.82139027\n",
            "  9.88115423 15.33640166 13.93170957  7.47468372 10.18385417 17.11428003]\n"
          ]
        }
      ],
      "source": [
        "y_prev = reglin.predict(x_test)\n",
        "print(y_prev)"
      ]
    },
    {
      "cell_type": "markdown",
      "metadata": {
        "id": "V3BwQNGVq9mn"
      },
      "source": [
        "### Avaliação da Performance do modelo de regressão linear (múltipla)\n",
        "Deve-se comparar a saída do modelo com a saída correta."
      ]
    },
    {
      "cell_type": "markdown",
      "metadata": {
        "id": "WoOY_SDWq9mn"
      },
      "source": [
        "### MAE (Mean absolute error)"
      ]
    },
    {
      "cell_type": "code",
      "execution_count": 13,
      "metadata": {
        "colab": {
          "base_uri": "https://localhost:8080/"
        },
        "id": "r8z_GAcOq9mo",
        "outputId": "d0976902-0040-49e1-fb33-3c406e00c429"
      },
      "outputs": [
        {
          "output_type": "stream",
          "name": "stdout",
          "text": [
            "1.1629162010926313\n"
          ]
        }
      ],
      "source": [
        "from sklearn import metrics\n",
        "print(metrics.mean_absolute_error(y_test,y_prev))"
      ]
    },
    {
      "cell_type": "markdown",
      "metadata": {
        "id": "i8l12_RCq9mo"
      },
      "source": [
        "### MSE (Mean squared error)"
      ]
    },
    {
      "cell_type": "code",
      "execution_count": 14,
      "metadata": {
        "colab": {
          "base_uri": "https://localhost:8080/"
        },
        "id": "ZA7rLH63q9mo",
        "outputId": "6baa67ef-7318-444b-bd30-64085772f867"
      },
      "outputs": [
        {
          "output_type": "stream",
          "name": "stdout",
          "text": [
            "2.3451811582413815\n"
          ]
        }
      ],
      "source": [
        "print(metrics.mean_squared_error(y_test,y_prev))"
      ]
    },
    {
      "cell_type": "markdown",
      "metadata": {
        "id": "xvklXQgCq9mo"
      },
      "source": [
        "### RMSE (Root mean squared error)"
      ]
    },
    {
      "cell_type": "code",
      "execution_count": 15,
      "metadata": {
        "colab": {
          "base_uri": "https://localhost:8080/"
        },
        "id": "2dTVB8Kvq9mo",
        "outputId": "4d62c6a6-6a06-4caf-a30d-babbcc00bc8d"
      },
      "outputs": [
        {
          "output_type": "stream",
          "name": "stdout",
          "text": [
            "1.5313984322315932\n"
          ]
        }
      ],
      "source": [
        "import numpy as np\n",
        "print(np.sqrt(metrics.mean_squared_error(y_test,y_prev)))"
      ]
    }
  ],
  "metadata": {
    "kernelspec": {
      "display_name": "Python 3",
      "language": "python",
      "name": "python3"
    },
    "language_info": {
      "codemirror_mode": {
        "name": "ipython",
        "version": 3
      },
      "file_extension": ".py",
      "mimetype": "text/x-python",
      "name": "python",
      "nbconvert_exporter": "python",
      "pygments_lexer": "ipython3",
      "version": "3.8.2"
    },
    "colab": {
      "name": "Reg_Linear_Advertising.ipynb",
      "provenance": [],
      "collapsed_sections": []
    }
  },
  "nbformat": 4,
  "nbformat_minor": 0
}