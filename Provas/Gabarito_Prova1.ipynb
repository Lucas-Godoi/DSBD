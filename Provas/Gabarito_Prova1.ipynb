{
  "nbformat": 4,
  "nbformat_minor": 0,
  "metadata": {
    "colab": {
      "name": "Gabarito_Prova1.ipynb",
      "provenance": [],
      "collapsed_sections": []
    },
    "kernelspec": {
      "name": "python3",
      "display_name": "Python 3"
    },
    "language_info": {
      "name": "python"
    }
  },
  "cells": [
    {
      "cell_type": "markdown",
      "metadata": {
        "id": "xpAuMVCwfWs8"
      },
      "source": [
        "\n",
        "---\n",
        "\n",
        "---\n",
        "# GABARITO - PROVA 1 - 20 PONTOS - DSBD\n",
        "\n",
        "Neste notebook constam as 5 questões da Prova 1 da disciplina de *Data Science e Big Data*.\n",
        "\n",
        "* As questões devem ser respondidas nos espaços já alocados para suas respectivas respostas.\n",
        "\n",
        "* Os materiais da disciplina podem ser consultados.\n",
        "\n",
        "* **Não é permitido qualquer tipo de interação com outros(as) colegas de sala durante a realização da prova.**\n",
        "\n",
        "* **Você deve submeter o notebook respondido/executado no link da tarefa do Canvas até às 20:40h** *(não esqueça que o tempo de duração da prova é também um critério de avaliação!).*\n",
        "\n",
        "*Boa Prova!*\n",
        "\n",
        "---\n",
        "\n",
        "---\n",
        "\n",
        "\n",
        "\n",
        "\n",
        "\n"
      ]
    },
    {
      "cell_type": "markdown",
      "source": [
        "\n",
        "\n",
        "---\n",
        "\n",
        "#**Questão 1** (4 pontos)\n",
        "\n",
        "---\n",
        "\n"
      ],
      "metadata": {
        "id": "vqfeymMWVOch"
      }
    },
    {
      "cell_type": "markdown",
      "source": [
        "###**Assinale com V (*Verdadeiro*) ou F (*Falso*) cada uma das seguintes afirmações:**\n",
        "\n",
        "\n",
        "\n",
        "(**V**) A ciência de dados é um campo interdisciplinar que engloba estatística, análise de dados, computação e seus métodos relacionados para entender e analisar fenômenos reais que envolvem dados.\n",
        "\n",
        "(**V**) As características do Big Data podem ser descritas por meio de 5 V´s: volume, variedade, velocidade, valor e veracidade.\n",
        "\n",
        "(**F**) A maior parte do Big Data é de natureza estruturada ou semiestruturada.\n",
        "\n",
        "(**V**) O Big Data não pode ser analisado com eficiência usando apenas bancos de dados ou métodos tradicionais devido ao seu volume e variedade de dados.\n",
        "\n",
        "(**V**) A área considerada como \"perigosa\" no diagrama de Venn da Ciência de Dados é aquela em que as pessoas conhecem bem o domínio de aplicação, e provavelmente dominam alguma linguagem de programação (como Pyhton) para aplicar uma regressão linear e relatar os coeficientes, mas elas não entendem o que esses coeficientes significam.\n",
        "\n",
        "(**F**) Dentre as etapas do processo de Ciência de Dados podemos citar a Análise Exploratória de dados, que aplica principalmente estatística inferencial e técnicas de visualização de dados.\n",
        "\n",
        "(**V**) Na etapa de modelagem de dados são aplicados e avaliados métodos de aprendizado de máquina e de aprendizado profundo.\n",
        "\n",
        "(**F**) O Engenheiro de Dados usa suas habilidades ​​em matemática, estatística, ciência da computação e programação para limpar, tratar e organizar os dados para descobrir padrões “escondidos” neles; e o Cientista de Dados é responsável ​​por projetar, construir, integrar e manter dados de várias fontes.\n",
        "\n"
      ],
      "metadata": {
        "id": "NG-DKDK2VVr-"
      }
    },
    {
      "cell_type": "markdown",
      "source": [
        "---\n",
        "\n",
        "#**Questão 2** (4 pontos)\n",
        "\n",
        "---"
      ],
      "metadata": {
        "id": "ee71PMFVXZQP"
      }
    },
    {
      "cell_type": "markdown",
      "source": [
        "Nesta questão você deverá utilizar o conjunto de dados [Churn_Modelling.csv](https://raw.githubusercontent.com/malegopc/DSBD/main/Datasets/Churn/Churn_Modelling.csv) armazenado no [github da disciplina](https://github.com/malegopc/DSBD).\n",
        "\n",
        "O conjunto de dados possui as seguintes características:\n",
        "\n",
        "Número de Instâncias: 10.000\n",
        "\n",
        "Número de Atributos: 13 atributos (incluindo o target)\n",
        "\n",
        "Informações dos Atributos:\n",
        "\n",
        "* CustomerId (identificação do cliente)\n",
        "* Surname (sobrenome)\n",
        "* CreditScore (pontuação de crédito)\n",
        "* Geography (nacionalidade)\n",
        "* Gender (sexo)\n",
        "* Age (idade)\n",
        "* Tenure (propriedades)\n",
        "* Balance (saldo)\n",
        "* NumOfProducts (número de produtos)\n",
        "* HasCrCard (cartão de crédito)\n",
        "* IsActiveMember (membro ativo)\n",
        "* EstimatedSalary (salário estimado)\n",
        "* Exited (variável de destino - target)"
      ],
      "metadata": {
        "id": "aDBl4AlaZiR7"
      }
    },
    {
      "cell_type": "code",
      "source": [
        "import pandas as pd\n",
        "import numpy as np\n",
        "\n",
        "!git clone \"https://github.com/malegopc/DSBD\"\n",
        "df = pd.read_csv('DSBD/Datasets/Churn/Churn_Modelling.csv')\n",
        "df"
      ],
      "metadata": {
        "id": "gS4mltChzMjp",
        "colab": {
          "base_uri": "https://localhost:8080/",
          "height": 589
        },
        "outputId": "7225de8d-11f2-47f4-b6d3-2087ee9dceff"
      },
      "execution_count": null,
      "outputs": [
        {
          "output_type": "stream",
          "name": "stdout",
          "text": [
            "Cloning into 'DSBD'...\n",
            "remote: Enumerating objects: 484, done.\u001b[K\n",
            "remote: Counting objects: 100% (27/27), done.\u001b[K\n",
            "remote: Compressing objects: 100% (26/26), done.\u001b[K\n",
            "remote: Total 484 (delta 11), reused 0 (delta 0), pack-reused 457\u001b[K\n",
            "Receiving objects: 100% (484/484), 8.48 MiB | 25.61 MiB/s, done.\n",
            "Resolving deltas: 100% (219/219), done.\n"
          ]
        },
        {
          "output_type": "execute_result",
          "data": {
            "text/plain": [
              "      RowNumber  CustomerId    Surname  CreditScore Geography  Gender  Age  \\\n",
              "0             1    15634602   Hargrave          619    France  Female   42   \n",
              "1             2    15647311       Hill          608     Spain  Female   41   \n",
              "2             3    15619304       Onio          502    France  Female   42   \n",
              "3             4    15701354       Boni          699    France  Female   39   \n",
              "4             5    15737888   Mitchell          850     Spain  Female   43   \n",
              "...         ...         ...        ...          ...       ...     ...  ...   \n",
              "9995       9996    15606229   Obijiaku          771    France    Male   39   \n",
              "9996       9997    15569892  Johnstone          516    France    Male   35   \n",
              "9997       9998    15584532        Liu          709    France  Female   36   \n",
              "9998       9999    15682355  Sabbatini          772   Germany    Male   42   \n",
              "9999      10000    15628319     Walker          792    France  Female   28   \n",
              "\n",
              "      Tenure    Balance  NumOfProducts  HasCrCard  IsActiveMember  \\\n",
              "0          2       0.00              1          1               1   \n",
              "1          1   83807.86              1          0               1   \n",
              "2          8  159660.80              3          1               0   \n",
              "3          1       0.00              2          0               0   \n",
              "4          2  125510.82              1          1               1   \n",
              "...      ...        ...            ...        ...             ...   \n",
              "9995       5       0.00              2          1               0   \n",
              "9996      10   57369.61              1          1               1   \n",
              "9997       7       0.00              1          0               1   \n",
              "9998       3   75075.31              2          1               0   \n",
              "9999       4  130142.79              1          1               0   \n",
              "\n",
              "      EstimatedSalary  Exited  \n",
              "0           101348.88       1  \n",
              "1           112542.58       0  \n",
              "2           113931.57       1  \n",
              "3            93826.63       0  \n",
              "4            79084.10       0  \n",
              "...               ...     ...  \n",
              "9995         96270.64       0  \n",
              "9996        101699.77       0  \n",
              "9997         42085.58       1  \n",
              "9998         92888.52       1  \n",
              "9999         38190.78       0  \n",
              "\n",
              "[10000 rows x 14 columns]"
            ],
            "text/html": [
              "\n",
              "  <div id=\"df-d01997b8-98e6-484c-986d-11864aae1b1d\">\n",
              "    <div class=\"colab-df-container\">\n",
              "      <div>\n",
              "<style scoped>\n",
              "    .dataframe tbody tr th:only-of-type {\n",
              "        vertical-align: middle;\n",
              "    }\n",
              "\n",
              "    .dataframe tbody tr th {\n",
              "        vertical-align: top;\n",
              "    }\n",
              "\n",
              "    .dataframe thead th {\n",
              "        text-align: right;\n",
              "    }\n",
              "</style>\n",
              "<table border=\"1\" class=\"dataframe\">\n",
              "  <thead>\n",
              "    <tr style=\"text-align: right;\">\n",
              "      <th></th>\n",
              "      <th>RowNumber</th>\n",
              "      <th>CustomerId</th>\n",
              "      <th>Surname</th>\n",
              "      <th>CreditScore</th>\n",
              "      <th>Geography</th>\n",
              "      <th>Gender</th>\n",
              "      <th>Age</th>\n",
              "      <th>Tenure</th>\n",
              "      <th>Balance</th>\n",
              "      <th>NumOfProducts</th>\n",
              "      <th>HasCrCard</th>\n",
              "      <th>IsActiveMember</th>\n",
              "      <th>EstimatedSalary</th>\n",
              "      <th>Exited</th>\n",
              "    </tr>\n",
              "  </thead>\n",
              "  <tbody>\n",
              "    <tr>\n",
              "      <th>0</th>\n",
              "      <td>1</td>\n",
              "      <td>15634602</td>\n",
              "      <td>Hargrave</td>\n",
              "      <td>619</td>\n",
              "      <td>France</td>\n",
              "      <td>Female</td>\n",
              "      <td>42</td>\n",
              "      <td>2</td>\n",
              "      <td>0.00</td>\n",
              "      <td>1</td>\n",
              "      <td>1</td>\n",
              "      <td>1</td>\n",
              "      <td>101348.88</td>\n",
              "      <td>1</td>\n",
              "    </tr>\n",
              "    <tr>\n",
              "      <th>1</th>\n",
              "      <td>2</td>\n",
              "      <td>15647311</td>\n",
              "      <td>Hill</td>\n",
              "      <td>608</td>\n",
              "      <td>Spain</td>\n",
              "      <td>Female</td>\n",
              "      <td>41</td>\n",
              "      <td>1</td>\n",
              "      <td>83807.86</td>\n",
              "      <td>1</td>\n",
              "      <td>0</td>\n",
              "      <td>1</td>\n",
              "      <td>112542.58</td>\n",
              "      <td>0</td>\n",
              "    </tr>\n",
              "    <tr>\n",
              "      <th>2</th>\n",
              "      <td>3</td>\n",
              "      <td>15619304</td>\n",
              "      <td>Onio</td>\n",
              "      <td>502</td>\n",
              "      <td>France</td>\n",
              "      <td>Female</td>\n",
              "      <td>42</td>\n",
              "      <td>8</td>\n",
              "      <td>159660.80</td>\n",
              "      <td>3</td>\n",
              "      <td>1</td>\n",
              "      <td>0</td>\n",
              "      <td>113931.57</td>\n",
              "      <td>1</td>\n",
              "    </tr>\n",
              "    <tr>\n",
              "      <th>3</th>\n",
              "      <td>4</td>\n",
              "      <td>15701354</td>\n",
              "      <td>Boni</td>\n",
              "      <td>699</td>\n",
              "      <td>France</td>\n",
              "      <td>Female</td>\n",
              "      <td>39</td>\n",
              "      <td>1</td>\n",
              "      <td>0.00</td>\n",
              "      <td>2</td>\n",
              "      <td>0</td>\n",
              "      <td>0</td>\n",
              "      <td>93826.63</td>\n",
              "      <td>0</td>\n",
              "    </tr>\n",
              "    <tr>\n",
              "      <th>4</th>\n",
              "      <td>5</td>\n",
              "      <td>15737888</td>\n",
              "      <td>Mitchell</td>\n",
              "      <td>850</td>\n",
              "      <td>Spain</td>\n",
              "      <td>Female</td>\n",
              "      <td>43</td>\n",
              "      <td>2</td>\n",
              "      <td>125510.82</td>\n",
              "      <td>1</td>\n",
              "      <td>1</td>\n",
              "      <td>1</td>\n",
              "      <td>79084.10</td>\n",
              "      <td>0</td>\n",
              "    </tr>\n",
              "    <tr>\n",
              "      <th>...</th>\n",
              "      <td>...</td>\n",
              "      <td>...</td>\n",
              "      <td>...</td>\n",
              "      <td>...</td>\n",
              "      <td>...</td>\n",
              "      <td>...</td>\n",
              "      <td>...</td>\n",
              "      <td>...</td>\n",
              "      <td>...</td>\n",
              "      <td>...</td>\n",
              "      <td>...</td>\n",
              "      <td>...</td>\n",
              "      <td>...</td>\n",
              "      <td>...</td>\n",
              "    </tr>\n",
              "    <tr>\n",
              "      <th>9995</th>\n",
              "      <td>9996</td>\n",
              "      <td>15606229</td>\n",
              "      <td>Obijiaku</td>\n",
              "      <td>771</td>\n",
              "      <td>France</td>\n",
              "      <td>Male</td>\n",
              "      <td>39</td>\n",
              "      <td>5</td>\n",
              "      <td>0.00</td>\n",
              "      <td>2</td>\n",
              "      <td>1</td>\n",
              "      <td>0</td>\n",
              "      <td>96270.64</td>\n",
              "      <td>0</td>\n",
              "    </tr>\n",
              "    <tr>\n",
              "      <th>9996</th>\n",
              "      <td>9997</td>\n",
              "      <td>15569892</td>\n",
              "      <td>Johnstone</td>\n",
              "      <td>516</td>\n",
              "      <td>France</td>\n",
              "      <td>Male</td>\n",
              "      <td>35</td>\n",
              "      <td>10</td>\n",
              "      <td>57369.61</td>\n",
              "      <td>1</td>\n",
              "      <td>1</td>\n",
              "      <td>1</td>\n",
              "      <td>101699.77</td>\n",
              "      <td>0</td>\n",
              "    </tr>\n",
              "    <tr>\n",
              "      <th>9997</th>\n",
              "      <td>9998</td>\n",
              "      <td>15584532</td>\n",
              "      <td>Liu</td>\n",
              "      <td>709</td>\n",
              "      <td>France</td>\n",
              "      <td>Female</td>\n",
              "      <td>36</td>\n",
              "      <td>7</td>\n",
              "      <td>0.00</td>\n",
              "      <td>1</td>\n",
              "      <td>0</td>\n",
              "      <td>1</td>\n",
              "      <td>42085.58</td>\n",
              "      <td>1</td>\n",
              "    </tr>\n",
              "    <tr>\n",
              "      <th>9998</th>\n",
              "      <td>9999</td>\n",
              "      <td>15682355</td>\n",
              "      <td>Sabbatini</td>\n",
              "      <td>772</td>\n",
              "      <td>Germany</td>\n",
              "      <td>Male</td>\n",
              "      <td>42</td>\n",
              "      <td>3</td>\n",
              "      <td>75075.31</td>\n",
              "      <td>2</td>\n",
              "      <td>1</td>\n",
              "      <td>0</td>\n",
              "      <td>92888.52</td>\n",
              "      <td>1</td>\n",
              "    </tr>\n",
              "    <tr>\n",
              "      <th>9999</th>\n",
              "      <td>10000</td>\n",
              "      <td>15628319</td>\n",
              "      <td>Walker</td>\n",
              "      <td>792</td>\n",
              "      <td>France</td>\n",
              "      <td>Female</td>\n",
              "      <td>28</td>\n",
              "      <td>4</td>\n",
              "      <td>130142.79</td>\n",
              "      <td>1</td>\n",
              "      <td>1</td>\n",
              "      <td>0</td>\n",
              "      <td>38190.78</td>\n",
              "      <td>0</td>\n",
              "    </tr>\n",
              "  </tbody>\n",
              "</table>\n",
              "<p>10000 rows × 14 columns</p>\n",
              "</div>\n",
              "      <button class=\"colab-df-convert\" onclick=\"convertToInteractive('df-d01997b8-98e6-484c-986d-11864aae1b1d')\"\n",
              "              title=\"Convert this dataframe to an interactive table.\"\n",
              "              style=\"display:none;\">\n",
              "        \n",
              "  <svg xmlns=\"http://www.w3.org/2000/svg\" height=\"24px\"viewBox=\"0 0 24 24\"\n",
              "       width=\"24px\">\n",
              "    <path d=\"M0 0h24v24H0V0z\" fill=\"none\"/>\n",
              "    <path d=\"M18.56 5.44l.94 2.06.94-2.06 2.06-.94-2.06-.94-.94-2.06-.94 2.06-2.06.94zm-11 1L8.5 8.5l.94-2.06 2.06-.94-2.06-.94L8.5 2.5l-.94 2.06-2.06.94zm10 10l.94 2.06.94-2.06 2.06-.94-2.06-.94-.94-2.06-.94 2.06-2.06.94z\"/><path d=\"M17.41 7.96l-1.37-1.37c-.4-.4-.92-.59-1.43-.59-.52 0-1.04.2-1.43.59L10.3 9.45l-7.72 7.72c-.78.78-.78 2.05 0 2.83L4 21.41c.39.39.9.59 1.41.59.51 0 1.02-.2 1.41-.59l7.78-7.78 2.81-2.81c.8-.78.8-2.07 0-2.86zM5.41 20L4 18.59l7.72-7.72 1.47 1.35L5.41 20z\"/>\n",
              "  </svg>\n",
              "      </button>\n",
              "      \n",
              "  <style>\n",
              "    .colab-df-container {\n",
              "      display:flex;\n",
              "      flex-wrap:wrap;\n",
              "      gap: 12px;\n",
              "    }\n",
              "\n",
              "    .colab-df-convert {\n",
              "      background-color: #E8F0FE;\n",
              "      border: none;\n",
              "      border-radius: 50%;\n",
              "      cursor: pointer;\n",
              "      display: none;\n",
              "      fill: #1967D2;\n",
              "      height: 32px;\n",
              "      padding: 0 0 0 0;\n",
              "      width: 32px;\n",
              "    }\n",
              "\n",
              "    .colab-df-convert:hover {\n",
              "      background-color: #E2EBFA;\n",
              "      box-shadow: 0px 1px 2px rgba(60, 64, 67, 0.3), 0px 1px 3px 1px rgba(60, 64, 67, 0.15);\n",
              "      fill: #174EA6;\n",
              "    }\n",
              "\n",
              "    [theme=dark] .colab-df-convert {\n",
              "      background-color: #3B4455;\n",
              "      fill: #D2E3FC;\n",
              "    }\n",
              "\n",
              "    [theme=dark] .colab-df-convert:hover {\n",
              "      background-color: #434B5C;\n",
              "      box-shadow: 0px 1px 3px 1px rgba(0, 0, 0, 0.15);\n",
              "      filter: drop-shadow(0px 1px 2px rgba(0, 0, 0, 0.3));\n",
              "      fill: #FFFFFF;\n",
              "    }\n",
              "  </style>\n",
              "\n",
              "      <script>\n",
              "        const buttonEl =\n",
              "          document.querySelector('#df-d01997b8-98e6-484c-986d-11864aae1b1d button.colab-df-convert');\n",
              "        buttonEl.style.display =\n",
              "          google.colab.kernel.accessAllowed ? 'block' : 'none';\n",
              "\n",
              "        async function convertToInteractive(key) {\n",
              "          const element = document.querySelector('#df-d01997b8-98e6-484c-986d-11864aae1b1d');\n",
              "          const dataTable =\n",
              "            await google.colab.kernel.invokeFunction('convertToInteractive',\n",
              "                                                     [key], {});\n",
              "          if (!dataTable) return;\n",
              "\n",
              "          const docLinkHtml = 'Like what you see? Visit the ' +\n",
              "            '<a target=\"_blank\" href=https://colab.research.google.com/notebooks/data_table.ipynb>data table notebook</a>'\n",
              "            + ' to learn more about interactive tables.';\n",
              "          element.innerHTML = '';\n",
              "          dataTable['output_type'] = 'display_data';\n",
              "          await google.colab.output.renderOutput(dataTable, element);\n",
              "          const docLink = document.createElement('div');\n",
              "          docLink.innerHTML = docLinkHtml;\n",
              "          element.appendChild(docLink);\n",
              "        }\n",
              "      </script>\n",
              "    </div>\n",
              "  </div>\n",
              "  "
            ]
          },
          "metadata": {},
          "execution_count": 1
        }
      ]
    },
    {
      "cell_type": "markdown",
      "source": [
        "#Implementar os itens abaixo:\n",
        "\n"
      ],
      "metadata": {
        "id": "Tn-Equpnb8g3"
      }
    },
    {
      "cell_type": "markdown",
      "source": [
        "a-) Verificar se há dados vazios (null) e imprimir o tipo de cada variável/atributo."
      ],
      "metadata": {
        "id": "gmKmz0TtcCsz"
      }
    },
    {
      "cell_type": "code",
      "source": [
        "nullData = df.isnull().sum().sum()\n",
        "print ('Foram encontrados',nullData, 'dados vazios (null).') \n",
        "print ('\\nTipos das variaveis/atributos:\\n',df.dtypes)"
      ],
      "metadata": {
        "id": "h5ILGDG3cIyD",
        "colab": {
          "base_uri": "https://localhost:8080/"
        },
        "outputId": "c83ecfe5-ffe7-4b55-d882-75cb0c56ad58"
      },
      "execution_count": null,
      "outputs": [
        {
          "output_type": "stream",
          "name": "stdout",
          "text": [
            "Foram encontrados 0 dados vazios (null).\n",
            "\n",
            "Tipos das variaveis/atributos:\n",
            " RowNumber            int64\n",
            "CustomerId           int64\n",
            "Surname             object\n",
            "CreditScore          int64\n",
            "Geography           object\n",
            "Gender              object\n",
            "Age                  int64\n",
            "Tenure               int64\n",
            "Balance            float64\n",
            "NumOfProducts        int64\n",
            "HasCrCard            int64\n",
            "IsActiveMember       int64\n",
            "EstimatedSalary    float64\n",
            "Exited               int64\n",
            "dtype: object\n"
          ]
        }
      ]
    },
    {
      "cell_type": "markdown",
      "source": [
        "b-) Obter um resumo da estatística descritiva dos dados utilizando um único comando (função)."
      ],
      "metadata": {
        "id": "KWQYPnTKcJPo"
      }
    },
    {
      "cell_type": "code",
      "source": [
        "round(df.describe(),2)"
      ],
      "metadata": {
        "id": "zC5cmh_XcNa3",
        "colab": {
          "base_uri": "https://localhost:8080/",
          "height": 300
        },
        "outputId": "543bfa5c-41ec-4e29-c84b-786d8693d62c"
      },
      "execution_count": null,
      "outputs": [
        {
          "output_type": "execute_result",
          "data": {
            "text/plain": [
              "       RowNumber   CustomerId  CreditScore       Age    Tenure    Balance  \\\n",
              "count   10000.00     10000.00     10000.00  10000.00  10000.00   10000.00   \n",
              "mean     5000.50  15690940.57       650.53     38.92      5.01   76485.89   \n",
              "std      2886.90     71936.19        96.65     10.49      2.89   62397.41   \n",
              "min         1.00  15565701.00       350.00     18.00      0.00       0.00   \n",
              "25%      2500.75  15628528.25       584.00     32.00      3.00       0.00   \n",
              "50%      5000.50  15690738.00       652.00     37.00      5.00   97198.54   \n",
              "75%      7500.25  15753233.75       718.00     44.00      7.00  127644.24   \n",
              "max     10000.00  15815690.00       850.00     92.00     10.00  250898.09   \n",
              "\n",
              "       NumOfProducts  HasCrCard  IsActiveMember  EstimatedSalary   Exited  \n",
              "count       10000.00   10000.00        10000.00         10000.00  10000.0  \n",
              "mean            1.53       0.71            0.52        100090.24      0.2  \n",
              "std             0.58       0.46            0.50         57510.49      0.4  \n",
              "min             1.00       0.00            0.00            11.58      0.0  \n",
              "25%             1.00       0.00            0.00         51002.11      0.0  \n",
              "50%             1.00       1.00            1.00        100193.92      0.0  \n",
              "75%             2.00       1.00            1.00        149388.25      0.0  \n",
              "max             4.00       1.00            1.00        199992.48      1.0  "
            ],
            "text/html": [
              "\n",
              "  <div id=\"df-e0fab126-1eb8-4ae5-b874-2ed32586b077\">\n",
              "    <div class=\"colab-df-container\">\n",
              "      <div>\n",
              "<style scoped>\n",
              "    .dataframe tbody tr th:only-of-type {\n",
              "        vertical-align: middle;\n",
              "    }\n",
              "\n",
              "    .dataframe tbody tr th {\n",
              "        vertical-align: top;\n",
              "    }\n",
              "\n",
              "    .dataframe thead th {\n",
              "        text-align: right;\n",
              "    }\n",
              "</style>\n",
              "<table border=\"1\" class=\"dataframe\">\n",
              "  <thead>\n",
              "    <tr style=\"text-align: right;\">\n",
              "      <th></th>\n",
              "      <th>RowNumber</th>\n",
              "      <th>CustomerId</th>\n",
              "      <th>CreditScore</th>\n",
              "      <th>Age</th>\n",
              "      <th>Tenure</th>\n",
              "      <th>Balance</th>\n",
              "      <th>NumOfProducts</th>\n",
              "      <th>HasCrCard</th>\n",
              "      <th>IsActiveMember</th>\n",
              "      <th>EstimatedSalary</th>\n",
              "      <th>Exited</th>\n",
              "    </tr>\n",
              "  </thead>\n",
              "  <tbody>\n",
              "    <tr>\n",
              "      <th>count</th>\n",
              "      <td>10000.00</td>\n",
              "      <td>10000.00</td>\n",
              "      <td>10000.00</td>\n",
              "      <td>10000.00</td>\n",
              "      <td>10000.00</td>\n",
              "      <td>10000.00</td>\n",
              "      <td>10000.00</td>\n",
              "      <td>10000.00</td>\n",
              "      <td>10000.00</td>\n",
              "      <td>10000.00</td>\n",
              "      <td>10000.0</td>\n",
              "    </tr>\n",
              "    <tr>\n",
              "      <th>mean</th>\n",
              "      <td>5000.50</td>\n",
              "      <td>15690940.57</td>\n",
              "      <td>650.53</td>\n",
              "      <td>38.92</td>\n",
              "      <td>5.01</td>\n",
              "      <td>76485.89</td>\n",
              "      <td>1.53</td>\n",
              "      <td>0.71</td>\n",
              "      <td>0.52</td>\n",
              "      <td>100090.24</td>\n",
              "      <td>0.2</td>\n",
              "    </tr>\n",
              "    <tr>\n",
              "      <th>std</th>\n",
              "      <td>2886.90</td>\n",
              "      <td>71936.19</td>\n",
              "      <td>96.65</td>\n",
              "      <td>10.49</td>\n",
              "      <td>2.89</td>\n",
              "      <td>62397.41</td>\n",
              "      <td>0.58</td>\n",
              "      <td>0.46</td>\n",
              "      <td>0.50</td>\n",
              "      <td>57510.49</td>\n",
              "      <td>0.4</td>\n",
              "    </tr>\n",
              "    <tr>\n",
              "      <th>min</th>\n",
              "      <td>1.00</td>\n",
              "      <td>15565701.00</td>\n",
              "      <td>350.00</td>\n",
              "      <td>18.00</td>\n",
              "      <td>0.00</td>\n",
              "      <td>0.00</td>\n",
              "      <td>1.00</td>\n",
              "      <td>0.00</td>\n",
              "      <td>0.00</td>\n",
              "      <td>11.58</td>\n",
              "      <td>0.0</td>\n",
              "    </tr>\n",
              "    <tr>\n",
              "      <th>25%</th>\n",
              "      <td>2500.75</td>\n",
              "      <td>15628528.25</td>\n",
              "      <td>584.00</td>\n",
              "      <td>32.00</td>\n",
              "      <td>3.00</td>\n",
              "      <td>0.00</td>\n",
              "      <td>1.00</td>\n",
              "      <td>0.00</td>\n",
              "      <td>0.00</td>\n",
              "      <td>51002.11</td>\n",
              "      <td>0.0</td>\n",
              "    </tr>\n",
              "    <tr>\n",
              "      <th>50%</th>\n",
              "      <td>5000.50</td>\n",
              "      <td>15690738.00</td>\n",
              "      <td>652.00</td>\n",
              "      <td>37.00</td>\n",
              "      <td>5.00</td>\n",
              "      <td>97198.54</td>\n",
              "      <td>1.00</td>\n",
              "      <td>1.00</td>\n",
              "      <td>1.00</td>\n",
              "      <td>100193.92</td>\n",
              "      <td>0.0</td>\n",
              "    </tr>\n",
              "    <tr>\n",
              "      <th>75%</th>\n",
              "      <td>7500.25</td>\n",
              "      <td>15753233.75</td>\n",
              "      <td>718.00</td>\n",
              "      <td>44.00</td>\n",
              "      <td>7.00</td>\n",
              "      <td>127644.24</td>\n",
              "      <td>2.00</td>\n",
              "      <td>1.00</td>\n",
              "      <td>1.00</td>\n",
              "      <td>149388.25</td>\n",
              "      <td>0.0</td>\n",
              "    </tr>\n",
              "    <tr>\n",
              "      <th>max</th>\n",
              "      <td>10000.00</td>\n",
              "      <td>15815690.00</td>\n",
              "      <td>850.00</td>\n",
              "      <td>92.00</td>\n",
              "      <td>10.00</td>\n",
              "      <td>250898.09</td>\n",
              "      <td>4.00</td>\n",
              "      <td>1.00</td>\n",
              "      <td>1.00</td>\n",
              "      <td>199992.48</td>\n",
              "      <td>1.0</td>\n",
              "    </tr>\n",
              "  </tbody>\n",
              "</table>\n",
              "</div>\n",
              "      <button class=\"colab-df-convert\" onclick=\"convertToInteractive('df-e0fab126-1eb8-4ae5-b874-2ed32586b077')\"\n",
              "              title=\"Convert this dataframe to an interactive table.\"\n",
              "              style=\"display:none;\">\n",
              "        \n",
              "  <svg xmlns=\"http://www.w3.org/2000/svg\" height=\"24px\"viewBox=\"0 0 24 24\"\n",
              "       width=\"24px\">\n",
              "    <path d=\"M0 0h24v24H0V0z\" fill=\"none\"/>\n",
              "    <path d=\"M18.56 5.44l.94 2.06.94-2.06 2.06-.94-2.06-.94-.94-2.06-.94 2.06-2.06.94zm-11 1L8.5 8.5l.94-2.06 2.06-.94-2.06-.94L8.5 2.5l-.94 2.06-2.06.94zm10 10l.94 2.06.94-2.06 2.06-.94-2.06-.94-.94-2.06-.94 2.06-2.06.94z\"/><path d=\"M17.41 7.96l-1.37-1.37c-.4-.4-.92-.59-1.43-.59-.52 0-1.04.2-1.43.59L10.3 9.45l-7.72 7.72c-.78.78-.78 2.05 0 2.83L4 21.41c.39.39.9.59 1.41.59.51 0 1.02-.2 1.41-.59l7.78-7.78 2.81-2.81c.8-.78.8-2.07 0-2.86zM5.41 20L4 18.59l7.72-7.72 1.47 1.35L5.41 20z\"/>\n",
              "  </svg>\n",
              "      </button>\n",
              "      \n",
              "  <style>\n",
              "    .colab-df-container {\n",
              "      display:flex;\n",
              "      flex-wrap:wrap;\n",
              "      gap: 12px;\n",
              "    }\n",
              "\n",
              "    .colab-df-convert {\n",
              "      background-color: #E8F0FE;\n",
              "      border: none;\n",
              "      border-radius: 50%;\n",
              "      cursor: pointer;\n",
              "      display: none;\n",
              "      fill: #1967D2;\n",
              "      height: 32px;\n",
              "      padding: 0 0 0 0;\n",
              "      width: 32px;\n",
              "    }\n",
              "\n",
              "    .colab-df-convert:hover {\n",
              "      background-color: #E2EBFA;\n",
              "      box-shadow: 0px 1px 2px rgba(60, 64, 67, 0.3), 0px 1px 3px 1px rgba(60, 64, 67, 0.15);\n",
              "      fill: #174EA6;\n",
              "    }\n",
              "\n",
              "    [theme=dark] .colab-df-convert {\n",
              "      background-color: #3B4455;\n",
              "      fill: #D2E3FC;\n",
              "    }\n",
              "\n",
              "    [theme=dark] .colab-df-convert:hover {\n",
              "      background-color: #434B5C;\n",
              "      box-shadow: 0px 1px 3px 1px rgba(0, 0, 0, 0.15);\n",
              "      filter: drop-shadow(0px 1px 2px rgba(0, 0, 0, 0.3));\n",
              "      fill: #FFFFFF;\n",
              "    }\n",
              "  </style>\n",
              "\n",
              "      <script>\n",
              "        const buttonEl =\n",
              "          document.querySelector('#df-e0fab126-1eb8-4ae5-b874-2ed32586b077 button.colab-df-convert');\n",
              "        buttonEl.style.display =\n",
              "          google.colab.kernel.accessAllowed ? 'block' : 'none';\n",
              "\n",
              "        async function convertToInteractive(key) {\n",
              "          const element = document.querySelector('#df-e0fab126-1eb8-4ae5-b874-2ed32586b077');\n",
              "          const dataTable =\n",
              "            await google.colab.kernel.invokeFunction('convertToInteractive',\n",
              "                                                     [key], {});\n",
              "          if (!dataTable) return;\n",
              "\n",
              "          const docLinkHtml = 'Like what you see? Visit the ' +\n",
              "            '<a target=\"_blank\" href=https://colab.research.google.com/notebooks/data_table.ipynb>data table notebook</a>'\n",
              "            + ' to learn more about interactive tables.';\n",
              "          element.innerHTML = '';\n",
              "          dataTable['output_type'] = 'display_data';\n",
              "          await google.colab.output.renderOutput(dataTable, element);\n",
              "          const docLink = document.createElement('div');\n",
              "          docLink.innerHTML = docLinkHtml;\n",
              "          element.appendChild(docLink);\n",
              "        }\n",
              "      </script>\n",
              "    </div>\n",
              "  </div>\n",
              "  "
            ]
          },
          "metadata": {},
          "execution_count": 9
        }
      ]
    },
    {
      "cell_type": "markdown",
      "source": [
        "c-) Calcule a proporção de clientes de sexo masculino e feminino."
      ],
      "metadata": {
        "id": "xxbXDF-pcNxP"
      }
    },
    {
      "cell_type": "code",
      "source": [
        "n = len(df)\n",
        "\n",
        "print(\"Sexo feminino = \", round(((df['Gender'] == 'Female').sum()/n)*100,2),\"%\")\n",
        "print(\"Sexo masculino = \", round(((df['Gender'] == 'Male').sum()/n)*100,2),\"%\")"
      ],
      "metadata": {
        "id": "zxAAqWuBcXLX",
        "colab": {
          "base_uri": "https://localhost:8080/"
        },
        "outputId": "8f6421d4-e947-42b3-f7a8-662658746213"
      },
      "execution_count": null,
      "outputs": [
        {
          "output_type": "stream",
          "name": "stdout",
          "text": [
            "Sexo feminino =  45.43 %\n",
            "Sexo masculino =  54.57 %\n"
          ]
        }
      ]
    },
    {
      "cell_type": "markdown",
      "source": [
        "d-) Calcule a média das idades dos clientes."
      ],
      "metadata": {
        "id": "LfZfReQScim2"
      }
    },
    {
      "cell_type": "code",
      "source": [
        "print('A média de idade é %.2f' % df['Age'].mean())"
      ],
      "metadata": {
        "id": "wXbGK7Jkc6gf",
        "colab": {
          "base_uri": "https://localhost:8080/"
        },
        "outputId": "fd66fd2d-2fba-4693-b633-07ece119acac"
      },
      "execution_count": null,
      "outputs": [
        {
          "output_type": "stream",
          "name": "stdout",
          "text": [
            "A média de idade é 38.92\n"
          ]
        }
      ]
    },
    {
      "cell_type": "markdown",
      "source": [
        "e-) Calcule a mediana da variável \"Tenure\" (propriedades)."
      ],
      "metadata": {
        "id": "LlylHXbic7QJ"
      }
    },
    {
      "cell_type": "code",
      "source": [
        "print('A mediana de Tenure é %.2f' % df['Tenure'].median())"
      ],
      "metadata": {
        "id": "KDP8SueXdJmd",
        "colab": {
          "base_uri": "https://localhost:8080/"
        },
        "outputId": "c445a4ed-3913-4cc0-b890-2a14b30bd5ae"
      },
      "execution_count": null,
      "outputs": [
        {
          "output_type": "stream",
          "name": "stdout",
          "text": [
            "A mediana de Tenure é 5.00\n"
          ]
        }
      ]
    },
    {
      "cell_type": "markdown",
      "source": [
        "f-)  Calcule o 3o. quartil da variável \"NumOfProducts\" (número de produtos) e explique o que esse resultado quer dizer."
      ],
      "metadata": {
        "id": "LM2oVYiwcYwh"
      }
    },
    {
      "cell_type": "code",
      "source": [
        "print('O 3o. quartil da variável NumOfProducts é %.2f' % df['NumOfProducts'].quantile(0.75))"
      ],
      "metadata": {
        "id": "k724V-9reL7m",
        "colab": {
          "base_uri": "https://localhost:8080/"
        },
        "outputId": "2e125d59-c505-4eac-f73d-f87cca821254"
      },
      "execution_count": null,
      "outputs": [
        {
          "output_type": "stream",
          "name": "stdout",
          "text": [
            "O 3o. quartil da variável NumOfProducts é 2.00\n"
          ]
        }
      ]
    },
    {
      "cell_type": "markdown",
      "source": [
        "Quer dizer que 75% dos clientes possuem até 2 produtos (ou que 25% dos clientes possuem mais do que 2 produtos)"
      ],
      "metadata": {
        "id": "vMO8LvP-pUAZ"
      }
    },
    {
      "cell_type": "markdown",
      "source": [
        "g-) Calcule o percentil 10 da variável \"Tenure\" (propriedades) e explique o que esse resultado quer dizer."
      ],
      "metadata": {
        "id": "GSag02IxeOYe"
      }
    },
    {
      "cell_type": "code",
      "source": [
        "print('Percentil 10 da variável Tenure é %.2f' % df['Tenure'].quantile(0.1))"
      ],
      "metadata": {
        "id": "VjSZ7fz8fvAM",
        "colab": {
          "base_uri": "https://localhost:8080/"
        },
        "outputId": "5ef79384-3d6e-4bc3-f1af-6bba34e8a305"
      },
      "execution_count": null,
      "outputs": [
        {
          "output_type": "stream",
          "name": "stdout",
          "text": [
            "Percentil 10 da variável Tenure é 1.00\n"
          ]
        }
      ]
    },
    {
      "cell_type": "markdown",
      "source": [
        "Quer dizer que 10% dos clientes possuem uma propriedade (ou que 90% deles possuem mais do que uma propriedade)"
      ],
      "metadata": {
        "id": "9uw-M7pNptPv"
      }
    },
    {
      "cell_type": "markdown",
      "source": [
        "h-) Qual das duas variáveis apresenta maior dispersão (variabilidade): \"Tenure\" (propriedades) ou \"EstimatedSalary\" (salário estimado). Justifique a sua resposta."
      ],
      "metadata": {
        "id": "4-lJsKrYfvjx"
      }
    },
    {
      "cell_type": "code",
      "source": [
        "# coeficiente de variação = desvio padrao/media\n",
        "\n",
        "cv_tenure = df['Tenure'].std()/df['Tenure'].mean()\n",
        "cv_salary = df['EstimatedSalary'].std()/df['EstimatedSalary'].mean()\n",
        "print('\\nCoeficiente de Variação Tenure: %f' % cv_tenure)\n",
        "print('Coeficiente de Variação Estimated Salary: %f' % cv_salary)"
      ],
      "metadata": {
        "id": "jPNnG6IJgkDP",
        "colab": {
          "base_uri": "https://localhost:8080/"
        },
        "outputId": "569b7999-5c71-47f4-e3d0-782880de3d56"
      },
      "execution_count": null,
      "outputs": [
        {
          "output_type": "stream",
          "name": "stdout",
          "text": [
            "\n",
            "Coeficiente de Variação Tenure: 0.576958\n",
            "Coeficiente de Variação Estimated Salary: 0.574586\n"
          ]
        }
      ]
    },
    {
      "cell_type": "markdown",
      "source": [
        "Resposta: variável 'Tenure' apresenta maior dispersão (variabilidade)."
      ],
      "metadata": {
        "id": "SOOL48KXsUut"
      }
    },
    {
      "cell_type": "markdown",
      "source": [
        "---\n",
        "\n",
        "#**Questão 3** (4 pontos)\n",
        "\n",
        "---"
      ],
      "metadata": {
        "id": "1CIP9PQJgzR2"
      }
    },
    {
      "cell_type": "markdown",
      "source": [
        "Nesta questão você deve continuar utilizando o conjunto de dados [Churn_Modelling.csv](https://raw.githubusercontent.com/malegopc/DSBD/main/Datasets/Churn/Churn_Modelling.csv) da questão anterior.\n"
      ],
      "metadata": {
        "id": "t0Abpu-Kg1Dk"
      }
    },
    {
      "cell_type": "markdown",
      "source": [
        "#Implementar os itens abaixo:"
      ],
      "metadata": {
        "id": "IlTg-xPVhD3N"
      }
    },
    {
      "cell_type": "markdown",
      "source": [
        "a-) Mostrar os histogramas das variáveis: \"Geography\", \"Gender\" e\t\"Age\" num mesmo quadro de plotagem (usando subplots)."
      ],
      "metadata": {
        "id": "-kqEJjhygv5t"
      }
    },
    {
      "cell_type": "code",
      "source": [
        "import seaborn as sns\n",
        "import matplotlib.pyplot as plt\n",
        "\n",
        "sns.set() \n",
        "sns.set_palette(\"Set1\", 8, .75)\n",
        "fig, axes = plt.subplots(1, 3, figsize=(20, 5), sharey=True)\n",
        "fig.suptitle('Histogramas', fontsize=20)\n",
        "\n",
        "sns.histplot(ax=axes[0], data=df, x=\"Geography\")\n",
        "sns.histplot(ax=axes[1], data=df, x=\"Gender\")\n",
        "sns.histplot(ax=axes[2], data=df, x=\"Age\")\n",
        "plt.show()"
      ],
      "metadata": {
        "id": "OgSe9Ca3i_5a",
        "colab": {
          "base_uri": "https://localhost:8080/",
          "height": 375
        },
        "outputId": "8cf87f23-3410-4b24-f480-d85b2e35cb8b"
      },
      "execution_count": null,
      "outputs": [
        {
          "output_type": "display_data",
          "data": {
            "text/plain": [
              "<Figure size 1440x360 with 3 Axes>"
            ],
            "image/png": "[encoded data removed]"
          },
          "metadata": {}
        }
      ]
    },
    {
      "cell_type": "markdown",
      "source": [
        "b-) Mostrar os gráficos de setores (pie chart) de cada um das variáveis: \"HasCrCard\", \"IsActiveMember\" e \"Geography\" num mesmo quadro de plotagem (usando subplots).\n"
      ],
      "metadata": {
        "id": "UjRSP4hSjHBe"
      }
    },
    {
      "cell_type": "code",
      "source": [
        "HasCrCard = df['HasCrCard'].value_counts();\n",
        "IsActiveMember = df['IsActiveMember'].value_counts();\n",
        "Geography = df['Geography'].value_counts();\n",
        "\n",
        "sns.set() \n",
        "fig, axes = plt.subplots(1, 3, figsize=(15, 10))\n",
        "\n",
        "axes[0].pie([HasCrCard[0], HasCrCard[1]], labels = [\"0\", \"1\"], autopct='%1.f%%', shadow=True)\n",
        "axes[0].set_title('HasCrCard',)\n",
        "\n",
        "axes[1].pie([IsActiveMember[0], IsActiveMember[1]], labels = [\"0\", \"1\"], autopct='%1.f%%', shadow=True)\n",
        "axes[1].set_title('IsActiveMember')\n",
        "\n",
        "axes[2].pie([Geography[0], Geography[1], Geography[2]], labels = [\"0\", \"1\",\"2\"], autopct='%1.f%%', shadow=True)\n",
        "axes[2].set_title('Geography')\n",
        "\n",
        "plt.show()"
      ],
      "metadata": {
        "id": "NSyNeXDfjkjm",
        "colab": {
          "base_uri": "https://localhost:8080/",
          "height": 293
        },
        "outputId": "96d6aa5f-a04b-4614-f848-edcfc601da0a"
      },
      "execution_count": null,
      "outputs": [
        {
          "output_type": "display_data",
          "data": {
            "text/plain": [
              "<Figure size 1080x720 with 3 Axes>"
            ],
            "image/png": "[encoded data removed]"
          },
          "metadata": {}
        }
      ]
    },
    {
      "cell_type": "markdown",
      "source": [
        "c-) Mostre lado a lado os boxplots da variável \"EstimatedSalary\" (salário estimado) discriminados por sexo (\"Gender\")."
      ],
      "metadata": {
        "id": "Cq5SqPh7kBx-"
      }
    },
    {
      "cell_type": "code",
      "source": [
        "sns.boxplot(x=\"Gender\", y=\"EstimatedSalary\", palette=[\"m\", \"g\"], data=df)\n",
        "plt.show()"
      ],
      "metadata": {
        "colab": {
          "base_uri": "https://localhost:8080/",
          "height": 285
        },
        "id": "mlYwOY8S-LHi",
        "outputId": "a4391cbd-7d69-48fa-9e6e-e33ad981718c"
      },
      "execution_count": null,
      "outputs": [
        {
          "output_type": "display_data",
          "data": {
            "text/plain": [
              "<Figure size 432x288 with 1 Axes>"
            ],
            "image/png": "[encoded data removed]"
          },
          "metadata": {}
        }
      ]
    },
    {
      "cell_type": "markdown",
      "source": [
        "d-) Análise comparativamente os boxplots do item anterior e comente as informações que podem ser exploradas. Quais conclusões podemos obter?\n",
        "\n",
        "Resposta: \n",
        "\n",
        "Homens e mulheres apresentam salários similares. Isso pode ser constatado pela dispersão e quartis nos boxplots. A mediana dos salários dos homens é ligeiramente superior à mediana de salários das mulheres."
      ],
      "metadata": {
        "id": "MeQbcF-ElNoM"
      }
    },
    {
      "cell_type": "markdown",
      "source": [
        "e-) Mostre lado a lado os boxplots da variável \"CreditScore\" (pontuação de crédito) discriminados por nacionalidade (\"Geography\")."
      ],
      "metadata": {
        "id": "r_56jAuul3Np"
      }
    },
    {
      "cell_type": "code",
      "source": [
        "sns.boxplot(x=\"Geography\", y=\"CreditScore\", palette=[\"m\", \"g\"], data=df)\n",
        "plt.show()"
      ],
      "metadata": {
        "id": "xmhhcYwSmItl",
        "colab": {
          "base_uri": "https://localhost:8080/",
          "height": 285
        },
        "outputId": "a2705cc8-abd2-4315-d2e0-f00c487befe8"
      },
      "execution_count": null,
      "outputs": [
        {
          "output_type": "display_data",
          "data": {
            "text/plain": [
              "<Figure size 432x288 with 1 Axes>"
            ],
            "image/png": "[encoded data removed]"
          },
          "metadata": {}
        }
      ]
    },
    {
      "cell_type": "markdown",
      "source": [
        "f-) Análise comparativamente os boxplots do item anterior e comente as informações que podem ser exploradas. Quais conclusões podemos obter?\n",
        "\n",
        "Resposta: \n",
        "\n",
        "O CreditScore dos países França, Espanha e Alemanha são muito similares em termos de dipersão e quartis. "
      ],
      "metadata": {
        "id": "6KAOR_eGmKO3"
      }
    },
    {
      "cell_type": "markdown",
      "source": [
        "g-) Verifique existe alguma correlação entre as variáveis \"EstimatedSalary\" (salário estimado) e \"NumOfProducts\" (número de produtos). Justifique a sua resposta."
      ],
      "metadata": {
        "id": "g69G4z0JmwXv"
      }
    },
    {
      "cell_type": "code",
      "source": [
        "cm = df[[\"EstimatedSalary\",\"NumOfProducts\"]]\n",
        "plt.title('Churn Modelling - Coeficiente de Relação')\n",
        "sns.heatmap(cm.corr(), cmap=\"Blues\", annot=True)\n",
        "plt.show()"
      ],
      "metadata": {
        "id": "n-3MpMYXqxc0",
        "colab": {
          "base_uri": "https://localhost:8080/",
          "height": 284
        },
        "outputId": "b3966963-eec8-4fd1-f4d3-3ef839555052"
      },
      "execution_count": null,
      "outputs": [
        {
          "output_type": "display_data",
          "data": {
            "text/plain": [
              "<Figure size 432x288 with 2 Axes>"
            ],
            "image/png": "[encoded data removed]"
          },
          "metadata": {}
        }
      ]
    },
    {
      "cell_type": "markdown",
      "source": [
        "A correlação entre as variáveis EstimatedSalary e o NumOfProducts é muito fraca. "
      ],
      "metadata": {
        "id": "dQirARy-Akxk"
      }
    },
    {
      "cell_type": "markdown",
      "source": [
        "---\n",
        "\n",
        "#**Questão 4** (4 pontos)\n",
        "\n",
        "---"
      ],
      "metadata": {
        "id": "VdeTuwp5q2_O"
      }
    },
    {
      "cell_type": "markdown",
      "source": [
        "O tempo de instalação de um software tem distribuição normal com média de 6 minutos e variância de 4 minutos.\n",
        "\n",
        "#Calcule os itens abaixo:\n"
      ],
      "metadata": {
        "id": "5EgCD85uq5om"
      }
    },
    {
      "cell_type": "markdown",
      "source": [
        "a-) A probabilidade de que um software leve\n",
        "entre 5 e 7 minutos para ser instalado."
      ],
      "metadata": {
        "id": "Jpb3EgMns7e5"
      }
    },
    {
      "cell_type": "code",
      "source": [
        "from scipy import stats\n",
        "import math\n",
        "\n",
        "mu = 6    # média\n",
        "sigma =  math.sqrt(4) # desvio padrão = raiz quadrada da variância\n",
        "\n",
        "x1 = 5\n",
        "x2 = 7\n",
        "stats.norm.cdf(x2, mu, sigma) - stats.norm.cdf(x1, mu, sigma) "
      ],
      "metadata": {
        "id": "Wit84HHitWsS",
        "colab": {
          "base_uri": "https://localhost:8080/"
        },
        "outputId": "0ad6b05f-4d69-4dba-99d7-e80ec8491d86"
      },
      "execution_count": null,
      "outputs": [
        {
          "output_type": "execute_result",
          "data": {
            "text/plain": [
              "0.38292492254802624"
            ]
          },
          "metadata": {},
          "execution_count": 2
        }
      ]
    },
    {
      "cell_type": "markdown",
      "source": [
        "b-) A probabilidade de que um software leve mais que 6,5 minutos para ser instalado."
      ],
      "metadata": {
        "id": "OdHvobbitXMj"
      }
    },
    {
      "cell_type": "code",
      "source": [
        "print(1 - stats.norm.cdf(6.5, mu, sigma))"
      ],
      "metadata": {
        "id": "eD1k0tfItmNg",
        "colab": {
          "base_uri": "https://localhost:8080/"
        },
        "outputId": "de88dcc3-051e-40e0-f9bd-ddec5b721fe6"
      },
      "execution_count": null,
      "outputs": [
        {
          "output_type": "stream",
          "name": "stdout",
          "text": [
            "0.4012936743170763\n"
          ]
        }
      ]
    },
    {
      "cell_type": "markdown",
      "source": [
        "c-) A probabilidade de que um software leve menos que 5 minutos para ser instalado."
      ],
      "metadata": {
        "id": "ZPaB8sBCtljH"
      }
    },
    {
      "cell_type": "code",
      "source": [
        "stats.norm.cdf(5, mu, sigma)  "
      ],
      "metadata": {
        "colab": {
          "base_uri": "https://localhost:8080/"
        },
        "id": "F5lGg5BZ6hO6",
        "outputId": "28798f5b-8237-41fd-f27a-841e7bb8a720"
      },
      "execution_count": null,
      "outputs": [
        {
          "output_type": "execute_result",
          "data": {
            "text/plain": [
              "0.3085375387259869"
            ]
          },
          "metadata": {},
          "execution_count": 4
        }
      ]
    },
    {
      "cell_type": "markdown",
      "source": [
        "---\n",
        "\n",
        "#**Questão 5** (4 pontos)\n",
        "\n",
        "---"
      ],
      "metadata": {
        "id": "g9uq8rpStw-y"
      }
    },
    {
      "cell_type": "markdown",
      "source": [
        "a-) Gere e imprima um conjunto de 5000 valores distribuídos normalmente com média e desvio-padrão a sua escolha. "
      ],
      "metadata": {
        "id": "9i7UG1povS1Q"
      }
    },
    {
      "cell_type": "code",
      "source": [
        "n = 5000\n",
        "media = 6.0 # média\n",
        "desvpad = 2.0 # desvio padrão\n",
        "valores = np.random.normal(media, desvpad, n)\n",
        "valores"
      ],
      "metadata": {
        "id": "WTNmgpffv51n",
        "colab": {
          "base_uri": "https://localhost:8080/"
        },
        "outputId": "073649b8-3fa0-4fb1-9090-75648987272c"
      },
      "execution_count": null,
      "outputs": [
        {
          "output_type": "execute_result",
          "data": {
            "text/plain": [
              "array([5.58648367, 4.1537418 , 3.7524198 , ..., 1.93847778, 8.76855464,\n",
              "       7.19314918])"
            ]
          },
          "metadata": {},
          "execution_count": 103
        }
      ]
    },
    {
      "cell_type": "markdown",
      "source": [
        "b-) Plote o histograma do conjunto de dados gerado no item a-)."
      ],
      "metadata": {
        "id": "FeVYp16Mv6PI"
      }
    },
    {
      "cell_type": "code",
      "source": [
        "sns.histplot(valores, kde=True)\n",
        "plt.show()"
      ],
      "metadata": {
        "colab": {
          "base_uri": "https://localhost:8080/",
          "height": 213
        },
        "id": "jWs_Ad8VDa_F",
        "outputId": "f4ade40b-f05f-4bd8-d85f-0215d936dce0"
      },
      "execution_count": null,
      "outputs": [
        {
          "output_type": "display_data",
          "data": {
            "text/plain": [
              "<Figure size 720x216 with 1 Axes>"
            ],
            "image/png": "[encoded data removed]"
          },
          "metadata": {}
        }
      ]
    },
    {
      "cell_type": "markdown",
      "source": [
        "c-) Considerando o conjunto gerado no item a-) como uma amostra de uma população, encontre uma estimativa intervalar para a média populacional com nível de confiança igual a 95%.\n"
      ],
      "metadata": {
        "id": "v93kdzLhwiLC"
      }
    },
    {
      "cell_type": "code",
      "source": [
        "from scipy.stats import norm\n",
        "\n",
        "intervalo = norm.interval(0.95, media, stats.sem(valores))\n",
        "intervalo"
      ],
      "metadata": {
        "id": "4IvVDHbRxGAt",
        "colab": {
          "base_uri": "https://localhost:8080/"
        },
        "outputId": "62a97aee-b6f9-4d89-d17e-73b050ce8bc8"
      },
      "execution_count": null,
      "outputs": [
        {
          "output_type": "execute_result",
          "data": {
            "text/plain": [
              "(5.945020152807988, 6.054979847192012)"
            ]
          },
          "metadata": {},
          "execution_count": 105
        }
      ]
    },
    {
      "cell_type": "markdown",
      "source": [
        "Ou:"
      ],
      "metadata": {
        "id": "nFUTwtfp8xFL"
      }
    },
    {
      "cell_type": "code",
      "source": [
        "intervalo = norm.interval(0.95, media, desvpad/math.sqrt(n-1))\n",
        "intervalo"
      ],
      "metadata": {
        "colab": {
          "base_uri": "https://localhost:8080/"
        },
        "id": "brPeXVgN8Nhu",
        "outputId": "c064baf0-899a-408e-bd2c-59468024729d"
      },
      "execution_count": null,
      "outputs": [
        {
          "output_type": "execute_result",
          "data": {
            "text/plain": [
              "(5.9445583025790345, 6.0554416974209655)"
            ]
          },
          "metadata": {},
          "execution_count": 107
        }
      ]
    }
  ]
}